{
 "cells": [
  {
   "attachments": {},
   "cell_type": "markdown",
   "metadata": {},
   "source": [
    "# Practica 3 - Maldición de la Dimensionalidad\n",
    "\n",
    "Se pide desarrollar un ejemplo:  para 1 variable, 2 variables,  y 3 variables ¿Cuantos polinomios de grado 3 pueden generarse?.\n",
    "\n",
    "**Nota:** _Se puede hacer uso de la herramienta scikit-learn._"
   ]
  },
  {
   "cell_type": "markdown",
   "metadata": {},
   "source": [
    "## Carga de Datos \n",
    "\n",
    "Dado que realmente no buscamos resolver un problema en especifico, cargaremos un dataset de muestra que nos ayudará al ejercicio."
   ]
  },
  {
   "cell_type": "code",
   "execution_count": 1,
   "metadata": {},
   "outputs": [],
   "source": [
    "#Cargamos algunas librerias que nos servirán para el ejercicio\n",
    "from sklearn import datasets\n",
    "import pandas as pd\n",
    "import numpy as np"
   ]
  },
  {
   "cell_type": "code",
   "execution_count": 2,
   "metadata": {},
   "outputs": [
    {
     "name": "stdout",
     "output_type": "stream",
     "text": [
      "El Dataset cargado tiene la siguiente forma: (150, 4)\n"
     ]
    }
   ],
   "source": [
    "#Cargamos el dataset de Iris\n",
    "iris=datasets.load_iris()\n",
    "#Almacenamos el dataset completo\n",
    "data = iris.data\n",
    "#Vemos las dimensiones del dataset cargado\n",
    "print(\"El Dataset cargado tiene la siguiente forma:\",data.shape)"
   ]
  },
  {
   "cell_type": "markdown",
   "metadata": {},
   "source": [
    "Tenemos un dataset con 4 columnas."
   ]
  },
  {
   "cell_type": "markdown",
   "metadata": {},
   "source": [
    "## Prueba - 1 Variable"
   ]
  },
  {
   "cell_type": "code",
   "execution_count": 9,
   "metadata": {},
   "outputs": [
    {
     "name": "stdout",
     "output_type": "stream",
     "text": [
      "¿Cuantos polinomios de grado 3 pueden generarse para 1 variable? R/ 4\n"
     ]
    }
   ],
   "source": [
    "#Libreria que nos ayudará a la transformación de los datos\n",
    "from sklearn.preprocessing import PolynomialFeatures\n",
    "\n",
    "#Dejamos un dataset solo con una columna\n",
    "X_train=np.array(data[:,0]).reshape(-1,1)\n",
    "\n",
    "#Usamos scikit-learn para generar los polinomios de grado 3\n",
    "poly = PolynomialFeatures(3)\n",
    "X_train= poly.fit_transform(X_train)\n",
    "\n",
    "#Mostramos los resultados\n",
    "print(\"¿Cuantos polinomios de grado 3 pueden generarse para 1 variable? R/\",X_train.shape[1])"
   ]
  },
  {
   "cell_type": "markdown",
   "metadata": {},
   "source": [
    "## Prueba - 2 Variables"
   ]
  },
  {
   "cell_type": "code",
   "execution_count": 12,
   "metadata": {},
   "outputs": [
    {
     "name": "stdout",
     "output_type": "stream",
     "text": [
      "¿Cuantos polinomios de grado 3 pueden generarse para 2 variables? R/ 10\n"
     ]
    }
   ],
   "source": [
    "#Libreria que nos ayudará a la transformación de los datos\n",
    "from sklearn.preprocessing import PolynomialFeatures\n",
    "\n",
    "#Dejamos un dataset solo con una columna\n",
    "X_train=np.array(data[:,:1]).reshape(-1,2)\n",
    "\n",
    "#Usamos scikit-learn para generar los polinomios de grado 3\n",
    "poly = PolynomialFeatures(3)\n",
    "X_train= poly.fit_transform(X_train)\n",
    "\n",
    "#Mostramos los resultados\n",
    "print(\"¿Cuantos polinomios de grado 3 pueden generarse para 2 variables? R/\",X_train.shape[1])"
   ]
  },
  {
   "cell_type": "markdown",
   "metadata": {},
   "source": [
    "## Prueba - 3 Variables"
   ]
  },
  {
   "cell_type": "code",
   "execution_count": 23,
   "metadata": {},
   "outputs": [
    {
     "name": "stdout",
     "output_type": "stream",
     "text": [
      "¿Cuantos polinomios de grado 3 pueden generarse para 3 variables? R/ 20\n"
     ]
    }
   ],
   "source": [
    "#Libreria que nos ayudará a la transformación de los datos\n",
    "from sklearn.preprocessing import PolynomialFeatures\n",
    "\n",
    "#Dejamos un dataset solo con una columna\n",
    "X_train=np.array(data[:,:2]).reshape(-1,3)\n",
    "\n",
    "#Usamos scikit-learn para generar los polinomios de grado 3\n",
    "poly = PolynomialFeatures(3)\n",
    "X_train= poly.fit_transform(X_train)\n",
    "\n",
    "#Mostramos los resultados\n",
    "print(\"¿Cuantos polinomios de grado 3 pueden generarse para 3 variables? R/\",X_train.shape[1])"
   ]
  },
  {
   "cell_type": "markdown",
   "metadata": {},
   "source": [
    "## Prueba - 4 Variables"
   ]
  },
  {
   "cell_type": "code",
   "execution_count": 24,
   "metadata": {},
   "outputs": [
    {
     "name": "stdout",
     "output_type": "stream",
     "text": [
      "¿Cuantos polinomios de grado 3 pueden generarse para 4 variables? R/ 35\n"
     ]
    }
   ],
   "source": [
    "#Libreria que nos ayudará a la transformación de los datos\n",
    "from sklearn.preprocessing import PolynomialFeatures\n",
    "\n",
    "#Dejamos un dataset solo con una columna\n",
    "X_train=data\n",
    "\n",
    "#Usamos scikit-learn para generar los polinomios de grado 3\n",
    "poly = PolynomialFeatures(3)\n",
    "X_train= poly.fit_transform(X_train)\n",
    "\n",
    "#Mostramos los resultados\n",
    "print(\"¿Cuantos polinomios de grado 3 pueden generarse para 4 variables? R/\",X_train.shape[1])"
   ]
  },
  {
   "cell_type": "markdown",
   "metadata": {},
   "source": [
    "## Conclusiones\n",
    "\n",
    "Vemos como la cantidad de polinomios incrementa por cada variable que se agrega; para datasets muy grandes se vuelve en una cantidad de datos muy dificil de manejar."
   ]
  }
 ],
 "metadata": {
  "kernelspec": {
   "display_name": "Python 3",
   "language": "python",
   "name": "python3"
  },
  "language_info": {
   "codemirror_mode": {
    "name": "ipython",
    "version": 3
   },
   "file_extension": ".py",
   "mimetype": "text/x-python",
   "name": "python",
   "nbconvert_exporter": "python",
   "pygments_lexer": "ipython3",
   "version": "3.7.7"
  }
 },
 "nbformat": 4,
 "nbformat_minor": 4
}
