{
 "cells": [
  {
   "cell_type": "markdown",
   "metadata": {},
   "source": [
    "# Practica 6 - Backpropagation y entrenamiento para XOR\n",
    "\n",
    "Usar numpy para Entrenar un aproximador para la función Xor usando 2 capas intermedias. Tomando en cuenta: \n",
    "- Usar 2 neuronas en la capa anterior a la salida(segunda capa oculta).\n",
    "- Usar al menos 2(pueden ser más) en la  primera capa oculta.\n",
    "- Usar activación ReLu en las capas intermedias y  no activación en la salida\n",
    "\n",
    "Realizar 5 experimentos, en cada experimento(corrida de entrenamiento):\n",
    "- Inicializar los parámetros aleatoriamente con distribución normal centrada en 0 y std = 0.1\n",
    "- Retornar la representación intermedia de la segunda capa oculta.\n",
    "- Graficar las 5 representaciones intermedias(1 por experimento), comparar, comentar y/o concluir."
   ]
  },
  {
   "cell_type": "code",
   "execution_count": 2,
   "metadata": {},
   "outputs": [],
   "source": [
    "#Importamos las librerias que utilizaremos\n",
    "import numpy as np\n",
    "import pandas as pd\n",
    "import matplotlib.pyplot as plt"
   ]
  },
  {
   "cell_type": "markdown",
   "metadata": {},
   "source": [
    "### Dataset para Entrenamiento y Pruebas\n",
    "\n",
    "Ya que crearemos una red reuronal para el entrenamiento de la función XOR, el dataset para entrenamiento y Pruebas es sencillo."
   ]
  },
  {
   "cell_type": "code",
   "execution_count": 376,
   "metadata": {},
   "outputs": [],
   "source": [
    "X = np.array([[1,1],[1,0],[0,1],[1,1]])\n",
    "Y = np.array([[0],[1],[1],[0]])     "
   ]
  },
  {
   "cell_type": "code",
   "execution_count": 8,
   "metadata": {},
   "outputs": [
    {
     "name": "stdout",
     "output_type": "stream",
     "text": [
      "Forma de Tensor X (4, 2)\n",
      "Forma de Tensor Y (4, 1)\n"
     ]
    }
   ],
   "source": [
    "#Corroboramos que las dimensiones hayan quedado de Forma Correcta\n",
    "print(\"Forma de Tensor X {}\".format(X.shape))\n",
    "print(\"Forma de Tensor Y {}\".format(Y.shape))"
   ]
  },
  {
   "cell_type": "markdown",
   "metadata": {},
   "source": [
    "### Inicialización de Red Neuronal\n",
    "\n",
    "De Acuerdo a la definición requerida, la red neuronal se creará de la siguiente forma:\n",
    "- 2 capas intermedias (la primera capa intermedia tendrá 3 neuronas y la segunda 2 neuronas)\n",
    "- Por nuestro dataset sabemos que el número de Entradas son 2.\n",
    "- Se tiene una sola neurona para la salida final"
   ]
  },
  {
   "cell_type": "code",
   "execution_count": 467,
   "metadata": {},
   "outputs": [],
   "source": [
    "#Ya que se realizarán varios experimentos - Se creará una función generica que nos permita\n",
    "#Inicializar los datos de nuestra red reuronal\n",
    "def initialize_network(n_inputs, n_hidden, n_outputs):\n",
    "    #Aquí por defecto sabemos que el número de Capas intermedias son 2\n",
    "    #y no haremos programación dinamica para poder crear N Capas intermedias\n",
    "    #en la variable n_hidden vendrá un vector con el número de neuronas por cada capa.\n",
    "    \n",
    "    #Inicializamos los pesos sinapticos para las capas intermedias\n",
    "    mu = 0\n",
    "    sigma = 0.1\n",
    "    weights_HL1 = np.random.normal(mu, sigma, ((n_inputs+1),n_hidden[0]))\n",
    "    weights_HL2 = np.random.normal(mu, sigma, (weights_HL1.shape[1]+1,n_hidden[-1])) \n",
    "    #Inicializamos los pesos sinapticos para la capa de Salida\n",
    "    weights_OL = np.random.normal(mu, sigma, (weights_HL2.shape[1]+1,n_outputs)) \n",
    "    \n",
    "    return weights_HL1,weights_HL2,weights_OL"
   ]
  },
  {
   "cell_type": "markdown",
   "metadata": {},
   "source": [
    "Probamos la función de inicialización de la red Neuronal"
   ]
  },
  {
   "cell_type": "code",
   "execution_count": 468,
   "metadata": {},
   "outputs": [
    {
     "name": "stdout",
     "output_type": "stream",
     "text": [
      "Inicialización Red Reuronal\n",
      "Número de Datos de Entrada = 2\n",
      "Número de Neuronas Capa Intermedia 1= 3, Número de Neuronas Capa Intermedia 2=2\n",
      "Número de Neuronas Capa de Salida 1\n",
      "Pesos Sinapticos de Capa Intermedia 1(Incluye Bias)\n",
      "[[ 0.17233229 -0.05172044 -0.16696745]\n",
      " [ 0.07494903  0.02273063  0.10695654]\n",
      " [-0.17977561 -0.040798   -0.17498363]]\n",
      "Pesos Sinapticos de Capa Intermedia 2(Incluye Bias)\n",
      "[[0.08737404 0.03089645]\n",
      " [0.20822164 0.10835795]\n",
      " [0.03343692 0.09905037]\n",
      " [0.05146819 0.02031761]]\n",
      "Pesos Sinapticos de Capa de Salida (Incluye Bias)\n",
      "[[-0.15735626]\n",
      " [-0.03564019]\n",
      " [-0.01964896]]\n"
     ]
    }
   ],
   "source": [
    "#Número de Entradas de nuestro modelo\n",
    "n_inputs= 2\n",
    "#Número de Neuronas en cada capa intermedia\n",
    "n_hidden=[3,2]\n",
    "\n",
    "#Número de Neuronas de Salida\n",
    "n_outputs=1\n",
    "\n",
    "weights_HL1,weights_HL2,weights_OL = initialize_network(n_inputs, n_hidden, n_outputs)\n",
    "print(\"Inicialización Red Reuronal\")\n",
    "print(\"Número de Datos de Entrada =\",n_inputs)\n",
    "print(\"Número de Neuronas Capa Intermedia 1= {}, Número de Neuronas Capa Intermedia 2={}\".format(n_hidden[0],n_hidden[1]))\n",
    "print(\"Número de Neuronas Capa de Salida {}\".format(n_outputs))\n",
    "print(\"Pesos Sinapticos de Capa Intermedia 1(Incluye Bias)\")\n",
    "print(weights_HL1)\n",
    "print(\"Pesos Sinapticos de Capa Intermedia 2(Incluye Bias)\")\n",
    "print(weights_HL2)\n",
    "print(\"Pesos Sinapticos de Capa de Salida (Incluye Bias)\")\n",
    "print(weights_OL)"
   ]
  },
  {
   "cell_type": "markdown",
   "metadata": {},
   "source": [
    "### Foward Propagation\n",
    "\n",
    "De acuerdo al enunciado, para esta red reuronal se usará la función de activación ReLU (Rectified Linear Unit)."
   ]
  },
  {
   "cell_type": "code",
   "execution_count": 469,
   "metadata": {},
   "outputs": [],
   "source": [
    "#Creamos la función de Activación - RelU\n",
    "def ReLU(X):\n",
    "    return np.maximum(X, 0)"
   ]
  },
  {
   "cell_type": "markdown",
   "metadata": {},
   "source": [
    "Creamos función sencilla para realizar el Forward Propagation de nuestra red Neuronal"
   ]
  },
  {
   "cell_type": "code",
   "execution_count": 470,
   "metadata": {},
   "outputs": [],
   "source": [
    "def forwad_propagation(X,WC1,WC2,WCS,bias_include):\n",
    "    #Colocamos una bandera que nos indica si los pesos incluyen bias\n",
    "    #bias_include=True or False\n",
    "    if bias_include:\n",
    "        #El Bias se incluye como un valor 1 en la última columna.\n",
    "        Bias= np.ones(len(X)).reshape(-1,1)\n",
    "        X= np.hstack((X,Bias))\n",
    "    \n",
    "    #Se hace el Cálculo de la Primera capa oculta\n",
    "    HL1 = ReLU(np.matmul(X,WC1))\n",
    "    \n",
    "    if bias_include:\n",
    "        #El Bias se incluye como un valor 1 en la última columna.\n",
    "        Bias= np.ones(len(HL1)).reshape(-1,1)\n",
    "        HL1= np.hstack((HL1,Bias))\n",
    "    \n",
    "    #Se hace el Cálculo de la Capa de Salida\n",
    "    HL2 = ReLU(np.matmul(HL1,WC2))\n",
    "\n",
    "    if bias_include:\n",
    "        #El Bias se incluye como un valor 1 en la última columna.\n",
    "        Bias= np.ones(len(HL2)).reshape(-1,1)\n",
    "        HL2= np.hstack((HL2,Bias))\n",
    "    \n",
    "    #Se hace el Cálculo de la Capa de Salida - Esta no usará función de Activación\n",
    "    OL = np.matmul(HL2,WCS)\n",
    "    \n",
    "    #Devolvemos los resultados de la Capa Oculta 2, así como el Resultado (OL)\n",
    "    return X,HL1,HL2,OL"
   ]
  },
  {
   "cell_type": "markdown",
   "metadata": {},
   "source": [
    "Hacemos una prueba de la función de Forward propagation creada"
   ]
  },
  {
   "cell_type": "code",
   "execution_count": 377,
   "metadata": {},
   "outputs": [
    {
     "data": {
      "text/plain": [
       "array([[0.17679449],\n",
       "       [0.17754752],\n",
       "       [0.17702532],\n",
       "       [0.17679449]])"
      ]
     },
     "execution_count": 377,
     "metadata": {},
     "output_type": "execute_result"
    }
   ],
   "source": [
    "#Hacemos una prueba de nuestra función\n",
    "XT,H1,H2,Resultado = forwad_propagation(X,weights_HL1,weights_HL2,weights_OL,True)\n",
    "Resultado"
   ]
  },
  {
   "cell_type": "markdown",
   "metadata": {},
   "source": [
    "### Back-propagation\n",
    "\n",
    "Para realizar el Back-Propagation, es necesario contar con la derivada de la función de activación. Se construye la función a continuación:"
   ]
  },
  {
   "cell_type": "code",
   "execution_count": 471,
   "metadata": {},
   "outputs": [],
   "source": [
    "#Creamos la función derivada de la función de Activación - RelU\n",
    "def ReLU_Derivative(x):\n",
    "    #Esto se hace para que no sobreescriba los valores del arreglo recibido en parametros\n",
    "    z = np.copy(x)\n",
    "    \n",
    "    z[z<=0] = 0\n",
    "    z[z>0] = 1\n",
    "    return z"
   ]
  },
  {
   "cell_type": "markdown",
   "metadata": {},
   "source": [
    "Creamos función para realizar el Back-Propagation del Error en nuestra red Neuronal"
   ]
  },
  {
   "cell_type": "code",
   "execution_count": 566,
   "metadata": {},
   "outputs": [],
   "source": [
    "#Creamos la función generica para realizar el Backpropagation\n",
    "def backward_propagate_error(X,weights_HL1,weights_HL2,weights_OL,H1,H2,Resultado,Y,lr):\n",
    "    #Aquí se acumularan los deltas de los errores en capa capa\n",
    "    delta_weights_i_h1 = np.zeros_like(weights_HL1)\n",
    "    delta_weights_h1_h2 = np.zeros_like(weights_HL2)\n",
    "    delta_weights_h2_o = np.zeros_like(weights_OL)\n",
    "\n",
    "    #Recorremos los Registros de nuestro dataset\n",
    "    for correl in range(len(X)):\n",
    "\n",
    "        #Se obtienen los registros a procesar\n",
    "        target=Y[correl]\n",
    "        y_hat= Resultado[0]\n",
    "\n",
    "        #Se calcula el Error para este registro\n",
    "        Error = target - y_hat\n",
    "\n",
    "        #Se determina el Error en la neurona de Salida\n",
    "        #Dado que no se uso función de activación en la capa de Salida aquí no se multipla por la derivada \n",
    "        OL_Error = Error\n",
    "\n",
    "        #Se propaga el Error para las Neuornas en la Capa Intermedia 2\n",
    "        HL2_Error = np.matmul(weights_OL,OL_Error)*ReLU_Derivative(H2[correl])\n",
    "\n",
    "        #Se propaga el Error para las Neuornas en la Capa Intermedia 1 - Se quita el Bias del Error Anterior\n",
    "        HL1_Error = np.matmul(weights_HL2,HL2_Error[:2])*ReLU_Derivative(H1[correl])\n",
    "\n",
    "        delta_weights_i_h1 += np.matmul( X[correl].T.reshape(-1,1), HL1_Error[:weights_HL1.shape[1]].reshape(1,-1))\n",
    "        delta_weights_h1_h2 += np.matmul( H1[correl].T.reshape(-1,1), HL2_Error[:weights_HL2.shape[1]].reshape(1,-1))\n",
    "        delta_weights_h2_o += np.matmul( H2[correl].T.reshape(-1,1), OL_Error.reshape(1,-1))\n",
    "\n",
    "    #Actualizamos los pesos sinapticos\n",
    "    weights_OL +=  lr * delta_weights_h2_o/len(X)\n",
    "    weights_HL2 +=  lr * delta_weights_h1_h2/len(X)\n",
    "    weights_HL1 +=  lr * delta_weights_i_h1/len(X)"
   ]
  },
  {
   "cell_type": "code",
   "execution_count": 567,
   "metadata": {},
   "outputs": [],
   "source": [
    "#Definimos el Learning rate\n",
    "lr= 0.1\n",
    "\n",
    "#Probamos la función para propagar el error\n",
    "backward_propagate_error(XT,weights_HL1,weights_HL2,weights_OL,H1,H2,Resultado,Y,lr)"
   ]
  },
  {
   "cell_type": "markdown",
   "metadata": {},
   "source": [
    "### Entrenamiento Red Neuronal\n",
    "Creamos una función que consolide las funciones anteriores para realizar el entrenamiento de nuestra red neuronal."
   ]
  },
  {
   "cell_type": "code",
   "execution_count": 615,
   "metadata": {},
   "outputs": [],
   "source": [
    "#Función de Entrenamiento para la red Reuronal \n",
    "def train_network(X,Y, lr, n_epoch,n_inputs,n_hidden, n_outputs):\n",
    "    \n",
    "    weights_HL1,weights_HL2,weights_OL = initialize_network(n_inputs, n_hidden, n_outputs)\n",
    "    \n",
    "    print(\"--------------------------------------------------\")\n",
    "    print(\"              Inicialización Red Reuronal\")\n",
    "    print(\"--------------------------------------------------\")\n",
    "    print(\"Número de Datos de Entrada =\",n_inputs)\n",
    "    print(\"Número de Neuronas Capa Intermedia 1= {}, Número de Neuronas Capa Intermedia 2={}\".format(n_hidden[0],n_hidden[1]))\n",
    "    print(\"Número de Neuronas Capa de Salida= {}\".format(n_outputs))\n",
    "    print(\"Pesos Sinapticos de Capa Intermedia 1(Incluye Bias)\")\n",
    "    print(weights_HL1)\n",
    "    print(\"Pesos Sinapticos de Capa Intermedia 2(Incluye Bias)\")\n",
    "    print(weights_HL2)\n",
    "    print(\"Pesos Sinapticos de Capa de Salida (Incluye Bias)\")\n",
    "    print(weights_OL)\n",
    "    print(\"--------------------------------------------------\")\n",
    "    print(\"                    Entrenamiento\")\n",
    "    print(\"--------------------------------------------------\")\n",
    "    for epoch in range(n_epoch):\n",
    "\n",
    "        #Realizamos el Foward Propagation\n",
    "        XT,H1,H2,Resultado = forwad_propagation(X,weights_HL1,weights_HL2,weights_OL,True)\n",
    "\n",
    "        #Early Stop - En caso llegamos a convergencia nos salimos\n",
    "        convergencia = (Y ==Resultado.astype('int')).all()\n",
    "\n",
    "        #En caso tener convergencia nos salimos\n",
    "        if convergencia:\n",
    "            \n",
    "            break\n",
    "\n",
    "        #En Caso contrario continuamos\n",
    "        error= sum([(Y[i]-Resultado[i])**2 for i in range(len(Y))])\n",
    "\n",
    "        #Hacemos backprogation y actualizamos los pesos\n",
    "        backward_propagate_error(XT,weights_HL1,weights_HL2,weights_OL,H1,H2,Resultado,Y,lr)\n",
    "\n",
    "        if (epoch+1) % imprimir_cada == 0:\n",
    "            print('epoch=%d, lrate=%.3f, error=%.3f' % (epoch, lr, error))\n",
    "    print(\"--------------------------------------------------\")\n",
    "    print(\"       Finalización Entrenamiento Red Reuronal\")\n",
    "    print(\"--------------------------------------------------\")\n",
    "    print(\"Despues de Entrenamiento los Pesos sinapticos quedan de la siguiente forma\")\n",
    "    print(\"Pesos Sinapticos de Capa Intermedia 1(Incluye Bias)\")\n",
    "    print(weights_HL1)\n",
    "    print(\"Pesos Sinapticos de Capa Intermedia 2(Incluye Bias)\")\n",
    "    print(weights_HL2)\n",
    "    print(\"Pesos Sinapticos de Capa de Salida (Incluye Bias)\")\n",
    "    print(weights_OL)\n",
    "    print(\"-------------------------------------------------\")        \n",
    "    print(\"Calculo de Datos (Foward Propagation con Pesos finales)\")\n",
    "    print(\"-------------------------------------------------\") \n",
    "    _,_,Intermedia,Resultado = forwad_propagation(X,weights_HL1,weights_HL2,weights_OL,True)\n",
    "    #Redondeamos los resultados a Cero decimales\n",
    "    Intermedia= np.round(Intermedia,4)\n",
    "    Resultado = Resultado.astype('int')\n",
    "    print(Resultado)\n",
    "    \n",
    "    print(\"-------------------------------------------------\")        \n",
    "    print(\"      Representación Datos - Capa Intermedia 2\")\n",
    "    print(\"-------------------------------------------------\") \n",
    "    #Calculamos la Matriz de todas las posibles combinaciones XOR con su resultado\n",
    "    matriz = pd.DataFrame({'X1':np.array(X).reshape(-1,2)[:,0],\n",
    "                           'X2':np.array(X).reshape(-1,2)[:,1],\n",
    "                           'H1':Intermedia[:,0],\n",
    "                           'H2':Intermedia[:,1],\n",
    "                           'Y' :Y[:,0]})\n",
    "    print(matriz)\n",
    "    #Realizamos la representación de la capa intermedia por medio de una grafica de puntos\n",
    "    plt.scatter(matriz[matriz['Y']==0]['H1'], matriz[matriz['Y']==0]['H2'], color='r', label=\"False(0)\")\n",
    "    plt.scatter(matriz[matriz['Y']==1]['H1'], matriz[matriz['Y']==1]['H2'], color='b', label=\"True(1)\")\n",
    "    plt.title('Representación Capa Intermedia')\n",
    "    plt.xlabel('H1')\n",
    "    plt.ylabel('H2')\n",
    "    plt.legend()\n",
    "    plt.show()"
   ]
  },
  {
   "cell_type": "markdown",
   "metadata": {},
   "source": [
    "### Experimentos\n",
    "\n",
    "#### Experimento 1 (CONVERGENCIA)\n",
    "\n",
    "Primer Experimento -  Se usarán 3 Neuronas en la capa intermedia 1 y 2 Neuronas en la capa intermedia 2."
   ]
  },
  {
   "cell_type": "code",
   "execution_count": 616,
   "metadata": {},
   "outputs": [
    {
     "name": "stdout",
     "output_type": "stream",
     "text": [
      "--------------------------------------------------\n",
      "              Inicialización Red Reuronal\n",
      "--------------------------------------------------\n",
      "Número de Datos de Entrada = 2\n",
      "Número de Neuronas Capa Intermedia 1= 3, Número de Neuronas Capa Intermedia 2=2\n",
      "Número de Neuronas Capa de Salida= 1\n",
      "Pesos Sinapticos de Capa Intermedia 1(Incluye Bias)\n",
      "[[ 0.01695311 -0.0658081   0.00023172]\n",
      " [ 0.22810857  0.08029225 -0.02460384]\n",
      " [-0.05604943 -0.00930267  0.04294412]]\n",
      "Pesos Sinapticos de Capa Intermedia 2(Incluye Bias)\n",
      "[[ 0.01148974 -0.07835332]\n",
      " [-0.05450648 -0.13631887]\n",
      " [ 0.1328478  -0.10259862]\n",
      " [ 0.0746963   0.09881608]]\n",
      "Pesos Sinapticos de Capa de Salida (Incluye Bias)\n",
      "[[0.0567138 ]\n",
      " [0.05465475]\n",
      " [0.13397715]]\n",
      "--------------------------------------------------\n",
      "                    Entrenamiento\n",
      "--------------------------------------------------\n",
      "epoch=99, lrate=0.100, error=0.996\n",
      "epoch=199, lrate=0.100, error=0.986\n",
      "epoch=299, lrate=0.100, error=0.943\n",
      "epoch=399, lrate=0.100, error=0.701\n",
      "--------------------------------------------------\n",
      "       Finalización Entrenamiento Red Reuronal\n",
      "--------------------------------------------------\n",
      "Despues de Entrenamiento los Pesos sinapticos quedan de la siguiente forma\n",
      "Pesos Sinapticos de Capa Intermedia 1(Incluye Bias)\n",
      "[[ 0.38681669  0.25776683 -0.01650255]\n",
      " [ 0.58377826  0.375708   -0.04133811]\n",
      " [-0.34557227 -0.20080089  0.05566365]]\n",
      "Pesos Sinapticos de Capa Intermedia 2(Incluye Bias)\n",
      "[[-0.36116265 -0.65438489]\n",
      " [-0.24846517 -0.44216715]\n",
      " [ 0.17028802 -0.04104181]\n",
      " [ 0.3547517   0.65326647]]\n",
      "Pesos Sinapticos de Capa de Salida (Incluye Bias)\n",
      "[[0.56649756]\n",
      " [1.00015219]\n",
      " [0.48072591]]\n",
      "-------------------------------------------------\n",
      "Calculo de Datos (Foward Propagation con Pesos finales)\n",
      "-------------------------------------------------\n",
      "[[0]\n",
      " [1]\n",
      " [1]\n",
      " [0]]\n",
      "-------------------------------------------------\n",
      "      Representación Datos - Capa Intermedia 2\n",
      "-------------------------------------------------\n",
      "   X1  X2      H1      H2  Y\n",
      "0   1   1  0.0215  0.0529  0\n",
      "1   1   0  0.3324  0.5995  1\n",
      "2   0   1  0.2277  0.4195  1\n",
      "3   1   1  0.0215  0.0529  0\n"
     ]
    },
    {
     "data": {
      "image/png": "[encoded data removed]",
      "text/plain": [
       "<Figure size 432x288 with 1 Axes>"
      ]
     },
     "metadata": {
      "needs_background": "light"
     },
     "output_type": "display_data"
    }
   ],
   "source": [
    "n_epoch=1000\n",
    "imprimir_cada=100\n",
    "\n",
    "#Definimos el Learning rate\n",
    "lr= 0.1\n",
    "\n",
    "#Inicializamos la red reuronal\n",
    "#Número de Entradas de nuestro modelo\n",
    "n_inputs= 2\n",
    "#Número de Neuronas en cada capa intermedia\n",
    "n_hidden=[3,2]\n",
    "\n",
    "#Número de Neuronas de Salida\n",
    "n_outputs=1\n",
    "\n",
    "train_network(X,Y, lr, n_epoch,n_inputs,n_hidden, n_outputs)"
   ]
  },
  {
   "cell_type": "markdown",
   "metadata": {},
   "source": [
    "##### Conclusiones Experimento 1\n",
    "\n",
    "- En este experimento se llego a la convergencia en el entrenamiento 400 (aproximadamente).\n",
    "- Con la representación de la capa intermedia, podemos ver que ya se podría hacer hacer una división lineal de los resultados que estamos buscando clasificar; aunque es de notar que dado que la última neurona no tiene una función de activación, realmente lo que se esta buscando es una regresión lineal normal."
   ]
  },
  {
   "cell_type": "markdown",
   "metadata": {},
   "source": [
    "#### Experimento 2 (CONVERGENCIA)\n",
    "\n",
    "Se usarán 2 Neuronas en la capa intermedia 1 y 2 Neuronas en la capa intermedia 2."
   ]
  },
  {
   "cell_type": "code",
   "execution_count": 622,
   "metadata": {},
   "outputs": [
    {
     "name": "stdout",
     "output_type": "stream",
     "text": [
      "--------------------------------------------------\n",
      "              Inicialización Red Reuronal\n",
      "--------------------------------------------------\n",
      "Número de Datos de Entrada = 2\n",
      "Número de Neuronas Capa Intermedia 1= 2, Número de Neuronas Capa Intermedia 2=2\n",
      "Número de Neuronas Capa de Salida= 1\n",
      "Pesos Sinapticos de Capa Intermedia 1(Incluye Bias)\n",
      "[[ 0.03374139 -0.04201904]\n",
      " [ 0.00455907  0.05787899]\n",
      " [ 0.02926606  0.01517006]]\n",
      "Pesos Sinapticos de Capa Intermedia 2(Incluye Bias)\n",
      "[[ 0.13459337  0.00530823]\n",
      " [-0.11629894 -0.02026275]\n",
      " [ 0.05668251  0.03455993]]\n",
      "Pesos Sinapticos de Capa de Salida (Incluye Bias)\n",
      "[[-0.06501187]\n",
      " [ 0.0878219 ]\n",
      " [ 0.05568433]]\n",
      "--------------------------------------------------\n",
      "                    Entrenamiento\n",
      "--------------------------------------------------\n",
      "epoch=99, lrate=0.100, error=0.999\n",
      "epoch=199, lrate=0.100, error=0.999\n",
      "epoch=299, lrate=0.100, error=0.997\n",
      "epoch=399, lrate=0.100, error=0.994\n",
      "epoch=499, lrate=0.100, error=0.984\n",
      "epoch=599, lrate=0.100, error=0.935\n",
      "epoch=699, lrate=0.100, error=0.517\n",
      "--------------------------------------------------\n",
      "       Finalización Entrenamiento Red Reuronal\n",
      "--------------------------------------------------\n",
      "Despues de Entrenamiento los Pesos sinapticos quedan de la siguiente forma\n",
      "Pesos Sinapticos de Capa Intermedia 1(Incluye Bias)\n",
      "[[ 0.61220129 -0.35197153]\n",
      " [ 0.63622031  0.19595398]\n",
      " [-0.20361876  0.15324504]]\n",
      "Pesos Sinapticos de Capa Intermedia 2(Incluye Bias)\n",
      "[[ 0.85854467 -0.31415425]\n",
      " [-0.40572678  0.16494996]\n",
      " [-0.23603794  0.34859783]]\n",
      "Pesos Sinapticos de Capa de Salida (Incluye Bias)\n",
      "[[-0.96212171]\n",
      " [ 0.50221893]\n",
      " [ 1.01052554]]\n",
      "-------------------------------------------------\n",
      "Calculo de Datos (Foward Propagation con Pesos finales)\n",
      "-------------------------------------------------\n",
      "[[0]\n",
      " [1]\n",
      " [1]\n",
      " [0]]\n",
      "-------------------------------------------------\n",
      "      Representación Datos - Capa Intermedia 2\n",
      "-------------------------------------------------\n",
      "   X1  X2      H1      H2  Y\n",
      "0   1   1  0.6610  0.0204  0\n",
      "1   1   0  0.1147  0.2202  1\n",
      "2   0   1  0.0000  0.2703  1\n",
      "3   1   1  0.6610  0.0204  0\n"
     ]
    },
    {
     "data": {
      "image/png": "[encoded data removed]",
      "text/plain": [
       "<Figure size 432x288 with 1 Axes>"
      ]
     },
     "metadata": {
      "needs_background": "light"
     },
     "output_type": "display_data"
    }
   ],
   "source": [
    "n_epoch=1000\n",
    "imprimir_cada=100\n",
    "\n",
    "#Definimos el Learning rate\n",
    "lr= 0.1\n",
    "\n",
    "#Inicializamos la red reuronal\n",
    "#Número de Entradas de nuestro modelo\n",
    "n_inputs= 2\n",
    "#Número de Neuronas en cada capa intermedia\n",
    "n_hidden=[2,2]\n",
    "\n",
    "#Número de Neuronas de Salida\n",
    "n_outputs=1\n",
    "\n",
    "train_network(X,Y, lr, n_epoch,n_inputs,n_hidden, n_outputs)"
   ]
  },
  {
   "cell_type": "markdown",
   "metadata": {},
   "source": [
    "##### Conclusiones Experimento 2\n",
    "\n",
    "- En este experimento se llego a la convergencia en el entrenamiento 700 (aproximadamente).\n",
    "- Con la representación de la capa intermedia, es un poco diferente a la obtenida en el ejercicio anterior, pero podemos ver que ya se podría hacer hacer una división lineal de los resultados que estamos buscando clasificar; aunque es de notar que dado que la última neurona no tiene una función de activación, realmente lo que se esta buscando es una regresión lineal normal."
   ]
  },
  {
   "cell_type": "markdown",
   "metadata": {},
   "source": [
    "#### Experimento 3 (CONVERGENCIA)\n",
    "\n",
    "Se usarán 4 Neuronas en la capa intermedia 1 y 2 Neuronas en la capa intermedia 2."
   ]
  },
  {
   "cell_type": "code",
   "execution_count": 623,
   "metadata": {},
   "outputs": [
    {
     "name": "stdout",
     "output_type": "stream",
     "text": [
      "--------------------------------------------------\n",
      "              Inicialización Red Reuronal\n",
      "--------------------------------------------------\n",
      "Número de Datos de Entrada = 2\n",
      "Número de Neuronas Capa Intermedia 1= 4, Número de Neuronas Capa Intermedia 2=2\n",
      "Número de Neuronas Capa de Salida= 1\n",
      "Pesos Sinapticos de Capa Intermedia 1(Incluye Bias)\n",
      "[[ 0.04519711  0.00315043  0.0864439   0.04853546]\n",
      " [-0.04638351 -0.06032877 -0.08105174  0.11689624]\n",
      " [ 0.08033358  0.14401286  0.1401493   0.06929281]]\n",
      "Pesos Sinapticos de Capa Intermedia 2(Incluye Bias)\n",
      "[[ 0.0063208  -0.027297  ]\n",
      " [-0.22480594  0.06923434]\n",
      " [-0.08487157 -0.00963183]\n",
      " [ 0.17341999  0.12070921]\n",
      " [ 0.13425987 -0.06759591]]\n",
      "Pesos Sinapticos de Capa de Salida (Incluye Bias)\n",
      "[[ 0.16932468]\n",
      " [ 0.01058822]\n",
      " [-0.02147988]]\n",
      "--------------------------------------------------\n",
      "                    Entrenamiento\n",
      "--------------------------------------------------\n",
      "epoch=99, lrate=0.100, error=1.001\n",
      "epoch=199, lrate=0.100, error=0.990\n",
      "epoch=299, lrate=0.100, error=0.952\n",
      "epoch=399, lrate=0.100, error=0.772\n",
      "--------------------------------------------------\n",
      "       Finalización Entrenamiento Red Reuronal\n",
      "--------------------------------------------------\n",
      "Despues de Entrenamiento los Pesos sinapticos quedan de la siguiente forma\n",
      "Pesos Sinapticos de Capa Intermedia 1(Incluye Bias)\n",
      "[[-0.01161297  0.53238235  0.29445663 -0.16379917]\n",
      " [-0.1031936   0.46890314  0.12696099 -0.0954384 ]\n",
      " [ 0.12289421 -0.1863448   0.01127959  0.28821156]]\n",
      "Pesos Sinapticos de Capa Intermedia 2(Incluye Bias)\n",
      "[[ 0.12292569 -0.027297  ]\n",
      " [-0.74706258  0.06923434]\n",
      " [-0.27615452 -0.00963183]\n",
      " [ 0.3545603   0.12070921]\n",
      " [ 0.78656736 -0.06759591]]\n",
      "Pesos Sinapticos de Capa de Salida (Incluye Bias)\n",
      "[[1.14057254]\n",
      " [0.01058822]\n",
      " [0.47594027]]\n",
      "-------------------------------------------------\n",
      "Calculo de Datos (Foward Propagation con Pesos finales)\n",
      "-------------------------------------------------\n",
      "[[0]\n",
      " [1]\n",
      " [1]\n",
      " [0]]\n",
      "-------------------------------------------------\n",
      "      Representación Datos - Capa Intermedia 2\n",
      "-------------------------------------------------\n",
      "   X1  X2      H1   H2  Y\n",
      "0   1   1  0.0695  0.0  0\n",
      "1   1   0  0.5014  0.0  1\n",
      "2   0   1  0.6081  0.0  1\n",
      "3   1   1  0.0695  0.0  0\n"
     ]
    },
    {
     "data": {
      "image/png": "[encoded data removed]",
      "text/plain": [
       "<Figure size 432x288 with 1 Axes>"
      ]
     },
     "metadata": {
      "needs_background": "light"
     },
     "output_type": "display_data"
    }
   ],
   "source": [
    "n_epoch=1000\n",
    "imprimir_cada=100\n",
    "\n",
    "#Definimos el Learning rate\n",
    "lr= 0.1\n",
    "\n",
    "#Inicializamos la red reuronal\n",
    "#Número de Entradas de nuestro modelo\n",
    "n_inputs= 2\n",
    "#Número de Neuronas en cada capa intermedia\n",
    "n_hidden=[4,2]\n",
    "\n",
    "#Número de Neuronas de Salida\n",
    "n_outputs=1\n",
    "\n",
    "train_network(X,Y, lr, n_epoch,n_inputs,n_hidden, n_outputs)"
   ]
  },
  {
   "cell_type": "markdown",
   "metadata": {},
   "source": [
    "##### Conclusiones Experimento 3\n",
    "\n",
    "- En este experimento se llego a la convergencia en el entrenamiento 400 (aproximadamente).\n",
    "- Con la representación de la capa intermedia, es un poco diferente a la obtenida en el ejercicio anterior, pero podemos ver que ya se podría hacer hacer una división lineal de los resultados que estamos buscando clasificar; aunque es de notar que dado que la última neurona no tiene una función de activación, realmente lo que se esta buscando es una regresión lineal normal."
   ]
  },
  {
   "cell_type": "markdown",
   "metadata": {},
   "source": [
    "#### Experimento 4 (NO CONVERGENCIA)\n",
    "\n",
    "Se usarán 2 Neuronas en la capa intermedia 1 y 2 Neuronas en la capa intermedia 2 (Similar al experimento 2)"
   ]
  },
  {
   "cell_type": "code",
   "execution_count": 626,
   "metadata": {},
   "outputs": [
    {
     "name": "stdout",
     "output_type": "stream",
     "text": [
      "--------------------------------------------------\n",
      "              Inicialización Red Reuronal\n",
      "--------------------------------------------------\n",
      "Número de Datos de Entrada = 2\n",
      "Número de Neuronas Capa Intermedia 1= 2, Número de Neuronas Capa Intermedia 2=2\n",
      "Número de Neuronas Capa de Salida= 1\n",
      "Pesos Sinapticos de Capa Intermedia 1(Incluye Bias)\n",
      "[[-0.0485737   0.20217422]\n",
      " [-0.10908681 -0.03814959]\n",
      " [ 0.04248057 -0.10138844]]\n",
      "Pesos Sinapticos de Capa Intermedia 2(Incluye Bias)\n",
      "[[-0.00820658  0.04670463]\n",
      " [-0.00752083  0.09775214]\n",
      " [ 0.06576083 -0.10065788]]\n",
      "Pesos Sinapticos de Capa de Salida (Incluye Bias)\n",
      "[[-0.0095818 ]\n",
      " [ 0.00542505]\n",
      " [ 0.07555201]]\n",
      "--------------------------------------------------\n",
      "                    Entrenamiento\n",
      "--------------------------------------------------\n",
      "epoch=99, lrate=0.100, error=1.000\n",
      "epoch=199, lrate=0.100, error=1.000\n",
      "epoch=299, lrate=0.100, error=1.000\n",
      "epoch=399, lrate=0.100, error=1.000\n",
      "epoch=499, lrate=0.100, error=1.000\n",
      "epoch=599, lrate=0.100, error=1.000\n",
      "epoch=699, lrate=0.100, error=1.000\n",
      "epoch=799, lrate=0.100, error=1.000\n",
      "epoch=899, lrate=0.100, error=1.000\n",
      "epoch=999, lrate=0.100, error=1.000\n",
      "--------------------------------------------------\n",
      "       Finalización Entrenamiento Red Reuronal\n",
      "--------------------------------------------------\n",
      "Despues de Entrenamiento los Pesos sinapticos quedan de la siguiente forma\n",
      "Pesos Sinapticos de Capa Intermedia 1(Incluye Bias)\n",
      "[[-0.0485737   0.20481619]\n",
      " [-0.10908681 -0.03285472]\n",
      " [ 0.04248057 -0.09874647]]\n",
      "Pesos Sinapticos de Capa Intermedia 2(Incluye Bias)\n",
      "[[-0.00820658  0.04670463]\n",
      " [-0.01507075  0.09775214]\n",
      " [ 0.06721103 -0.10065788]]\n",
      "Pesos Sinapticos de Capa de Salida (Incluye Bias)\n",
      "[[0.02224168]\n",
      " [0.00542505]\n",
      " [0.49853436]]\n",
      "-------------------------------------------------\n",
      "Calculo de Datos (Foward Propagation con Pesos finales)\n",
      "-------------------------------------------------\n",
      "[[0]\n",
      " [0]\n",
      " [0]\n",
      " [0]]\n",
      "-------------------------------------------------\n",
      "      Representación Datos - Capa Intermedia 2\n",
      "-------------------------------------------------\n",
      "   X1  X2      H1   H2  Y\n",
      "0   1   1  0.0661  0.0  0\n",
      "1   1   0  0.0656  0.0  1\n",
      "2   0   1  0.0672  0.0  1\n",
      "3   1   1  0.0661  0.0  0\n"
     ]
    },
    {
     "data": {
      "image/png": "[encoded data removed]",
      "text/plain": [
       "<Figure size 432x288 with 1 Axes>"
      ]
     },
     "metadata": {
      "needs_background": "light"
     },
     "output_type": "display_data"
    }
   ],
   "source": [
    "n_epoch=1000\n",
    "imprimir_cada=100\n",
    "\n",
    "#Definimos el Learning rate\n",
    "lr= 0.1\n",
    "\n",
    "#Inicializamos la red reuronal\n",
    "#Número de Entradas de nuestro modelo\n",
    "n_inputs= 2\n",
    "#Número de Neuronas en cada capa intermedia\n",
    "n_hidden=[2,2]\n",
    "\n",
    "#Número de Neuronas de Salida\n",
    "n_outputs=1\n",
    "\n",
    "train_network(X,Y, lr, n_epoch,n_inputs,n_hidden, n_outputs)"
   ]
  },
  {
   "cell_type": "markdown",
   "metadata": {},
   "source": [
    "##### Conclusiones Experimento 4\n",
    "\n",
    "- En este experimento No se llego a la convergencia en los 1000 entrenamientos del modelo.\n",
    "- Si vemos la representación intermedia, se ve que no hay una clara separación de los datos, por lo mismo no se llega a una convergencia."
   ]
  },
  {
   "cell_type": "markdown",
   "metadata": {},
   "source": [
    "#### Experimento 5 (NO CONVERGENCIA)\n",
    "\n",
    "Se usarán 3 Neuronas en la capa intermedia 1 y 2 Neuronas en la capa intermedia 2 (Similar al experimento 1)"
   ]
  },
  {
   "cell_type": "code",
   "execution_count": 631,
   "metadata": {},
   "outputs": [
    {
     "name": "stdout",
     "output_type": "stream",
     "text": [
      "--------------------------------------------------\n",
      "              Inicialización Red Reuronal\n",
      "--------------------------------------------------\n",
      "Número de Datos de Entrada = 2\n",
      "Número de Neuronas Capa Intermedia 1= 3, Número de Neuronas Capa Intermedia 2=2\n",
      "Número de Neuronas Capa de Salida= 1\n",
      "Pesos Sinapticos de Capa Intermedia 1(Incluye Bias)\n",
      "[[-0.0158699   0.03216985 -0.0132194 ]\n",
      " [ 0.03914382  0.05911775  0.08952022]\n",
      " [-0.07292908  0.07209696  0.17347892]]\n",
      "Pesos Sinapticos de Capa Intermedia 2(Incluye Bias)\n",
      "[[ 0.08170979 -0.03993468]\n",
      " [ 0.08480708  0.20179277]\n",
      " [-0.13118088 -0.04888444]\n",
      " [-0.13250645 -0.07025691]]\n",
      "Pesos Sinapticos de Capa de Salida (Incluye Bias)\n",
      "[[-0.14083397]\n",
      " [-0.22378656]\n",
      " [ 0.16950595]]\n",
      "--------------------------------------------------\n",
      "                    Entrenamiento\n",
      "--------------------------------------------------\n",
      "epoch=99, lrate=0.100, error=1.000\n",
      "epoch=199, lrate=0.100, error=1.000\n",
      "epoch=299, lrate=0.100, error=1.000\n",
      "epoch=399, lrate=0.100, error=1.000\n",
      "epoch=499, lrate=0.100, error=1.000\n",
      "epoch=599, lrate=0.100, error=1.000\n",
      "epoch=699, lrate=0.100, error=1.000\n",
      "epoch=799, lrate=0.100, error=1.000\n",
      "epoch=899, lrate=0.100, error=1.000\n",
      "epoch=999, lrate=0.100, error=1.000\n",
      "--------------------------------------------------\n",
      "       Finalización Entrenamiento Red Reuronal\n",
      "--------------------------------------------------\n",
      "Despues de Entrenamiento los Pesos sinapticos quedan de la siguiente forma\n",
      "Pesos Sinapticos de Capa Intermedia 1(Incluye Bias)\n",
      "[[-0.0158699   0.03216985 -0.0132194 ]\n",
      " [ 0.03914382  0.05911775  0.08952022]\n",
      " [-0.07292908  0.07209696  0.17347892]]\n",
      "Pesos Sinapticos de Capa Intermedia 2(Incluye Bias)\n",
      "[[ 0.08170979 -0.03993468]\n",
      " [ 0.08480708  0.20179277]\n",
      " [-0.13118088 -0.04888444]\n",
      " [-0.13250645 -0.07025691]]\n",
      "Pesos Sinapticos de Capa de Salida (Incluye Bias)\n",
      "[[-0.14083397]\n",
      " [-0.22378656]\n",
      " [ 0.5       ]]\n",
      "-------------------------------------------------\n",
      "Calculo de Datos (Foward Propagation con Pesos finales)\n",
      "-------------------------------------------------\n",
      "[[0]\n",
      " [0]\n",
      " [0]\n",
      " [0]]\n",
      "-------------------------------------------------\n",
      "      Representación Datos - Capa Intermedia 2\n",
      "-------------------------------------------------\n",
      "   X1  X2   H1   H2  Y\n",
      "0   1   1  0.0  0.0  0\n",
      "1   1   0  0.0  0.0  1\n",
      "2   0   1  0.0  0.0  1\n",
      "3   1   1  0.0  0.0  0\n"
     ]
    },
    {
     "data": {
      "image/png": "[encoded data removed]",
      "text/plain": [
       "<Figure size 432x288 with 1 Axes>"
      ]
     },
     "metadata": {
      "needs_background": "light"
     },
     "output_type": "display_data"
    }
   ],
   "source": [
    "n_epoch=1000\n",
    "imprimir_cada=100\n",
    "\n",
    "#Definimos el Learning rate\n",
    "lr= 0.1\n",
    "\n",
    "#Inicializamos la red reuronal\n",
    "#Número de Entradas de nuestro modelo\n",
    "n_inputs= 2\n",
    "#Número de Neuronas en cada capa intermedia\n",
    "n_hidden=[3,2]\n",
    "\n",
    "#Número de Neuronas de Salida\n",
    "n_outputs=1\n",
    "\n",
    "train_network(X,Y, lr, n_epoch,n_inputs,n_hidden, n_outputs)"
   ]
  },
  {
   "cell_type": "markdown",
   "metadata": {},
   "source": [
    "##### Conclusiones Experimento 5\n",
    "\n",
    "- En este experimento No se llego a la convergencia en los 1000 entrenamientos del modelo.\n",
    "- Aquí por alguna razón, no pudo lograr una buena representación intermedia, al parecer se quedó en un punto estacionario en el cálculo de gradientes, por lo mismo no vario durante el entrenamiento."
   ]
  },
  {
   "cell_type": "markdown",
   "metadata": {},
   "source": [
    "### Conclusiones Generales\n",
    "\n",
    "- Al no tener una función de activación en la última neurona, esta busca una aproximación con regresión lineal al problema que estamos buscando (XOR).\n",
    "- Si se hubiera tenido en la última neurona una función de activación como Sigmoid, se hubiera buscado una aproximación con regresión logistica, lo cual pudo (en teoria) facilitar el calculo de la función XOR.\n",
    "\n"
   ]
  }
 ],
 "metadata": {
  "kernelspec": {
   "display_name": "Python 3",
   "language": "python",
   "name": "python3"
  },
  "language_info": {
   "codemirror_mode": {
    "name": "ipython",
    "version": 3
   },
   "file_extension": ".py",
   "mimetype": "text/x-python",
   "name": "python",
   "nbconvert_exporter": "python",
   "pygments_lexer": "ipython3",
   "version": "3.7.7"
  }
 },
 "nbformat": 4,
 "nbformat_minor": 4
}
