{
 "cells": [
  {
   "cell_type": "markdown",
   "metadata": {},
   "source": [
    "# Práctica 1"
   ]
  },
  {
   "cell_type": "markdown",
   "metadata": {},
   "source": [
    "# Carga de Información \n",
    "\n",
    "Se cargará la información que será usada para esta practica."
   ]
  },
  {
   "cell_type": "code",
   "execution_count": 2,
   "metadata": {},
   "outputs": [],
   "source": [
    "##Importamos algunas librerias que nos servirán en el desarrollo del problema\n",
    "import numpy as np\n",
    "import pandas as pd\n",
    "import matplotlib.pyplot as plt"
   ]
  },
  {
   "cell_type": "markdown",
   "metadata": {},
   "source": [
    "Cargamos la información que nos ayudará con el modelo"
   ]
  },
  {
   "cell_type": "code",
   "execution_count": 4,
   "metadata": {},
   "outputs": [
    {
     "name": "stdout",
     "output_type": "stream",
     "text": [
      "Rango Tensor: 2\n",
      "Forma Tensor: (29, 2)\n",
      "Vemos los primeros registros de la data:\n"
     ]
    },
    {
     "data": {
      "text/html": [
       "<div>\n",
       "<style scoped>\n",
       "    .dataframe tbody tr th:only-of-type {\n",
       "        vertical-align: middle;\n",
       "    }\n",
       "\n",
       "    .dataframe tbody tr th {\n",
       "        vertical-align: top;\n",
       "    }\n",
       "\n",
       "    .dataframe thead th {\n",
       "        text-align: right;\n",
       "    }\n",
       "</style>\n",
       "<table border=\"1\" class=\"dataframe\">\n",
       "  <thead>\n",
       "    <tr style=\"text-align: right;\">\n",
       "      <th></th>\n",
       "      <th>Estatura(metros)</th>\n",
       "      <th>Edad(años)</th>\n",
       "    </tr>\n",
       "  </thead>\n",
       "  <tbody>\n",
       "    <tr>\n",
       "      <th>0</th>\n",
       "      <td>1.77</td>\n",
       "      <td>26</td>\n",
       "    </tr>\n",
       "    <tr>\n",
       "      <th>1</th>\n",
       "      <td>1.74</td>\n",
       "      <td>31</td>\n",
       "    </tr>\n",
       "    <tr>\n",
       "      <th>2</th>\n",
       "      <td>1.72</td>\n",
       "      <td>24</td>\n",
       "    </tr>\n",
       "    <tr>\n",
       "      <th>3</th>\n",
       "      <td>1.78</td>\n",
       "      <td>34</td>\n",
       "    </tr>\n",
       "    <tr>\n",
       "      <th>4</th>\n",
       "      <td>1.65</td>\n",
       "      <td>32</td>\n",
       "    </tr>\n",
       "  </tbody>\n",
       "</table>\n",
       "</div>"
      ],
      "text/plain": [
       "   Estatura(metros)  Edad(años)\n",
       "0              1.77          26\n",
       "1              1.74          31\n",
       "2              1.72          24\n",
       "3              1.78          34\n",
       "4              1.65          32"
      ]
     },
     "execution_count": 4,
     "metadata": {},
     "output_type": "execute_result"
    }
   ],
   "source": [
    "estaturas_data = pd.read_csv(\"estaturas_Modelo.csv\")\n",
    "\n",
    "##Verificamos que haya cargado la información, y que tenga la forma requerida\n",
    "print('Rango Tensor:',estaturas_data.ndim)\n",
    "print('Forma Tensor:',estaturas_data.shape)\n",
    "print('Vemos los primeros registros de la data:')\n",
    "estaturas_data.head()"
   ]
  },
  {
   "cell_type": "markdown",
   "metadata": {},
   "source": [
    "Cargamos la información que nos ayudará en las pruebas (Test)"
   ]
  },
  {
   "cell_type": "code",
   "execution_count": 8,
   "metadata": {},
   "outputs": [
    {
     "name": "stdout",
     "output_type": "stream",
     "text": [
      "Rango Tensor: 2\n",
      "Forma Tensor: (8, 2)\n",
      "Veamos los primeros registros de la data:\n"
     ]
    },
    {
     "data": {
      "text/html": [
       "<div>\n",
       "<style scoped>\n",
       "    .dataframe tbody tr th:only-of-type {\n",
       "        vertical-align: middle;\n",
       "    }\n",
       "\n",
       "    .dataframe tbody tr th {\n",
       "        vertical-align: top;\n",
       "    }\n",
       "\n",
       "    .dataframe thead th {\n",
       "        text-align: right;\n",
       "    }\n",
       "</style>\n",
       "<table border=\"1\" class=\"dataframe\">\n",
       "  <thead>\n",
       "    <tr style=\"text-align: right;\">\n",
       "      <th></th>\n",
       "      <th>Estatura(metros)</th>\n",
       "      <th>Edad(años)</th>\n",
       "    </tr>\n",
       "  </thead>\n",
       "  <tbody>\n",
       "    <tr>\n",
       "      <th>0</th>\n",
       "      <td>1.82</td>\n",
       "      <td>25</td>\n",
       "    </tr>\n",
       "    <tr>\n",
       "      <th>1</th>\n",
       "      <td>1.80</td>\n",
       "      <td>27</td>\n",
       "    </tr>\n",
       "    <tr>\n",
       "      <th>2</th>\n",
       "      <td>1.60</td>\n",
       "      <td>31</td>\n",
       "    </tr>\n",
       "    <tr>\n",
       "      <th>3</th>\n",
       "      <td>1.60</td>\n",
       "      <td>35</td>\n",
       "    </tr>\n",
       "    <tr>\n",
       "      <th>4</th>\n",
       "      <td>1.82</td>\n",
       "      <td>30</td>\n",
       "    </tr>\n",
       "  </tbody>\n",
       "</table>\n",
       "</div>"
      ],
      "text/plain": [
       "   Estatura(metros)  Edad(años)\n",
       "0              1.82          25\n",
       "1              1.80          27\n",
       "2              1.60          31\n",
       "3              1.60          35\n",
       "4              1.82          30"
      ]
     },
     "execution_count": 8,
     "metadata": {},
     "output_type": "execute_result"
    }
   ],
   "source": [
    "estaturas_test = pd.read_csv(\"valtest.csv\")\n",
    "\n",
    "##Verificamos que haya cargado la información, y que tenga la forma requerida\n",
    "print('Rango Tensor:',estaturas_test.ndim)\n",
    "print('Forma Tensor:',estaturas_test.shape)\n",
    "print('Veamos los primeros registros de la data:')\n",
    "estaturas_test.head()"
   ]
  },
  {
   "cell_type": "markdown",
   "metadata": {},
   "source": [
    "Cargamos los datos para la verificación de anomalias."
   ]
  },
  {
   "cell_type": "code",
   "execution_count": 11,
   "metadata": {},
   "outputs": [
    {
     "name": "stdout",
     "output_type": "stream",
     "text": [
      "Rango Tensor: 2\n",
      "Forma Tensor: (4, 2)\n",
      "Veamos los primeros registros de la data:\n"
     ]
    },
    {
     "data": {
      "text/html": [
       "<div>\n",
       "<style scoped>\n",
       "    .dataframe tbody tr th:only-of-type {\n",
       "        vertical-align: middle;\n",
       "    }\n",
       "\n",
       "    .dataframe tbody tr th {\n",
       "        vertical-align: top;\n",
       "    }\n",
       "\n",
       "    .dataframe thead th {\n",
       "        text-align: right;\n",
       "    }\n",
       "</style>\n",
       "<table border=\"1\" class=\"dataframe\">\n",
       "  <thead>\n",
       "    <tr style=\"text-align: right;\">\n",
       "      <th></th>\n",
       "      <th>Estatura</th>\n",
       "      <th>Edad</th>\n",
       "    </tr>\n",
       "  </thead>\n",
       "  <tbody>\n",
       "    <tr>\n",
       "      <th>0</th>\n",
       "      <td>0.25</td>\n",
       "      <td>2.4</td>\n",
       "    </tr>\n",
       "    <tr>\n",
       "      <th>1</th>\n",
       "      <td>175.10</td>\n",
       "      <td>2.5</td>\n",
       "    </tr>\n",
       "    <tr>\n",
       "      <th>2</th>\n",
       "      <td>0.15</td>\n",
       "      <td>250.0</td>\n",
       "    </tr>\n",
       "    <tr>\n",
       "      <th>3</th>\n",
       "      <td>150.00</td>\n",
       "      <td>14.0</td>\n",
       "    </tr>\n",
       "  </tbody>\n",
       "</table>\n",
       "</div>"
      ],
      "text/plain": [
       "   Estatura   Edad\n",
       "0      0.25    2.4\n",
       "1    175.10    2.5\n",
       "2      0.15  250.0\n",
       "3    150.00   14.0"
      ]
     },
     "execution_count": 11,
     "metadata": {},
     "output_type": "execute_result"
    }
   ],
   "source": [
    "estaturas_anomalias = pd.read_csv(\"anomalias.csv\")\n",
    "\n",
    "##Verificamos que haya cargado la información, y que tenga la forma requerida\n",
    "print('Rango Tensor:',estaturas_anomalias.ndim)\n",
    "print('Forma Tensor:',estaturas_anomalias.shape)\n",
    "print('Veamos los primeros registros de la data:')\n",
    "estaturas_anomalias.head()"
   ]
  },
  {
   "cell_type": "markdown",
   "metadata": {},
   "source": [
    "# Hard-Clustering con K-Means\n",
    "\n",
    "Implementación manual de Metodo de Clasificación No Supervisada usando K-Means. Se implementará una función que en base a la información recibida y un número K determine la clasificación de la información.\n",
    "\n",
    "1. Creamos una Clase que nos ayudará a entrenar el Modelo"
   ]
  },
  {
   "cell_type": "code",
   "execution_count": 333,
   "metadata": {},
   "outputs": [],
   "source": [
    "from numpy import random\n",
    "\n",
    "class K_Means:\n",
    "    '''Implementación del Algoritmo K_Mean para Clasificación No supervisada'''\n",
    "    \n",
    "    def __init__(self, K=2, tol=0.001, max_iter=300):\n",
    "        '''Constructor de la clase K_Means'''\n",
    "        ##Inicializamos las varibles que usaremos para controlar el Modelo\n",
    "        self.K = K\n",
    "        self.tol = tol\n",
    "        self.max_iter=max_iter\n",
    "        \n",
    "    def fit(self, data):\n",
    "        '''Metodo para Entrenamiento del Modelo'''\n",
    "        \n",
    "        #Armamos los centroides - Números random entre los maximos y minimos de los datos proporcionados\n",
    "        #Obtenemos Minimos y Maximos\n",
    "        MinEstatura, MinEdad=np.min(data,axis=0)\n",
    "        MaxEstatura, MaxEdad=np.max(data,axis=0)\n",
    "        self.Centroides = np.hstack(((MaxEstatura - MinEstatura)*random.rand(self.K, 1)+MinEstatura,\n",
    "                                (MaxEdad - MinEdad)*random.rand(self.K, 1)+MinEdad))\n",
    "        \n",
    "        #Iteramos para encontrar los centroides del modelo\n",
    "        for i in range(self.max_iter):\n",
    "            #Nos servirá para almacenar la clasificación(label) dada para cada valor de X\n",
    "            clasificaciones = np.array([])\n",
    "            \n",
    "            #Para cada valor del vector X\n",
    "            for _,x_val in enumerate(data):\n",
    "                #Calculamos la distancia con los centroides\n",
    "                distancia = [np.linalg.norm(x_val-self.Centroides[k]) for k in range(self.K)]\n",
    "                #Determinamos el centroide mas cercando\n",
    "                clasificacion = np.argmin(distancia)\n",
    "                #Almacenamos la clasificación de acuerdo al centroide mas cercano\n",
    "                clasificaciones=np.hstack((clasificaciones,clasificacion))\n",
    "            \n",
    "            #Almacenamos el valor anterior de los centroides\n",
    "            old_Centroides =  np.array(self.Centroides)\n",
    "            #calculamos el valor de los nuevos centroides\n",
    "            for i in range(self.K):\n",
    "                ##Solo se recalcula el centroide si tuvo datos que coincidieron con el mismo\n",
    "                if (np.sum(data[clasificaciones==i])>0):\n",
    "                    #Nueva ubicación del centroide en base al promedio\n",
    "                    self.Centroides[i] = np.average(data[clasificaciones==i],axis=0)\n",
    "\n",
    "            #Vemos si el valor aún no esa optimizado\n",
    "            optimized= False if np.sum(np.sum(np.abs(self.Centroides- old_Centroides)/old_Centroides*100,axis=1)>self.tol)>0 else True\n",
    "\n",
    "            #Si el valor ya esta optimizado - Arriba tolerancia - Nos salimos\n",
    "            if optimized:\n",
    "                break\n",
    "    \n",
    "    #Función de Costo\n",
    "    def cost_Model(self,data,clasificaciones):\n",
    "        '''Función que nos ayuda a calcular el costo del Modelo'''\n",
    "        \n",
    "        #Calculamos la distancia con los centroides - Elegimos por Dato\n",
    "        costosxDato = [np.linalg.norm(data[i]-self.Centroides[int(clasificaciones[i])]) for i in range(len(data))]\n",
    "        #Determinamos el centroide mas cercando\n",
    "        Costo = np.average(costosxDato)\n",
    "        \n",
    "        #devolvemos el Costo\n",
    "        return Costo\n",
    "    \n",
    "    def predict(self,data,calc_centroides):\n",
    "        '''Función para Predicción en base al Modelo construido por FIT'''\n",
    "        #Nos servirá para almacenar la clasificación(label) dada para cada valor de X\n",
    "        clasificaciones = np.array([])\n",
    "        \n",
    "        #Para cada valor del vector X\n",
    "        for _,x_pred in enumerate(data):\n",
    "            #Calculamos la distancia con los centroides\n",
    "            distancia = [np.linalg.norm(x_pred-calc_centroides[k]) for k in range(self.K)]\n",
    "            #Determinamos el centroide mas cercando\n",
    "            clasificacion = np.argmin(distancia)\n",
    "            #Almacenamos la clasificación de acuerdo al centroide mas cercano\n",
    "            clasificaciones=np.hstack((clasificaciones,clasificacion))\n",
    "        \n",
    "        return clasificaciones"
   ]
  },
  {
   "cell_type": "markdown",
   "metadata": {},
   "source": [
    "2. Definimos la Función de Entrenamiento"
   ]
  },
  {
   "cell_type": "code",
   "execution_count": 394,
   "metadata": {},
   "outputs": [],
   "source": [
    "def entrenamientoKMeans(X, K, epochs):\n",
    "    \n",
    "    #Definimos el costo despues del entrenamiento\n",
    "    costoTrain = float('inf')\n",
    "    #Modelo Minimo\n",
    "    ModeloMin = K_Means(K)\n",
    "    \n",
    "    for _ in range(epochs):\n",
    "        #Llamamos a la clase para el Modelo K_Means\n",
    "        modelK = K_Means(K)\n",
    "\n",
    "        #Entrenamos el Modelo\n",
    "        modelK.fit(X)\n",
    "\n",
    "        #Obtenemos los Labels del Modelo\n",
    "        labels= modelK.predict(X,modelK.Centroides)\n",
    "        \n",
    "        #Costo del Modelo \n",
    "        costoM= modelK.cost_Model(X,labels)\n",
    "        #Si el Costo del Entrenamiento es menor al modelo encontrado\n",
    "        if costoTrain>costoM:\n",
    "            costoTrain=costoM\n",
    "            ModeloMin = modelK\n",
    "            LabelsMin = labels\n",
    "            centroides = modelK.Centroides\n",
    "    \n",
    "    #Mostramos la grafica del Mejor Modelo\n",
    "    plt.scatter(X[:,0],X[:,1], c=LabelsMin, cmap='viridis')\n",
    "    plt.show()\n",
    "    print(\"Costo Despues de la Función de Entrenamiento=\",costoTrain)\n",
    "    #Retornamos el modelo que nos \n",
    "    return ModeloMin,centroides"
   ]
  },
  {
   "cell_type": "markdown",
   "metadata": {},
   "source": [
    "3. Creamos la Función para Predicción"
   ]
  },
  {
   "cell_type": "code",
   "execution_count": 395,
   "metadata": {},
   "outputs": [],
   "source": [
    "def predicciónKMeans(KMeans_Model, Centroides,X):\n",
    "    \n",
    "    #Asignamos las etiquetas \n",
    "    labels = KMeans_Model.predict(X,Centroides)\n",
    "    #Mostramos en una grafica donde se ubican los datos de test\n",
    "    plt.scatter(X[:,0],X[:,1], c=labels, cmap='viridis')\n",
    "    plt.show()\n",
    "    ##Retornamos la clasificación \n",
    "    return labels"
   ]
  },
  {
   "cell_type": "markdown",
   "metadata": {},
   "source": [
    "3. Probamos la función de entrenamiento"
   ]
  },
  {
   "cell_type": "code",
   "execution_count": 397,
   "metadata": {},
   "outputs": [
    {
     "data": {
      "image/png": "[encoded data removed]",
      "text/plain": [
       "<Figure size 432x288 with 1 Axes>"
      ]
     },
     "metadata": {
      "needs_background": "light"
     },
     "output_type": "display_data"
    },
    {
     "name": "stdout",
     "output_type": "stream",
     "text": [
      "Costo Despues de la Función de Entrenamiento= 0.9842847092363377\n"
     ]
    }
   ],
   "source": [
    "X = estaturas_data.values\n",
    "K = 4\n",
    "epochs=100\n",
    "model,centroides = entrenamientoKMeans(X, K, epochs)"
   ]
  },
  {
   "cell_type": "markdown",
   "metadata": {},
   "source": [
    "4. Probamos la función de Predicción"
   ]
  },
  {
   "cell_type": "code",
   "execution_count": 400,
   "metadata": {},
   "outputs": [
    {
     "data": {
      "image/png": "[encoded data removed]",
      "text/plain": [
       "<Figure size 432x288 with 1 Axes>"
      ]
     },
     "metadata": {
      "needs_background": "light"
     },
     "output_type": "display_data"
    },
    {
     "data": {
      "text/plain": [
       "array([3., 0., 2., 2., 0., 2., 2., 2.])"
      ]
     },
     "execution_count": 400,
     "metadata": {},
     "output_type": "execute_result"
    }
   ],
   "source": [
    "X= estaturas_test.values\n",
    "predicciónKMeans(model, centroides, X )"
   ]
  },
  {
   "cell_type": "markdown",
   "metadata": {},
   "source": [
    "# Soft-clustering con GMM\n",
    "\n",
    "Implementación del Metodo de clasificación con Soft-Clustering usando Scikit-Learn.\n",
    "\n",
    "1. Creamos la función de entrenamiento."
   ]
  },
  {
   "cell_type": "code",
   "execution_count": 38,
   "metadata": {},
   "outputs": [],
   "source": [
    "from sklearn.mixture import GaussianMixture\n",
    "\n",
    "def entrenamientoGMM(X, K):\n",
    "    # Entrenamos el modelo con la data recibida\n",
    "    gmm = GaussianMixture(n_components=K).fit(X)\n",
    "    # Asignamos las etiquetas a la información recibida\n",
    "    labels = gmm.predict(X)\n",
    "    #Mostramos en una grafica como queda la distribución\n",
    "    plt.scatter(X[:,0],X[:,1], c=labels)\n",
    "    #Mostramos la grafica\n",
    "    plt.show()\n",
    "    #Retornamos el modelo que nos \n",
    "    return gmm"
   ]
  },
  {
   "cell_type": "markdown",
   "metadata": {},
   "source": [
    "2. Creamos la función para la predicción"
   ]
  },
  {
   "cell_type": "code",
   "execution_count": 39,
   "metadata": {},
   "outputs": [],
   "source": [
    "def predicciónGMM(GMMModel, X):\n",
    "    \n",
    "    #Asignamos las etiquetas \n",
    "    labels = GMMModel.predict(X)\n",
    "    #Retornamos la distribución de Probabilidad\n",
    "    proba = GMMModel.predict_proba(X)\n",
    "    #Mostramos en una grafica donde se ubican los datos de test\n",
    "    plt.scatter(X[:,0],X[:,1], c=labels)\n",
    "    plt.show()\n",
    "    ##Retornamos la clasificación y la probabilidad\n",
    "    return labels,proba"
   ]
  },
  {
   "cell_type": "markdown",
   "metadata": {},
   "source": [
    "3. Pruebas"
   ]
  },
  {
   "cell_type": "code",
   "execution_count": 42,
   "metadata": {},
   "outputs": [
    {
     "data": {
      "image/png": "[encoded data removed]",
      "text/plain": [
       "<Figure size 432x288 with 1 Axes>"
      ]
     },
     "metadata": {
      "needs_background": "light"
     },
     "output_type": "display_data"
    }
   ],
   "source": [
    "X = estaturas_data.values\n",
    "model=entrenamientoGMM(X, 2)"
   ]
  },
  {
   "cell_type": "code",
   "execution_count": 44,
   "metadata": {},
   "outputs": [
    {
     "data": {
      "image/png": "[encoded data removed]",
      "text/plain": [
       "<Figure size 432x288 with 1 Axes>"
      ]
     },
     "metadata": {
      "needs_background": "light"
     },
     "output_type": "display_data"
    },
    {
     "data": {
      "text/plain": [
       "(array([0, 0, 0, 1, 1, 1, 1, 0], dtype=int64),\n",
       " array([[9.99780191e-01, 2.19809339e-04],\n",
       "        [9.88700692e-01, 1.12993076e-02],\n",
       "        [6.26717298e-01, 3.73282702e-01],\n",
       "        [1.75287550e-03, 9.98247124e-01],\n",
       "        [1.81556280e-01, 8.18443720e-01],\n",
       "        [1.68708432e-03, 9.98312916e-01],\n",
       "        [1.56825691e-02, 9.84317431e-01],\n",
       "        [5.13145710e-01, 4.86854290e-01]]))"
      ]
     },
     "execution_count": 44,
     "metadata": {},
     "output_type": "execute_result"
    }
   ],
   "source": [
    "X= estaturas_test.values\n",
    "predicciónGMM(model, X)"
   ]
  }
 ],
 "metadata": {
  "kernelspec": {
   "display_name": "Python 3",
   "language": "python",
   "name": "python3"
  },
  "language_info": {
   "codemirror_mode": {
    "name": "ipython",
    "version": 3
   },
   "file_extension": ".py",
   "mimetype": "text/x-python",
   "name": "python",
   "nbconvert_exporter": "python",
   "pygments_lexer": "ipython3",
   "version": "3.7.7"
  }
 },
 "nbformat": 4,
 "nbformat_minor": 4
}
