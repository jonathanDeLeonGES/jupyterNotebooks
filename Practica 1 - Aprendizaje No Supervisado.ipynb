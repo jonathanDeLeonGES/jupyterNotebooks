{
 "cells": [
  {
   "cell_type": "markdown",
   "metadata": {},
   "source": [
    "# Práctica 1"
   ]
  },
  {
   "cell_type": "markdown",
   "metadata": {},
   "source": [
    "# Carga de Información \n",
    "\n",
    "Se cargará la información que será usada para esta practica."
   ]
  },
  {
   "cell_type": "code",
   "execution_count": 161,
   "metadata": {},
   "outputs": [],
   "source": [
    "##Importamos algunas librerias que nos servirán en el desarrollo del problema\n",
    "import numpy as np\n",
    "import pandas as pd\n",
    "import matplotlib.pyplot as plt\n",
    "from scipy.stats import multivariate_normal"
   ]
  },
  {
   "cell_type": "markdown",
   "metadata": {},
   "source": [
    "Cargamos la información que nos ayudará con el modelo"
   ]
  },
  {
   "cell_type": "code",
   "execution_count": 96,
   "metadata": {},
   "outputs": [
    {
     "name": "stdout",
     "output_type": "stream",
     "text": [
      "Rango Tensor: 2\n",
      "Forma Tensor: (29, 2)\n",
      "Vemos los primeros registros de la data:\n"
     ]
    },
    {
     "data": {
      "text/html": [
       "<div>\n",
       "<style scoped>\n",
       "    .dataframe tbody tr th:only-of-type {\n",
       "        vertical-align: middle;\n",
       "    }\n",
       "\n",
       "    .dataframe tbody tr th {\n",
       "        vertical-align: top;\n",
       "    }\n",
       "\n",
       "    .dataframe thead th {\n",
       "        text-align: right;\n",
       "    }\n",
       "</style>\n",
       "<table border=\"1\" class=\"dataframe\">\n",
       "  <thead>\n",
       "    <tr style=\"text-align: right;\">\n",
       "      <th></th>\n",
       "      <th>Estatura(metros)</th>\n",
       "      <th>Edad(años)</th>\n",
       "    </tr>\n",
       "  </thead>\n",
       "  <tbody>\n",
       "    <tr>\n",
       "      <th>0</th>\n",
       "      <td>1.77</td>\n",
       "      <td>26</td>\n",
       "    </tr>\n",
       "    <tr>\n",
       "      <th>1</th>\n",
       "      <td>1.74</td>\n",
       "      <td>31</td>\n",
       "    </tr>\n",
       "    <tr>\n",
       "      <th>2</th>\n",
       "      <td>1.72</td>\n",
       "      <td>24</td>\n",
       "    </tr>\n",
       "    <tr>\n",
       "      <th>3</th>\n",
       "      <td>1.78</td>\n",
       "      <td>34</td>\n",
       "    </tr>\n",
       "    <tr>\n",
       "      <th>4</th>\n",
       "      <td>1.65</td>\n",
       "      <td>32</td>\n",
       "    </tr>\n",
       "  </tbody>\n",
       "</table>\n",
       "</div>"
      ],
      "text/plain": [
       "   Estatura(metros)  Edad(años)\n",
       "0              1.77          26\n",
       "1              1.74          31\n",
       "2              1.72          24\n",
       "3              1.78          34\n",
       "4              1.65          32"
      ]
     },
     "execution_count": 96,
     "metadata": {},
     "output_type": "execute_result"
    }
   ],
   "source": [
    "estaturas_data = pd.read_csv(\"estaturas_Modelo.csv\")\n",
    "\n",
    "##Verificamos que haya cargado la información, y que tenga la forma requerida\n",
    "print('Rango Tensor:',estaturas_data.ndim)\n",
    "print('Forma Tensor:',estaturas_data.shape)\n",
    "print('Vemos los primeros registros de la data:')\n",
    "estaturas_data.head()"
   ]
  },
  {
   "cell_type": "markdown",
   "metadata": {},
   "source": [
    "Cargamos la información que nos ayudará en las pruebas (Test)"
   ]
  },
  {
   "cell_type": "code",
   "execution_count": 97,
   "metadata": {},
   "outputs": [
    {
     "name": "stdout",
     "output_type": "stream",
     "text": [
      "Rango Tensor: 2\n",
      "Forma Tensor: (8, 2)\n",
      "Veamos los primeros registros de la data:\n"
     ]
    },
    {
     "data": {
      "text/html": [
       "<div>\n",
       "<style scoped>\n",
       "    .dataframe tbody tr th:only-of-type {\n",
       "        vertical-align: middle;\n",
       "    }\n",
       "\n",
       "    .dataframe tbody tr th {\n",
       "        vertical-align: top;\n",
       "    }\n",
       "\n",
       "    .dataframe thead th {\n",
       "        text-align: right;\n",
       "    }\n",
       "</style>\n",
       "<table border=\"1\" class=\"dataframe\">\n",
       "  <thead>\n",
       "    <tr style=\"text-align: right;\">\n",
       "      <th></th>\n",
       "      <th>Estatura(metros)</th>\n",
       "      <th>Edad(años)</th>\n",
       "    </tr>\n",
       "  </thead>\n",
       "  <tbody>\n",
       "    <tr>\n",
       "      <th>0</th>\n",
       "      <td>1.82</td>\n",
       "      <td>25</td>\n",
       "    </tr>\n",
       "    <tr>\n",
       "      <th>1</th>\n",
       "      <td>1.80</td>\n",
       "      <td>27</td>\n",
       "    </tr>\n",
       "    <tr>\n",
       "      <th>2</th>\n",
       "      <td>1.60</td>\n",
       "      <td>31</td>\n",
       "    </tr>\n",
       "    <tr>\n",
       "      <th>3</th>\n",
       "      <td>1.60</td>\n",
       "      <td>35</td>\n",
       "    </tr>\n",
       "    <tr>\n",
       "      <th>4</th>\n",
       "      <td>1.82</td>\n",
       "      <td>30</td>\n",
       "    </tr>\n",
       "  </tbody>\n",
       "</table>\n",
       "</div>"
      ],
      "text/plain": [
       "   Estatura(metros)  Edad(años)\n",
       "0              1.82          25\n",
       "1              1.80          27\n",
       "2              1.60          31\n",
       "3              1.60          35\n",
       "4              1.82          30"
      ]
     },
     "execution_count": 97,
     "metadata": {},
     "output_type": "execute_result"
    }
   ],
   "source": [
    "estaturas_test = pd.read_csv(\"valtest.csv\")\n",
    "\n",
    "##Verificamos que haya cargado la información, y que tenga la forma requerida\n",
    "print('Rango Tensor:',estaturas_test.ndim)\n",
    "print('Forma Tensor:',estaturas_test.shape)\n",
    "print('Veamos los primeros registros de la data:')\n",
    "estaturas_test.head()"
   ]
  },
  {
   "cell_type": "markdown",
   "metadata": {},
   "source": [
    "Cargamos los datos para la verificación de anomalias."
   ]
  },
  {
   "cell_type": "code",
   "execution_count": 98,
   "metadata": {},
   "outputs": [
    {
     "name": "stdout",
     "output_type": "stream",
     "text": [
      "Rango Tensor: 2\n",
      "Forma Tensor: (4, 2)\n",
      "Veamos los primeros registros de la data:\n"
     ]
    },
    {
     "data": {
      "text/html": [
       "<div>\n",
       "<style scoped>\n",
       "    .dataframe tbody tr th:only-of-type {\n",
       "        vertical-align: middle;\n",
       "    }\n",
       "\n",
       "    .dataframe tbody tr th {\n",
       "        vertical-align: top;\n",
       "    }\n",
       "\n",
       "    .dataframe thead th {\n",
       "        text-align: right;\n",
       "    }\n",
       "</style>\n",
       "<table border=\"1\" class=\"dataframe\">\n",
       "  <thead>\n",
       "    <tr style=\"text-align: right;\">\n",
       "      <th></th>\n",
       "      <th>Estatura</th>\n",
       "      <th>Edad</th>\n",
       "    </tr>\n",
       "  </thead>\n",
       "  <tbody>\n",
       "    <tr>\n",
       "      <th>0</th>\n",
       "      <td>0.25</td>\n",
       "      <td>2.4</td>\n",
       "    </tr>\n",
       "    <tr>\n",
       "      <th>1</th>\n",
       "      <td>175.10</td>\n",
       "      <td>2.5</td>\n",
       "    </tr>\n",
       "    <tr>\n",
       "      <th>2</th>\n",
       "      <td>0.15</td>\n",
       "      <td>250.0</td>\n",
       "    </tr>\n",
       "    <tr>\n",
       "      <th>3</th>\n",
       "      <td>150.00</td>\n",
       "      <td>14.0</td>\n",
       "    </tr>\n",
       "  </tbody>\n",
       "</table>\n",
       "</div>"
      ],
      "text/plain": [
       "   Estatura   Edad\n",
       "0      0.25    2.4\n",
       "1    175.10    2.5\n",
       "2      0.15  250.0\n",
       "3    150.00   14.0"
      ]
     },
     "execution_count": 98,
     "metadata": {},
     "output_type": "execute_result"
    }
   ],
   "source": [
    "estaturas_anomalias = pd.read_csv(\"anomalias.csv\")\n",
    "\n",
    "##Verificamos que haya cargado la información, y que tenga la forma requerida\n",
    "print('Rango Tensor:',estaturas_anomalias.ndim)\n",
    "print('Forma Tensor:',estaturas_anomalias.shape)\n",
    "print('Veamos los primeros registros de la data:')\n",
    "estaturas_anomalias.head()"
   ]
  },
  {
   "cell_type": "markdown",
   "metadata": {},
   "source": [
    "# Parte 1 - Clustering"
   ]
  },
  {
   "cell_type": "markdown",
   "metadata": {},
   "source": [
    "## Hard-Clustering con K-Means\n",
    "\n",
    "Implementación manual de Metodo de Clasificación No Supervisada usando K-Means. Se implementará una función que en base a la información recibida y un número K determine la clasificación de la información.\n",
    "\n",
    "1. Creamos una Clase que nos ayudará a entrenar el Modelo"
   ]
  },
  {
   "cell_type": "code",
   "execution_count": 99,
   "metadata": {},
   "outputs": [],
   "source": [
    "from numpy import random\n",
    "\n",
    "class K_Means:\n",
    "    '''Implementación del Algoritmo K_Mean para Clasificación No supervisada'''\n",
    "    \n",
    "    def __init__(self, K=2, tol=0.001, max_iter=300):\n",
    "        '''Constructor de la clase K_Means'''\n",
    "        ##Inicializamos las varibles que usaremos para controlar el Modelo\n",
    "        self.K = K\n",
    "        self.tol = tol\n",
    "        self.max_iter=max_iter\n",
    "        \n",
    "    def fit(self, data):\n",
    "        '''Metodo para Entrenamiento del Modelo'''\n",
    "        \n",
    "        #Armamos los centroides - Números random entre los maximos y minimos de los datos proporcionados\n",
    "        #Obtenemos Minimos y Maximos\n",
    "        MinEstatura, MinEdad=np.min(data,axis=0)\n",
    "        MaxEstatura, MaxEdad=np.max(data,axis=0)\n",
    "        self.Centroides = np.hstack(((MaxEstatura - MinEstatura)*random.rand(self.K, 1)+MinEstatura,\n",
    "                                (MaxEdad - MinEdad)*random.rand(self.K, 1)+MinEdad))\n",
    "        \n",
    "        #Iteramos para encontrar los centroides del modelo\n",
    "        for i in range(self.max_iter):\n",
    "            #Nos servirá para almacenar la clasificación(label) dada para cada valor de X\n",
    "            clasificaciones = np.array([])\n",
    "            \n",
    "            #Para cada valor del vector X\n",
    "            for _,x_val in enumerate(data):\n",
    "                #Calculamos la distancia con los centroides\n",
    "                distancia = [np.linalg.norm(x_val-self.Centroides[k]) for k in range(self.K)]\n",
    "                #Determinamos el centroide mas cercando\n",
    "                clasificacion = np.argmin(distancia)\n",
    "                #Almacenamos la clasificación de acuerdo al centroide mas cercano\n",
    "                clasificaciones=np.hstack((clasificaciones,clasificacion))\n",
    "            \n",
    "            #Almacenamos el valor anterior de los centroides\n",
    "            old_Centroides =  np.array(self.Centroides)\n",
    "            #calculamos el valor de los nuevos centroides\n",
    "            for i in range(self.K):\n",
    "                ##Solo se recalcula el centroide si tuvo datos que coincidieron con el mismo\n",
    "                if (np.sum(data[clasificaciones==i])>0):\n",
    "                    #Nueva ubicación del centroide en base al promedio\n",
    "                    self.Centroides[i] = np.average(data[clasificaciones==i],axis=0)\n",
    "\n",
    "            #Vemos si el valor aún no esa optimizado\n",
    "            optimized= False if np.sum(np.sum(np.abs(self.Centroides- old_Centroides)/old_Centroides*100,axis=1)>self.tol)>0 else True\n",
    "\n",
    "            #Si el valor ya esta optimizado - Arriba tolerancia - Nos salimos\n",
    "            if optimized:\n",
    "                break\n",
    "    \n",
    "    #Función de Costo\n",
    "    def cost_Model(self,data,clasificaciones):\n",
    "        '''Función que nos ayuda a calcular el costo del Modelo'''\n",
    "        \n",
    "        #Calculamos la distancia con los centroides - Elegimos por Dato\n",
    "        costosxDato = [np.linalg.norm(data[i]-self.Centroides[int(clasificaciones[i])]) for i in range(len(data))]\n",
    "        #Determinamos el centroide mas cercando\n",
    "        Costo = np.average(costosxDato)\n",
    "        \n",
    "        #devolvemos el Costo\n",
    "        return Costo\n",
    "    \n",
    "    def predict(self,data,calc_centroides):\n",
    "        '''Función para Predicción en base al Modelo construido por FIT'''\n",
    "        #Nos servirá para almacenar la clasificación(label) dada para cada valor de X\n",
    "        clasificaciones = np.array([])\n",
    "        \n",
    "        #Para cada valor del vector X\n",
    "        for _,x_pred in enumerate(data):\n",
    "            #Calculamos la distancia con los centroides\n",
    "            distancia = [np.linalg.norm(x_pred-calc_centroides[k]) for k in range(self.K)]\n",
    "            #Determinamos el centroide mas cercando\n",
    "            clasificacion = np.argmin(distancia)\n",
    "            #Almacenamos la clasificación de acuerdo al centroide mas cercano\n",
    "            clasificaciones=np.hstack((clasificaciones,clasificacion))\n",
    "        \n",
    "        return clasificaciones"
   ]
  },
  {
   "cell_type": "markdown",
   "metadata": {},
   "source": [
    "2. Definimos la Función de Entrenamiento"
   ]
  },
  {
   "cell_type": "code",
   "execution_count": 100,
   "metadata": {},
   "outputs": [],
   "source": [
    "def entrenamientoKMeans(X, K, epochs,show=True):\n",
    "    \n",
    "    #Definimos el costo despues del entrenamiento\n",
    "    costoTrain = float('inf')\n",
    "    #Modelo Minimo\n",
    "    ModeloMin = K_Means(K)\n",
    "    \n",
    "    for _ in range(epochs):\n",
    "        #Llamamos a la clase para el Modelo K_Means\n",
    "        modelK = K_Means(K)\n",
    "\n",
    "        #Entrenamos el Modelo\n",
    "        modelK.fit(X)\n",
    "\n",
    "        #Obtenemos los Labels del Modelo\n",
    "        labels= modelK.predict(X,modelK.Centroides)\n",
    "        \n",
    "        #Costo del Modelo \n",
    "        costoM= modelK.cost_Model(X,labels)\n",
    "        #Si el Costo del Entrenamiento es menor al modelo encontrado\n",
    "        if costoTrain>costoM:\n",
    "            costoTrain=costoM\n",
    "            ModeloMin = modelK\n",
    "            LabelsMin = labels\n",
    "            centroides = modelK.Centroides\n",
    "    if show==True:\n",
    "        #Mostramos la grafica del Mejor Modelo\n",
    "        plt.scatter(X[:,0],X[:,1], c=LabelsMin, cmap='viridis')\n",
    "        plt.show()\n",
    "        print(\"Costo Despues de la Función de Entrenamiento=\",costoTrain)\n",
    "    #Retornamos el modelo que nos \n",
    "    return ModeloMin,centroides,costoTrain"
   ]
  },
  {
   "cell_type": "markdown",
   "metadata": {},
   "source": [
    "3. Creamos la Función para Predicción"
   ]
  },
  {
   "cell_type": "code",
   "execution_count": 101,
   "metadata": {},
   "outputs": [],
   "source": [
    "def predicciónKMeans(KMeans_Model, Centroides,X):\n",
    "    \n",
    "    #Asignamos las etiquetas \n",
    "    labels = KMeans_Model.predict(X,Centroides)\n",
    "    #Mostramos en una grafica donde se ubican los datos de test\n",
    "    plt.scatter(X[:,0],X[:,1], c=labels, cmap='viridis')\n",
    "    plt.show()\n",
    "    ##Retornamos la clasificación \n",
    "    return labels"
   ]
  },
  {
   "cell_type": "markdown",
   "metadata": {},
   "source": [
    "3. Probamos la función de entrenamiento"
   ]
  },
  {
   "cell_type": "code",
   "execution_count": 102,
   "metadata": {},
   "outputs": [
    {
     "data": {
      "image/png": "[encoded data removed]",
      "text/plain": [
       "<Figure size 432x288 with 1 Axes>"
      ]
     },
     "metadata": {
      "needs_background": "light"
     },
     "output_type": "display_data"
    },
    {
     "name": "stdout",
     "output_type": "stream",
     "text": [
      "Costo Despues de la Función de Entrenamiento= 0.9842847092363377\n"
     ]
    }
   ],
   "source": [
    "X = estaturas_data.values\n",
    "K = 4\n",
    "epochs=100\n",
    "model,centroides,costo = entrenamientoKMeans(X, K, epochs)"
   ]
  },
  {
   "cell_type": "markdown",
   "metadata": {},
   "source": [
    "4. Probamos la función de Predicción"
   ]
  },
  {
   "cell_type": "code",
   "execution_count": 103,
   "metadata": {},
   "outputs": [
    {
     "data": {
      "image/png": "[encoded data removed]",
      "text/plain": [
       "<Figure size 432x288 with 1 Axes>"
      ]
     },
     "metadata": {
      "needs_background": "light"
     },
     "output_type": "display_data"
    },
    {
     "data": {
      "text/plain": [
       "array([2., 1., 0., 0., 1., 0., 0., 0.])"
      ]
     },
     "execution_count": 103,
     "metadata": {},
     "output_type": "execute_result"
    }
   ],
   "source": [
    "X= estaturas_test.values\n",
    "predicciónKMeans(model, centroides, X )"
   ]
  },
  {
   "cell_type": "markdown",
   "metadata": {},
   "source": [
    "## Soft-clustering con GMM\n",
    "\n",
    "Implementación del Metodo de clasificación con Soft-Clustering usando Scikit-Learn.\n",
    "\n",
    "1. Creamos la función de entrenamiento."
   ]
  },
  {
   "cell_type": "code",
   "execution_count": 139,
   "metadata": {},
   "outputs": [],
   "source": [
    "from sklearn.mixture import GaussianMixture\n",
    "\n",
    "def entrenamientoGMM(X, K,show=True):\n",
    "    # Entrenamos el modelo con la data recibida\n",
    "    gmm = GaussianMixture(n_components=K).fit(X)\n",
    "    # Asignamos las etiquetas a la información recibida\n",
    "    labels = gmm.predict(X)\n",
    "    #Mostramos en una grafica como queda la distribución\n",
    "    if show==True:\n",
    "        plt.scatter(X[:,0],X[:,1], c=labels)\n",
    "        #Mostramos la grafica\n",
    "        plt.show()\n",
    "    #Retornamos el modelo que nos \n",
    "    return gmm"
   ]
  },
  {
   "cell_type": "markdown",
   "metadata": {},
   "source": [
    "2. Creamos la función para la predicción"
   ]
  },
  {
   "cell_type": "code",
   "execution_count": 105,
   "metadata": {},
   "outputs": [],
   "source": [
    "def predicciónGMM(GMMModel, X):\n",
    "    \n",
    "    #Asignamos las etiquetas \n",
    "    labels = GMMModel.predict(X)\n",
    "    #Retornamos la distribución de Probabilidad\n",
    "    proba = GMMModel.predict_proba(X)\n",
    "    #Mostramos en una grafica donde se ubican los datos de test\n",
    "    plt.scatter(X[:,0],X[:,1], c=labels)\n",
    "    plt.show()\n",
    "    ##Retornamos la clasificación y la probabilidad\n",
    "    return labels,proba"
   ]
  },
  {
   "cell_type": "markdown",
   "metadata": {},
   "source": [
    "3. Pruebas"
   ]
  },
  {
   "cell_type": "code",
   "execution_count": 106,
   "metadata": {},
   "outputs": [
    {
     "data": {
      "image/png": "[encoded data removed]",
      "text/plain": [
       "<Figure size 432x288 with 1 Axes>"
      ]
     },
     "metadata": {
      "needs_background": "light"
     },
     "output_type": "display_data"
    }
   ],
   "source": [
    "X = estaturas_data.values\n",
    "model=entrenamientoGMM(X, 2)"
   ]
  },
  {
   "cell_type": "code",
   "execution_count": 107,
   "metadata": {},
   "outputs": [
    {
     "data": {
      "image/png": "[encoded data removed]",
      "text/plain": [
       "<Figure size 432x288 with 1 Axes>"
      ]
     },
     "metadata": {
      "needs_background": "light"
     },
     "output_type": "display_data"
    },
    {
     "data": {
      "text/plain": [
       "(array([0, 0, 0, 1, 1, 1, 1, 0], dtype=int64),\n",
       " array([[9.99780191e-01, 2.19809339e-04],\n",
       "        [9.88700692e-01, 1.12993076e-02],\n",
       "        [6.26717298e-01, 3.73282702e-01],\n",
       "        [1.75287550e-03, 9.98247124e-01],\n",
       "        [1.81556280e-01, 8.18443720e-01],\n",
       "        [1.68708432e-03, 9.98312916e-01],\n",
       "        [1.56825691e-02, 9.84317431e-01],\n",
       "        [5.13145710e-01, 4.86854290e-01]]))"
      ]
     },
     "execution_count": 107,
     "metadata": {},
     "output_type": "execute_result"
    }
   ],
   "source": [
    "X= estaturas_test.values\n",
    "predicciónGMM(model, X)"
   ]
  },
  {
   "cell_type": "markdown",
   "metadata": {},
   "source": [
    "## Experimentación y Selección del Mejor K\n",
    "\n",
    "Ejecución de experimentos para la selección del Mejor \"K\".\n",
    "\n",
    "1. Prueba con K = 2 - Usando K-Means\n",
    "\n"
   ]
  },
  {
   "cell_type": "code",
   "execution_count": 108,
   "metadata": {},
   "outputs": [
    {
     "data": {
      "image/png": "[encoded data removed]",
      "text/plain": [
       "<Figure size 432x288 with 1 Axes>"
      ]
     },
     "metadata": {
      "needs_background": "light"
     },
     "output_type": "display_data"
    },
    {
     "name": "stdout",
     "output_type": "stream",
     "text": [
      "Costo Despues de la Función de Entrenamiento= 1.681819029148096\n"
     ]
    }
   ],
   "source": [
    "X = estaturas_data.values\n",
    "K = 2\n",
    "epochs=100\n",
    "model,centroides,costo = entrenamientoKMeans(X, K, epochs)"
   ]
  },
  {
   "cell_type": "markdown",
   "metadata": {},
   "source": [
    "2. Prueba con K = 2 - Usando GMM"
   ]
  },
  {
   "cell_type": "code",
   "execution_count": 109,
   "metadata": {},
   "outputs": [
    {
     "data": {
      "image/png": "[encoded data removed]",
      "text/plain": [
       "<Figure size 432x288 with 1 Axes>"
      ]
     },
     "metadata": {
      "needs_background": "light"
     },
     "output_type": "display_data"
    }
   ],
   "source": [
    "model=entrenamientoGMM(X, 2)"
   ]
  },
  {
   "cell_type": "markdown",
   "metadata": {},
   "source": [
    "3. Prueba con K=3 - Usando K-Means"
   ]
  },
  {
   "cell_type": "code",
   "execution_count": 110,
   "metadata": {},
   "outputs": [
    {
     "data": {
      "image/png": "[encoded data removed]",
      "text/plain": [
       "<Figure size 432x288 with 1 Axes>"
      ]
     },
     "metadata": {
      "needs_background": "light"
     },
     "output_type": "display_data"
    },
    {
     "name": "stdout",
     "output_type": "stream",
     "text": [
      "Costo Despues de la Función de Entrenamiento= 1.2834027052196983\n"
     ]
    }
   ],
   "source": [
    "K = 3\n",
    "epochs=100\n",
    "model,centroides,costo = entrenamientoKMeans(X, K, epochs)"
   ]
  },
  {
   "cell_type": "markdown",
   "metadata": {},
   "source": [
    "4. Pruebas con K=3 - Usando GMM"
   ]
  },
  {
   "cell_type": "code",
   "execution_count": 111,
   "metadata": {},
   "outputs": [
    {
     "data": {
      "image/png": "[encoded data removed]",
      "text/plain": [
       "<Figure size 432x288 with 1 Axes>"
      ]
     },
     "metadata": {
      "needs_background": "light"
     },
     "output_type": "display_data"
    }
   ],
   "source": [
    "model=entrenamientoGMM(X, 3)"
   ]
  },
  {
   "cell_type": "markdown",
   "metadata": {},
   "source": [
    "5. Pruebas con K=4 - Usando K-Means"
   ]
  },
  {
   "cell_type": "code",
   "execution_count": 112,
   "metadata": {},
   "outputs": [
    {
     "data": {
      "image/png": "[encoded data removed]",
      "text/plain": [
       "<Figure size 432x288 with 1 Axes>"
      ]
     },
     "metadata": {
      "needs_background": "light"
     },
     "output_type": "display_data"
    },
    {
     "name": "stdout",
     "output_type": "stream",
     "text": [
      "Costo Despues de la Función de Entrenamiento= 0.9842847092363377\n"
     ]
    }
   ],
   "source": [
    "K = 4\n",
    "epochs=100\n",
    "model,centroides,costo = entrenamientoKMeans(X, K, epochs)"
   ]
  },
  {
   "cell_type": "markdown",
   "metadata": {},
   "source": [
    "6. Prueba con K=4 - Usando GMM"
   ]
  },
  {
   "cell_type": "code",
   "execution_count": 113,
   "metadata": {},
   "outputs": [
    {
     "data": {
      "image/png": "[encoded data removed]",
      "text/plain": [
       "<Figure size 432x288 with 1 Axes>"
      ]
     },
     "metadata": {
      "needs_background": "light"
     },
     "output_type": "display_data"
    }
   ],
   "source": [
    "model=entrenamientoGMM(X, 4)"
   ]
  },
  {
   "cell_type": "markdown",
   "metadata": {},
   "source": [
    "7. Prueba con K=5 - Usando K-Means "
   ]
  },
  {
   "cell_type": "code",
   "execution_count": 114,
   "metadata": {},
   "outputs": [
    {
     "data": {
      "image/png": "[encoded data removed]",
      "text/plain": [
       "<Figure size 432x288 with 1 Axes>"
      ]
     },
     "metadata": {
      "needs_background": "light"
     },
     "output_type": "display_data"
    },
    {
     "name": "stdout",
     "output_type": "stream",
     "text": [
      "Costo Despues de la Función de Entrenamiento= 0.7606065635149044\n"
     ]
    }
   ],
   "source": [
    "K = 5\n",
    "epochs=100\n",
    "model,centroides,costo = entrenamientoKMeans(X, K, epochs)"
   ]
  },
  {
   "cell_type": "markdown",
   "metadata": {},
   "source": [
    "8. Pruebas con K=5 - Usando GMM"
   ]
  },
  {
   "cell_type": "code",
   "execution_count": 115,
   "metadata": {},
   "outputs": [
    {
     "data": {
      "image/png": "[encoded data removed]",
      "text/plain": [
       "<Figure size 432x288 with 1 Axes>"
      ]
     },
     "metadata": {
      "needs_background": "light"
     },
     "output_type": "display_data"
    }
   ],
   "source": [
    "model=entrenamientoGMM(X, 5)"
   ]
  },
  {
   "cell_type": "markdown",
   "metadata": {},
   "source": [
    "9. Pruebas con K=6 - Usando K-Means"
   ]
  },
  {
   "cell_type": "code",
   "execution_count": 116,
   "metadata": {},
   "outputs": [
    {
     "data": {
      "image/png": "[encoded data removed]",
      "text/plain": [
       "<Figure size 432x288 with 1 Axes>"
      ]
     },
     "metadata": {
      "needs_background": "light"
     },
     "output_type": "display_data"
    },
    {
     "name": "stdout",
     "output_type": "stream",
     "text": [
      "Costo Despues de la Función de Entrenamiento= 0.6009119758886738\n"
     ]
    }
   ],
   "source": [
    "K = 6\n",
    "epochs=100\n",
    "model,centroides,costo = entrenamientoKMeans(X, K, epochs)"
   ]
  },
  {
   "cell_type": "markdown",
   "metadata": {},
   "source": [
    "10. Pruebas con K=6 - Usando GMM"
   ]
  },
  {
   "cell_type": "code",
   "execution_count": 117,
   "metadata": {},
   "outputs": [
    {
     "data": {
      "image/png": "[encoded data removed]",
      "text/plain": [
       "<Figure size 432x288 with 1 Axes>"
      ]
     },
     "metadata": {
      "needs_background": "light"
     },
     "output_type": "display_data"
    }
   ],
   "source": [
    "model=entrenamientoGMM(X, 6)"
   ]
  },
  {
   "cell_type": "markdown",
   "metadata": {},
   "source": [
    "11. Pruebas con K=7 - Usando K-Means"
   ]
  },
  {
   "cell_type": "code",
   "execution_count": 118,
   "metadata": {},
   "outputs": [
    {
     "data": {
      "image/png": "[encoded data removed]",
      "text/plain": [
       "<Figure size 432x288 with 1 Axes>"
      ]
     },
     "metadata": {
      "needs_background": "light"
     },
     "output_type": "display_data"
    },
    {
     "name": "stdout",
     "output_type": "stream",
     "text": [
      "Costo Despues de la Función de Entrenamiento= 0.4701645984047299\n"
     ]
    }
   ],
   "source": [
    "K = 7\n",
    "epochs=100\n",
    "model,centroides,costo = entrenamientoKMeans(X, K, epochs)"
   ]
  },
  {
   "cell_type": "markdown",
   "metadata": {},
   "source": [
    "12. Pruebas con K=7 - Usando K-Means"
   ]
  },
  {
   "cell_type": "code",
   "execution_count": 119,
   "metadata": {},
   "outputs": [
    {
     "data": {
      "image/png": "[encoded data removed]",
      "text/plain": [
       "<Figure size 432x288 with 1 Axes>"
      ]
     },
     "metadata": {
      "needs_background": "light"
     },
     "output_type": "display_data"
    }
   ],
   "source": [
    "model=entrenamientoGMM(X, 7)"
   ]
  },
  {
   "cell_type": "markdown",
   "metadata": {},
   "source": [
    "### Conclusión\n",
    "\n",
    "En base a la experimentación y como se distribuyen los datos en la gráfica, se ve que el K que mejor se ajusta es el **K=4**."
   ]
  },
  {
   "cell_type": "markdown",
   "metadata": {},
   "source": [
    "## Implementación del Metodo del Codo\n",
    "\n",
    "Implementaremos el Metodo del Codo sobre con el Modelo de K-Means, y veremos si este algoritmo es adecuado para este problema."
   ]
  },
  {
   "cell_type": "code",
   "execution_count": 94,
   "metadata": {},
   "outputs": [
    {
     "data": {
      "image/png": "[encoded data removed]",
      "text/plain": [
       "<Figure size 432x288 with 1 Axes>"
      ]
     },
     "metadata": {
      "needs_background": "light"
     },
     "output_type": "display_data"
    }
   ],
   "source": [
    "cost = [] \n",
    "inertias = [] \n",
    "mapping1 = {} \n",
    "mapping2 = {}\n",
    "\n",
    "#Usaremos la data de entrenamiento que ya tenemos\n",
    "X = estaturas_data.values\n",
    "#Numero de Iteraciones Máxima\n",
    "epochs=100\n",
    "\n",
    "# Probaremos con K desde 2 hasta 10\n",
    "K = range(2,20) \n",
    "\n",
    "#Por cada K que se va a probar\n",
    "for k in K: \n",
    "    #Building and fitting the model \n",
    "    model,centroides,costo = entrenamientoKMeans(X, k, epochs,False)\n",
    "    cost.append(costo)\n",
    "cost\n",
    "\n",
    "plt.plot(K, cost, 'bx-')\n",
    "plt.axis(xlim=(2, 19),option='equal')\n",
    "plt.xlabel('Valores de K') \n",
    "plt.ylabel('Costo') \n",
    "plt.title('The Elbow Method') \n",
    "plt.show() "
   ]
  },
  {
   "cell_type": "markdown",
   "metadata": {},
   "source": [
    "### Resultados\n",
    "\n",
    "La formación de _\"Codo\"_ se comienza a ver hasta un K=9 o 10, lo cual a mi apreciación, para un dataset tan pequeño que se tiene, parece muy ajustado. Veamos la distribución de los datos con un K=10."
   ]
  },
  {
   "cell_type": "code",
   "execution_count": 125,
   "metadata": {},
   "outputs": [
    {
     "data": {
      "image/png": "[encoded data removed]",
      "text/plain": [
       "<Figure size 432x288 with 1 Axes>"
      ]
     },
     "metadata": {
      "needs_background": "light"
     },
     "output_type": "display_data"
    },
    {
     "data": {
      "text/plain": [
       "array([8., 1., 6., 0., 1., 4., 2., 0., 8., 3., 6., 8., 6., 8., 8., 0., 8.,\n",
       "       8., 8., 2., 1., 5., 8., 6., 7., 0., 4., 4., 2.])"
      ]
     },
     "execution_count": 125,
     "metadata": {},
     "output_type": "execute_result"
    }
   ],
   "source": [
    "K=9\n",
    "model,centroides,costo = entrenamientoKMeans(X, K, epochs,False)\n",
    "predicciónKMeans(model, centroides, X )"
   ]
  },
  {
   "cell_type": "markdown",
   "metadata": {},
   "source": [
    "*De acuerdo a mi apreciación, el metodo de codo no es adecuado para este problema.*"
   ]
  },
  {
   "attachments": {},
   "cell_type": "markdown",
   "metadata": {},
   "source": [
    "## Estimación con Modelos\n",
    "\n",
    "1. Cluster que k-means asigna cada uno."
   ]
  },
  {
   "cell_type": "code",
   "execution_count": 136,
   "metadata": {},
   "outputs": [
    {
     "name": "stdout",
     "output_type": "stream",
     "text": [
      "Mostramos los cluster asignados a cada dato\n"
     ]
    },
    {
     "data": {
      "image/png": "[encoded data removed]",
      "text/plain": [
       "<Figure size 432x288 with 1 Axes>"
      ]
     },
     "metadata": {
      "needs_background": "light"
     },
     "output_type": "display_data"
    },
    {
     "name": "stdout",
     "output_type": "stream",
     "text": [
      "[2. 1. 0. 0. 1. 0. 0. 0.]\n"
     ]
    }
   ],
   "source": [
    "X_Pred= estaturas_test.values\n",
    "X_Train = estaturas_data.values\n",
    "K = 4\n",
    "epochs=100\n",
    "model,centroides,costo = entrenamientoKMeans(X_Train, K, epochs,False)\n",
    "print('Mostramos los cluster asignados a cada dato')\n",
    "print(predicciónKMeans(model, centroides, X_Pred ))"
   ]
  },
  {
   "cell_type": "markdown",
   "metadata": {},
   "source": [
    "2. La probabilidad de pertenecer a cada cluster según GMM"
   ]
  },
  {
   "cell_type": "code",
   "execution_count": 186,
   "metadata": {},
   "outputs": [
    {
     "data": {
      "image/png": "[encoded data removed]",
      "text/plain": [
       "<Figure size 432x288 with 1 Axes>"
      ]
     },
     "metadata": {
      "needs_background": "light"
     },
     "output_type": "display_data"
    },
    {
     "data": {
      "image/png": "[encoded data removed]",
      "text/plain": [
       "<Figure size 432x288 with 1 Axes>"
      ]
     },
     "metadata": {
      "needs_background": "light"
     },
     "output_type": "display_data"
    },
    {
     "name": "stdout",
     "output_type": "stream",
     "text": [
      "Cluster asignados= [0 0 2 2 3 2 2 2]\n",
      "Probabilidad de Pertenecer a cada cluster= [[1.    0.    0.    0.   ]\n",
      " [0.708 0.    0.    0.292]\n",
      " [0.    0.    1.    0.   ]\n",
      " [0.    0.    1.    0.   ]\n",
      " [0.068 0.    0.192 0.741]\n",
      " [0.    0.    1.    0.   ]\n",
      " [0.    0.    1.    0.   ]\n",
      " [0.    0.    1.    0.   ]]\n"
     ]
    }
   ],
   "source": [
    "X_Pred= estaturas_test.values\n",
    "X_Train = estaturas_data.values\n",
    "K = 4\n",
    "model=entrenamientoGMM(X_Train, K)\n",
    "clusters,proba = predicciónGMM(model, X_Pred)\n",
    "print('Cluster asignados=',clusters)\n",
    "print('Probabilidad de Pertenecer a cada cluster=',proba.round(3))"
   ]
  },
  {
   "cell_type": "markdown",
   "metadata": {},
   "source": [
    "# Parte 2 -  Detección de Anomalias\n",
    "\n",
    "Entrenamiento del Modelo - Usando del Datos de la pestaña #1."
   ]
  },
  {
   "cell_type": "code",
   "execution_count": 162,
   "metadata": {},
   "outputs": [],
   "source": [
    "#Usaremos dos funciones que nos ayudaran a encontrar los datos de la distribución gaussiana\n",
    "def estimateGaussian(dataset):\n",
    "    '''Función que nos ayudará a determinar la media y la desviación estandar \n",
    "       de la distribución de nuestros datos'''\n",
    "    mu = np.mean(dataset, axis= 0)\n",
    "    sigma = np.cov(dataset.T)\n",
    "    return mu,sigma\n",
    "\n",
    "def multivariateGaussian(dataset, mu, sigma):\n",
    "    '''Función que nos devolverá la función de probabilidad para nuestra dataset'''\n",
    "    p = multivariate_normal(mean=mu, cov=sigma)\n",
    "    return p.pdf(dataset)"
   ]
  },
  {
   "cell_type": "markdown",
   "metadata": {},
   "source": [
    "Usando las funciones anteriores,determinamos los datos de la distribución para la data de entrenamiento."
   ]
  },
  {
   "cell_type": "code",
   "execution_count": 179,
   "metadata": {},
   "outputs": [
    {
     "name": "stdout",
     "output_type": "stream",
     "text": [
      "Distribución de Probabilidad de los datos de Entrenamiento\n",
      "[0.34191419 0.36947513 0.2834394  0.18450539 0.16646052 0.2703258\n",
      " 0.20619402 0.07915274 0.12186773 0.12268719 0.22911876 0.25347203\n",
      " 0.14473511 0.19952848 0.25347203 0.20061665 0.35546521 0.04090768\n",
      " 0.25306917 0.40914669 0.29537546 0.01561441 0.10464836 0.14473511\n",
      " 0.05122697 0.20614432 0.02555203 0.41157343 0.33306881]\n"
     ]
    }
   ],
   "source": [
    "X_Train = estaturas_data.values\n",
    "mu,sigma= estimateGaussian(X_Train)\n",
    "print('Distribución de Probabilidad de los datos de Entrenamiento')\n",
    "print(multivariateGaussian(X_Train, mu, sigma))"
   ]
  },
  {
   "cell_type": "markdown",
   "metadata": {},
   "source": [
    "Unificamos los datos de Test y Anomalias para la evaluación del mejor epsilon."
   ]
  },
  {
   "cell_type": "code",
   "execution_count": 189,
   "metadata": {},
   "outputs": [
    {
     "name": "stdout",
     "output_type": "stream",
     "text": [
      "Distribución de Probabilidad de los datos de Test\n",
      "[0.175383 0.289287 0.077487 0.029393 0.230375 0.308262 0.295419 0.096412\n",
      " 0.       0.       0.       0.      ]\n"
     ]
    }
   ],
   "source": [
    "X_Test = np.vstack((estaturas_test.values,estaturas_anomalias.values))\n",
    "print('Distribución de Probabilidad de los datos de Test')\n",
    "print(multivariateGaussian(X_Test, mu, sigma).round(6))"
   ]
  },
  {
   "cell_type": "markdown",
   "metadata": {},
   "source": [
    "### Selección Epsilon"
   ]
  },
  {
   "cell_type": "markdown",
   "metadata": {},
   "source": [
    "En este caso en particular, todas las anomalias tienen una probabilidad de cero; por lo que elegir un epsilon especifico para este data set en particular esta dificil.\n",
    "\n",
    "Podriamos elegir un $\\varepsilon = 0.01$, que funcionaria muy bien;"
   ]
  }
 ],
 "metadata": {
  "kernelspec": {
   "display_name": "Python 3",
   "language": "python",
   "name": "python3"
  },
  "language_info": {
   "codemirror_mode": {
    "name": "ipython",
    "version": 3
   },
   "file_extension": ".py",
   "mimetype": "text/x-python",
   "name": "python",
   "nbconvert_exporter": "python",
   "pygments_lexer": "ipython3",
   "version": "3.7.7"
  }
 },
 "nbformat": 4,
 "nbformat_minor": 4
}
