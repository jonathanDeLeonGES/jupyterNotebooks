{
 "cells": [
  {
   "cell_type": "markdown",
   "metadata": {},
   "source": [
    "# Proyecto Final - Redes Neuronales Feed Forward (MLP)\n",
    "##### Curso: Statistical Learning"
   ]
  },
  {
   "cell_type": "markdown",
   "metadata": {},
   "source": [
    "## Desarrollo del Problema\n",
    "\n",
    "**Objetivo general:** Se tiene una compañía de seguros que ha brindado seguros médicos a sus clientes, ahora necesitan su ayuda para construir un modelo para predecir si los asegurados (clientes) del año pasado también estarán interesados en el seguro para vehículos provisto por la compañía.\n",
    "\n",
    "**Información general:**\n",
    "Una póliza de seguro es un acuerdo mediante el cual una empresa se compromete a proporcionar una garantía de compensación por una pérdida, daño, enfermedad o muerte específicos a cambio del pago de una prima específica. Una prima es una suma de dinero que el cliente debe pagar regularmente a una compañía de seguros por esta garantía.\n",
    "\n",
    "Por ejemplo, puede pagar una prima de Rs. 5000 cada año para una cobertura de seguro médico de Rs. 200,000 / - de modo que si, Dios no lo quiera, se enferma y necesita ser hospitalizado ese año, la compañía aseguradora asumirá el costo de la hospitalización, etc. por hasta Rs. 200.000. Ahora, si se pregunta cómo puede la empresa soportar un costo de hospitalización tan alto cuando cobra una prima de solo Rs. 5000 / -, ahí es donde entra en escena el concepto de probabilidades. Por ejemplo, como usted, puede haber 100 clientes que pagarían una prima de Rs. 5000 cada año, pero solo algunos de ellos (digamos 2-3) serían hospitalizados ese año y no todos. De esta forma, todos comparten el riesgo de todos los demás.\n",
    "\n",
    "Al igual que el seguro médico, existe un seguro de vehículo en el que cada año el cliente debe pagar una prima de cierta cantidad a la compañía aseguradora para que, en caso de un accidente desafortunado con el vehículo, la compañía aseguradora proporcione una compensación (llamada 'suma asegurada' ) al cliente.\n",
    "\n",
    "La creación de un modelo para predecir si un cliente estaría interesado en el seguro de vehículos es extremadamente útil para la empresa porque, en consecuencia, puede planificar su estrategia de comunicación para llegar a esos clientes y optimizar su modelo comercial y sus ingresos.\n",
    "\n",
    "Ahora, para predecir si el cliente estaría interesado en el seguro del vehículo, tiene información sobre los datos demográficos (sexo, edad, tipo de código de región), vehículos (antigüedad del vehículo, daños), póliza (prima, canal de abastecimiento), etc."
   ]
  },
  {
   "cell_type": "markdown",
   "metadata": {},
   "source": [
    "## Carga de Datos\n",
    "\n",
    "El Dataset contendrá la siguiente información:\n",
    "* **id:** ID único para el cliente\n",
    "* **Gender:** Género del cliente\n",
    "* **Age:** Edad del cliente\n",
    "* **Driving_License:** 0: el cliente no tiene DL, 1: el cliente ya tiene DL\n",
    "* **Region_Code:** Código único para la región del cliente\n",
    "* **Previously_Insured:** 1: el cliente ya tiene seguro de vehículo, 0: el cliente no tiene seguro de vehículo\n",
    "* **Vehicle_Age:** Antigüedad del vehículo\n",
    "* **Vehicle_Damage:** 1: El cliente ha dañado su vehículo en el pasado. 0: El cliente no ha dañado su vehículo en el pasado.\n",
    "* **Annual_Premium:** La cantidad que el cliente debe pagar como prima en el año.\n",
    "* **PolicySalesChannel:** Código anónimo para el canal de alcance al cliente, es decir. Diferentes agentes, por correo, por teléfono, en persona, etc.\n",
    "* **Vintage:** Número de días, el cliente se ha asociado con la empresa;\n",
    "* **Response:** 1: el cliente está interesado, 0: el cliente no está interesado"
   ]
  },
  {
   "cell_type": "code",
   "execution_count": 62,
   "metadata": {},
   "outputs": [],
   "source": [
    "##Importamos algunas librerias que nos servirán en el desarrollo del problema\n",
    "import numpy as np\n",
    "import pandas as pd\n",
    "import matplotlib.pyplot as plt\n",
    "#import seaborn as sns\n",
    "import tensorflow as tf\n",
    "from keras.models import Sequential\n",
    "from keras.layers import Dense\n",
    "from keras.layers import Dropout\n",
    "from keras.optimizers import Adam,RMSprop\n",
    "from keras.callbacks import ModelCheckpoint, TensorBoard,EarlyStopping"
   ]
  },
  {
   "cell_type": "markdown",
   "metadata": {},
   "source": [
    "Cargamos la Data."
   ]
  },
  {
   "cell_type": "code",
   "execution_count": 5,
   "metadata": {},
   "outputs": [
    {
     "name": "stdout",
     "output_type": "stream",
     "text": [
      "Rango Tensor: 2\n",
      "Forma Tensor: (381109, 12)\n",
      "Vemos los primeros registros de la data:\n"
     ]
    },
    {
     "data": {
      "text/html": [
       "<div>\n",
       "<style scoped>\n",
       "    .dataframe tbody tr th:only-of-type {\n",
       "        vertical-align: middle;\n",
       "    }\n",
       "\n",
       "    .dataframe tbody tr th {\n",
       "        vertical-align: top;\n",
       "    }\n",
       "\n",
       "    .dataframe thead th {\n",
       "        text-align: right;\n",
       "    }\n",
       "</style>\n",
       "<table border=\"1\" class=\"dataframe\">\n",
       "  <thead>\n",
       "    <tr style=\"text-align: right;\">\n",
       "      <th></th>\n",
       "      <th>id</th>\n",
       "      <th>Gender</th>\n",
       "      <th>Age</th>\n",
       "      <th>Driving_License</th>\n",
       "      <th>Region_Code</th>\n",
       "      <th>Previously_Insured</th>\n",
       "      <th>Vehicle_Age</th>\n",
       "      <th>Vehicle_Damage</th>\n",
       "      <th>Annual_Premium</th>\n",
       "      <th>Policy_Sales_Channel</th>\n",
       "      <th>Vintage</th>\n",
       "      <th>Response</th>\n",
       "    </tr>\n",
       "  </thead>\n",
       "  <tbody>\n",
       "    <tr>\n",
       "      <th>0</th>\n",
       "      <td>1</td>\n",
       "      <td>Male</td>\n",
       "      <td>44</td>\n",
       "      <td>1</td>\n",
       "      <td>28.0</td>\n",
       "      <td>0</td>\n",
       "      <td>&gt; 2 Years</td>\n",
       "      <td>Yes</td>\n",
       "      <td>40454.0</td>\n",
       "      <td>26.0</td>\n",
       "      <td>217</td>\n",
       "      <td>1</td>\n",
       "    </tr>\n",
       "    <tr>\n",
       "      <th>1</th>\n",
       "      <td>2</td>\n",
       "      <td>Male</td>\n",
       "      <td>76</td>\n",
       "      <td>1</td>\n",
       "      <td>3.0</td>\n",
       "      <td>0</td>\n",
       "      <td>1-2 Year</td>\n",
       "      <td>No</td>\n",
       "      <td>33536.0</td>\n",
       "      <td>26.0</td>\n",
       "      <td>183</td>\n",
       "      <td>0</td>\n",
       "    </tr>\n",
       "    <tr>\n",
       "      <th>2</th>\n",
       "      <td>3</td>\n",
       "      <td>Male</td>\n",
       "      <td>47</td>\n",
       "      <td>1</td>\n",
       "      <td>28.0</td>\n",
       "      <td>0</td>\n",
       "      <td>&gt; 2 Years</td>\n",
       "      <td>Yes</td>\n",
       "      <td>38294.0</td>\n",
       "      <td>26.0</td>\n",
       "      <td>27</td>\n",
       "      <td>1</td>\n",
       "    </tr>\n",
       "    <tr>\n",
       "      <th>3</th>\n",
       "      <td>4</td>\n",
       "      <td>Male</td>\n",
       "      <td>21</td>\n",
       "      <td>1</td>\n",
       "      <td>11.0</td>\n",
       "      <td>1</td>\n",
       "      <td>&lt; 1 Year</td>\n",
       "      <td>No</td>\n",
       "      <td>28619.0</td>\n",
       "      <td>152.0</td>\n",
       "      <td>203</td>\n",
       "      <td>0</td>\n",
       "    </tr>\n",
       "    <tr>\n",
       "      <th>4</th>\n",
       "      <td>5</td>\n",
       "      <td>Female</td>\n",
       "      <td>29</td>\n",
       "      <td>1</td>\n",
       "      <td>41.0</td>\n",
       "      <td>1</td>\n",
       "      <td>&lt; 1 Year</td>\n",
       "      <td>No</td>\n",
       "      <td>27496.0</td>\n",
       "      <td>152.0</td>\n",
       "      <td>39</td>\n",
       "      <td>0</td>\n",
       "    </tr>\n",
       "  </tbody>\n",
       "</table>\n",
       "</div>"
      ],
      "text/plain": [
       "   id  Gender  Age  Driving_License  Region_Code  Previously_Insured  \\\n",
       "0   1    Male   44                1         28.0                   0   \n",
       "1   2    Male   76                1          3.0                   0   \n",
       "2   3    Male   47                1         28.0                   0   \n",
       "3   4    Male   21                1         11.0                   1   \n",
       "4   5  Female   29                1         41.0                   1   \n",
       "\n",
       "  Vehicle_Age Vehicle_Damage  Annual_Premium  Policy_Sales_Channel  Vintage  \\\n",
       "0   > 2 Years            Yes         40454.0                  26.0      217   \n",
       "1    1-2 Year             No         33536.0                  26.0      183   \n",
       "2   > 2 Years            Yes         38294.0                  26.0       27   \n",
       "3    < 1 Year             No         28619.0                 152.0      203   \n",
       "4    < 1 Year             No         27496.0                 152.0       39   \n",
       "\n",
       "   Response  \n",
       "0         1  \n",
       "1         0  \n",
       "2         1  \n",
       "3         0  \n",
       "4         0  "
      ]
     },
     "execution_count": 5,
     "metadata": {},
     "output_type": "execute_result"
    }
   ],
   "source": [
    "Full_data = pd.read_csv(\"dataset/dataInsurance.csv\")\n",
    "\n",
    "##Verificamos que haya cargado la información, y que tenga la forma requerida\n",
    "print('Rango Tensor:',Full_data.ndim)\n",
    "print('Forma Tensor:',Full_data.shape)\n",
    "print('Vemos los primeros registros de la data:')\n",
    "Full_data.head()"
   ]
  },
  {
   "cell_type": "markdown",
   "metadata": {},
   "source": [
    "## Análisis Preliminar de los Datos\n",
    "\n",
    "Obtenemos un listado de las variables y la distribución estadistica de las variables no categoricas."
   ]
  },
  {
   "cell_type": "code",
   "execution_count": 6,
   "metadata": {},
   "outputs": [
    {
     "name": "stdout",
     "output_type": "stream",
     "text": [
      "<class 'pandas.core.frame.DataFrame'>\n",
      "RangeIndex: 381109 entries, 0 to 381108\n",
      "Data columns (total 12 columns):\n",
      " #   Column                Non-Null Count   Dtype  \n",
      "---  ------                --------------   -----  \n",
      " 0   id                    381109 non-null  int64  \n",
      " 1   Gender                381109 non-null  object \n",
      " 2   Age                   381109 non-null  int64  \n",
      " 3   Driving_License       381109 non-null  int64  \n",
      " 4   Region_Code           381109 non-null  float64\n",
      " 5   Previously_Insured    381109 non-null  int64  \n",
      " 6   Vehicle_Age           381109 non-null  object \n",
      " 7   Vehicle_Damage        381109 non-null  object \n",
      " 8   Annual_Premium        381109 non-null  float64\n",
      " 9   Policy_Sales_Channel  381109 non-null  float64\n",
      " 10  Vintage               381109 non-null  int64  \n",
      " 11  Response              381109 non-null  int64  \n",
      "dtypes: float64(3), int64(6), object(3)\n",
      "memory usage: 34.9+ MB\n"
     ]
    },
    {
     "data": {
      "text/html": [
       "<div>\n",
       "<style scoped>\n",
       "    .dataframe tbody tr th:only-of-type {\n",
       "        vertical-align: middle;\n",
       "    }\n",
       "\n",
       "    .dataframe tbody tr th {\n",
       "        vertical-align: top;\n",
       "    }\n",
       "\n",
       "    .dataframe thead th {\n",
       "        text-align: right;\n",
       "    }\n",
       "</style>\n",
       "<table border=\"1\" class=\"dataframe\">\n",
       "  <thead>\n",
       "    <tr style=\"text-align: right;\">\n",
       "      <th></th>\n",
       "      <th>id</th>\n",
       "      <th>Age</th>\n",
       "      <th>Driving_License</th>\n",
       "      <th>Region_Code</th>\n",
       "      <th>Previously_Insured</th>\n",
       "      <th>Annual_Premium</th>\n",
       "      <th>Policy_Sales_Channel</th>\n",
       "      <th>Vintage</th>\n",
       "      <th>Response</th>\n",
       "    </tr>\n",
       "  </thead>\n",
       "  <tbody>\n",
       "    <tr>\n",
       "      <th>count</th>\n",
       "      <td>381109.000000</td>\n",
       "      <td>381109.000000</td>\n",
       "      <td>381109.000000</td>\n",
       "      <td>381109.000000</td>\n",
       "      <td>381109.000000</td>\n",
       "      <td>381109.000000</td>\n",
       "      <td>381109.000000</td>\n",
       "      <td>381109.000000</td>\n",
       "      <td>381109.000000</td>\n",
       "    </tr>\n",
       "    <tr>\n",
       "      <th>mean</th>\n",
       "      <td>190555.000000</td>\n",
       "      <td>38.822584</td>\n",
       "      <td>0.997869</td>\n",
       "      <td>26.388807</td>\n",
       "      <td>0.458210</td>\n",
       "      <td>30564.389581</td>\n",
       "      <td>112.034295</td>\n",
       "      <td>154.347397</td>\n",
       "      <td>0.122563</td>\n",
       "    </tr>\n",
       "    <tr>\n",
       "      <th>std</th>\n",
       "      <td>110016.836208</td>\n",
       "      <td>15.511611</td>\n",
       "      <td>0.046110</td>\n",
       "      <td>13.229888</td>\n",
       "      <td>0.498251</td>\n",
       "      <td>17213.155057</td>\n",
       "      <td>54.203995</td>\n",
       "      <td>83.671304</td>\n",
       "      <td>0.327936</td>\n",
       "    </tr>\n",
       "    <tr>\n",
       "      <th>min</th>\n",
       "      <td>1.000000</td>\n",
       "      <td>20.000000</td>\n",
       "      <td>0.000000</td>\n",
       "      <td>0.000000</td>\n",
       "      <td>0.000000</td>\n",
       "      <td>2630.000000</td>\n",
       "      <td>1.000000</td>\n",
       "      <td>10.000000</td>\n",
       "      <td>0.000000</td>\n",
       "    </tr>\n",
       "    <tr>\n",
       "      <th>25%</th>\n",
       "      <td>95278.000000</td>\n",
       "      <td>25.000000</td>\n",
       "      <td>1.000000</td>\n",
       "      <td>15.000000</td>\n",
       "      <td>0.000000</td>\n",
       "      <td>24405.000000</td>\n",
       "      <td>29.000000</td>\n",
       "      <td>82.000000</td>\n",
       "      <td>0.000000</td>\n",
       "    </tr>\n",
       "    <tr>\n",
       "      <th>50%</th>\n",
       "      <td>190555.000000</td>\n",
       "      <td>36.000000</td>\n",
       "      <td>1.000000</td>\n",
       "      <td>28.000000</td>\n",
       "      <td>0.000000</td>\n",
       "      <td>31669.000000</td>\n",
       "      <td>133.000000</td>\n",
       "      <td>154.000000</td>\n",
       "      <td>0.000000</td>\n",
       "    </tr>\n",
       "    <tr>\n",
       "      <th>75%</th>\n",
       "      <td>285832.000000</td>\n",
       "      <td>49.000000</td>\n",
       "      <td>1.000000</td>\n",
       "      <td>35.000000</td>\n",
       "      <td>1.000000</td>\n",
       "      <td>39400.000000</td>\n",
       "      <td>152.000000</td>\n",
       "      <td>227.000000</td>\n",
       "      <td>0.000000</td>\n",
       "    </tr>\n",
       "    <tr>\n",
       "      <th>max</th>\n",
       "      <td>381109.000000</td>\n",
       "      <td>85.000000</td>\n",
       "      <td>1.000000</td>\n",
       "      <td>52.000000</td>\n",
       "      <td>1.000000</td>\n",
       "      <td>540165.000000</td>\n",
       "      <td>163.000000</td>\n",
       "      <td>299.000000</td>\n",
       "      <td>1.000000</td>\n",
       "    </tr>\n",
       "  </tbody>\n",
       "</table>\n",
       "</div>"
      ],
      "text/plain": [
       "                  id            Age  Driving_License    Region_Code  \\\n",
       "count  381109.000000  381109.000000    381109.000000  381109.000000   \n",
       "mean   190555.000000      38.822584         0.997869      26.388807   \n",
       "std    110016.836208      15.511611         0.046110      13.229888   \n",
       "min         1.000000      20.000000         0.000000       0.000000   \n",
       "25%     95278.000000      25.000000         1.000000      15.000000   \n",
       "50%    190555.000000      36.000000         1.000000      28.000000   \n",
       "75%    285832.000000      49.000000         1.000000      35.000000   \n",
       "max    381109.000000      85.000000         1.000000      52.000000   \n",
       "\n",
       "       Previously_Insured  Annual_Premium  Policy_Sales_Channel  \\\n",
       "count       381109.000000   381109.000000         381109.000000   \n",
       "mean             0.458210    30564.389581            112.034295   \n",
       "std              0.498251    17213.155057             54.203995   \n",
       "min              0.000000     2630.000000              1.000000   \n",
       "25%              0.000000    24405.000000             29.000000   \n",
       "50%              0.000000    31669.000000            133.000000   \n",
       "75%              1.000000    39400.000000            152.000000   \n",
       "max              1.000000   540165.000000            163.000000   \n",
       "\n",
       "             Vintage       Response  \n",
       "count  381109.000000  381109.000000  \n",
       "mean      154.347397       0.122563  \n",
       "std        83.671304       0.327936  \n",
       "min        10.000000       0.000000  \n",
       "25%        82.000000       0.000000  \n",
       "50%       154.000000       0.000000  \n",
       "75%       227.000000       0.000000  \n",
       "max       299.000000       1.000000  "
      ]
     },
     "execution_count": 6,
     "metadata": {},
     "output_type": "execute_result"
    }
   ],
   "source": [
    "##Algunos metodos importantes\n",
    "Full_data.info()\n",
    "Full_data.describe()"
   ]
  },
  {
   "cell_type": "markdown",
   "metadata": {},
   "source": [
    "Se hace el análisis de la correlación entre los datos."
   ]
  },
  {
   "cell_type": "code",
   "execution_count": 7,
   "metadata": {},
   "outputs": [
    {
     "data": {
      "text/html": [
       "<div>\n",
       "<style scoped>\n",
       "    .dataframe tbody tr th:only-of-type {\n",
       "        vertical-align: middle;\n",
       "    }\n",
       "\n",
       "    .dataframe tbody tr th {\n",
       "        vertical-align: top;\n",
       "    }\n",
       "\n",
       "    .dataframe thead th {\n",
       "        text-align: right;\n",
       "    }\n",
       "</style>\n",
       "<table border=\"1\" class=\"dataframe\">\n",
       "  <thead>\n",
       "    <tr style=\"text-align: right;\">\n",
       "      <th></th>\n",
       "      <th>Age</th>\n",
       "      <th>Driving_License</th>\n",
       "      <th>Region_Code</th>\n",
       "      <th>Previously_Insured</th>\n",
       "      <th>Annual_Premium</th>\n",
       "      <th>Policy_Sales_Channel</th>\n",
       "      <th>Vintage</th>\n",
       "      <th>Response</th>\n",
       "    </tr>\n",
       "  </thead>\n",
       "  <tbody>\n",
       "    <tr>\n",
       "      <th>Age</th>\n",
       "      <td>1.000000</td>\n",
       "      <td>-0.079782</td>\n",
       "      <td>0.042574</td>\n",
       "      <td>-0.254682</td>\n",
       "      <td>0.067507</td>\n",
       "      <td>-0.577826</td>\n",
       "      <td>-0.001264</td>\n",
       "      <td>0.111147</td>\n",
       "    </tr>\n",
       "    <tr>\n",
       "      <th>Driving_License</th>\n",
       "      <td>-0.079782</td>\n",
       "      <td>1.000000</td>\n",
       "      <td>-0.001081</td>\n",
       "      <td>0.014969</td>\n",
       "      <td>-0.011906</td>\n",
       "      <td>0.043731</td>\n",
       "      <td>-0.000848</td>\n",
       "      <td>0.010155</td>\n",
       "    </tr>\n",
       "    <tr>\n",
       "      <th>Region_Code</th>\n",
       "      <td>0.042574</td>\n",
       "      <td>-0.001081</td>\n",
       "      <td>1.000000</td>\n",
       "      <td>-0.024659</td>\n",
       "      <td>-0.010588</td>\n",
       "      <td>-0.042420</td>\n",
       "      <td>-0.002750</td>\n",
       "      <td>0.010570</td>\n",
       "    </tr>\n",
       "    <tr>\n",
       "      <th>Previously_Insured</th>\n",
       "      <td>-0.254682</td>\n",
       "      <td>0.014969</td>\n",
       "      <td>-0.024659</td>\n",
       "      <td>1.000000</td>\n",
       "      <td>0.004269</td>\n",
       "      <td>0.219381</td>\n",
       "      <td>0.002537</td>\n",
       "      <td>-0.341170</td>\n",
       "    </tr>\n",
       "    <tr>\n",
       "      <th>Annual_Premium</th>\n",
       "      <td>0.067507</td>\n",
       "      <td>-0.011906</td>\n",
       "      <td>-0.010588</td>\n",
       "      <td>0.004269</td>\n",
       "      <td>1.000000</td>\n",
       "      <td>-0.113247</td>\n",
       "      <td>-0.000608</td>\n",
       "      <td>0.022575</td>\n",
       "    </tr>\n",
       "    <tr>\n",
       "      <th>Policy_Sales_Channel</th>\n",
       "      <td>-0.577826</td>\n",
       "      <td>0.043731</td>\n",
       "      <td>-0.042420</td>\n",
       "      <td>0.219381</td>\n",
       "      <td>-0.113247</td>\n",
       "      <td>1.000000</td>\n",
       "      <td>0.000002</td>\n",
       "      <td>-0.139042</td>\n",
       "    </tr>\n",
       "    <tr>\n",
       "      <th>Vintage</th>\n",
       "      <td>-0.001264</td>\n",
       "      <td>-0.000848</td>\n",
       "      <td>-0.002750</td>\n",
       "      <td>0.002537</td>\n",
       "      <td>-0.000608</td>\n",
       "      <td>0.000002</td>\n",
       "      <td>1.000000</td>\n",
       "      <td>-0.001050</td>\n",
       "    </tr>\n",
       "    <tr>\n",
       "      <th>Response</th>\n",
       "      <td>0.111147</td>\n",
       "      <td>0.010155</td>\n",
       "      <td>0.010570</td>\n",
       "      <td>-0.341170</td>\n",
       "      <td>0.022575</td>\n",
       "      <td>-0.139042</td>\n",
       "      <td>-0.001050</td>\n",
       "      <td>1.000000</td>\n",
       "    </tr>\n",
       "  </tbody>\n",
       "</table>\n",
       "</div>"
      ],
      "text/plain": [
       "                           Age  Driving_License  Region_Code  \\\n",
       "Age                   1.000000        -0.079782     0.042574   \n",
       "Driving_License      -0.079782         1.000000    -0.001081   \n",
       "Region_Code           0.042574        -0.001081     1.000000   \n",
       "Previously_Insured   -0.254682         0.014969    -0.024659   \n",
       "Annual_Premium        0.067507        -0.011906    -0.010588   \n",
       "Policy_Sales_Channel -0.577826         0.043731    -0.042420   \n",
       "Vintage              -0.001264        -0.000848    -0.002750   \n",
       "Response              0.111147         0.010155     0.010570   \n",
       "\n",
       "                      Previously_Insured  Annual_Premium  \\\n",
       "Age                            -0.254682        0.067507   \n",
       "Driving_License                 0.014969       -0.011906   \n",
       "Region_Code                    -0.024659       -0.010588   \n",
       "Previously_Insured              1.000000        0.004269   \n",
       "Annual_Premium                  0.004269        1.000000   \n",
       "Policy_Sales_Channel            0.219381       -0.113247   \n",
       "Vintage                         0.002537       -0.000608   \n",
       "Response                       -0.341170        0.022575   \n",
       "\n",
       "                      Policy_Sales_Channel   Vintage  Response  \n",
       "Age                              -0.577826 -0.001264  0.111147  \n",
       "Driving_License                   0.043731 -0.000848  0.010155  \n",
       "Region_Code                      -0.042420 -0.002750  0.010570  \n",
       "Previously_Insured                0.219381  0.002537 -0.341170  \n",
       "Annual_Premium                   -0.113247 -0.000608  0.022575  \n",
       "Policy_Sales_Channel              1.000000  0.000002 -0.139042  \n",
       "Vintage                           0.000002  1.000000 -0.001050  \n",
       "Response                         -0.139042 -0.001050  1.000000  "
      ]
     },
     "execution_count": 7,
     "metadata": {},
     "output_type": "execute_result"
    }
   ],
   "source": [
    "Full_data[['Age','Driving_License','Region_Code','Previously_Insured','Annual_Premium','Policy_Sales_Channel','Vintage','Response']].corr()"
   ]
  },
  {
   "cell_type": "markdown",
   "metadata": {},
   "source": [
    "Para las columnas no númericas, vemos de forma general el contenido de los mismos.\n",
    "\n",
    "**1. Gender** "
   ]
  },
  {
   "cell_type": "code",
   "execution_count": 8,
   "metadata": {},
   "outputs": [
    {
     "data": {
      "text/plain": [
       "array(['Male', 'Female'], dtype=object)"
      ]
     },
     "execution_count": 8,
     "metadata": {},
     "output_type": "execute_result"
    }
   ],
   "source": [
    "#Vemos los datos que almacena esta columna\n",
    "Full_data['Gender'].unique()   "
   ]
  },
  {
   "cell_type": "code",
   "execution_count": 9,
   "metadata": {},
   "outputs": [
    {
     "data": {
      "text/plain": [
       "0"
      ]
     },
     "execution_count": 9,
     "metadata": {},
     "output_type": "execute_result"
    }
   ],
   "source": [
    "#Vemos si hay datos Nulos\n",
    "Full_data['Gender'].isna().sum()  "
   ]
  },
  {
   "cell_type": "markdown",
   "metadata": {},
   "source": [
    "**2. Vehicle_Age** "
   ]
  },
  {
   "cell_type": "code",
   "execution_count": 10,
   "metadata": {},
   "outputs": [
    {
     "data": {
      "text/plain": [
       "array(['> 2 Years', '1-2 Year', '< 1 Year'], dtype=object)"
      ]
     },
     "execution_count": 10,
     "metadata": {},
     "output_type": "execute_result"
    }
   ],
   "source": [
    "#Vemos los datos que almacena esta columna\n",
    "Full_data['Vehicle_Age'].unique()   "
   ]
  },
  {
   "cell_type": "code",
   "execution_count": 11,
   "metadata": {},
   "outputs": [
    {
     "data": {
      "text/plain": [
       "0"
      ]
     },
     "execution_count": 11,
     "metadata": {},
     "output_type": "execute_result"
    }
   ],
   "source": [
    "#Vemos si hay datos Nulos\n",
    "Full_data['Vehicle_Age'].isna().sum()  "
   ]
  },
  {
   "cell_type": "markdown",
   "metadata": {},
   "source": [
    "**3. Vehicle_Damage** "
   ]
  },
  {
   "cell_type": "code",
   "execution_count": 12,
   "metadata": {},
   "outputs": [
    {
     "data": {
      "text/plain": [
       "array(['Yes', 'No'], dtype=object)"
      ]
     },
     "execution_count": 12,
     "metadata": {},
     "output_type": "execute_result"
    }
   ],
   "source": [
    "#Vemos los datos que almacena esta columna\n",
    "Full_data['Vehicle_Damage'].unique()   "
   ]
  },
  {
   "cell_type": "code",
   "execution_count": 13,
   "metadata": {},
   "outputs": [
    {
     "data": {
      "text/plain": [
       "0"
      ]
     },
     "execution_count": 13,
     "metadata": {},
     "output_type": "execute_result"
    }
   ],
   "source": [
    "#Vemos si hay datos Nulos\n",
    "Full_data['Vehicle_Damage'].isna().sum()  "
   ]
  },
  {
   "cell_type": "markdown",
   "metadata": {},
   "source": [
    "#### Datos a Utilizar\n",
    "\n",
    "No todos los datos son representativos, se quitaran aquellos datos que son únicos por registro o que por el momento no ayudarán en nada al modelo. Por el momento únicamente el ID. Además se separaran las variables dependientes de la independiente."
   ]
  },
  {
   "cell_type": "code",
   "execution_count": 14,
   "metadata": {},
   "outputs": [],
   "source": [
    "##Separamos las Variables Independientes de la variable que vamos a estimar\n",
    "X = Full_data.drop(['id','Response'], axis=1)\n",
    "Y = Full_data['Response'].values"
   ]
  },
  {
   "cell_type": "markdown",
   "metadata": {},
   "source": [
    "## Feature Engineering \n",
    "\n",
    "Se transformaran los datos para mejorar el entrenamiento del modelo, así como manejar su manipulación entre los diferentes modelos.\n",
    "\n",
    "### Transformación variables Categóricas\n",
    "\n",
    "Para facilitar el trabajo con los diferentes modelos, se transformaran los datos para permitir una mejor manipulación de las variables Categoricas.\n",
    "\n",
    "1. Se transformará la variable Independiente -> Gender"
   ]
  },
  {
   "cell_type": "code",
   "execution_count": 15,
   "metadata": {},
   "outputs": [
    {
     "name": "stdout",
     "output_type": "stream",
     "text": [
      "Revisamos como clasifico los labels ['Female' 'Male']\n",
      "Para posterior conversión los dejamos en un diccionario {0: 'Female', 1: 'Male'}\n"
     ]
    }
   ],
   "source": [
    "from sklearn.preprocessing import LabelEncoder\n",
    "\n",
    "encoder= LabelEncoder()\n",
    "Gender_cat = Full_data['Gender']\n",
    "Gender_cat_encoded = encoder.fit_transform(Gender_cat)\n",
    "print('Revisamos como clasifico los labels {}'.format(encoder.classes_))\n",
    "Gender_labels= {0 : 'Female', 1: 'Male'}\n",
    "print('Para posterior conversión los dejamos en un diccionario {}'.format(Gender_labels))"
   ]
  },
  {
   "cell_type": "markdown",
   "metadata": {},
   "source": [
    "Almacenamos esta información en la Variable X, ya transformado."
   ]
  },
  {
   "cell_type": "code",
   "execution_count": 16,
   "metadata": {},
   "outputs": [],
   "source": [
    "##Quitamos la columna que ya existe de passenger_sex\n",
    "X=X.drop(['Gender'], axis=1)\n",
    "##Colocamos la nueva columna\n",
    "X['Gender'] =Gender_cat_encoded"
   ]
  },
  {
   "cell_type": "markdown",
   "metadata": {},
   "source": [
    "2. Se transformará la variable Independiente-> Vehicle_Age"
   ]
  },
  {
   "cell_type": "code",
   "execution_count": 17,
   "metadata": {},
   "outputs": [
    {
     "name": "stdout",
     "output_type": "stream",
     "text": [
      "Revisamos como clasifico los labels ['1-2 Year' '< 1 Year' '> 2 Years']\n",
      "Para posterior conversión los dejamos en un diccionario {0: '1-2 Year', 1: '< 1 Year', 2: '> 2 Years'}\n"
     ]
    }
   ],
   "source": [
    "from sklearn.preprocessing import LabelEncoder\n",
    "\n",
    "encoder= LabelEncoder()\n",
    "Vehicle_Age_cat = Full_data['Vehicle_Age']\n",
    "Vehicle_Age_encoded = encoder.fit_transform(Vehicle_Age_cat)\n",
    "print('Revisamos como clasifico los labels {}'.format(encoder.classes_))\n",
    "Vehicle_Age_labels= {0 : '1-2 Year', 1: '< 1 Year', 2: '> 2 Years'}\n",
    "print('Para posterior conversión los dejamos en un diccionario {}'.format(Vehicle_Age_labels))"
   ]
  },
  {
   "cell_type": "code",
   "execution_count": 18,
   "metadata": {},
   "outputs": [],
   "source": [
    "##Quitamos la columna que ya existe de passenger_sex\n",
    "X=X.drop(['Vehicle_Age'], axis=1)\n",
    "##Colocamos la nueva columna\n",
    "X['Vehicle_Age'] =Vehicle_Age_encoded"
   ]
  },
  {
   "cell_type": "markdown",
   "metadata": {},
   "source": [
    "3. Se transformará la variable Independiente-> Vehicle_Damage"
   ]
  },
  {
   "cell_type": "code",
   "execution_count": 19,
   "metadata": {},
   "outputs": [
    {
     "name": "stdout",
     "output_type": "stream",
     "text": [
      "Revisamos como clasifico los labels ['No' 'Yes']\n",
      "Para posterior conversión los dejamos en un diccionario {0: 'No', 1: 'Yes'}\n"
     ]
    }
   ],
   "source": [
    "from sklearn.preprocessing import LabelEncoder\n",
    "\n",
    "encoder= LabelEncoder()\n",
    "Vehicle_Damage_cat = Full_data['Vehicle_Damage']\n",
    "Vehicle_Damage_encoded = encoder.fit_transform(Vehicle_Damage_cat)\n",
    "print('Revisamos como clasifico los labels {}'.format(encoder.classes_))\n",
    "Vehicle_Damage_labels= {0 : 'No', 1: 'Yes'}\n",
    "print('Para posterior conversión los dejamos en un diccionario {}'.format(Vehicle_Damage_labels))"
   ]
  },
  {
   "cell_type": "code",
   "execution_count": 20,
   "metadata": {},
   "outputs": [],
   "source": [
    "##Quitamos la columna que ya existe de passenger_sex\n",
    "X=X.drop(['Vehicle_Damage'], axis=1)\n",
    "##Colocamos la nueva columna\n",
    "X['Vehicle_Damage'] =Vehicle_Damage_encoded"
   ]
  },
  {
   "cell_type": "markdown",
   "metadata": {},
   "source": [
    "### Normalización de Datos\n",
    "\n",
    "Usamos scikitLearn para Normalizar todos los datos."
   ]
  },
  {
   "cell_type": "code",
   "execution_count": 21,
   "metadata": {},
   "outputs": [
    {
     "data": {
      "text/plain": [
       "(381109, 10)"
      ]
     },
     "execution_count": 21,
     "metadata": {},
     "output_type": "execute_result"
    }
   ],
   "source": [
    "from sklearn.preprocessing import StandardScaler\n",
    "\n",
    "#Se setea el scaler\n",
    "scaler = StandardScaler()\n",
    "scaler.fit(X)\n",
    "\n",
    "#Se transforma los datos\n",
    "X_Norm=scaler.transform(X)\n",
    "X_Norm=pd.DataFrame(X_Norm, columns = X.columns)\n",
    "X_Norm.shape"
   ]
  },
  {
   "cell_type": "markdown",
   "metadata": {},
   "source": [
    "Algunas estadisticas para los datos transformados"
   ]
  },
  {
   "cell_type": "code",
   "execution_count": 22,
   "metadata": {},
   "outputs": [
    {
     "data": {
      "text/html": [
       "<div>\n",
       "<style scoped>\n",
       "    .dataframe tbody tr th:only-of-type {\n",
       "        vertical-align: middle;\n",
       "    }\n",
       "\n",
       "    .dataframe tbody tr th {\n",
       "        vertical-align: top;\n",
       "    }\n",
       "\n",
       "    .dataframe thead th {\n",
       "        text-align: right;\n",
       "    }\n",
       "</style>\n",
       "<table border=\"1\" class=\"dataframe\">\n",
       "  <thead>\n",
       "    <tr style=\"text-align: right;\">\n",
       "      <th></th>\n",
       "      <th>Age</th>\n",
       "      <th>Driving_License</th>\n",
       "      <th>Region_Code</th>\n",
       "      <th>Previously_Insured</th>\n",
       "      <th>Annual_Premium</th>\n",
       "      <th>Policy_Sales_Channel</th>\n",
       "      <th>Vintage</th>\n",
       "      <th>Gender</th>\n",
       "      <th>Vehicle_Age</th>\n",
       "      <th>Vehicle_Damage</th>\n",
       "    </tr>\n",
       "  </thead>\n",
       "  <tbody>\n",
       "    <tr>\n",
       "      <th>count</th>\n",
       "      <td>3.811090e+05</td>\n",
       "      <td>3.811090e+05</td>\n",
       "      <td>3.811090e+05</td>\n",
       "      <td>3.811090e+05</td>\n",
       "      <td>3.811090e+05</td>\n",
       "      <td>3.811090e+05</td>\n",
       "      <td>3.811090e+05</td>\n",
       "      <td>3.811090e+05</td>\n",
       "      <td>3.811090e+05</td>\n",
       "      <td>3.811090e+05</td>\n",
       "    </tr>\n",
       "    <tr>\n",
       "      <th>mean</th>\n",
       "      <td>-1.148103e-16</td>\n",
       "      <td>-9.322227e-16</td>\n",
       "      <td>1.230509e-17</td>\n",
       "      <td>7.849158e-17</td>\n",
       "      <td>1.383391e-17</td>\n",
       "      <td>-7.644074e-17</td>\n",
       "      <td>-9.612889e-17</td>\n",
       "      <td>9.687465e-17</td>\n",
       "      <td>3.907800e-17</td>\n",
       "      <td>7.273056e-17</td>\n",
       "    </tr>\n",
       "    <tr>\n",
       "      <th>std</th>\n",
       "      <td>1.000001e+00</td>\n",
       "      <td>1.000001e+00</td>\n",
       "      <td>1.000001e+00</td>\n",
       "      <td>1.000001e+00</td>\n",
       "      <td>1.000001e+00</td>\n",
       "      <td>1.000001e+00</td>\n",
       "      <td>1.000001e+00</td>\n",
       "      <td>1.000001e+00</td>\n",
       "      <td>1.000001e+00</td>\n",
       "      <td>1.000001e+00</td>\n",
       "    </tr>\n",
       "    <tr>\n",
       "      <th>min</th>\n",
       "      <td>-1.213453e+00</td>\n",
       "      <td>-2.164130e+01</td>\n",
       "      <td>-1.994638e+00</td>\n",
       "      <td>-9.196380e-01</td>\n",
       "      <td>-1.622853e+00</td>\n",
       "      <td>-2.048455e+00</td>\n",
       "      <td>-1.725174e+00</td>\n",
       "      <td>-1.085134e+00</td>\n",
       "      <td>-8.938731e-01</td>\n",
       "      <td>-1.009801e+00</td>\n",
       "    </tr>\n",
       "    <tr>\n",
       "      <th>25%</th>\n",
       "      <td>-8.911132e-01</td>\n",
       "      <td>4.620794e-02</td>\n",
       "      <td>-8.608404e-01</td>\n",
       "      <td>-9.196380e-01</td>\n",
       "      <td>-3.578308e-01</td>\n",
       "      <td>-1.531887e+00</td>\n",
       "      <td>-8.646631e-01</td>\n",
       "      <td>-1.085134e+00</td>\n",
       "      <td>-8.938731e-01</td>\n",
       "      <td>-1.009801e+00</td>\n",
       "    </tr>\n",
       "    <tr>\n",
       "      <th>50%</th>\n",
       "      <td>-1.819661e-01</td>\n",
       "      <td>4.620794e-02</td>\n",
       "      <td>1.217845e-01</td>\n",
       "      <td>-9.196380e-01</td>\n",
       "      <td>6.417254e-02</td>\n",
       "      <td>3.867931e-01</td>\n",
       "      <td>-4.151927e-03</td>\n",
       "      <td>9.215448e-01</td>\n",
       "      <td>-8.938731e-01</td>\n",
       "      <td>9.902940e-01</td>\n",
       "    </tr>\n",
       "    <tr>\n",
       "      <th>75%</th>\n",
       "      <td>6.561169e-01</td>\n",
       "      <td>4.620794e-02</td>\n",
       "      <td>6.508902e-01</td>\n",
       "      <td>1.087384e+00</td>\n",
       "      <td>5.133064e-01</td>\n",
       "      <td>7.373213e-01</td>\n",
       "      <td>8.683108e-01</td>\n",
       "      <td>9.215448e-01</td>\n",
       "      <td>8.371385e-01</td>\n",
       "      <td>9.902940e-01</td>\n",
       "    </tr>\n",
       "    <tr>\n",
       "      <th>max</th>\n",
       "      <td>2.976962e+00</td>\n",
       "      <td>4.620794e-02</td>\n",
       "      <td>1.935861e+00</td>\n",
       "      <td>1.087384e+00</td>\n",
       "      <td>2.960534e+01</td>\n",
       "      <td>9.402586e-01</td>\n",
       "      <td>1.728822e+00</td>\n",
       "      <td>9.215448e-01</td>\n",
       "      <td>2.568150e+00</td>\n",
       "      <td>9.902940e-01</td>\n",
       "    </tr>\n",
       "  </tbody>\n",
       "</table>\n",
       "</div>"
      ],
      "text/plain": [
       "                Age  Driving_License   Region_Code  Previously_Insured  \\\n",
       "count  3.811090e+05     3.811090e+05  3.811090e+05        3.811090e+05   \n",
       "mean  -1.148103e-16    -9.322227e-16  1.230509e-17        7.849158e-17   \n",
       "std    1.000001e+00     1.000001e+00  1.000001e+00        1.000001e+00   \n",
       "min   -1.213453e+00    -2.164130e+01 -1.994638e+00       -9.196380e-01   \n",
       "25%   -8.911132e-01     4.620794e-02 -8.608404e-01       -9.196380e-01   \n",
       "50%   -1.819661e-01     4.620794e-02  1.217845e-01       -9.196380e-01   \n",
       "75%    6.561169e-01     4.620794e-02  6.508902e-01        1.087384e+00   \n",
       "max    2.976962e+00     4.620794e-02  1.935861e+00        1.087384e+00   \n",
       "\n",
       "       Annual_Premium  Policy_Sales_Channel       Vintage        Gender  \\\n",
       "count    3.811090e+05          3.811090e+05  3.811090e+05  3.811090e+05   \n",
       "mean     1.383391e-17         -7.644074e-17 -9.612889e-17  9.687465e-17   \n",
       "std      1.000001e+00          1.000001e+00  1.000001e+00  1.000001e+00   \n",
       "min     -1.622853e+00         -2.048455e+00 -1.725174e+00 -1.085134e+00   \n",
       "25%     -3.578308e-01         -1.531887e+00 -8.646631e-01 -1.085134e+00   \n",
       "50%      6.417254e-02          3.867931e-01 -4.151927e-03  9.215448e-01   \n",
       "75%      5.133064e-01          7.373213e-01  8.683108e-01  9.215448e-01   \n",
       "max      2.960534e+01          9.402586e-01  1.728822e+00  9.215448e-01   \n",
       "\n",
       "        Vehicle_Age  Vehicle_Damage  \n",
       "count  3.811090e+05    3.811090e+05  \n",
       "mean   3.907800e-17    7.273056e-17  \n",
       "std    1.000001e+00    1.000001e+00  \n",
       "min   -8.938731e-01   -1.009801e+00  \n",
       "25%   -8.938731e-01   -1.009801e+00  \n",
       "50%   -8.938731e-01    9.902940e-01  \n",
       "75%    8.371385e-01    9.902940e-01  \n",
       "max    2.568150e+00    9.902940e-01  "
      ]
     },
     "execution_count": 22,
     "metadata": {},
     "output_type": "execute_result"
    }
   ],
   "source": [
    "X_Norm.describe()"
   ]
  },
  {
   "cell_type": "markdown",
   "metadata": {},
   "source": [
    "## Separara Datos de Entrenamiento/Validación/Pruebas\n",
    "\n",
    "Usaremos scikitLearn para hacer la separación de los dataset.\n",
    "* Entrenamiento (Train) (80%)\n",
    "* Validación (Cross Validation) (10%)\n",
    "* Pruebas (Test)(20%) "
   ]
  },
  {
   "cell_type": "code",
   "execution_count": 23,
   "metadata": {},
   "outputs": [],
   "source": [
    "from sklearn.model_selection import train_test_split\n",
    "\n",
    "##Hacemos la separación de los data sets\n",
    "X_Ttrain, X_test, y_Ttrain, y_test = train_test_split(X_Norm,Y,test_size=0.2,random_state=21, stratify=Y)\n",
    "##Volvemos a dividir el de Train para tener otro para Cross-validation\n",
    "X_train, X_Validation, y_train, y_Validation = train_test_split(X_Ttrain,y_Ttrain,test_size=0.11,random_state=21, stratify=y_Ttrain)"
   ]
  },
  {
   "cell_type": "markdown",
   "metadata": {},
   "source": [
    "## Creación de Módelos\n",
    "\n",
    "Creamos nuestro modelo base de la Red Neuronal Secuencial usando Keras."
   ]
  },
  {
   "cell_type": "code",
   "execution_count": 89,
   "metadata": {},
   "outputs": [],
   "source": [
    "from keras.layers import BatchNormalization,Activation\n",
    "\n",
    "#Estructura base - Usaremos el modelo base Sequential de Keras\n",
    "cnn = Sequential()\n",
    "\n",
    "#red neuronal -> Fully Connected\n",
    "cnn.add(Dense(units=16,input_shape=(X_train.shape[-1],),kernel_regularizer='l2'))\n",
    "cnn.add(BatchNormalization())\n",
    "cnn.add(Activation('relu'))\n",
    "#Aplicamos Dropout - Para regularización de Nuestra Red Neuronal\n",
    "cnn.add(Dropout(0.5))\n",
    "\n",
    "cnn.add(Dense(units=32,activation=\"relu\",kernel_regularizer='l2'))\n",
    "cnn.add(BatchNormalization())\n",
    "cnn.add(Activation('relu'))\n",
    "\n",
    "#Aplicamos Dropout - Para regularización de Nuestra Red Neuronal\n",
    "cnn.add(Dropout(0.5))\n",
    "\n",
    "#capa de salida, para clasificación binaria. \n",
    "cnn.add(Dense(units=1, activation=\"sigmoid\"))"
   ]
  },
  {
   "cell_type": "markdown",
   "metadata": {},
   "source": [
    "Definimos los Hiperparametros para nuestro entrenamiento del modelo y se compila el modelo."
   ]
  },
  {
   "cell_type": "code",
   "execution_count": 90,
   "metadata": {},
   "outputs": [],
   "source": [
    "#Definimos los hiperparametros\n",
    "EPOCHS = 10     #Cantidad de EPOCHS\n",
    "BS = 20         #Batch Size\n",
    "#compilar la red\n",
    "cnn.compile(optimizer=\"rmsprop\", loss='binary_crossentropy', metrics=['accuracy'])"
   ]
  },
  {
   "cell_type": "markdown",
   "metadata": {},
   "source": [
    "Mostramos el Detalle del Modelo creado."
   ]
  },
  {
   "cell_type": "code",
   "execution_count": 72,
   "metadata": {},
   "outputs": [
    {
     "name": "stdout",
     "output_type": "stream",
     "text": [
      "Model: \"sequential_6\"\n",
      "_________________________________________________________________\n",
      "Layer (type)                 Output Shape              Param #   \n",
      "=================================================================\n",
      "dense_14 (Dense)             (None, 16)                176       \n",
      "_________________________________________________________________\n",
      "batch_normalization_3 (Batch (None, 16)                64        \n",
      "_________________________________________________________________\n",
      "activation_2 (Activation)    (None, 16)                0         \n",
      "_________________________________________________________________\n",
      "dropout_8 (Dropout)          (None, 16)                0         \n",
      "_________________________________________________________________\n",
      "dense_15 (Dense)             (None, 32)                544       \n",
      "_________________________________________________________________\n",
      "batch_normalization_4 (Batch (None, 32)                128       \n",
      "_________________________________________________________________\n",
      "activation_3 (Activation)    (None, 32)                0         \n",
      "_________________________________________________________________\n",
      "dropout_9 (Dropout)          (None, 32)                0         \n",
      "_________________________________________________________________\n",
      "dense_16 (Dense)             (None, 1)                 33        \n",
      "=================================================================\n",
      "Total params: 945\n",
      "Trainable params: 849\n",
      "Non-trainable params: 96\n",
      "_________________________________________________________________\n"
     ]
    }
   ],
   "source": [
    "cnn.summary()"
   ]
  },
  {
   "cell_type": "markdown",
   "metadata": {},
   "source": [
    "#### Entrenamiento del Modelo\n",
    "\n",
    "Entrenaremos el Modelo creado.\n",
    "\n",
    "Tomar en Consideración:\n",
    "* Se usará **Tensorboard** _(por medio de un callback)_ para ir almacenando las metricas del entrenamiento.\n",
    "* Se usará **Checkpoints** _(por medio de un callback)_ para almacenar los mejores modelos entrenados, y no volver a repetir entrenamientos.\n",
    "* Se implementará **Early Stop** _(por medio de un callback)_ para detener el entrenamiento al no mejorar despues de N Epochs."
   ]
  },
  {
   "cell_type": "markdown",
   "metadata": {},
   "source": [
    "1. Definición de Callbacks"
   ]
  },
  {
   "cell_type": "code",
   "execution_count": 91,
   "metadata": {},
   "outputs": [],
   "source": [
    "#Libreria para Timestamp del Proceso y acceso a Sistema\n",
    "import time\n",
    "import os\n",
    "\n",
    "# Nombre Modelo Entrenado - para Checkpoints y log tensorboard\n",
    "model_name = \"Sequential\"\n",
    "\n",
    "#########################\n",
    "# Callbacks\n",
    "#########################\n",
    "#CallBack para almacenar el Log en Tensorboard\n",
    "strConf=time.strftime(\"%Y%m%d\") + \"_\"+time.strftime(\"%H%M%S\")+model_name\n",
    "tensorboard = TensorBoard(log_dir =os.path.join(\"logsP1\", model_name),histogram_freq = 1,profile_batch = '500,520')\n",
    "#CallBack para almacenar el log en \n",
    "checkpoint = ModelCheckpoint(os.path.join(\"CheckpointsP1\", f\"{model_name}\" + \"-loss-{val_loss:.2f}.h5\"),\n",
    "                            save_best_only=True,\n",
    "                            verbose=1)\n",
    "#Callbak para Early Stopping\n",
    "EarlyStop = EarlyStopping(monitor='loss', patience=3)\n",
    "\n",
    "# Sino esta creado el Folder para los checkpoints- Lo creamos\n",
    "if not os.path.isdir(\"CheckpointsP1\"):\n",
    "    os.mkdir(\"CheckpointsP1\")"
   ]
  },
  {
   "cell_type": "markdown",
   "metadata": {},
   "source": [
    "2. Entrenamiento del Modelo."
   ]
  },
  {
   "cell_type": "code",
   "execution_count": 92,
   "metadata": {},
   "outputs": [
    {
     "name": "stdout",
     "output_type": "stream",
     "text": [
      "Epoch 1/10\n",
      "20/20 [==============================] - ETA: 0s - loss: 0.8955 - accuracy: 0.7292\n",
      "Epoch 00001: val_loss improved from inf to 0.73132, saving model to CheckpointsP1\\Sequential-loss-0.73.h5\n",
      "20/20 [==============================] - 11s 566ms/step - loss: 0.8955 - accuracy: 0.7292 - val_loss: 0.7313 - val_accuracy: 0.8774\n",
      "Epoch 2/10\n",
      "20/20 [==============================] - ETA: 0s - loss: 0.7668 - accuracy: 0.7983\n",
      "Epoch 00002: val_loss improved from 0.73132 to 0.65821, saving model to CheckpointsP1\\Sequential-loss-0.66.h5\n",
      "20/20 [==============================] - 8s 410ms/step - loss: 0.7668 - accuracy: 0.7983 - val_loss: 0.6582 - val_accuracy: 0.8774\n",
      "Epoch 3/10\n",
      "20/20 [==============================] - ETA: 0s - loss: 0.6842 - accuracy: 0.8308\n",
      "Epoch 00003: val_loss improved from 0.65821 to 0.60029, saving model to CheckpointsP1\\Sequential-loss-0.60.h5\n",
      "20/20 [==============================] - 8s 382ms/step - loss: 0.6842 - accuracy: 0.8308 - val_loss: 0.6003 - val_accuracy: 0.8774\n",
      "Epoch 4/10\n",
      "20/20 [==============================] - ETA: 0s - loss: 0.6183 - accuracy: 0.8476\n",
      "Epoch 00004: val_loss improved from 0.60029 to 0.55231, saving model to CheckpointsP1\\Sequential-loss-0.55.h5\n",
      "20/20 [==============================] - 9s 462ms/step - loss: 0.6183 - accuracy: 0.8476 - val_loss: 0.5523 - val_accuracy: 0.8774\n",
      "Epoch 5/10\n",
      "19/20 [===========================>..] - ETA: 0s - loss: 0.5624 - accuracy: 0.8587\n",
      "Epoch 00005: val_loss improved from 0.55231 to 0.51304, saving model to CheckpointsP1\\Sequential-loss-0.51.h5\n",
      "20/20 [==============================] - 9s 462ms/step - loss: 0.5610 - accuracy: 0.8591 - val_loss: 0.5130 - val_accuracy: 0.8774\n",
      "Epoch 6/10\n",
      "20/20 [==============================] - ETA: 0s - loss: 0.5125 - accuracy: 0.8667\n",
      "Epoch 00006: val_loss improved from 0.51304 to 0.47966, saving model to CheckpointsP1\\Sequential-loss-0.48.h5\n",
      "20/20 [==============================] - 9s 436ms/step - loss: 0.5125 - accuracy: 0.8667 - val_loss: 0.4797 - val_accuracy: 0.8774\n",
      "Epoch 7/10\n",
      "20/20 [==============================] - ETA: 0s - loss: 0.4712 - accuracy: 0.8714\n",
      "Epoch 00007: val_loss improved from 0.47966 to 0.44978, saving model to CheckpointsP1\\Sequential-loss-0.45.h5\n",
      "20/20 [==============================] - 8s 415ms/step - loss: 0.4712 - accuracy: 0.8714 - val_loss: 0.4498 - val_accuracy: 0.8774\n",
      "Epoch 8/10\n",
      "20/20 [==============================] - ETA: 0s - loss: 0.4352 - accuracy: 0.8740\n",
      "Epoch 00008: val_loss improved from 0.44978 to 0.42381, saving model to CheckpointsP1\\Sequential-loss-0.42.h5\n",
      "20/20 [==============================] - 7s 360ms/step - loss: 0.4352 - accuracy: 0.8740 - val_loss: 0.4238 - val_accuracy: 0.8774\n",
      "Epoch 9/10\n",
      "20/20 [==============================] - ETA: 0s - loss: 0.4069 - accuracy: 0.8758\n",
      "Epoch 00009: val_loss improved from 0.42381 to 0.39852, saving model to CheckpointsP1\\Sequential-loss-0.40.h5\n",
      "20/20 [==============================] - 8s 375ms/step - loss: 0.4069 - accuracy: 0.8758 - val_loss: 0.3985 - val_accuracy: 0.8774\n",
      "Epoch 10/10\n",
      "20/20 [==============================] - ETA: 0s - loss: 0.3827 - accuracy: 0.8765\n",
      "Epoch 00010: val_loss improved from 0.39852 to 0.37699, saving model to CheckpointsP1\\Sequential-loss-0.38.h5\n",
      "20/20 [==============================] - 7s 371ms/step - loss: 0.3827 - accuracy: 0.8765 - val_loss: 0.3770 - val_accuracy: 0.8774\n"
     ]
    }
   ],
   "source": [
    "H=cnn.fit(X_train.values, y_train, \n",
    "        steps_per_epoch= 20,\n",
    "        epochs=EPOCHS,\n",
    "        validation_data=(X_test.values, y_test),\n",
    "        verbose=1, callbacks=[tensorboard, checkpoint,EarlyStop])"
   ]
  },
  {
   "cell_type": "markdown",
   "metadata": {},
   "source": [
    "_Nota: Vemos que el modelo con la data de Training consiguio una exactitud (Accuracy) del 88%, lo cual esta bastante bien._"
   ]
  },
  {
   "cell_type": "markdown",
   "metadata": {},
   "source": [
    "Mostramos los resultados del Entrenamiento en Tensorboard.\n",
    "\n",
    "**Metricas (Scalars):**\n",
    "<img src=\"assets/metricsSequentialtest.jpg\">"
   ]
  },
  {
   "cell_type": "markdown",
   "metadata": {},
   "source": [
    "Tambien es facilmente visualizable por medio del History."
   ]
  },
  {
   "cell_type": "code",
   "execution_count": 93,
   "metadata": {},
   "outputs": [
    {
     "data": {
      "image/png": "[encoded data removed]",
      "text/plain": [
       "<Figure size 432x288 with 1 Axes>"
      ]
     },
     "metadata": {},
     "output_type": "display_data"
    }
   ],
   "source": [
    "# Graficamos la perdida(loss) y exactitud(accuracy) de la data de entrenamiento y pruebas\n",
    "N = EPOCHS\n",
    "plt.style.use(\"ggplot\")\n",
    "plt.figure()\n",
    "plt.plot(np.arange(0, N), H.history[\"loss\"], label=\"train_loss\")\n",
    "plt.plot(np.arange(0, N), H.history[\"val_loss\"], label=\"val_loss\")\n",
    "plt.plot(np.arange(0, N), H.history[\"accuracy\"], label=\"train_acc\")\n",
    "plt.plot(np.arange(0, N), H.history[\"val_accuracy\"], label=\"val_acc\")\n",
    "plt.title(\"Training Loss and Accuracy\")\n",
    "plt.xlabel(\"Epoch #\")\n",
    "plt.ylabel(\"Loss/Accuracy\")\n",
    "plt.legend(loc=\"lower left\")\n",
    "plt.show()"
   ]
  },
  {
   "cell_type": "markdown",
   "metadata": {},
   "source": [
    "Mostramos como quedan los checkpoints almacenados, para en algún momento ya utilizar estos modelos ya entrenados.\n",
    "<img src=\"assets/sequentialcheckpoints.jpg\">"
   ]
  },
  {
   "cell_type": "markdown",
   "metadata": {},
   "source": [
    "#### Almacenamos el Modelo entrenado\n",
    "\n",
    "Se almacena el modelo entrenado para que pueda ser utilizado posteriormente para predicción."
   ]
  },
  {
   "cell_type": "code",
   "execution_count": 95,
   "metadata": {},
   "outputs": [],
   "source": [
    "cnn.save(\"finalModels/Insurance_predictor.model\", save_format=\"h5\")"
   ]
  },
  {
   "cell_type": "markdown",
   "metadata": {},
   "source": [
    "_Nota: Tambien se pudieron utilizar los checkpoints ya almacenados._"
   ]
  },
  {
   "cell_type": "markdown",
   "metadata": {},
   "source": [
    "### Cross-Validation _(Prueba Deployment)_\n",
    "\n",
    "Ya se entreno el modelo y ya se ajustaron los hiperparametros para tener buenos resultados con la data de entrenamiento y con la data de Test; ahora para realizar una validación cruzada (cross-validation) y ver la capacidad de predicción del modelo sobre datos nunca vistos.\n",
    "\n",
    "_**Nota:** Se cargará el modelo almacenado y no se usará el modelo cargado en memoria, con dos objetivos:_\n",
    "* _Mostrar el Deployment del modelo._\n",
    "* _No depender de la ejecución de todo el notebook para realizar la comprobación_"
   ]
  },
  {
   "cell_type": "markdown",
   "metadata": {},
   "source": [
    "1. Cargamos el modelo ya entrenado."
   ]
  },
  {
   "cell_type": "code",
   "execution_count": 98,
   "metadata": {},
   "outputs": [],
   "source": [
    "##Cargamos el Modelo Entrenado\n",
    "from tensorflow.keras.models import load_model\n",
    "\n",
    "#Cargamos nuestros modelo entrenado para la detección de mascarrillas\n",
    "Insurance_Model = load_model(\"finalModels/Insurance_predictor.model\")"
   ]
  },
  {
   "cell_type": "markdown",
   "metadata": {},
   "source": [
    "2. Realizamos la predicción con los datos de Validación."
   ]
  },
  {
   "cell_type": "code",
   "execution_count": 167,
   "metadata": {},
   "outputs": [],
   "source": [
    "#usamos el Modelo ya entrenado para predecir los datos de Validacion\n",
    "y_hat=Insurance_Model.predict(X_Validation)"
   ]
  },
  {
   "cell_type": "code",
   "execution_count": 168,
   "metadata": {},
   "outputs": [],
   "source": [
    "#Al ser Sigmoid la función de activación de la última neurona, nos devolverá una probabilidad\n",
    "#Rendondemos a partir de 0.50 como umbral\n",
    "y_hat=y_hat.round()"
   ]
  },
  {
   "cell_type": "code",
   "execution_count": 177,
   "metadata": {},
   "outputs": [
    {
     "name": "stdout",
     "output_type": "stream",
     "text": [
      "              precision    recall  f1-score   support\n",
      "\n",
      "           0       0.95      1.00      0.98     29427\n",
      "           1       1.00      0.66      0.80      4111\n",
      "\n",
      "    accuracy                           0.96     33538\n",
      "   macro avg       0.98      0.83      0.89     33538\n",
      "weighted avg       0.96      0.96      0.95     33538\n",
      "\n"
     ]
    }
   ],
   "source": [
    "from sklearn.metrics import classification_report\n",
    "\n",
    "#Imprimimos el Reporte de Clasificación\n",
    "print(classification_report(y_Validation, y_hat))"
   ]
  },
  {
   "cell_type": "markdown",
   "metadata": {},
   "source": [
    "_Nota: Vemos que el modelo con la data de Validación (Cross-Validation) consiguio una exactitud (Accuracy) arriba del del 90%, con un f1-score bastante bueno._"
   ]
  }
 ],
 "metadata": {
  "kernelspec": {
   "display_name": "Python 3",
   "language": "python",
   "name": "python3"
  },
  "language_info": {
   "codemirror_mode": {
    "name": "ipython",
    "version": 3
   },
   "file_extension": ".py",
   "mimetype": "text/x-python",
   "name": "python",
   "nbconvert_exporter": "python",
   "pygments_lexer": "ipython3",
   "version": "3.8.3"
  }
 },
 "nbformat": 4,
 "nbformat_minor": 4
}
