{
 "cells": [
  {
   "cell_type": "markdown",
   "metadata": {},
   "source": [
    "# Proyecto Final - Redes Neuronales Recurrentes\n",
    "##### Curso: Statistical Learning"
   ]
  },
  {
   "cell_type": "markdown",
   "metadata": {},
   "source": [
    "## Desarrollo del Problema\n",
    "\n",
    "**Objetivo general:** Desarrollar un programa de aprendizaje automático para identificar cuándo un artículo puede ser una noticia falsa."
   ]
  },
  {
   "cell_type": "markdown",
   "metadata": {},
   "source": [
    "## Carga de Datos\n",
    "\n",
    "El Dataset contendrá la siguiente información:\n",
    "* **id:** id único para un artículo de noticias\n",
    "* **title:** el título de un artículo de noticias\n",
    "* **author:** autor del artículo de noticias\n",
    "* **text:** el texto del artículo; podría estar incompleto\n",
    "* **label:** una etiqueta que marca el artículo como potencialmente no confiable\n",
    "   - 1: poco confiable\n",
    "   - 0: confiable"
   ]
  },
  {
   "cell_type": "code",
   "execution_count": 24,
   "metadata": {},
   "outputs": [],
   "source": [
    "##Importamos algunas librerias que nos servirán en el desarrollo del problema\n",
    "import numpy as np\n",
    "import pandas as pd\n",
    "import matplotlib.image  as mpimg\n",
    "from sklearn.model_selection import train_test_split\n",
    "from sklearn.utils import shuffle\n",
    "from tensorflow.keras.preprocessing.text import Tokenizer\n",
    "from tensorflow.keras.preprocessing.sequence import pad_sequences\n",
    "from tensorflow.keras.utils import to_categorical\n",
    "from tensorflow.keras import regularizers\n",
    "from tensorflow.keras import backend as K\n",
    "from tensorflow.keras.layers import Embedding,Dropout,Conv1D,MaxPooling1D,LSTM,Dense\n",
    "import matplotlib.pyplot as plt\n",
    "import random\n",
    "import io"
   ]
  },
  {
   "cell_type": "markdown",
   "metadata": {},
   "source": [
    "Cargamos la Data."
   ]
  },
  {
   "cell_type": "code",
   "execution_count": 6,
   "metadata": {},
   "outputs": [
    {
     "name": "stdout",
     "output_type": "stream",
     "text": [
      "Rango Tensor: 2\n",
      "Forma Tensor: (20800, 5)\n",
      "Vemos los primeros registros de la data:\n"
     ]
    },
    {
     "data": {
      "text/html": [
       "<div>\n",
       "<style scoped>\n",
       "    .dataframe tbody tr th:only-of-type {\n",
       "        vertical-align: middle;\n",
       "    }\n",
       "\n",
       "    .dataframe tbody tr th {\n",
       "        vertical-align: top;\n",
       "    }\n",
       "\n",
       "    .dataframe thead th {\n",
       "        text-align: right;\n",
       "    }\n",
       "</style>\n",
       "<table border=\"1\" class=\"dataframe\">\n",
       "  <thead>\n",
       "    <tr style=\"text-align: right;\">\n",
       "      <th></th>\n",
       "      <th>id</th>\n",
       "      <th>title</th>\n",
       "      <th>author</th>\n",
       "      <th>text</th>\n",
       "      <th>label</th>\n",
       "    </tr>\n",
       "  </thead>\n",
       "  <tbody>\n",
       "    <tr>\n",
       "      <th>0</th>\n",
       "      <td>0</td>\n",
       "      <td>House Dem Aide: We Didn’t Even See Comey’s Let...</td>\n",
       "      <td>Darrell Lucus</td>\n",
       "      <td>House Dem Aide: We Didn’t Even See Comey’s Let...</td>\n",
       "      <td>1</td>\n",
       "    </tr>\n",
       "    <tr>\n",
       "      <th>1</th>\n",
       "      <td>1</td>\n",
       "      <td>FLYNN: Hillary Clinton, Big Woman on Campus - ...</td>\n",
       "      <td>Daniel J. Flynn</td>\n",
       "      <td>Ever get the feeling your life circles the rou...</td>\n",
       "      <td>0</td>\n",
       "    </tr>\n",
       "    <tr>\n",
       "      <th>2</th>\n",
       "      <td>2</td>\n",
       "      <td>Why the Truth Might Get You Fired</td>\n",
       "      <td>Consortiumnews.com</td>\n",
       "      <td>Why the Truth Might Get You Fired October 29, ...</td>\n",
       "      <td>1</td>\n",
       "    </tr>\n",
       "    <tr>\n",
       "      <th>3</th>\n",
       "      <td>3</td>\n",
       "      <td>15 Civilians Killed In Single US Airstrike Hav...</td>\n",
       "      <td>Jessica Purkiss</td>\n",
       "      <td>Videos 15 Civilians Killed In Single US Airstr...</td>\n",
       "      <td>1</td>\n",
       "    </tr>\n",
       "    <tr>\n",
       "      <th>4</th>\n",
       "      <td>4</td>\n",
       "      <td>Iranian woman jailed for fictional unpublished...</td>\n",
       "      <td>Howard Portnoy</td>\n",
       "      <td>Print \\nAn Iranian woman has been sentenced to...</td>\n",
       "      <td>1</td>\n",
       "    </tr>\n",
       "  </tbody>\n",
       "</table>\n",
       "</div>"
      ],
      "text/plain": [
       "   id                                              title              author  \\\n",
       "0   0  House Dem Aide: We Didn’t Even See Comey’s Let...       Darrell Lucus   \n",
       "1   1  FLYNN: Hillary Clinton, Big Woman on Campus - ...     Daniel J. Flynn   \n",
       "2   2                  Why the Truth Might Get You Fired  Consortiumnews.com   \n",
       "3   3  15 Civilians Killed In Single US Airstrike Hav...     Jessica Purkiss   \n",
       "4   4  Iranian woman jailed for fictional unpublished...      Howard Portnoy   \n",
       "\n",
       "                                                text  label  \n",
       "0  House Dem Aide: We Didn’t Even See Comey’s Let...      1  \n",
       "1  Ever get the feeling your life circles the rou...      0  \n",
       "2  Why the Truth Might Get You Fired October 29, ...      1  \n",
       "3  Videos 15 Civilians Killed In Single US Airstr...      1  \n",
       "4  Print \\nAn Iranian woman has been sentenced to...      1  "
      ]
     },
     "execution_count": 6,
     "metadata": {},
     "output_type": "execute_result"
    }
   ],
   "source": [
    "Full_data = pd.read_csv(\"dataset3/dataFakeNews.csv\")\n",
    "##LLenamos los espacios que tengan NA/NAN\n",
    "Full_data = Full_data.fillna(' ')\n",
    "\n",
    "##Verificamos que haya cargado la información, y que tenga la forma requerida\n",
    "print('Rango Tensor:',Full_data.ndim)\n",
    "print('Forma Tensor:',Full_data.shape)\n",
    "print('Vemos los primeros registros de la data:')\n",
    "Full_data.head()"
   ]
  },
  {
   "cell_type": "markdown",
   "metadata": {},
   "source": [
    "## Análisis Preliminar de los Datos\n",
    "\n",
    "Obtenemos un listado de las variables y la distribución estadistica de las variables no categoricas."
   ]
  },
  {
   "cell_type": "code",
   "execution_count": 10,
   "metadata": {},
   "outputs": [
    {
     "name": "stdout",
     "output_type": "stream",
     "text": [
      "<class 'pandas.core.frame.DataFrame'>\n",
      "RangeIndex: 20800 entries, 0 to 20799\n",
      "Data columns (total 5 columns):\n",
      " #   Column  Non-Null Count  Dtype \n",
      "---  ------  --------------  ----- \n",
      " 0   id      20800 non-null  int64 \n",
      " 1   title   20800 non-null  object\n",
      " 2   author  20800 non-null  object\n",
      " 3   text    20800 non-null  object\n",
      " 4   label   20800 non-null  int64 \n",
      "dtypes: int64(2), object(3)\n",
      "memory usage: 812.6+ KB\n"
     ]
    }
   ],
   "source": [
    "##Comprobamos los datos que se tienen\n",
    "Full_data.info()"
   ]
  },
  {
   "cell_type": "markdown",
   "metadata": {},
   "source": [
    "La información que se tienen es completamente textos, información númerica es el ID y el label."
   ]
  },
  {
   "cell_type": "markdown",
   "metadata": {},
   "source": [
    "## Transformaciones de Texto\n",
    "\n",
    "Los artículos de noticias pueden utilizar muchas líneas en blanco. El primer paso en cada tarea de procesamiento del lenguaje natural es limpiar el texto, eliminando líneas en blanco y puntuación innecesaria.\n",
    "\n",
    "Para hacer esto, keras ya ofrece herramientas para limpiar el texto; primero se tokenizará el texto que por defecto en Keras limpia los caracteres especiales, además eliminamos espacios en blanco (asi como nos permite vectorizar el texto para manipular)."
   ]
  },
  {
   "cell_type": "code",
   "execution_count": 16,
   "metadata": {},
   "outputs": [],
   "source": [
    "# Tokenizamos el Texto\n",
    "tokenizer = Tokenizer()\n",
    "tokenizer.fit_on_texts(Full_data['text'])"
   ]
  },
  {
   "cell_type": "code",
   "execution_count": 17,
   "metadata": {},
   "outputs": [],
   "source": [
    "#Palabras Descompuestas\n",
    "word_index = tokenizer.word_index\n",
    "vocab_size=len(word_index)"
   ]
  },
  {
   "cell_type": "code",
   "execution_count": 19,
   "metadata": {},
   "outputs": [],
   "source": [
    "# Conversión de Texto a Secuencia y Secuencias de Relleno\n",
    "sequences = tokenizer.texts_to_sequences(Full_data['text'])\n",
    "padded = pad_sequences(sequences, maxlen=500, padding='post', truncating='post')"
   ]
  },
  {
   "cell_type": "markdown",
   "metadata": {},
   "source": [
    "Ahora transformar las palabras en números. Hay varias formas de hacer esto, pero para lo que necesitamos usaremos (Word Embedding), ya que en lugar de convertir cada palabra en un número, las palabras se convierten en una representación tensorial.\n",
    "\n",
    "Para facilitar el Word Embeding utilizaremos un Modelo ya pre-entrenado que garantiza buena fiabilidad para esta operación. Por ejemplo, los investigadores detrás del método GloVe proporcionan un conjunto de Words Embedding previamente entrenadas en su sitio web, publicadas bajo una licencia de dominio público. Ver:\n",
    "https://nlp.stanford.edu/projects/glove/\n",
    "GloVe: Vectores globales para la representación de palabras\n",
    "\n",
    "El paquete más pequeño de incrustaciones es de 822Mb, llamado \"glove.6B.zip\". Fue entrenado en un conjunto de datos de mil millones de tokens (palabras) con un vocabulario de 400 mil palabras. Hay algunos tamaños de vector de incrustación diferentes, incluidas las dimensiones 50, 100, 200 y 300."
   ]
  },
  {
   "cell_type": "code",
   "execution_count": 20,
   "metadata": {},
   "outputs": [],
   "source": [
    "embeddings_index = {};\n",
    "with open('WordEmbedding/glove.6B.100d.txt',encoding=\"utf8\") as f:\n",
    "    for line in f:\n",
    "        values = line.split();\n",
    "        word = values[0];\n",
    "        coefs = np.asarray(values[1:], dtype='float32');\n",
    "        embeddings_index[word] = coefs;\n",
    "\n",
    "embeddings_matrix = np.zeros((vocab_size+1, 100));\n",
    "for word, i in word_index.items():\n",
    "    embedding_vector = embeddings_index.get(word);\n",
    "    if embedding_vector is not None:\n",
    "        embeddings_matrix[i] = embedding_vector;"
   ]
  },
  {
   "cell_type": "markdown",
   "metadata": {},
   "source": [
    "## Separara Datos de Entrenamiento/Validación/Pruebas\n",
    "\n",
    "Usaremos scikitLearn para hacer la separación de los dataset.\n",
    "* Entrenamiento (Train) (80%)\n",
    "* Validación (Cross Validation) (10%)\n",
    "* Pruebas (Test)(20%) "
   ]
  },
  {
   "cell_type": "code",
   "execution_count": 21,
   "metadata": {},
   "outputs": [],
   "source": [
    "from sklearn.model_selection import train_test_split\n",
    "\n",
    "#Nuestros datos independientes son las secuencias de texto ya tokenizadas\n",
    "X=padded\n",
    "Y=Full_data['label'].values\n",
    "\n",
    "##Hacemos la separación de los data sets\n",
    "X_Ttrain, X_test, y_Ttrain, y_test = train_test_split(X,Y,test_size=0.2,random_state=21, stratify=Y)\n",
    "##Volvemos a dividir el de Train para tener otro para Cross-validation\n",
    "X_train, X_Validation, y_train, y_Validation = train_test_split(X_Ttrain,y_Ttrain,test_size=0.11,random_state=21, stratify=y_Ttrain)"
   ]
  },
  {
   "cell_type": "markdown",
   "metadata": {},
   "source": [
    "## Creación de Módelos\n",
    "\n",
    "Creamos nuestro modelo base de la Red Neuronal Secuencial usando Keras."
   ]
  },
  {
   "cell_type": "code",
   "execution_count": 25,
   "metadata": {},
   "outputs": [],
   "source": [
    "#Estructura base - Usaremos el modelo base Sequential de Keras\n",
    "model = Sequential()\n",
    "\n",
    "#Capa - Word Embedding\n",
    "model.add(Embedding(vocab_size+1, 100, weights=[embeddings_matrix], trainable=False))\n",
    "model.add(Dropout(0.2))\n",
    "\n",
    "#Capas Convolucionado\n",
    "model.add(Conv1D(64, 5, activation='relu'))\n",
    "model.add(MaxPooling1D(pool_size=4))\n",
    "\n",
    "#Capa - Long Short Term Memory (LSTM)\n",
    "model.add(LSTM(20, return_sequences=True))\n",
    "model.add(LSTM(20))\n",
    "model.add(Dropout(0.2))\n",
    "\n",
    "#Capa - Fully Connected\n",
    "model.add(Dense(512))\n",
    "model.add(Dropout(0.3))  \n",
    "model.add(Dense(256))\n",
    "model.add(Dense(1, activation='sigmoid'))"
   ]
  },
  {
   "cell_type": "markdown",
   "metadata": {},
   "source": [
    "Definimos los Hiperparametros para nuestro entrenamiento del modelo y se compila el modelo."
   ]
  },
  {
   "cell_type": "code",
   "execution_count": 26,
   "metadata": {},
   "outputs": [],
   "source": [
    "#Definimos los hiperparametros\n",
    "EPOCHS = 10     #Cantidad de EPOCHS\n",
    "BS = 32         #Batch Size\n",
    "#compilar la red\n",
    "model.compile(optimizer=\"adam\", loss='binary_crossentropy', metrics=['accuracy'])"
   ]
  },
  {
   "cell_type": "markdown",
   "metadata": {},
   "source": [
    "Mostramos el Detalle del Modelo creado."
   ]
  },
  {
   "cell_type": "code",
   "execution_count": 27,
   "metadata": {},
   "outputs": [
    {
     "name": "stdout",
     "output_type": "stream",
     "text": [
      "Model: \"sequential_1\"\n",
      "_________________________________________________________________\n",
      "Layer (type)                 Output Shape              Param #   \n",
      "=================================================================\n",
      "embedding (Embedding)        (None, None, 100)         23805200  \n",
      "_________________________________________________________________\n",
      "dropout (Dropout)            (None, None, 100)         0         \n",
      "_________________________________________________________________\n",
      "conv1d (Conv1D)              (None, None, 64)          32064     \n",
      "_________________________________________________________________\n",
      "max_pooling1d (MaxPooling1D) (None, None, 64)          0         \n",
      "_________________________________________________________________\n",
      "lstm (LSTM)                  (None, None, 20)          6800      \n",
      "_________________________________________________________________\n",
      "lstm_1 (LSTM)                (None, 20)                3280      \n",
      "_________________________________________________________________\n",
      "dropout_1 (Dropout)          (None, 20)                0         \n",
      "_________________________________________________________________\n",
      "dense (Dense)                (None, 512)               10752     \n",
      "_________________________________________________________________\n",
      "dropout_2 (Dropout)          (None, 512)               0         \n",
      "_________________________________________________________________\n",
      "dense_1 (Dense)              (None, 256)               131328    \n",
      "_________________________________________________________________\n",
      "dense_2 (Dense)              (None, 1)                 257       \n",
      "=================================================================\n",
      "Total params: 23,989,681\n",
      "Trainable params: 184,481\n",
      "Non-trainable params: 23,805,200\n",
      "_________________________________________________________________\n"
     ]
    }
   ],
   "source": [
    "model.summary()"
   ]
  },
  {
   "cell_type": "markdown",
   "metadata": {},
   "source": [
    "#### Entrenamiento del Modelo\n",
    "\n",
    "Entrenaremos el Modelo creado.\n",
    "\n",
    "Tomar en Consideración:\n",
    "* Se usará **Tensorboard** _(por medio de un callback)_ para ir almacenando las metricas del entrenamiento.\n",
    "* Se usará **Checkpoints** _(por medio de un callback)_ para almacenar los mejores modelos entrenados, y no volver a repetir entrenamientos.\n",
    "* Se implementará **Early Stop** _(por medio de un callback)_ para detener el entrenamiento al no mejorar despues de N Epochs."
   ]
  },
  {
   "cell_type": "markdown",
   "metadata": {},
   "source": [
    "1. Definición de Callbacks"
   ]
  },
  {
   "cell_type": "code",
   "execution_count": 30,
   "metadata": {},
   "outputs": [],
   "source": [
    "#Libreria para Timestamp del Proceso y acceso a Sistema\n",
    "import time\n",
    "import os\n",
    "\n",
    "# Nombre Modelo Entrenado - para Checkpoints y log tensorboard\n",
    "model_name = \"Sequential_Recurrent\"\n",
    "\n",
    "#########################\n",
    "# Callbacks\n",
    "#########################\n",
    "#CallBack para almacenar el Log en Tensorboard\n",
    "strConf=time.strftime(\"%Y%m%d\") + \"_\"+time.strftime(\"%H%M%S\")+model_name\n",
    "tensorboard = TensorBoard(log_dir =os.path.join(\"logsP3\", model_name),histogram_freq = 1,profile_batch = '500,520')\n",
    "#CallBack para almacenar el log en \n",
    "checkpoint = ModelCheckpoint(os.path.join(\"CheckpointsP3\", f\"{model_name}\" + \"-loss-{val_loss:.2f}.h5\"),\n",
    "                            save_best_only=True,\n",
    "                            verbose=1)\n",
    "#Callbak para Early Stopping\n",
    "EarlyStop = EarlyStopping(monitor='loss', patience=3)\n",
    "\n",
    "# Sino esta creado el Folder para los checkpoints- Lo creamos\n",
    "if not os.path.isdir(\"CheckpointsP3\"):\n",
    "    os.mkdir(\"CheckpointsP3\")"
   ]
  },
  {
   "cell_type": "markdown",
   "metadata": {},
   "source": [
    "2. Entrenamiento del Modelo."
   ]
  },
  {
   "cell_type": "code",
   "execution_count": 31,
   "metadata": {},
   "outputs": [
    {
     "name": "stdout",
     "output_type": "stream",
     "text": [
      "Epoch 1/10\n",
      "463/463 [==============================] - ETA: 0s - loss: 0.5348 - accuracy: 0.7295\n",
      "Epoch 00001: val_loss improved from inf to 0.00000, saving model to CheckpointsP3\\Sequential_Recurrent-loss-0.00.h5\n",
      "463/463 [==============================] - 181s 390ms/step - loss: 0.5348 - accuracy: 0.7295 - val_loss: 0.0000e+00 - val_accuracy: 0.0000e+00\n",
      "Epoch 2/10\n",
      " 56/463 [==>...........................] - ETA: 2:27 - loss: 0.3754 - accuracy: 0.8449WARNING:tensorflow:From C:\\Users\\jonathan.deleon\\.conda\\envs\\PythonDev\\lib\\site-packages\\tensorflow\\python\\ops\\summary_ops_v2.py:1277: stop (from tensorflow.python.eager.profiler) is deprecated and will be removed after 2020-07-01.\n",
      "Instructions for updating:\n",
      "use `tf.profiler.experimental.stop` instead.\n",
      "463/463 [==============================] - ETA: 0s - loss: 0.3033 - accuracy: 0.8781\n",
      "Epoch 00002: val_loss did not improve from 0.00000\n",
      "463/463 [==============================] - 192s 414ms/step - loss: 0.3033 - accuracy: 0.8781 - val_loss: 0.0000e+00 - val_accuracy: 0.0000e+00\n",
      "Epoch 3/10\n",
      "463/463 [==============================] - ETA: 0s - loss: 0.2057 - accuracy: 0.9211\n",
      "Epoch 00003: val_loss did not improve from 0.00000\n",
      "463/463 [==============================] - 180s 390ms/step - loss: 0.2057 - accuracy: 0.9211 - val_loss: 0.0000e+00 - val_accuracy: 0.0000e+00\n",
      "Epoch 4/10\n",
      "463/463 [==============================] - ETA: 0s - loss: 0.1754 - accuracy: 0.9345\n",
      "Epoch 00004: val_loss did not improve from 0.00000\n",
      "463/463 [==============================] - 171s 369ms/step - loss: 0.1754 - accuracy: 0.9345 - val_loss: 0.0000e+00 - val_accuracy: 0.0000e+00\n",
      "Epoch 5/10\n",
      "463/463 [==============================] - ETA: 0s - loss: 0.1408 - accuracy: 0.9477\n",
      "Epoch 00005: val_loss did not improve from 0.00000\n",
      "463/463 [==============================] - 169s 366ms/step - loss: 0.1408 - accuracy: 0.9477 - val_loss: 0.0000e+00 - val_accuracy: 0.0000e+00\n",
      "Epoch 6/10\n",
      "463/463 [==============================] - ETA: 0s - loss: 0.1199 - accuracy: 0.9562\n",
      "Epoch 00006: val_loss did not improve from 0.00000\n",
      "463/463 [==============================] - 173s 375ms/step - loss: 0.1199 - accuracy: 0.9562 - val_loss: 0.0000e+00 - val_accuracy: 0.0000e+00\n",
      "Epoch 7/10\n",
      "463/463 [==============================] - ETA: 0s - loss: 0.1002 - accuracy: 0.9614\n",
      "Epoch 00007: val_loss did not improve from 0.00000\n",
      "463/463 [==============================] - 173s 373ms/step - loss: 0.1002 - accuracy: 0.9614 - val_loss: 0.0000e+00 - val_accuracy: 0.0000e+00\n",
      "Epoch 8/10\n",
      "463/463 [==============================] - ETA: 0s - loss: 0.0892 - accuracy: 0.9679\n",
      "Epoch 00008: val_loss did not improve from 0.00000\n",
      "463/463 [==============================] - 170s 367ms/step - loss: 0.0892 - accuracy: 0.9679 - val_loss: 0.0000e+00 - val_accuracy: 0.0000e+00\n",
      "Epoch 9/10\n",
      "463/463 [==============================] - ETA: 0s - loss: 0.0767 - accuracy: 0.9718\n",
      "Epoch 00009: val_loss did not improve from 0.00000\n",
      "463/463 [==============================] - 187s 404ms/step - loss: 0.0767 - accuracy: 0.9718 - val_loss: 0.0000e+00 - val_accuracy: 0.0000e+00\n",
      "Epoch 10/10\n",
      "463/463 [==============================] - ETA: 0s - loss: 0.0743 - accuracy: 0.9724\n",
      "Epoch 00010: val_loss did not improve from 0.00000\n",
      "463/463 [==============================] - 184s 397ms/step - loss: 0.0743 - accuracy: 0.9724 - val_loss: 0.0000e+00 - val_accuracy: 0.0000e+00\n"
     ]
    }
   ],
   "source": [
    "H=model.fit(X_train, y_train, epochs=EPOCHS, batch_size=BS, validation_data=[X_test, y_test],\n",
    "          verbose=1, callbacks=[tensorboard, checkpoint,EarlyStop])"
   ]
  },
  {
   "cell_type": "markdown",
   "metadata": {},
   "source": [
    "_Nota: Vemos que el modelo con la data de Training consiguio una exactitud (Accuracy) del 97%, lo cual esta bastante bien._"
   ]
  },
  {
   "cell_type": "markdown",
   "metadata": {},
   "source": [
    "Mostramos los resultados del Entrenamiento en Tensorboard.\n",
    "\n",
    "**Rendimiento:**\n",
    "<img src=\"assets/profileSequentialRecurrent.jpg\">\n",
    "\n",
    "**Metricas (Scalars):**\n",
    "<img src=\"assets/metricsSequentialRecurrettest.jpg\">"
   ]
  },
  {
   "cell_type": "markdown",
   "metadata": {},
   "source": [
    "Tambien es facilmente visualizable por medio del History."
   ]
  },
  {
   "cell_type": "code",
   "execution_count": 34,
   "metadata": {},
   "outputs": [
    {
     "data": {
      "image/png": "[encoded data removed]",
      "text/plain": [
       "<Figure size 432x288 with 1 Axes>"
      ]
     },
     "metadata": {},
     "output_type": "display_data"
    }
   ],
   "source": [
    "# Graficamos la perdida(loss) y exactitud(accuracy) de la data de entrenamiento y pruebas\n",
    "N = EPOCHS\n",
    "plt.style.use(\"ggplot\")\n",
    "plt.figure()\n",
    "plt.plot(np.arange(0, N), H.history[\"loss\"], label=\"train_loss\")\n",
    "plt.plot(np.arange(0, N), H.history[\"val_loss\"], label=\"val_loss\")\n",
    "plt.plot(np.arange(0, N), H.history[\"accuracy\"], label=\"train_acc\")\n",
    "plt.plot(np.arange(0, N), H.history[\"val_accuracy\"], label=\"val_acc\")\n",
    "plt.title(\"Training Loss and Accuracy\")\n",
    "plt.xlabel(\"Epoch #\")\n",
    "plt.ylabel(\"Loss/Accuracy\")\n",
    "plt.legend(loc=\"lower left\")\n",
    "plt.show()"
   ]
  },
  {
   "cell_type": "markdown",
   "metadata": {},
   "source": [
    "Mostramos como quedan los checkpoints almacenados, para en algún momento ya utilizar estos modelos ya entrenados.\n",
    "<img src=\"assets/sequentialRecurrentcheckpoints.jpg\">"
   ]
  },
  {
   "cell_type": "markdown",
   "metadata": {},
   "source": [
    "#### Almacenamos el Modelo entrenado\n",
    "\n",
    "Se almacena el modelo entrenado para que pueda ser utilizado posteriormente para predicción."
   ]
  },
  {
   "cell_type": "code",
   "execution_count": 35,
   "metadata": {},
   "outputs": [],
   "source": [
    "model.save(\"finalModels/FakeNews_predictor.model\", save_format=\"h5\")"
   ]
  },
  {
   "cell_type": "markdown",
   "metadata": {},
   "source": [
    "_Nota: Tambien se pudieron utilizar los checkpoints ya almacenados._"
   ]
  },
  {
   "cell_type": "markdown",
   "metadata": {},
   "source": [
    "### Cross-Validation _(Prueba Deployment)_\n",
    "\n",
    "Ya se entreno el modelo y ya se ajustaron los hiperparametros para tener buenos resultados con la data de entrenamiento y con la data de Test; ahora para realizar una validación cruzada (cross-validation) y ver la capacidad de predicción del modelo sobre datos nunca vistos.\n",
    "\n",
    "_**Nota:** Se cargará el modelo almacenado y no se usará el modelo cargado en memoria, con dos objetivos:_\n",
    "* _Mostrar el Deployment del modelo._\n",
    "* _No depender de la ejecución de todo el notebook para realizar la comprobación_"
   ]
  },
  {
   "cell_type": "markdown",
   "metadata": {},
   "source": [
    "1. Cargamos el modelo ya entrenado."
   ]
  },
  {
   "cell_type": "code",
   "execution_count": 36,
   "metadata": {},
   "outputs": [],
   "source": [
    "##Cargamos el Modelo Entrenado\n",
    "from tensorflow.keras.models import load_model\n",
    "\n",
    "#Cargamos nuestros modelo entrenado para la detección de mascarrillas\n",
    "Insurance_Model = load_model(\"finalModels/FakeNews_predictor.model\")"
   ]
  },
  {
   "cell_type": "markdown",
   "metadata": {},
   "source": [
    "2. Realizamos la predicción con los datos de Validación."
   ]
  },
  {
   "cell_type": "code",
   "execution_count": 38,
   "metadata": {},
   "outputs": [],
   "source": [
    "#usamos el Modelo ya entrenado para predecir los datos de Validacion\n",
    "y_hat=Insurance_Model.predict(X_Validation)"
   ]
  },
  {
   "cell_type": "code",
   "execution_count": 39,
   "metadata": {},
   "outputs": [],
   "source": [
    "#Al ser Sigmoid la función de activación de la última neurona, nos devolverá una probabilidad\n",
    "#Rendondemos a partir de 0.50 como umbral\n",
    "y_hat=y_hat.round()"
   ]
  },
  {
   "cell_type": "code",
   "execution_count": 40,
   "metadata": {},
   "outputs": [
    {
     "name": "stdout",
     "output_type": "stream",
     "text": [
      "              precision    recall  f1-score   support\n",
      "\n",
      "           0       0.96      0.96      0.96       914\n",
      "           1       0.96      0.96      0.96       917\n",
      "\n",
      "    accuracy                           0.96      1831\n",
      "   macro avg       0.96      0.96      0.96      1831\n",
      "weighted avg       0.96      0.96      0.96      1831\n",
      "\n"
     ]
    }
   ],
   "source": [
    "from sklearn.metrics import classification_report\n",
    "\n",
    "#Imprimimos el Reporte de Clasificación\n",
    "print(classification_report(y_Validation, y_hat))"
   ]
  },
  {
   "cell_type": "markdown",
   "metadata": {},
   "source": [
    "_Nota: Vemos que el modelo con la data de Validación (Cross-Validation) consiguio una exactitud (Accuracy) arriba del del 90%, con un f1-score bastante bueno._"
   ]
  }
 ],
 "metadata": {
  "kernelspec": {
   "display_name": "Python 3",
   "language": "python",
   "name": "python3"
  },
  "language_info": {
   "codemirror_mode": {
    "name": "ipython",
    "version": 3
   },
   "file_extension": ".py",
   "mimetype": "text/x-python",
   "name": "python",
   "nbconvert_exporter": "python",
   "pygments_lexer": "ipython3",
   "version": "3.8.3"
  }
 },
 "nbformat": 4,
 "nbformat_minor": 4
}
