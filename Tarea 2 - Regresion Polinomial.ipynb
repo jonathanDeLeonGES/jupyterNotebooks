{
 "cells": [
  {
   "cell_type": "markdown",
   "metadata": {},
   "source": [
    "# Tarea 2 - Regresion Polinomial & Feature engineering\n",
    "\n",
    "## Parte 1 - Modelo exponencial de covid-19 usando feature-eng\n",
    "\n",
    "Usando el ejemplo de covid-19 en el notebook de feature-eng (https://colab.research.google.com/drive/1sJV2HG7tQgCGKES3-dIclzHQJ9qAWB3b?usp=sharing) crear un modelo de covid-19 para Guatemala.\n",
    "\n",
    "* Convertir la fecha a un entero \"número de día\", por ejemplo si se usan datos desde el 22 de abril, este es el día 0, el 23 es el día 1.\n",
    "* Aplicar regresión lineal sobre la variable \"Confirmed\" transformada.\n",
    "* Una vez entrenado el modelo usarlo para aproximar la cantidad de casos confirmados para el 6 de Junio. Se debe reportar la cantidad de casos, no la cantidad transformada obtenida."
   ]
  },
  {
   "cell_type": "markdown",
   "metadata": {},
   "source": [
    "### Carga de Datos\n",
    "\n",
    "Antes, de cualquier cosa colocamos las librerias que vamos a utilizar en el Notebook."
   ]
  },
  {
   "cell_type": "code",
   "execution_count": 2,
   "metadata": {},
   "outputs": [],
   "source": [
    "import datetime\n",
    "import numpy as np\n",
    "import pandas as pd\n",
    "from matplotlib import pyplot as plt"
   ]
  },
  {
   "cell_type": "markdown",
   "metadata": {},
   "source": [
    "Cargamos el Dataset con la información del COVID19"
   ]
  },
  {
   "cell_type": "code",
   "execution_count": 3,
   "metadata": {},
   "outputs": [
    {
     "data": {
      "text/html": [
       "<div>\n",
       "<style scoped>\n",
       "    .dataframe tbody tr th:only-of-type {\n",
       "        vertical-align: middle;\n",
       "    }\n",
       "\n",
       "    .dataframe tbody tr th {\n",
       "        vertical-align: top;\n",
       "    }\n",
       "\n",
       "    .dataframe thead th {\n",
       "        text-align: right;\n",
       "    }\n",
       "</style>\n",
       "<table border=\"1\" class=\"dataframe\">\n",
       "  <thead>\n",
       "    <tr style=\"text-align: right;\">\n",
       "      <th></th>\n",
       "      <th>Province/State</th>\n",
       "      <th>Country/Region</th>\n",
       "      <th>Lat</th>\n",
       "      <th>Long</th>\n",
       "      <th>Date</th>\n",
       "      <th>Confirmed</th>\n",
       "      <th>Deaths</th>\n",
       "      <th>Recovered</th>\n",
       "    </tr>\n",
       "  </thead>\n",
       "  <tbody>\n",
       "    <tr>\n",
       "      <th>0</th>\n",
       "      <td>NaN</td>\n",
       "      <td>Afghanistan</td>\n",
       "      <td>33.0000</td>\n",
       "      <td>65.0000</td>\n",
       "      <td>2020-01-22</td>\n",
       "      <td>0</td>\n",
       "      <td>0</td>\n",
       "      <td>0</td>\n",
       "    </tr>\n",
       "    <tr>\n",
       "      <th>1</th>\n",
       "      <td>NaN</td>\n",
       "      <td>Albania</td>\n",
       "      <td>41.1533</td>\n",
       "      <td>20.1683</td>\n",
       "      <td>2020-01-22</td>\n",
       "      <td>0</td>\n",
       "      <td>0</td>\n",
       "      <td>0</td>\n",
       "    </tr>\n",
       "    <tr>\n",
       "      <th>2</th>\n",
       "      <td>NaN</td>\n",
       "      <td>Algeria</td>\n",
       "      <td>28.0339</td>\n",
       "      <td>1.6596</td>\n",
       "      <td>2020-01-22</td>\n",
       "      <td>0</td>\n",
       "      <td>0</td>\n",
       "      <td>0</td>\n",
       "    </tr>\n",
       "    <tr>\n",
       "      <th>3</th>\n",
       "      <td>NaN</td>\n",
       "      <td>Andorra</td>\n",
       "      <td>42.5063</td>\n",
       "      <td>1.5218</td>\n",
       "      <td>2020-01-22</td>\n",
       "      <td>0</td>\n",
       "      <td>0</td>\n",
       "      <td>0</td>\n",
       "    </tr>\n",
       "    <tr>\n",
       "      <th>4</th>\n",
       "      <td>NaN</td>\n",
       "      <td>Angola</td>\n",
       "      <td>-11.2027</td>\n",
       "      <td>17.8739</td>\n",
       "      <td>2020-01-22</td>\n",
       "      <td>0</td>\n",
       "      <td>0</td>\n",
       "      <td>0</td>\n",
       "    </tr>\n",
       "  </tbody>\n",
       "</table>\n",
       "</div>"
      ],
      "text/plain": [
       "  Province/State Country/Region      Lat     Long       Date  Confirmed  \\\n",
       "0            NaN    Afghanistan  33.0000  65.0000 2020-01-22          0   \n",
       "1            NaN        Albania  41.1533  20.1683 2020-01-22          0   \n",
       "2            NaN        Algeria  28.0339   1.6596 2020-01-22          0   \n",
       "3            NaN        Andorra  42.5063   1.5218 2020-01-22          0   \n",
       "4            NaN         Angola -11.2027  17.8739 2020-01-22          0   \n",
       "\n",
       "   Deaths  Recovered  \n",
       "0       0          0  \n",
       "1       0          0  \n",
       "2       0          0  \n",
       "3       0          0  \n",
       "4       0          0  "
      ]
     },
     "execution_count": 3,
     "metadata": {},
     "output_type": "execute_result"
    }
   ],
   "source": [
    "covid19_data = pd.read_csv('covid_19_clean_complete.csv')\n",
    "covid19_data[\"Date\"] = pd.to_datetime(covid19_data[\"Date\"],infer_datetime_format = True)\n",
    "covid19_data.head()"
   ]
  },
  {
   "cell_type": "markdown",
   "metadata": {},
   "source": [
    "### Filtrado de Información \n",
    "\n",
    "Dado el Enunciado del Problema, solamente nos centraremos en crear un modelo para Guatemala; por lo que filtraremos en el dataset solamente los datos para Guatemala, a partir de la primera fecha que tiene un caso confirmado."
   ]
  },
  {
   "cell_type": "code",
   "execution_count": 4,
   "metadata": {},
   "outputs": [
    {
     "name": "stdout",
     "output_type": "stream",
     "text": [
      "Shape del Dataset= (67, 8) -> Solamente para Guatemala\n"
     ]
    }
   ],
   "source": [
    "GT_confirmed = covid19_data[(covid19_data[\"Country/Region\"] == 'Guatemala') & (covid19_data[\"Confirmed\"] > 0)].copy()\n",
    "print(\"Shape del Dataset= {} -> Solamente para Guatemala\".format(GT_confirmed.shape))"
   ]
  },
  {
   "cell_type": "markdown",
   "metadata": {},
   "source": [
    "### Revisión de Datos contenidos en Dataset\n",
    "\n",
    "Revisamos que información nos envian en el dataset. Primero, revisamos las columnas enviadas y el tipo de dato."
   ]
  },
  {
   "cell_type": "code",
   "execution_count": 5,
   "metadata": {},
   "outputs": [
    {
     "name": "stdout",
     "output_type": "stream",
     "text": [
      "<class 'pandas.core.frame.DataFrame'>\n",
      "Int64Index: 67 entries, 13903 to 31393\n",
      "Data columns (total 8 columns):\n",
      " #   Column          Non-Null Count  Dtype         \n",
      "---  ------          --------------  -----         \n",
      " 0   Province/State  0 non-null      object        \n",
      " 1   Country/Region  67 non-null     object        \n",
      " 2   Lat             67 non-null     float64       \n",
      " 3   Long            67 non-null     float64       \n",
      " 4   Date            67 non-null     datetime64[ns]\n",
      " 5   Confirmed       67 non-null     int64         \n",
      " 6   Deaths          67 non-null     int64         \n",
      " 7   Recovered       67 non-null     int64         \n",
      "dtypes: datetime64[ns](1), float64(2), int64(3), object(2)\n",
      "memory usage: 4.7+ KB\n"
     ]
    }
   ],
   "source": [
    "GT_confirmed.info()"
   ]
  },
  {
   "cell_type": "markdown",
   "metadata": {},
   "source": [
    "Vemos la información estadistica de las variables (para las variables númericas)"
   ]
  },
  {
   "cell_type": "code",
   "execution_count": 6,
   "metadata": {},
   "outputs": [
    {
     "data": {
      "text/html": [
       "<div>\n",
       "<style scoped>\n",
       "    .dataframe tbody tr th:only-of-type {\n",
       "        vertical-align: middle;\n",
       "    }\n",
       "\n",
       "    .dataframe tbody tr th {\n",
       "        vertical-align: top;\n",
       "    }\n",
       "\n",
       "    .dataframe thead th {\n",
       "        text-align: right;\n",
       "    }\n",
       "</style>\n",
       "<table border=\"1\" class=\"dataframe\">\n",
       "  <thead>\n",
       "    <tr style=\"text-align: right;\">\n",
       "      <th></th>\n",
       "      <th>Lat</th>\n",
       "      <th>Long</th>\n",
       "      <th>Confirmed</th>\n",
       "      <th>Deaths</th>\n",
       "      <th>Recovered</th>\n",
       "    </tr>\n",
       "  </thead>\n",
       "  <tbody>\n",
       "    <tr>\n",
       "      <th>count</th>\n",
       "      <td>67.0000</td>\n",
       "      <td>6.700000e+01</td>\n",
       "      <td>67.000000</td>\n",
       "      <td>67.000000</td>\n",
       "      <td>67.000000</td>\n",
       "    </tr>\n",
       "    <tr>\n",
       "      <th>mean</th>\n",
       "      <td>15.7835</td>\n",
       "      <td>-9.023080e+01</td>\n",
       "      <td>449.388060</td>\n",
       "      <td>10.626866</td>\n",
       "      <td>42.970149</td>\n",
       "    </tr>\n",
       "    <tr>\n",
       "      <th>std</th>\n",
       "      <td>0.0000</td>\n",
       "      <td>2.863622e-14</td>\n",
       "      <td>547.142908</td>\n",
       "      <td>11.105330</td>\n",
       "      <td>45.624611</td>\n",
       "    </tr>\n",
       "    <tr>\n",
       "      <th>min</th>\n",
       "      <td>15.7835</td>\n",
       "      <td>-9.023080e+01</td>\n",
       "      <td>1.000000</td>\n",
       "      <td>0.000000</td>\n",
       "      <td>0.000000</td>\n",
       "    </tr>\n",
       "    <tr>\n",
       "      <th>25%</th>\n",
       "      <td>15.7835</td>\n",
       "      <td>-9.023080e+01</td>\n",
       "      <td>37.000000</td>\n",
       "      <td>1.000000</td>\n",
       "      <td>11.000000</td>\n",
       "    </tr>\n",
       "    <tr>\n",
       "      <th>50%</th>\n",
       "      <td>15.7835</td>\n",
       "      <td>-9.023080e+01</td>\n",
       "      <td>196.000000</td>\n",
       "      <td>5.000000</td>\n",
       "      <td>19.000000</td>\n",
       "    </tr>\n",
       "    <tr>\n",
       "      <th>75%</th>\n",
       "      <td>15.7835</td>\n",
       "      <td>-9.023080e+01</td>\n",
       "      <td>695.500000</td>\n",
       "      <td>17.000000</td>\n",
       "      <td>72.000000</td>\n",
       "    </tr>\n",
       "    <tr>\n",
       "      <th>max</th>\n",
       "      <td>15.7835</td>\n",
       "      <td>-9.023080e+01</td>\n",
       "      <td>2133.000000</td>\n",
       "      <td>43.000000</td>\n",
       "      <td>155.000000</td>\n",
       "    </tr>\n",
       "  </tbody>\n",
       "</table>\n",
       "</div>"
      ],
      "text/plain": [
       "           Lat          Long    Confirmed     Deaths   Recovered\n",
       "count  67.0000  6.700000e+01    67.000000  67.000000   67.000000\n",
       "mean   15.7835 -9.023080e+01   449.388060  10.626866   42.970149\n",
       "std     0.0000  2.863622e-14   547.142908  11.105330   45.624611\n",
       "min    15.7835 -9.023080e+01     1.000000   0.000000    0.000000\n",
       "25%    15.7835 -9.023080e+01    37.000000   1.000000   11.000000\n",
       "50%    15.7835 -9.023080e+01   196.000000   5.000000   19.000000\n",
       "75%    15.7835 -9.023080e+01   695.500000  17.000000   72.000000\n",
       "max    15.7835 -9.023080e+01  2133.000000  43.000000  155.000000"
      ]
     },
     "execution_count": 6,
     "metadata": {},
     "output_type": "execute_result"
    }
   ],
   "source": [
    "GT_confirmed.describe()"
   ]
  },
  {
   "cell_type": "markdown",
   "metadata": {},
   "source": [
    "Por lo que veo, realmente para la creación del Modelo practicamente se tendrian que quitar las variables de Estado, Latitud, Longitud; dado que estas estan atadas al Pais y realmente no van a agregar algún valor al modelo.\n",
    "\n",
    "Las Variables que en algún momento se podrían determinar con el modelo son Cantidad de Confirmados(Confirmed), muertes(Deaths) o recuperados(Recovered)."
   ]
  },
  {
   "cell_type": "markdown",
   "metadata": {},
   "source": [
    "Quitamos las columnas que no nos servirán para nada."
   ]
  },
  {
   "cell_type": "code",
   "execution_count": 7,
   "metadata": {},
   "outputs": [],
   "source": [
    "GT_confirmed=GT_confirmed.drop('Province/State', axis=1)\n",
    "GT_confirmed=GT_confirmed.drop('Lat', axis=1)\n",
    "GT_confirmed=GT_confirmed.drop('Long', axis=1)\n"
   ]
  },
  {
   "cell_type": "markdown",
   "metadata": {},
   "source": [
    "Así quedaría el Dataset"
   ]
  },
  {
   "cell_type": "code",
   "execution_count": 8,
   "metadata": {},
   "outputs": [
    {
     "data": {
      "text/html": [
       "<div>\n",
       "<style scoped>\n",
       "    .dataframe tbody tr th:only-of-type {\n",
       "        vertical-align: middle;\n",
       "    }\n",
       "\n",
       "    .dataframe tbody tr th {\n",
       "        vertical-align: top;\n",
       "    }\n",
       "\n",
       "    .dataframe thead th {\n",
       "        text-align: right;\n",
       "    }\n",
       "</style>\n",
       "<table border=\"1\" class=\"dataframe\">\n",
       "  <thead>\n",
       "    <tr style=\"text-align: right;\">\n",
       "      <th></th>\n",
       "      <th>Country/Region</th>\n",
       "      <th>Date</th>\n",
       "      <th>Confirmed</th>\n",
       "      <th>Deaths</th>\n",
       "      <th>Recovered</th>\n",
       "    </tr>\n",
       "  </thead>\n",
       "  <tbody>\n",
       "    <tr>\n",
       "      <th>13903</th>\n",
       "      <td>Guatemala</td>\n",
       "      <td>2020-03-14</td>\n",
       "      <td>1</td>\n",
       "      <td>0</td>\n",
       "      <td>0</td>\n",
       "    </tr>\n",
       "    <tr>\n",
       "      <th>14168</th>\n",
       "      <td>Guatemala</td>\n",
       "      <td>2020-03-15</td>\n",
       "      <td>1</td>\n",
       "      <td>0</td>\n",
       "      <td>0</td>\n",
       "    </tr>\n",
       "    <tr>\n",
       "      <th>14433</th>\n",
       "      <td>Guatemala</td>\n",
       "      <td>2020-03-16</td>\n",
       "      <td>2</td>\n",
       "      <td>1</td>\n",
       "      <td>0</td>\n",
       "    </tr>\n",
       "    <tr>\n",
       "      <th>14698</th>\n",
       "      <td>Guatemala</td>\n",
       "      <td>2020-03-17</td>\n",
       "      <td>6</td>\n",
       "      <td>1</td>\n",
       "      <td>0</td>\n",
       "    </tr>\n",
       "    <tr>\n",
       "      <th>14963</th>\n",
       "      <td>Guatemala</td>\n",
       "      <td>2020-03-18</td>\n",
       "      <td>6</td>\n",
       "      <td>1</td>\n",
       "      <td>0</td>\n",
       "    </tr>\n",
       "  </tbody>\n",
       "</table>\n",
       "</div>"
      ],
      "text/plain": [
       "      Country/Region       Date  Confirmed  Deaths  Recovered\n",
       "13903      Guatemala 2020-03-14          1       0          0\n",
       "14168      Guatemala 2020-03-15          1       0          0\n",
       "14433      Guatemala 2020-03-16          2       1          0\n",
       "14698      Guatemala 2020-03-17          6       1          0\n",
       "14963      Guatemala 2020-03-18          6       1          0"
      ]
     },
     "execution_count": 8,
     "metadata": {},
     "output_type": "execute_result"
    }
   ],
   "source": [
    "GT_confirmed.head()"
   ]
  },
  {
   "cell_type": "markdown",
   "metadata": {},
   "source": [
    "Vemos la Gráfica de dispersión de los datos que tenemos; especificamente para el Dato de Confirmados (Confirmed) que es la que de acuerdo al problema nos interesa determinar con el modelo."
   ]
  },
  {
   "cell_type": "code",
   "execution_count": 9,
   "metadata": {},
   "outputs": [
    {
     "data": {
      "text/plain": [
       "<matplotlib.axes._subplots.AxesSubplot at 0x22d61850f88>"
      ]
     },
     "execution_count": 9,
     "metadata": {},
     "output_type": "execute_result"
    },
    {
     "data": {
      "image/png": "[encoded data removed]",
      "text/plain": [
       "<Figure size 432x288 with 1 Axes>"
      ]
     },
     "metadata": {
      "needs_background": "light"
     },
     "output_type": "display_data"
    }
   ],
   "source": [
    "GT_confirmed.plot.scatter(x = \"Date\",y=\"Confirmed\")"
   ]
  },
  {
   "cell_type": "markdown",
   "metadata": {},
   "source": [
    "Vemos el Rango de Fechas del cual contamos la información:"
   ]
  },
  {
   "cell_type": "code",
   "execution_count": 10,
   "metadata": {},
   "outputs": [
    {
     "name": "stdout",
     "output_type": "stream",
     "text": [
      "Fecha Primer Caso   = 2020-03-14 00:00:00 -> Solamente para Guatemala\n",
      "Fecha Máxima Dataset= 2020-05-19 00:00:00 -> Solamente para Guatemala\n"
     ]
    }
   ],
   "source": [
    "print(\"Fecha Primer Caso   = {} -> Solamente para Guatemala\".format(min(GT_confirmed[\"Date\"])))   \n",
    "print(\"Fecha Máxima Dataset= {} -> Solamente para Guatemala\".format(max(GT_confirmed[\"Date\"])))    "
   ]
  },
  {
   "cell_type": "markdown",
   "metadata": {},
   "source": [
    "### Transformación de Datos\n",
    "\n",
    "En la gráfica anterior, vemos que los datos se comportan de forma exponencial; por lo que para el procesamiento del modelo transformaremos esos datos usando logaritmo natural."
   ]
  },
  {
   "cell_type": "code",
   "execution_count": 11,
   "metadata": {},
   "outputs": [],
   "source": [
    "##Dejamos la columna sin Modificar y agregamos una nueva columna\n",
    "GT_confirmed[\"ln(confirmed)\"] = np.log(GT_confirmed[\"Confirmed\"])"
   ]
  },
  {
   "cell_type": "markdown",
   "metadata": {},
   "source": [
    "Vemos como quedo la primera columna transformada; tanto a nivel de tabla como en forma gráfica."
   ]
  },
  {
   "cell_type": "code",
   "execution_count": 12,
   "metadata": {},
   "outputs": [
    {
     "data": {
      "text/html": [
       "<div>\n",
       "<style scoped>\n",
       "    .dataframe tbody tr th:only-of-type {\n",
       "        vertical-align: middle;\n",
       "    }\n",
       "\n",
       "    .dataframe tbody tr th {\n",
       "        vertical-align: top;\n",
       "    }\n",
       "\n",
       "    .dataframe thead th {\n",
       "        text-align: right;\n",
       "    }\n",
       "</style>\n",
       "<table border=\"1\" class=\"dataframe\">\n",
       "  <thead>\n",
       "    <tr style=\"text-align: right;\">\n",
       "      <th></th>\n",
       "      <th>Country/Region</th>\n",
       "      <th>Date</th>\n",
       "      <th>Confirmed</th>\n",
       "      <th>Deaths</th>\n",
       "      <th>Recovered</th>\n",
       "      <th>ln(confirmed)</th>\n",
       "    </tr>\n",
       "  </thead>\n",
       "  <tbody>\n",
       "    <tr>\n",
       "      <th>13903</th>\n",
       "      <td>Guatemala</td>\n",
       "      <td>2020-03-14</td>\n",
       "      <td>1</td>\n",
       "      <td>0</td>\n",
       "      <td>0</td>\n",
       "      <td>0.000000</td>\n",
       "    </tr>\n",
       "    <tr>\n",
       "      <th>14168</th>\n",
       "      <td>Guatemala</td>\n",
       "      <td>2020-03-15</td>\n",
       "      <td>1</td>\n",
       "      <td>0</td>\n",
       "      <td>0</td>\n",
       "      <td>0.000000</td>\n",
       "    </tr>\n",
       "    <tr>\n",
       "      <th>14433</th>\n",
       "      <td>Guatemala</td>\n",
       "      <td>2020-03-16</td>\n",
       "      <td>2</td>\n",
       "      <td>1</td>\n",
       "      <td>0</td>\n",
       "      <td>0.693147</td>\n",
       "    </tr>\n",
       "    <tr>\n",
       "      <th>14698</th>\n",
       "      <td>Guatemala</td>\n",
       "      <td>2020-03-17</td>\n",
       "      <td>6</td>\n",
       "      <td>1</td>\n",
       "      <td>0</td>\n",
       "      <td>1.791759</td>\n",
       "    </tr>\n",
       "    <tr>\n",
       "      <th>14963</th>\n",
       "      <td>Guatemala</td>\n",
       "      <td>2020-03-18</td>\n",
       "      <td>6</td>\n",
       "      <td>1</td>\n",
       "      <td>0</td>\n",
       "      <td>1.791759</td>\n",
       "    </tr>\n",
       "  </tbody>\n",
       "</table>\n",
       "</div>"
      ],
      "text/plain": [
       "      Country/Region       Date  Confirmed  Deaths  Recovered  ln(confirmed)\n",
       "13903      Guatemala 2020-03-14          1       0          0       0.000000\n",
       "14168      Guatemala 2020-03-15          1       0          0       0.000000\n",
       "14433      Guatemala 2020-03-16          2       1          0       0.693147\n",
       "14698      Guatemala 2020-03-17          6       1          0       1.791759\n",
       "14963      Guatemala 2020-03-18          6       1          0       1.791759"
      ]
     },
     "execution_count": 12,
     "metadata": {},
     "output_type": "execute_result"
    }
   ],
   "source": [
    "GT_confirmed.head()"
   ]
  },
  {
   "cell_type": "code",
   "execution_count": 13,
   "metadata": {},
   "outputs": [
    {
     "data": {
      "text/plain": [
       "<matplotlib.axes._subplots.AxesSubplot at 0x22d61bae508>"
      ]
     },
     "execution_count": 13,
     "metadata": {},
     "output_type": "execute_result"
    },
    {
     "data": {
      "image/png": "[encoded data removed]",
      "text/plain": [
       "<Figure size 432x288 with 1 Axes>"
      ]
     },
     "metadata": {
      "needs_background": "light"
     },
     "output_type": "display_data"
    }
   ],
   "source": [
    "GT_confirmed.plot.scatter(x = \"Date\",y=\"ln(confirmed)\")"
   ]
  },
  {
   "cell_type": "markdown",
   "metadata": {},
   "source": [
    "Vemos que los datos de los primeros días, no tienen el mismo comportamiento que el resto de los datos; por lo que para no sesgar el modelo se quitaran."
   ]
  },
  {
   "cell_type": "code",
   "execution_count": 14,
   "metadata": {},
   "outputs": [
    {
     "data": {
      "text/plain": [
       "<matplotlib.axes._subplots.AxesSubplot at 0x22d61c26548>"
      ]
     },
     "execution_count": 14,
     "metadata": {},
     "output_type": "execute_result"
    },
    {
     "data": {
      "image/png": "[encoded data removed]",
      "text/plain": [
       "<Figure size 432x288 with 1 Axes>"
      ]
     },
     "metadata": {
      "needs_background": "light"
     },
     "output_type": "display_data"
    }
   ],
   "source": [
    "#Quitamos los datos y lo almacenamos en el dataset que ya teniamos\n",
    "GT_confirmed = GT_confirmed[GT_confirmed.Date >= '2020-03-22']\n",
    "#Vemos la gráfica nuevamente.\n",
    "GT_confirmed.plot.scatter(x = \"Date\",y=\"ln(confirmed)\")"
   ]
  },
  {
   "cell_type": "markdown",
   "metadata": {},
   "source": [
    "Trabajar con las fechas complicaría los cálculos en el módelo, por lo que modificaremos el dato de fecha con la siguiente función."
   ]
  },
  {
   "cell_type": "code",
   "execution_count": 15,
   "metadata": {},
   "outputs": [],
   "source": [
    "#Modicará la fecha a un número consecutivo dependiendo la fecha. Siendo el número 0 la fecha 22-03-2020,\n",
    "#número 1 la fecha 23-03-2020 y así en adelante\n",
    "def mod_fecha_COVID(dates):\n",
    "    #Nuestra fecha base será el primer dia de los datos de nuestro dataset ->22-03-2020 \n",
    "    #Por facilidad se deja fijo.\n",
    "    dt_base = datetime.datetime(2020, 3,22)\n",
    "    \n",
    "    #Se convierte en un objeto de Numpy Datetime64 que es el mismo dato que tenemos en el Dataset y para poder\n",
    "    #manejar las operaciones vectorizadas\n",
    "    dt_base64 = np.datetime64(dt_base)\n",
    "    \n",
    "    #Se busca hacer la función generica, por lo que condicionaremos si estamos usando un dataframe de pandas o otro objeto\n",
    "    #ya que la forma de hacer las operaciones puede variar\n",
    "    \n",
    "    #Sino es un objeto de pandas devolvemos la información de esta forma\n",
    "    if str(type(dates)).find('pandas') == -1:\n",
    "        return (dates - dt_base64).astype('timedelta64[D]')/ np.timedelta64(1, 'D')\n",
    "    #Si se trata de un objeto de pandas\n",
    "    else:\n",
    "        return (dates - dt_base64).dt.days"
   ]
  },
  {
   "cell_type": "code",
   "execution_count": 16,
   "metadata": {
    "scrolled": true
   },
   "outputs": [
    {
     "name": "stderr",
     "output_type": "stream",
     "text": [
      "C:\\Users\\jonathan.deleon\\.conda\\envs\\tf\\lib\\site-packages\\ipykernel_launcher.py:2: SettingWithCopyWarning: \n",
      "A value is trying to be set on a copy of a slice from a DataFrame.\n",
      "Try using .loc[row_indexer,col_indexer] = value instead\n",
      "\n",
      "See the caveats in the documentation: https://pandas.pydata.org/pandas-docs/stable/user_guide/indexing.html#returning-a-view-versus-a-copy\n",
      "  \n"
     ]
    }
   ],
   "source": [
    "##Dejamos la columna sin Modificar y agregamos una nueva columna\n",
    "GT_confirmed[\"Date(Numeric)\"] = mod_fecha_COVID(GT_confirmed[\"Date\"])"
   ]
  },
  {
   "cell_type": "markdown",
   "metadata": {},
   "source": [
    "***Nota***_:Hacer caso omiso de la advertencia._"
   ]
  },
  {
   "cell_type": "markdown",
   "metadata": {},
   "source": [
    "Vemos como quedo la nueva columna de \"Date(Numeric)\""
   ]
  },
  {
   "cell_type": "code",
   "execution_count": 17,
   "metadata": {},
   "outputs": [
    {
     "data": {
      "text/html": [
       "<div>\n",
       "<style scoped>\n",
       "    .dataframe tbody tr th:only-of-type {\n",
       "        vertical-align: middle;\n",
       "    }\n",
       "\n",
       "    .dataframe tbody tr th {\n",
       "        vertical-align: top;\n",
       "    }\n",
       "\n",
       "    .dataframe thead th {\n",
       "        text-align: right;\n",
       "    }\n",
       "</style>\n",
       "<table border=\"1\" class=\"dataframe\">\n",
       "  <thead>\n",
       "    <tr style=\"text-align: right;\">\n",
       "      <th></th>\n",
       "      <th>Country/Region</th>\n",
       "      <th>Date</th>\n",
       "      <th>Confirmed</th>\n",
       "      <th>Deaths</th>\n",
       "      <th>Recovered</th>\n",
       "      <th>ln(confirmed)</th>\n",
       "      <th>Date(Numeric)</th>\n",
       "    </tr>\n",
       "  </thead>\n",
       "  <tbody>\n",
       "    <tr>\n",
       "      <th>16023</th>\n",
       "      <td>Guatemala</td>\n",
       "      <td>2020-03-22</td>\n",
       "      <td>19</td>\n",
       "      <td>1</td>\n",
       "      <td>0</td>\n",
       "      <td>2.944439</td>\n",
       "      <td>0</td>\n",
       "    </tr>\n",
       "    <tr>\n",
       "      <th>16288</th>\n",
       "      <td>Guatemala</td>\n",
       "      <td>2020-03-23</td>\n",
       "      <td>20</td>\n",
       "      <td>1</td>\n",
       "      <td>0</td>\n",
       "      <td>2.995732</td>\n",
       "      <td>1</td>\n",
       "    </tr>\n",
       "    <tr>\n",
       "      <th>16553</th>\n",
       "      <td>Guatemala</td>\n",
       "      <td>2020-03-24</td>\n",
       "      <td>21</td>\n",
       "      <td>1</td>\n",
       "      <td>0</td>\n",
       "      <td>3.044522</td>\n",
       "      <td>2</td>\n",
       "    </tr>\n",
       "    <tr>\n",
       "      <th>16818</th>\n",
       "      <td>Guatemala</td>\n",
       "      <td>2020-03-25</td>\n",
       "      <td>24</td>\n",
       "      <td>1</td>\n",
       "      <td>4</td>\n",
       "      <td>3.178054</td>\n",
       "      <td>3</td>\n",
       "    </tr>\n",
       "    <tr>\n",
       "      <th>17083</th>\n",
       "      <td>Guatemala</td>\n",
       "      <td>2020-03-26</td>\n",
       "      <td>25</td>\n",
       "      <td>1</td>\n",
       "      <td>4</td>\n",
       "      <td>3.218876</td>\n",
       "      <td>4</td>\n",
       "    </tr>\n",
       "  </tbody>\n",
       "</table>\n",
       "</div>"
      ],
      "text/plain": [
       "      Country/Region       Date  Confirmed  Deaths  Recovered  ln(confirmed)  \\\n",
       "16023      Guatemala 2020-03-22         19       1          0       2.944439   \n",
       "16288      Guatemala 2020-03-23         20       1          0       2.995732   \n",
       "16553      Guatemala 2020-03-24         21       1          0       3.044522   \n",
       "16818      Guatemala 2020-03-25         24       1          4       3.178054   \n",
       "17083      Guatemala 2020-03-26         25       1          4       3.218876   \n",
       "\n",
       "       Date(Numeric)  \n",
       "16023              0  \n",
       "16288              1  \n",
       "16553              2  \n",
       "16818              3  \n",
       "17083              4  "
      ]
     },
     "execution_count": 17,
     "metadata": {},
     "output_type": "execute_result"
    }
   ],
   "source": [
    "GT_confirmed.head(5)"
   ]
  },
  {
   "cell_type": "markdown",
   "metadata": {},
   "source": [
    "### Construcción del Modelo"
   ]
  },
  {
   "cell_type": "markdown",
   "metadata": {},
   "source": [
    "#### Usando Scikit Learn\n",
    "\n",
    "Primero usaremos la herramienta de Scikit Learn para realizar el modelo de regresión lineal."
   ]
  },
  {
   "cell_type": "code",
   "execution_count": 18,
   "metadata": {},
   "outputs": [
    {
     "data": {
      "text/plain": [
       "LinearRegression(copy_X=True, fit_intercept=True, n_jobs=None, normalize=False)"
      ]
     },
     "execution_count": 18,
     "metadata": {},
     "output_type": "execute_result"
    }
   ],
   "source": [
    "from sklearn.linear_model import LinearRegression\n",
    "\n",
    "#Instanciamos la clase para crear el Modelo de Regresión Lineal\n",
    "reg = LinearRegression()\n",
    "\n",
    "#Para mayor legibilidad lo almacenaremos el variables separadas al data frame\n",
    "X = np.array(GT_confirmed[\"Date(Numeric)\"]).reshape(-1,1)\n",
    "Y = np.array(GT_confirmed[\"ln(confirmed)\"]).reshape(-1,1)\n",
    "reg.fit(X,Y)"
   ]
  },
  {
   "cell_type": "markdown",
   "metadata": {},
   "source": [
    "Vemos como quedo la gráfica de nuestro modelo creado"
   ]
  },
  {
   "cell_type": "code",
   "execution_count": 19,
   "metadata": {},
   "outputs": [
    {
     "data": {
      "image/png": "[encoded data removed]",
      "text/plain": [
       "<Figure size 432x288 with 1 Axes>"
      ]
     },
     "metadata": {
      "needs_background": "light"
     },
     "output_type": "display_data"
    }
   ],
   "source": [
    "prediction_space = np.linspace(min(X),max(X)).reshape(-1,1)\n",
    "plt.scatter(X, Y , color='blue')\n",
    "plt.plot(prediction_space, reg.predict(prediction_space),color='black', linewidth=3)\n",
    "plt.ylabel('ln(Confirmed)')\n",
    "plt.xlabel('Date(Numeric)')\n",
    "plt.show()"
   ]
  },
  {
   "cell_type": "markdown",
   "metadata": {},
   "source": [
    "El Modelo de regresión Lineal nos quedaría de la siguiente forma:"
   ]
  },
  {
   "cell_type": "code",
   "execution_count": 20,
   "metadata": {},
   "outputs": [
    {
     "name": "stdout",
     "output_type": "stream",
     "text": [
      "y =  0.0824 x +  3.0655370802\n"
     ]
    }
   ],
   "source": [
    "print('y = ',round(float(reg.coef_[0]),4),'x + ',round(float(reg.intercept_),10))"
   ]
  },
  {
   "cell_type": "markdown",
   "metadata": {},
   "source": [
    "Ahora recordemos que los datos de Y fueron transformados por el Logaritmo natural, por lo que debemos transformar nuestra formula para considerar eso:\n",
    "\n",
    "$$y = e^(0.0824x+ 3.0655370802)$$\n",
    "\n",
    "                                                                 o \n",
    "\n",
    "$$y = 21.445977104e^(0.0824x)$$\n",
    "\n",
    "\n",
    "Con el modelo obtenido, graficamos en los datos originales."
   ]
  },
  {
   "cell_type": "code",
   "execution_count": 21,
   "metadata": {},
   "outputs": [
    {
     "data": {
      "image/png": "[encoded data removed]",
      "text/plain": [
       "<Figure size 432x288 with 1 Axes>"
      ]
     },
     "metadata": {
      "needs_background": "light"
     },
     "output_type": "display_data"
    }
   ],
   "source": [
    "#Generamos un Vector con los 59 días que usamos de datos\n",
    "x = np.arange(0,59)\n",
    "#Calculamos el vector resultante con la función\n",
    "y = np.exp(0.0824*x + 3.0655370802)\n",
    "#Forma Alternativa\n",
    "#y = 21.445977104 * np.exp(0.0824*x)\n",
    "\n",
    "#Desplegamos la grafica\n",
    "plt.scatter(GT_confirmed[\"Date(Numeric)\"], GT_confirmed[\"Confirmed\"] , color='blue')\n",
    "plt.plot(x, y,color='black', linewidth=3)\n",
    "plt.ylabel('Confirmed')\n",
    "plt.xlabel('Date(Numeric)')\n",
    "plt.show()"
   ]
  },
  {
   "cell_type": "markdown",
   "metadata": {},
   "source": [
    "##### Calificación del Modelo\n",
    "\n",
    "Por defecto scikit learn maneja la función R^2 para calificar el modelo."
   ]
  },
  {
   "cell_type": "code",
   "execution_count": 22,
   "metadata": {},
   "outputs": [
    {
     "name": "stdout",
     "output_type": "stream",
     "text": [
      "R^2: 0.9874196265288994\n"
     ]
    }
   ],
   "source": [
    "# Compute and print R^2 \n",
    "print(\"R^2: {}\".format(reg.score(X, Y)))"
   ]
  },
  {
   "cell_type": "markdown",
   "metadata": {},
   "source": [
    "Como vemos un R^2 de 0.99 para el Modelo es un buen indicador, se podría decir que es casi exacto. Pero para poder compararlo con el modelo que haremos en TensorFlow sacaremos el Error de acuerdo a:\n",
    "\n",
    "$$error = 1/2*average((y-y_{hat})^2)$$"
   ]
  },
  {
   "cell_type": "code",
   "execution_count": 23,
   "metadata": {},
   "outputs": [
    {
     "name": "stdout",
     "output_type": "stream",
     "text": [
      "Error: 0.012543369786288642\n"
     ]
    }
   ],
   "source": [
    "y_hat= 0.0824*x + 3.0655370802\n",
    "error= 1/2* np.mean((np.array(y_hat).reshape(-1,1) - np.array(Y).reshape(-1,1))**2)\n",
    "print(\"Error: {}\".format(error))"
   ]
  },
  {
   "cell_type": "markdown",
   "metadata": {},
   "source": [
    "#### Usando TensorFlow\n",
    "\n",
    "Copiamos las funciones para la creación del Modelo y la función de entrenamiento de la Practica anterior; ajustando la programación para varias features (Aunque no sirva para este modelo, servirá posteriormente)."
   ]
  },
  {
   "cell_type": "code",
   "execution_count": 24,
   "metadata": {},
   "outputs": [
    {
     "name": "stdout",
     "output_type": "stream",
     "text": [
      "WARNING:tensorflow:From C:\\Users\\jonathan.deleon\\.conda\\envs\\tf\\lib\\site-packages\\tensorflow_core\\python\\compat\\v2_compat.py:88: disable_resource_variables (from tensorflow.python.ops.variable_scope) is deprecated and will be removed in a future version.\n",
      "Instructions for updating:\n",
      "non-resource variables are not supported in the long term\n",
      "Enabled compatitility to tf1.x\n"
     ]
    }
   ],
   "source": [
    "import tensorflow as tf\n",
    "if tf.__version__.startswith(\"2.\"):\n",
    "  import tensorflow.compat.v1 as tf\n",
    "  tf.compat.v1.disable_v2_behavior()\n",
    "  tf.compat.v1.disable_eager_execution()\n",
    "  print(\"Enabled compatitility to tf1.x\")"
   ]
  },
  {
   "cell_type": "code",
   "execution_count": 25,
   "metadata": {},
   "outputs": [],
   "source": [
    "'''Clase que Definirá el Modelo a Entrenar'''\n",
    "class Modelo:\n",
    "    \n",
    "    '''Metodo que define lo que se ejecuta al Instanciar la Clase'''\n",
    "    def __init__(self,features):\n",
    "        \n",
    "        #Limpiamos cualquier variable o operación en el grafo \n",
    "        tf.reset_default_graph()\n",
    "        \n",
    "        #Parametros que entrenará el Modelo - Pendiente e Intercepto\n",
    "        self.parametros = tf.get_variable(\"parametros\",dtype=tf.float32,shape=(features,1),initializer=tf.zeros_initializer())\n",
    "        \n",
    "        ##Definimos los Tensores para la Inicialización de Variables\n",
    "        with tf.name_scope(\"Inicializacion\"):\n",
    "            init_global = tf.global_variables_initializer()\n",
    "            init_local = tf.local_variables_initializer()\n",
    "            self.init = tf.group(init_global,init_local)\n",
    "    \n",
    "    '''Metodo que define el Modelo de Predicción'''    \n",
    "    def __call__(self,x):\n",
    "        ##Definimos el Modelo de Predicción\n",
    "        with tf.name_scope(\"Modelo\"):            \n",
    "            #lo almacenamos en la propiedad de la clase self.y_hat para que pueda reutilizarse en los otros metodos\n",
    "            #y no llamarlos varias veces - creando multiples instancias del modelo en tensorboard\n",
    "            self.y_hat = tf.matmul(x,self.parametros,name=\"Prediccion_Modelo\")\n",
    "        return self.y_hat\n",
    "    \n",
    "    '''Metodo que define la Función de Error del Modelo''' \n",
    "    def error_function(self,y,y_hat):\n",
    "        ##Definimos la función de Error\n",
    "        with tf.name_scope(\"Error\"):\n",
    "            #lo almacenamos en la propiedad de la clase self.error para que pueda reutilizarse en los otros metodos\n",
    "            #y no llamarlos varias veces - creando multiples instancias del modelo en tensorboard\n",
    "            self.error = 1/2*tf.reduce_mean(tf.math.square(y - y_hat) )\n",
    "        return self.error\n",
    "    \n",
    "    '''Metodo que define como se actualizan las variables que se entrenan en el Modelo''' \n",
    "    def actualizar(self,x,y,learning_rate):\n",
    "        #Quitamos esto - Para no crear multiples tensores con el modelo de predicción\n",
    "        #y_hat = self(x) \n",
    "    \n",
    "        #Quitamos esto - Para no crear multiples tensores con el modelo de Error\n",
    "        #error = self.error_function(y,self.y_hat)\n",
    "        \n",
    "        #Calculo de la Gradiente - Para variables de Pendiente e Intercepto\n",
    "        with tf.name_scope(\"Calculo_Gradiente\"):\n",
    "            gradiente = tf.gradients(self.error,self.parametros)\n",
    "        \n",
    "        #Actualización de Variables del Modelo - Definición Tensores\n",
    "        with tf.name_scope(\"Act_Parametros_Modelo\"):\n",
    "            actualizacion_parametros = tf.assign(self.parametros, self.parametros - learning_rate* gradiente[0] )\n",
    "        return actualizacion_parametros\n",
    "    \n",
    "    '''Metodo que define el Scalar para Tensorboard'''\n",
    "    def summary(self,x,y):\n",
    "        #Quitamos esto - Para no crear multiples tensores con el modelo de predicción\n",
    "        #self.y_hat = self(x)\n",
    "        \n",
    "        #Quitamos esto - Para no crear multiples tensores con el modelo de Error\n",
    "        #error = self.error_function(y,self.y_hat)\n",
    "        \n",
    "        #Creamos el Tensor con la Información del Scalar\n",
    "        MSE_summary = tf.summary.scalar(name='MSE_Function', tensor=self.error)\n",
    "        return MSE_summary"
   ]
  },
  {
   "cell_type": "code",
   "execution_count": 26,
   "metadata": {},
   "outputs": [],
   "source": [
    "import time\n",
    "\n",
    "def Entrenamiento(learning_rate,epochs,imprimir_cada,x,y):\n",
    "    \n",
    "    #A la Matris X le agregamos una columna con 1 para el intercepto y que funcione el producto punto\n",
    "    x_train = np.ones((x.shape[0],x.shape[1]+1))\n",
    "    x_train[:,:-1]=x  \n",
    "    \n",
    "    #El Número de Features se determinará por las columnas enviadas en x + 1 (intercepto)\n",
    "    features=x_train.shape[1]\n",
    "    \n",
    "    #Instanciamos la Clase que define el Modelo\n",
    "    modelo = Modelo(features)\n",
    "    \n",
    "    #string de configuración para almacenamiento del Grafo\n",
    "    string_conf= time.strftime(\"%Y%m%d\") + \"_\"+time.strftime(\"%H%M%S\")+\"_Batch_GradientDescent_Lr=\"+str(learning_rate)+\"_polinomio_grado=\"+('1' if features <=2 else '2')\n",
    "\n",
    "    #Definimos los Placeholders que almacenarán los datos de Entrenamiento del Modelo\n",
    "    tensor_x = tf.placeholder(tf.float32,[None,features],name=\"tensor_x\")\n",
    "    tensor_y = tf.placeholder(tf.float32,[None,1],name=\"tensor_y\")\n",
    "\n",
    "    #Llamamos a la función que define el modelo de Predicción\n",
    "    prediccion = modelo(tensor_x)\n",
    "\n",
    "    #Llamamos a la función que define la Función de Error (Costo)\n",
    "    funcion_error = modelo.error_function(prediccion,tensor_y)\n",
    "\n",
    "    #Llamamos a la función que define los tensores para actualizar las variables del Modelo\n",
    "    actualizacion_parametros = modelo.actualizar(tensor_x,tensor_y,learning_rate)\n",
    "\n",
    "    #llamamos a la función que define el Scalar a Reportar en Tensorboard\n",
    "    MSE_summary = modelo.summary(tensor_x,tensor_y)\n",
    "\n",
    "    #Iniciamos con una Sesión Monitoreada - Para el Entrenamiento del Modelo\n",
    "    with tf.train.MonitoredSession() as session:\n",
    "\n",
    "        # Inicialización de variables Globales y locales\n",
    "        session.run(modelo.init)\n",
    "\n",
    "        #Escritura del Grafo para Tensorboard\n",
    "        writer = tf.summary.FileWriter('./graphs/'+string_conf, session.graph)\n",
    "\n",
    "        #Creamos el Diccionario que le dará valor a los Placeholders\n",
    "        feed_dict = {tensor_x:np.array(x_train).reshape(-1,features), tensor_y:np.array(y).reshape(-1,1)}\n",
    "\n",
    "        #Entrenamiento del Modelo\n",
    "        for step in range(epochs):\n",
    "\n",
    "            #Ejecutamos el Grafo - Actualización de Datos\n",
    "            session.run(actualizacion_parametros,feed_dict=feed_dict)\n",
    "            #print(gr[0].shape)\n",
    "            \n",
    "            #Ejecutamos el Grafo - Predicción del Modelo\n",
    "            predicciones = session.run(prediccion,feed_dict=feed_dict)\n",
    "            \n",
    "            #Ejecutamos el Grafo - Resultado de Variables Entrenadas\n",
    "            #pendiente_final,intercepto_final = session.run(modelo.parametros,feed_dict=feed_dict)\n",
    "            parametros_calculados = session.run(modelo.parametros,feed_dict=feed_dict)\n",
    "            \n",
    "            #print(parametros_calculados[len(parametros_calculados)-1])\n",
    "            #print(parametros_calculados[0:len(parametros_calculados)-2])\n",
    "            \n",
    "            #Ejecutamos el Grafo - Datos Escalar\n",
    "            summary = session.run(MSE_summary,feed_dict=feed_dict)\n",
    "\n",
    "            #Almacenamos datos de Scalar - Para Tensorboard\n",
    "            writer.add_summary(summary, step)\n",
    "\n",
    "            #Imprimimos resultados de Variables por entrenamiento - Cada N Entrenamientos\n",
    "            if (step+1) % imprimir_cada == 0:\n",
    "                print(\"Prueba {} - Parámetros finales: m={}  b={}\".format(step+1,\n",
    "                                                                          parametros_calculados[0:len(parametros_calculados)-1],\n",
    "                                                                          parametros_calculados[len(parametros_calculados)-1]))\n",
    "\n",
    "        # Si queremos imprimir la función de Error - Despues del Entrenamiento \n",
    "        final_error = session.run(funcion_error,feed_dict=feed_dict)\n",
    "        print(\"Error - Despues de Entrenamiento={}\".format(final_error))"
   ]
  },
  {
   "cell_type": "markdown",
   "metadata": {},
   "source": [
    "Haremos varias pruebas para encontrar el Learning Rate, la cantidad de Epochs necesarios para el modelo. \n",
    "\n",
    "(No colocaremos todas las pruebas aquí, solo la final con la que logramos los mejores resultados)."
   ]
  },
  {
   "cell_type": "code",
   "execution_count": 27,
   "metadata": {},
   "outputs": [
    {
     "name": "stdout",
     "output_type": "stream",
     "text": [
      "INFO:tensorflow:Graph was finalized.\n",
      "INFO:tensorflow:Running local_init_op.\n",
      "INFO:tensorflow:Done running local_init_op.\n",
      "Prueba 5000 - Parámetros finales: m=[[0.0905773]]  b=[2.7466679]\n",
      "Prueba 10000 - Parámetros finales: m=[[0.08325186]]  b=[3.0323234]\n",
      "Prueba 15000 - Parámetros finales: m=[[0.08248872]]  b=[3.0620792]\n",
      "Prueba 20000 - Parámetros finales: m=[[0.08240923]]  b=[3.0651765]\n",
      "Error - Despues de Entrenamiento=0.012543395161628723\n"
     ]
    }
   ],
   "source": [
    "#Usaremos el mismo Learning rate del Proyecto\n",
    "learning_rate = 0.001765\n",
    "\n",
    "#Definimos cuantas iteraciones de Entrenamiento haremos\n",
    "epochs=20000\n",
    "\n",
    "#Definimos cada cuanto vamos a imprimir\n",
    "imprimir_cada = 5000\n",
    "\n",
    "#Para mayor legibilidad lo almacenaremos el variables separadas al data frame\n",
    "X = np.array(GT_confirmed[\"Date(Numeric)\"]).reshape(-1,1)\n",
    "Y = np.array(GT_confirmed[\"ln(confirmed)\"]).reshape(-1,1)\n",
    "\n",
    "#Ejecutamos la función de Entrenamiento para los parametros definidos\n",
    "Entrenamiento(learning_rate,epochs,imprimir_cada,X,Y)"
   ]
  },
  {
   "cell_type": "markdown",
   "metadata": {},
   "source": [
    "El Modelo de regresión Lineal nos quedaría de la siguiente forma:\n",
    "\n",
    "$$ y = 0.08240923x + 3.0651765 $$"
   ]
  },
  {
   "cell_type": "markdown",
   "metadata": {},
   "source": [
    "Ahora recordemos que los datos de Y fueron transformados por el Logaritmo natural, por lo que debemos transformar nuestra formula para considerar eso:\n",
    "\n",
    "$$y = e^(0.08240923x + 3.0651765)$$\n",
    "\n",
    "                                                                 o \n",
    "\n",
    "$$y = 21.4382 e^(0.0824092 x)$$\n",
    "\n",
    "\n",
    "Con el modelo obtenido, graficamos en los datos originales."
   ]
  },
  {
   "cell_type": "code",
   "execution_count": 28,
   "metadata": {},
   "outputs": [
    {
     "data": {
      "image/png": "[encoded data removed]",
      "text/plain": [
       "<Figure size 432x288 with 1 Axes>"
      ]
     },
     "metadata": {
      "needs_background": "light"
     },
     "output_type": "display_data"
    }
   ],
   "source": [
    "#Generamos un Vector con los 59 días que usamos de datos\n",
    "x = np.arange(0,59)\n",
    "#Calculamos el vector resultante con la función\n",
    "y2 = np.exp(0.08248872*x + 3.0620792)\n",
    "#Forma Alternativa\n",
    "#y2 = 21.445977104 * np.exp(0.0824*x)\n",
    "\n",
    "#Desplegamos la grafica\n",
    "plt.scatter(GT_confirmed[\"Date(Numeric)\"], GT_confirmed[\"Confirmed\"] , color='red')\n",
    "#Graficamos modelo realizado con ScikitLearn\n",
    "plt.plot(x, y,color='black', linewidth=3)\n",
    "#Graficamos modelo realizado con Tensorflow\n",
    "plt.plot(x, y2,color='blue', linewidth=3)\n",
    "plt.ylabel('Confirmed')\n",
    "plt.xlabel('Date(Numeric)')\n",
    "plt.show()"
   ]
  },
  {
   "cell_type": "markdown",
   "metadata": {},
   "source": [
    "Aunque no es visible, se coloco en la misma gráfica los resultados evaluados con la función anterior, y por lo que podemos ver, visualmente no hay mayor diferencia."
   ]
  },
  {
   "cell_type": "markdown",
   "metadata": {},
   "source": [
    "##### Calificación del Modelo\n",
    "\n",
    "Con Tensorflow con una gran cantidad de pruebas, acercamos el error del modelo a **0.012543395** que es muy parecida a la obtenida con Scikitlearn, pero un poco mayor. \n",
    "\n",
    "El problema fue la cantidad de pruebas que tuvimos que usar para llegar a ese resultado, fueron 20,000 pruebas y aún así el margen es un poco mejor el de scikit learn."
   ]
  },
  {
   "cell_type": "markdown",
   "metadata": {},
   "source": [
    "### Construcción de Función - A Partir del Modelo\n",
    "\n",
    "Crearemos la función en Python que nos permita determinar el número de casos confirmados a una fecha (basandonos en los datos obtenidos por el modelo)"
   ]
  },
  {
   "cell_type": "code",
   "execution_count": 29,
   "metadata": {},
   "outputs": [],
   "source": [
    "##Creación de Función que nos devolverá la proyección de casos proyectados a una fecha\n",
    "##Para facilidad se recibiran los datos separados de dia, mes, año\n",
    "def Casos_Confirmados_GT(dia, mes, año):\n",
    "    date = datetime.datetime(año, mes,dia)\n",
    "    \n",
    "    #Se convierte en un objeto de Numpy Datetime64 que es el mismo dato que tenemos en el Dataset\n",
    "    date_Converted = np.datetime64(date)\n",
    "    \n",
    "    #Convertimos la fecha a un consecutivo a partir de la fecha base\n",
    "    id_date = mod_fecha_COVID(date_Converted)\n",
    "    \n",
    "    Confirmados= np.exp(0.0824*id_date + 3.0655370802)\n",
    "    \n",
    "    return Confirmados"
   ]
  },
  {
   "cell_type": "markdown",
   "metadata": {},
   "source": [
    "### Predicción a Fecha\n",
    "\n",
    "Tal como lo solicita el problema, se hará una predicción del número de casos confirmados al 06 de Junio 2020."
   ]
  },
  {
   "cell_type": "code",
   "execution_count": 30,
   "metadata": {},
   "outputs": [
    {
     "name": "stdout",
     "output_type": "stream",
     "text": [
      "El Número de Casos Confirmados al 6 de Junio sera 11248.0\n"
     ]
    }
   ],
   "source": [
    "Confirmados= Casos_Confirmados_GT(6, 6, 2020)\n",
    "\n",
    "print(\"El Número de Casos Confirmados al 6 de Junio sera {}\".format(round(Confirmados,0)))"
   ]
  },
  {
   "cell_type": "markdown",
   "metadata": {},
   "source": [
    "## Parte 2 - Modelo polinomial de calidad de vinos"
   ]
  },
  {
   "cell_type": "markdown",
   "metadata": {},
   "source": [
    "Es permitido utilizar [sklearn.preprocessing.polynomialfeatures](https://scikit-learn.org/stable/modules/generated/sklearn.preprocessing.PolynomialFeatures.html)\n",
    "\n",
    "\n",
    "### Instrucciones\n",
    "\n",
    "1. Seleccionar y transformar(generando las combinaciones polinomiales para un polinomio de grado dos o tres a elección) las features que considere que son las mejores para predecir la calidad del vino, utilizar como minimo 2 features. Para seleccionar las features, hacer un analisis exploratorio por ejemplo(pero no limitado a ):  graficando y viendo la forma en que se comportan los datos.\n",
    "\n",
    " Por ejemplo, se tienen las features \"a\" y \"b\" y seleccionamos polinomio de grado 2, hacemos feature engineering para obtener :\n",
    " \n",
    " $[a,b,a^{2},b^{2},ab]$\n",
    " \n",
    " No olvidar el \"bias\" (parámetro multiplicado por 1) ,con lo cual el dataset puede quedar con las columnas:\n",
    " \n",
    " $[1,a,b,a^{2},b^{2},ab]$\n",
    "2. Una vez transformada la data aplicar regresion lineal con las features polinomiales usando Tensorflow.\n",
    "\n",
    "Requisitos adicionales:\n",
    "* Se debe agregar al notebook un screenshot del grafo de tensorboard, simplificando(usando  names , y name_scope como visto en clase).\n",
    "\n",
    "* Se debe generar un directorio de logs de tensorboard para cada corrida/experimento , con cada directorio identificando facilmente la configuración del experimento como visto en clase, por ejemplo para un experimento con learning rate = 0.1 , y polinomio grado 2  crear un directorio: lr=0.1_polinomio_grado=2. (Agregar al notebook un screenshot de estas gráficas)\n",
    "\n",
    "* Concluir en markdown cual es el mejor modelo para este caso basado en la comparativa entre curvas de costo/error en tensorboard."
   ]
  },
  {
   "cell_type": "markdown",
   "metadata": {},
   "source": [
    "### Carga de Datos\n",
    "\n",
    "Cargamos la información que nos servirá para crear el modelo."
   ]
  },
  {
   "cell_type": "code",
   "execution_count": 31,
   "metadata": {},
   "outputs": [],
   "source": [
    "import pandas as pd"
   ]
  },
  {
   "cell_type": "code",
   "execution_count": 32,
   "metadata": {},
   "outputs": [],
   "source": [
    "dataWine = pd.read_csv('winequality-red.csv')"
   ]
  },
  {
   "cell_type": "markdown",
   "metadata": {},
   "source": [
    "### Red Wine Quality Data\n",
    "\n",
    "Se aplicará regresión para crear un modelo de la calidad de vino en función de características del mismo, siendo 1 el peor vino y 10 el mejor.\n",
    "\n",
    "Variables de entrada:\n",
    "1. fixed acidity \n",
    "2. volatile acidity \n",
    "3. citric acid \n",
    "4. residual sugar \n",
    "5. chlorides \n",
    "6. free sulfur dioxide \n",
    "7. total sulfur dioxide \n",
    "8. density \n",
    "9. pH \n",
    "10. sulphates \n",
    "11. alcohol \n",
    "\n",
    "Varaible a predecir: \n",
    "12. quality (puntuacion  entre 0 y 10) \n",
    "\n"
   ]
  },
  {
   "cell_type": "code",
   "execution_count": 33,
   "metadata": {},
   "outputs": [
    {
     "data": {
      "text/html": [
       "<div>\n",
       "<style scoped>\n",
       "    .dataframe tbody tr th:only-of-type {\n",
       "        vertical-align: middle;\n",
       "    }\n",
       "\n",
       "    .dataframe tbody tr th {\n",
       "        vertical-align: top;\n",
       "    }\n",
       "\n",
       "    .dataframe thead th {\n",
       "        text-align: right;\n",
       "    }\n",
       "</style>\n",
       "<table border=\"1\" class=\"dataframe\">\n",
       "  <thead>\n",
       "    <tr style=\"text-align: right;\">\n",
       "      <th></th>\n",
       "      <th>fixed acidity</th>\n",
       "      <th>volatile acidity</th>\n",
       "      <th>citric acid</th>\n",
       "      <th>residual sugar</th>\n",
       "      <th>chlorides</th>\n",
       "      <th>free sulfur dioxide</th>\n",
       "      <th>total sulfur dioxide</th>\n",
       "      <th>density</th>\n",
       "      <th>pH</th>\n",
       "      <th>sulphates</th>\n",
       "      <th>alcohol</th>\n",
       "      <th>quality</th>\n",
       "    </tr>\n",
       "  </thead>\n",
       "  <tbody>\n",
       "    <tr>\n",
       "      <th>0</th>\n",
       "      <td>7.4</td>\n",
       "      <td>0.70</td>\n",
       "      <td>0.00</td>\n",
       "      <td>1.9</td>\n",
       "      <td>0.076</td>\n",
       "      <td>11.0</td>\n",
       "      <td>34.0</td>\n",
       "      <td>0.9978</td>\n",
       "      <td>3.51</td>\n",
       "      <td>0.56</td>\n",
       "      <td>9.4</td>\n",
       "      <td>5</td>\n",
       "    </tr>\n",
       "    <tr>\n",
       "      <th>1</th>\n",
       "      <td>7.8</td>\n",
       "      <td>0.88</td>\n",
       "      <td>0.00</td>\n",
       "      <td>2.6</td>\n",
       "      <td>0.098</td>\n",
       "      <td>25.0</td>\n",
       "      <td>67.0</td>\n",
       "      <td>0.9968</td>\n",
       "      <td>3.20</td>\n",
       "      <td>0.68</td>\n",
       "      <td>9.8</td>\n",
       "      <td>5</td>\n",
       "    </tr>\n",
       "    <tr>\n",
       "      <th>2</th>\n",
       "      <td>7.8</td>\n",
       "      <td>0.76</td>\n",
       "      <td>0.04</td>\n",
       "      <td>2.3</td>\n",
       "      <td>0.092</td>\n",
       "      <td>15.0</td>\n",
       "      <td>54.0</td>\n",
       "      <td>0.9970</td>\n",
       "      <td>3.26</td>\n",
       "      <td>0.65</td>\n",
       "      <td>9.8</td>\n",
       "      <td>5</td>\n",
       "    </tr>\n",
       "    <tr>\n",
       "      <th>3</th>\n",
       "      <td>11.2</td>\n",
       "      <td>0.28</td>\n",
       "      <td>0.56</td>\n",
       "      <td>1.9</td>\n",
       "      <td>0.075</td>\n",
       "      <td>17.0</td>\n",
       "      <td>60.0</td>\n",
       "      <td>0.9980</td>\n",
       "      <td>3.16</td>\n",
       "      <td>0.58</td>\n",
       "      <td>9.8</td>\n",
       "      <td>6</td>\n",
       "    </tr>\n",
       "    <tr>\n",
       "      <th>4</th>\n",
       "      <td>7.4</td>\n",
       "      <td>0.70</td>\n",
       "      <td>0.00</td>\n",
       "      <td>1.9</td>\n",
       "      <td>0.076</td>\n",
       "      <td>11.0</td>\n",
       "      <td>34.0</td>\n",
       "      <td>0.9978</td>\n",
       "      <td>3.51</td>\n",
       "      <td>0.56</td>\n",
       "      <td>9.4</td>\n",
       "      <td>5</td>\n",
       "    </tr>\n",
       "  </tbody>\n",
       "</table>\n",
       "</div>"
      ],
      "text/plain": [
       "   fixed acidity  volatile acidity  citric acid  residual sugar  chlorides  \\\n",
       "0            7.4              0.70         0.00             1.9      0.076   \n",
       "1            7.8              0.88         0.00             2.6      0.098   \n",
       "2            7.8              0.76         0.04             2.3      0.092   \n",
       "3           11.2              0.28         0.56             1.9      0.075   \n",
       "4            7.4              0.70         0.00             1.9      0.076   \n",
       "\n",
       "   free sulfur dioxide  total sulfur dioxide  density    pH  sulphates  \\\n",
       "0                 11.0                  34.0   0.9978  3.51       0.56   \n",
       "1                 25.0                  67.0   0.9968  3.20       0.68   \n",
       "2                 15.0                  54.0   0.9970  3.26       0.65   \n",
       "3                 17.0                  60.0   0.9980  3.16       0.58   \n",
       "4                 11.0                  34.0   0.9978  3.51       0.56   \n",
       "\n",
       "   alcohol  quality  \n",
       "0      9.4        5  \n",
       "1      9.8        5  \n",
       "2      9.8        5  \n",
       "3      9.8        6  \n",
       "4      9.4        5  "
      ]
     },
     "execution_count": 33,
     "metadata": {},
     "output_type": "execute_result"
    }
   ],
   "source": [
    "dataWine.head()"
   ]
  },
  {
   "cell_type": "markdown",
   "metadata": {},
   "source": [
    "### Análisis de la Información\n",
    "\n",
    "Revisamos la estructura del Dataframe con la información de vinos."
   ]
  },
  {
   "cell_type": "code",
   "execution_count": 34,
   "metadata": {
    "jupyter": {
     "outputs_hidden": true
    }
   },
   "outputs": [
    {
     "name": "stdout",
     "output_type": "stream",
     "text": [
      "<class 'pandas.core.frame.DataFrame'>\n",
      "RangeIndex: 1599 entries, 0 to 1598\n",
      "Data columns (total 12 columns):\n",
      " #   Column                Non-Null Count  Dtype  \n",
      "---  ------                --------------  -----  \n",
      " 0   fixed acidity         1599 non-null   float64\n",
      " 1   volatile acidity      1599 non-null   float64\n",
      " 2   citric acid           1599 non-null   float64\n",
      " 3   residual sugar        1599 non-null   float64\n",
      " 4   chlorides             1599 non-null   float64\n",
      " 5   free sulfur dioxide   1599 non-null   float64\n",
      " 6   total sulfur dioxide  1599 non-null   float64\n",
      " 7   density               1599 non-null   float64\n",
      " 8   pH                    1599 non-null   float64\n",
      " 9   sulphates             1599 non-null   float64\n",
      " 10  alcohol               1599 non-null   float64\n",
      " 11  quality               1599 non-null   int64  \n",
      "dtypes: float64(11), int64(1)\n",
      "memory usage: 150.0 KB\n"
     ]
    }
   ],
   "source": [
    "dataWine.info()"
   ]
  },
  {
   "cell_type": "markdown",
   "metadata": {},
   "source": [
    "Vemos la información estadistica de los datos con los que contamos."
   ]
  },
  {
   "cell_type": "code",
   "execution_count": 35,
   "metadata": {},
   "outputs": [
    {
     "data": {
      "text/html": [
       "<div>\n",
       "<style scoped>\n",
       "    .dataframe tbody tr th:only-of-type {\n",
       "        vertical-align: middle;\n",
       "    }\n",
       "\n",
       "    .dataframe tbody tr th {\n",
       "        vertical-align: top;\n",
       "    }\n",
       "\n",
       "    .dataframe thead th {\n",
       "        text-align: right;\n",
       "    }\n",
       "</style>\n",
       "<table border=\"1\" class=\"dataframe\">\n",
       "  <thead>\n",
       "    <tr style=\"text-align: right;\">\n",
       "      <th></th>\n",
       "      <th>fixed acidity</th>\n",
       "      <th>volatile acidity</th>\n",
       "      <th>citric acid</th>\n",
       "      <th>residual sugar</th>\n",
       "      <th>chlorides</th>\n",
       "      <th>free sulfur dioxide</th>\n",
       "      <th>total sulfur dioxide</th>\n",
       "      <th>density</th>\n",
       "      <th>pH</th>\n",
       "      <th>sulphates</th>\n",
       "      <th>alcohol</th>\n",
       "      <th>quality</th>\n",
       "    </tr>\n",
       "  </thead>\n",
       "  <tbody>\n",
       "    <tr>\n",
       "      <th>count</th>\n",
       "      <td>1599.000000</td>\n",
       "      <td>1599.000000</td>\n",
       "      <td>1599.000000</td>\n",
       "      <td>1599.000000</td>\n",
       "      <td>1599.000000</td>\n",
       "      <td>1599.000000</td>\n",
       "      <td>1599.000000</td>\n",
       "      <td>1599.000000</td>\n",
       "      <td>1599.000000</td>\n",
       "      <td>1599.000000</td>\n",
       "      <td>1599.000000</td>\n",
       "      <td>1599.000000</td>\n",
       "    </tr>\n",
       "    <tr>\n",
       "      <th>mean</th>\n",
       "      <td>8.319637</td>\n",
       "      <td>0.527821</td>\n",
       "      <td>0.270976</td>\n",
       "      <td>2.538806</td>\n",
       "      <td>0.087467</td>\n",
       "      <td>15.874922</td>\n",
       "      <td>46.467792</td>\n",
       "      <td>0.996747</td>\n",
       "      <td>3.311113</td>\n",
       "      <td>0.658149</td>\n",
       "      <td>10.422983</td>\n",
       "      <td>5.636023</td>\n",
       "    </tr>\n",
       "    <tr>\n",
       "      <th>std</th>\n",
       "      <td>1.741096</td>\n",
       "      <td>0.179060</td>\n",
       "      <td>0.194801</td>\n",
       "      <td>1.409928</td>\n",
       "      <td>0.047065</td>\n",
       "      <td>10.460157</td>\n",
       "      <td>32.895324</td>\n",
       "      <td>0.001887</td>\n",
       "      <td>0.154386</td>\n",
       "      <td>0.169507</td>\n",
       "      <td>1.065668</td>\n",
       "      <td>0.807569</td>\n",
       "    </tr>\n",
       "    <tr>\n",
       "      <th>min</th>\n",
       "      <td>4.600000</td>\n",
       "      <td>0.120000</td>\n",
       "      <td>0.000000</td>\n",
       "      <td>0.900000</td>\n",
       "      <td>0.012000</td>\n",
       "      <td>1.000000</td>\n",
       "      <td>6.000000</td>\n",
       "      <td>0.990070</td>\n",
       "      <td>2.740000</td>\n",
       "      <td>0.330000</td>\n",
       "      <td>8.400000</td>\n",
       "      <td>3.000000</td>\n",
       "    </tr>\n",
       "    <tr>\n",
       "      <th>25%</th>\n",
       "      <td>7.100000</td>\n",
       "      <td>0.390000</td>\n",
       "      <td>0.090000</td>\n",
       "      <td>1.900000</td>\n",
       "      <td>0.070000</td>\n",
       "      <td>7.000000</td>\n",
       "      <td>22.000000</td>\n",
       "      <td>0.995600</td>\n",
       "      <td>3.210000</td>\n",
       "      <td>0.550000</td>\n",
       "      <td>9.500000</td>\n",
       "      <td>5.000000</td>\n",
       "    </tr>\n",
       "    <tr>\n",
       "      <th>50%</th>\n",
       "      <td>7.900000</td>\n",
       "      <td>0.520000</td>\n",
       "      <td>0.260000</td>\n",
       "      <td>2.200000</td>\n",
       "      <td>0.079000</td>\n",
       "      <td>14.000000</td>\n",
       "      <td>38.000000</td>\n",
       "      <td>0.996750</td>\n",
       "      <td>3.310000</td>\n",
       "      <td>0.620000</td>\n",
       "      <td>10.200000</td>\n",
       "      <td>6.000000</td>\n",
       "    </tr>\n",
       "    <tr>\n",
       "      <th>75%</th>\n",
       "      <td>9.200000</td>\n",
       "      <td>0.640000</td>\n",
       "      <td>0.420000</td>\n",
       "      <td>2.600000</td>\n",
       "      <td>0.090000</td>\n",
       "      <td>21.000000</td>\n",
       "      <td>62.000000</td>\n",
       "      <td>0.997835</td>\n",
       "      <td>3.400000</td>\n",
       "      <td>0.730000</td>\n",
       "      <td>11.100000</td>\n",
       "      <td>6.000000</td>\n",
       "    </tr>\n",
       "    <tr>\n",
       "      <th>max</th>\n",
       "      <td>15.900000</td>\n",
       "      <td>1.580000</td>\n",
       "      <td>1.000000</td>\n",
       "      <td>15.500000</td>\n",
       "      <td>0.611000</td>\n",
       "      <td>72.000000</td>\n",
       "      <td>289.000000</td>\n",
       "      <td>1.003690</td>\n",
       "      <td>4.010000</td>\n",
       "      <td>2.000000</td>\n",
       "      <td>14.900000</td>\n",
       "      <td>8.000000</td>\n",
       "    </tr>\n",
       "  </tbody>\n",
       "</table>\n",
       "</div>"
      ],
      "text/plain": [
       "       fixed acidity  volatile acidity  citric acid  residual sugar  \\\n",
       "count    1599.000000       1599.000000  1599.000000     1599.000000   \n",
       "mean        8.319637          0.527821     0.270976        2.538806   \n",
       "std         1.741096          0.179060     0.194801        1.409928   \n",
       "min         4.600000          0.120000     0.000000        0.900000   \n",
       "25%         7.100000          0.390000     0.090000        1.900000   \n",
       "50%         7.900000          0.520000     0.260000        2.200000   \n",
       "75%         9.200000          0.640000     0.420000        2.600000   \n",
       "max        15.900000          1.580000     1.000000       15.500000   \n",
       "\n",
       "         chlorides  free sulfur dioxide  total sulfur dioxide      density  \\\n",
       "count  1599.000000          1599.000000           1599.000000  1599.000000   \n",
       "mean      0.087467            15.874922             46.467792     0.996747   \n",
       "std       0.047065            10.460157             32.895324     0.001887   \n",
       "min       0.012000             1.000000              6.000000     0.990070   \n",
       "25%       0.070000             7.000000             22.000000     0.995600   \n",
       "50%       0.079000            14.000000             38.000000     0.996750   \n",
       "75%       0.090000            21.000000             62.000000     0.997835   \n",
       "max       0.611000            72.000000            289.000000     1.003690   \n",
       "\n",
       "                pH    sulphates      alcohol      quality  \n",
       "count  1599.000000  1599.000000  1599.000000  1599.000000  \n",
       "mean      3.311113     0.658149    10.422983     5.636023  \n",
       "std       0.154386     0.169507     1.065668     0.807569  \n",
       "min       2.740000     0.330000     8.400000     3.000000  \n",
       "25%       3.210000     0.550000     9.500000     5.000000  \n",
       "50%       3.310000     0.620000    10.200000     6.000000  \n",
       "75%       3.400000     0.730000    11.100000     6.000000  \n",
       "max       4.010000     2.000000    14.900000     8.000000  "
      ]
     },
     "execution_count": 35,
     "metadata": {},
     "output_type": "execute_result"
    }
   ],
   "source": [
    "dataWine.describe()"
   ]
  },
  {
   "cell_type": "markdown",
   "metadata": {},
   "source": [
    "#### Correlación entre variables\n",
    "\n",
    "Vemos la matriz de correlación entre las variables que tenemos en el dataset."
   ]
  },
  {
   "cell_type": "code",
   "execution_count": 36,
   "metadata": {},
   "outputs": [
    {
     "data": {
      "text/html": [
       "<div>\n",
       "<style scoped>\n",
       "    .dataframe tbody tr th:only-of-type {\n",
       "        vertical-align: middle;\n",
       "    }\n",
       "\n",
       "    .dataframe tbody tr th {\n",
       "        vertical-align: top;\n",
       "    }\n",
       "\n",
       "    .dataframe thead th {\n",
       "        text-align: right;\n",
       "    }\n",
       "</style>\n",
       "<table border=\"1\" class=\"dataframe\">\n",
       "  <thead>\n",
       "    <tr style=\"text-align: right;\">\n",
       "      <th></th>\n",
       "      <th>fixed acidity</th>\n",
       "      <th>volatile acidity</th>\n",
       "      <th>citric acid</th>\n",
       "      <th>residual sugar</th>\n",
       "      <th>chlorides</th>\n",
       "      <th>free sulfur dioxide</th>\n",
       "      <th>total sulfur dioxide</th>\n",
       "      <th>density</th>\n",
       "      <th>pH</th>\n",
       "      <th>sulphates</th>\n",
       "      <th>alcohol</th>\n",
       "      <th>quality</th>\n",
       "    </tr>\n",
       "  </thead>\n",
       "  <tbody>\n",
       "    <tr>\n",
       "      <th>fixed acidity</th>\n",
       "      <td>1.000000</td>\n",
       "      <td>-0.256131</td>\n",
       "      <td>0.671703</td>\n",
       "      <td>0.114777</td>\n",
       "      <td>0.093705</td>\n",
       "      <td>-0.153794</td>\n",
       "      <td>-0.113181</td>\n",
       "      <td>0.668047</td>\n",
       "      <td>-0.682978</td>\n",
       "      <td>0.183006</td>\n",
       "      <td>-0.061668</td>\n",
       "      <td>0.124052</td>\n",
       "    </tr>\n",
       "    <tr>\n",
       "      <th>volatile acidity</th>\n",
       "      <td>-0.256131</td>\n",
       "      <td>1.000000</td>\n",
       "      <td>-0.552496</td>\n",
       "      <td>0.001918</td>\n",
       "      <td>0.061298</td>\n",
       "      <td>-0.010504</td>\n",
       "      <td>0.076470</td>\n",
       "      <td>0.022026</td>\n",
       "      <td>0.234937</td>\n",
       "      <td>-0.260987</td>\n",
       "      <td>-0.202288</td>\n",
       "      <td>-0.390558</td>\n",
       "    </tr>\n",
       "    <tr>\n",
       "      <th>citric acid</th>\n",
       "      <td>0.671703</td>\n",
       "      <td>-0.552496</td>\n",
       "      <td>1.000000</td>\n",
       "      <td>0.143577</td>\n",
       "      <td>0.203823</td>\n",
       "      <td>-0.060978</td>\n",
       "      <td>0.035533</td>\n",
       "      <td>0.364947</td>\n",
       "      <td>-0.541904</td>\n",
       "      <td>0.312770</td>\n",
       "      <td>0.109903</td>\n",
       "      <td>0.226373</td>\n",
       "    </tr>\n",
       "    <tr>\n",
       "      <th>residual sugar</th>\n",
       "      <td>0.114777</td>\n",
       "      <td>0.001918</td>\n",
       "      <td>0.143577</td>\n",
       "      <td>1.000000</td>\n",
       "      <td>0.055610</td>\n",
       "      <td>0.187049</td>\n",
       "      <td>0.203028</td>\n",
       "      <td>0.355283</td>\n",
       "      <td>-0.085652</td>\n",
       "      <td>0.005527</td>\n",
       "      <td>0.042075</td>\n",
       "      <td>0.013732</td>\n",
       "    </tr>\n",
       "    <tr>\n",
       "      <th>chlorides</th>\n",
       "      <td>0.093705</td>\n",
       "      <td>0.061298</td>\n",
       "      <td>0.203823</td>\n",
       "      <td>0.055610</td>\n",
       "      <td>1.000000</td>\n",
       "      <td>0.005562</td>\n",
       "      <td>0.047400</td>\n",
       "      <td>0.200632</td>\n",
       "      <td>-0.265026</td>\n",
       "      <td>0.371260</td>\n",
       "      <td>-0.221141</td>\n",
       "      <td>-0.128907</td>\n",
       "    </tr>\n",
       "    <tr>\n",
       "      <th>free sulfur dioxide</th>\n",
       "      <td>-0.153794</td>\n",
       "      <td>-0.010504</td>\n",
       "      <td>-0.060978</td>\n",
       "      <td>0.187049</td>\n",
       "      <td>0.005562</td>\n",
       "      <td>1.000000</td>\n",
       "      <td>0.667666</td>\n",
       "      <td>-0.021946</td>\n",
       "      <td>0.070377</td>\n",
       "      <td>0.051658</td>\n",
       "      <td>-0.069408</td>\n",
       "      <td>-0.050656</td>\n",
       "    </tr>\n",
       "    <tr>\n",
       "      <th>total sulfur dioxide</th>\n",
       "      <td>-0.113181</td>\n",
       "      <td>0.076470</td>\n",
       "      <td>0.035533</td>\n",
       "      <td>0.203028</td>\n",
       "      <td>0.047400</td>\n",
       "      <td>0.667666</td>\n",
       "      <td>1.000000</td>\n",
       "      <td>0.071269</td>\n",
       "      <td>-0.066495</td>\n",
       "      <td>0.042947</td>\n",
       "      <td>-0.205654</td>\n",
       "      <td>-0.185100</td>\n",
       "    </tr>\n",
       "    <tr>\n",
       "      <th>density</th>\n",
       "      <td>0.668047</td>\n",
       "      <td>0.022026</td>\n",
       "      <td>0.364947</td>\n",
       "      <td>0.355283</td>\n",
       "      <td>0.200632</td>\n",
       "      <td>-0.021946</td>\n",
       "      <td>0.071269</td>\n",
       "      <td>1.000000</td>\n",
       "      <td>-0.341699</td>\n",
       "      <td>0.148506</td>\n",
       "      <td>-0.496180</td>\n",
       "      <td>-0.174919</td>\n",
       "    </tr>\n",
       "    <tr>\n",
       "      <th>pH</th>\n",
       "      <td>-0.682978</td>\n",
       "      <td>0.234937</td>\n",
       "      <td>-0.541904</td>\n",
       "      <td>-0.085652</td>\n",
       "      <td>-0.265026</td>\n",
       "      <td>0.070377</td>\n",
       "      <td>-0.066495</td>\n",
       "      <td>-0.341699</td>\n",
       "      <td>1.000000</td>\n",
       "      <td>-0.196648</td>\n",
       "      <td>0.205633</td>\n",
       "      <td>-0.057731</td>\n",
       "    </tr>\n",
       "    <tr>\n",
       "      <th>sulphates</th>\n",
       "      <td>0.183006</td>\n",
       "      <td>-0.260987</td>\n",
       "      <td>0.312770</td>\n",
       "      <td>0.005527</td>\n",
       "      <td>0.371260</td>\n",
       "      <td>0.051658</td>\n",
       "      <td>0.042947</td>\n",
       "      <td>0.148506</td>\n",
       "      <td>-0.196648</td>\n",
       "      <td>1.000000</td>\n",
       "      <td>0.093595</td>\n",
       "      <td>0.251397</td>\n",
       "    </tr>\n",
       "    <tr>\n",
       "      <th>alcohol</th>\n",
       "      <td>-0.061668</td>\n",
       "      <td>-0.202288</td>\n",
       "      <td>0.109903</td>\n",
       "      <td>0.042075</td>\n",
       "      <td>-0.221141</td>\n",
       "      <td>-0.069408</td>\n",
       "      <td>-0.205654</td>\n",
       "      <td>-0.496180</td>\n",
       "      <td>0.205633</td>\n",
       "      <td>0.093595</td>\n",
       "      <td>1.000000</td>\n",
       "      <td>0.476166</td>\n",
       "    </tr>\n",
       "    <tr>\n",
       "      <th>quality</th>\n",
       "      <td>0.124052</td>\n",
       "      <td>-0.390558</td>\n",
       "      <td>0.226373</td>\n",
       "      <td>0.013732</td>\n",
       "      <td>-0.128907</td>\n",
       "      <td>-0.050656</td>\n",
       "      <td>-0.185100</td>\n",
       "      <td>-0.174919</td>\n",
       "      <td>-0.057731</td>\n",
       "      <td>0.251397</td>\n",
       "      <td>0.476166</td>\n",
       "      <td>1.000000</td>\n",
       "    </tr>\n",
       "  </tbody>\n",
       "</table>\n",
       "</div>"
      ],
      "text/plain": [
       "                      fixed acidity  volatile acidity  citric acid  \\\n",
       "fixed acidity              1.000000         -0.256131     0.671703   \n",
       "volatile acidity          -0.256131          1.000000    -0.552496   \n",
       "citric acid                0.671703         -0.552496     1.000000   \n",
       "residual sugar             0.114777          0.001918     0.143577   \n",
       "chlorides                  0.093705          0.061298     0.203823   \n",
       "free sulfur dioxide       -0.153794         -0.010504    -0.060978   \n",
       "total sulfur dioxide      -0.113181          0.076470     0.035533   \n",
       "density                    0.668047          0.022026     0.364947   \n",
       "pH                        -0.682978          0.234937    -0.541904   \n",
       "sulphates                  0.183006         -0.260987     0.312770   \n",
       "alcohol                   -0.061668         -0.202288     0.109903   \n",
       "quality                    0.124052         -0.390558     0.226373   \n",
       "\n",
       "                      residual sugar  chlorides  free sulfur dioxide  \\\n",
       "fixed acidity               0.114777   0.093705            -0.153794   \n",
       "volatile acidity            0.001918   0.061298            -0.010504   \n",
       "citric acid                 0.143577   0.203823            -0.060978   \n",
       "residual sugar              1.000000   0.055610             0.187049   \n",
       "chlorides                   0.055610   1.000000             0.005562   \n",
       "free sulfur dioxide         0.187049   0.005562             1.000000   \n",
       "total sulfur dioxide        0.203028   0.047400             0.667666   \n",
       "density                     0.355283   0.200632            -0.021946   \n",
       "pH                         -0.085652  -0.265026             0.070377   \n",
       "sulphates                   0.005527   0.371260             0.051658   \n",
       "alcohol                     0.042075  -0.221141            -0.069408   \n",
       "quality                     0.013732  -0.128907            -0.050656   \n",
       "\n",
       "                      total sulfur dioxide   density        pH  sulphates  \\\n",
       "fixed acidity                    -0.113181  0.668047 -0.682978   0.183006   \n",
       "volatile acidity                  0.076470  0.022026  0.234937  -0.260987   \n",
       "citric acid                       0.035533  0.364947 -0.541904   0.312770   \n",
       "residual sugar                    0.203028  0.355283 -0.085652   0.005527   \n",
       "chlorides                         0.047400  0.200632 -0.265026   0.371260   \n",
       "free sulfur dioxide               0.667666 -0.021946  0.070377   0.051658   \n",
       "total sulfur dioxide              1.000000  0.071269 -0.066495   0.042947   \n",
       "density                           0.071269  1.000000 -0.341699   0.148506   \n",
       "pH                               -0.066495 -0.341699  1.000000  -0.196648   \n",
       "sulphates                         0.042947  0.148506 -0.196648   1.000000   \n",
       "alcohol                          -0.205654 -0.496180  0.205633   0.093595   \n",
       "quality                          -0.185100 -0.174919 -0.057731   0.251397   \n",
       "\n",
       "                       alcohol   quality  \n",
       "fixed acidity        -0.061668  0.124052  \n",
       "volatile acidity     -0.202288 -0.390558  \n",
       "citric acid           0.109903  0.226373  \n",
       "residual sugar        0.042075  0.013732  \n",
       "chlorides            -0.221141 -0.128907  \n",
       "free sulfur dioxide  -0.069408 -0.050656  \n",
       "total sulfur dioxide -0.205654 -0.185100  \n",
       "density              -0.496180 -0.174919  \n",
       "pH                    0.205633 -0.057731  \n",
       "sulphates             0.093595  0.251397  \n",
       "alcohol               1.000000  0.476166  \n",
       "quality               0.476166  1.000000  "
      ]
     },
     "execution_count": 36,
     "metadata": {},
     "output_type": "execute_result"
    }
   ],
   "source": [
    "dataWine.corr()"
   ]
  },
  {
   "cell_type": "markdown",
   "metadata": {},
   "source": [
    "#### Graficas\n",
    "\n",
    "Para cada variable en el dataframe se usará la libreria seaborn para graficar un histograma, integrado con la densidad de la misma."
   ]
  },
  {
   "cell_type": "code",
   "execution_count": 37,
   "metadata": {},
   "outputs": [
    {
     "data": {
      "image/png": "[encoded data removed]",
      "text/plain": [
       "<Figure size 1440x720 with 12 Axes>"
      ]
     },
     "metadata": {
      "needs_background": "light"
     },
     "output_type": "display_data"
    }
   ],
   "source": [
    "# Usamos esta libreria para armar la grafica de histograma y la grafica de densidad\n",
    "import seaborn as sns\n",
    " \n",
    "# plot\n",
    "f, axes = plt.subplots(3, 4, figsize=(20, 10), sharex=False)\n",
    "sns.distplot( dataWine[\"fixed acidity\"] , color=\"skyblue\", ax=axes[0, 0],axlabel=\"Fixed Acidity\")\n",
    "sns.distplot( dataWine[\"volatile acidity\"] , color=\"olive\", ax=axes[0, 1],axlabel=\"Volatile Acidity\")\n",
    "sns.distplot( dataWine[\"citric acid\"] , color=\"gold\", ax=axes[0, 2],axlabel=\"Citric Acid\")\n",
    "sns.distplot( dataWine[\"chlorides\"] , color=\"coral\", ax=axes[0, 3],axlabel=\"Chlorides\")\n",
    "sns.distplot( dataWine[\"residual sugar\"] , color=\"pink\", ax=axes[1, 0],axlabel=\"Residual Sugar\")\n",
    "sns.distplot( dataWine[\"free sulfur dioxide\"] , color=\"crimson\", ax=axes[1, 1],axlabel=\"Free Sulfur Dioxide\")\n",
    "sns.distplot( dataWine[\"total sulfur dioxide\"] , color=\"cyan\", ax=axes[1, 2],axlabel=\"Total Sulfur Dioxide\")\n",
    "sns.distplot( dataWine[\"density\"] , color=\"teal\", ax=axes[1, 3],axlabel=\"Density\")\n",
    "sns.distplot( dataWine[\"pH\"] , color=\"chocolate\", ax=axes[2, 0],axlabel=\"pH\")\n",
    "sns.distplot( dataWine[\"sulphates\"] , color=\"tomato\", ax=axes[2, 1],axlabel=\"Sulphates\")\n",
    "sns.distplot( dataWine[\"alcohol\"] , color=\"forestgreen\", ax=axes[2, 2],axlabel=\"Alcohol\")\n",
    "sns.distplot( dataWine[\"quality\"] , color=\"limegreen\", ax=axes[2, 3],axlabel=\"Quality\")\n",
    "\n",
    "plt.show()"
   ]
  },
  {
   "cell_type": "markdown",
   "metadata": {},
   "source": [
    "Realizamos las graficas de dispersión de las posibles variables independientes contra la variable que estamos tratando determinar (Quality)"
   ]
  },
  {
   "cell_type": "code",
   "execution_count": 38,
   "metadata": {},
   "outputs": [
    {
     "data": {
      "image/png": "[encoded data removed]",
      "text/plain": [
       "<Figure size 1440x360 with 4 Axes>"
      ]
     },
     "metadata": {
      "needs_background": "light"
     },
     "output_type": "display_data"
    },
    {
     "data": {
      "image/png": "[encoded data removed]",
      "text/plain": [
       "<Figure size 1440x360 with 4 Axes>"
      ]
     },
     "metadata": {
      "needs_background": "light"
     },
     "output_type": "display_data"
    },
    {
     "data": {
      "image/png": "[encoded data removed]",
      "text/plain": [
       "<Figure size 1440x360 with 3 Axes>"
      ]
     },
     "metadata": {
      "needs_background": "light"
     },
     "output_type": "display_data"
    }
   ],
   "source": [
    "##Graficas de Dispersión de cada variable contra la variable buscada \"Quality\"\n",
    "f, axes = plt.subplots(1,4, figsize=(20, 5), sharex=False)\n",
    "##Efectuamos scatterplot de la Variable fixed acidity vrs quality\n",
    "axes[0].scatter( dataWine[\"fixed acidity\"],dataWine[\"quality\"] , c=\"skyblue\", alpha=0.5)\n",
    "axes[0].set_title('Correlation:'+str(round(dataWine.corr()[\"quality\"][0],6)))\n",
    "axes[0].set_xlabel('fixed acidity')\n",
    "axes[0].set_ylabel('quality')\n",
    "\n",
    "##Efectuamos scatterplot de la Variable  volatile acidity vrs quality\n",
    "axes[1].scatter( dataWine[\"volatile acidity\"],dataWine[\"quality\"]  , c=\"olive\", alpha=0.5)\n",
    "axes[1].set_title('Correlation:'+str(round(dataWine.corr()[\"quality\"][1],6)))\n",
    "axes[1].set_xlabel('volatile acidity')\n",
    "axes[1].set_ylabel('quality')\n",
    "\n",
    "##Efectuamos scatterplot de la Variable  citric acid vrs quality\n",
    "axes[2].scatter( dataWine[\"citric acid\"],dataWine[\"quality\"] , c=\"teal\", alpha=0.5)\n",
    "axes[2].set_title('Correlation:'+str(round(dataWine.corr()[\"quality\"][2],6)))\n",
    "axes[2].set_xlabel('citric acid')\n",
    "axes[2].set_ylabel('quality')\n",
    "\n",
    "##Efectuamos scatterplot de la Variable  chlorides vrs quality\n",
    "axes[3].scatter( dataWine[\"chlorides\"],dataWine[\"quality\"] , c=\"teal\", alpha=0.5)\n",
    "axes[3].set_title('Correlation:'+str(round(dataWine.corr()[\"quality\"][3],6)))\n",
    "axes[3].set_xlabel('chlorides')\n",
    "axes[3].set_ylabel('quality')\n",
    "\n",
    "f, axes2 = plt.subplots(1, 4, figsize=(20, 5), sharex=False)\n",
    "##Efectuamos scatterplot de la Variable residual sugar vrs quality\n",
    "axes2[0].scatter( dataWine[\"residual sugar\"],dataWine[\"quality\"] , c=\"skyblue\", alpha=0.5)\n",
    "axes2[0].set_title('Correlation:'+str(round(dataWine.corr()[\"quality\"][4],6)))\n",
    "axes2[0].set_xlabel('residual sugar')\n",
    "axes2[0].set_ylabel('quality')\n",
    "\n",
    "##Efectuamos scatterplot de la Variable  free sulfur dioxide vrs quality\n",
    "axes2[1].scatter( dataWine[\"free sulfur dioxide\"],dataWine[\"quality\"]  , c=\"olive\", alpha=0.5)\n",
    "axes2[1].set_title('Correlation:'+str(round(dataWine.corr()[\"quality\"][5],6)))\n",
    "axes2[1].set_xlabel('free sulfur dioxide')\n",
    "axes2[1].set_ylabel('quality')\n",
    "\n",
    "##Efectuamos scatterplot de la Variable  total sulfur dioxide vrs quality\n",
    "axes2[2].scatter( dataWine[\"total sulfur dioxide\"],dataWine[\"quality\"] , c=\"teal\", alpha=0.5)\n",
    "axes2[2].set_title('Correlation:'+str(round(dataWine.corr()[\"quality\"][6],6)))\n",
    "axes2[2].set_xlabel('total sulfur dioxide')\n",
    "axes2[2].set_ylabel('quality')\n",
    "\n",
    "##Efectuamos scatterplot de la Variable  density vrs quality\n",
    "axes2[3].scatter( dataWine[\"density\"],dataWine[\"quality\"] , c=\"teal\", alpha=0.5)\n",
    "axes2[3].set_title('Correlation:'+str(round(dataWine.corr()[\"quality\"][7],6)))\n",
    "axes2[3].set_xlabel('density')\n",
    "axes2[3].set_ylabel('quality')\n",
    "\n",
    "f, axes3 = plt.subplots(1, 3, figsize=(20, 5), sharex=False)\n",
    "##Efectuamos scatterplot de la Variable pH vrs quality\n",
    "axes3[0].scatter( dataWine[\"pH\"],dataWine[\"quality\"]  , c=\"skyblue\", alpha=0.5)\n",
    "axes3[0].set_title('Correlation:'+str(round(dataWine.corr()[\"quality\"][8],6)))\n",
    "axes3[0].set_xlabel('pH')\n",
    "axes3[0].set_ylabel('quality')\n",
    "\n",
    "##Efectuamos scatterplot de la Variable  sulphates vrs quality\n",
    "axes3[1].scatter( dataWine[\"sulphates\"],dataWine[\"quality\"]  , c=\"olive\", alpha=0.5)\n",
    "axes3[1].set_title('Correlation:'+str(round(dataWine.corr()[\"quality\"][9],6)))\n",
    "axes3[1].set_xlabel('sulphates')\n",
    "axes3[1].set_ylabel('quality')\n",
    "\n",
    "##Efectuamos scatterplot de la Variable  alcohol vrs quality\n",
    "axes3[2].scatter( dataWine[\"alcohol\"],dataWine[\"quality\"] , c=\"teal\", alpha=0.5)\n",
    "axes3[2].set_title('Correlation:'+str(round(dataWine.corr()[\"quality\"][10],6)))\n",
    "axes3[2].set_xlabel('alcohol')\n",
    "axes3[2].set_ylabel('quality')\n",
    "\n",
    "plt.show()"
   ]
  },
  {
   "cell_type": "markdown",
   "metadata": {},
   "source": [
    "#### Regularización - Lasso\n",
    "\n",
    "Usaremos el metodo de regularización Lazzo para identificar de otra forma cuales variables aportan más al modelo."
   ]
  },
  {
   "cell_type": "code",
   "execution_count": 39,
   "metadata": {},
   "outputs": [
    {
     "data": {
      "image/png": "[encoded data removed]",
      "text/plain": [
       "<Figure size 432x288 with 1 Axes>"
      ]
     },
     "metadata": {
      "needs_background": "light"
     },
     "output_type": "display_data"
    }
   ],
   "source": [
    "##Usamos la libreria de ScikitLearn\n",
    "from sklearn.linear_model import Lasso\n",
    "\n",
    "names = dataWine.drop('quality', axis= 1).columns\n",
    "X = dataWine.drop('quality', axis=1).values\n",
    "y = dataWine['quality'].values\n",
    "lasso = Lasso(alpha = 0.01)\n",
    "lasso_coef = lasso.fit(X,y).coef_\n",
    "_ = plt.plot(range(len(names)),lasso_coef)\n",
    "_ = plt.xticks(range(len(names)),names,rotation=60)\n",
    "_ = plt.ylabel('Coefficients')\n",
    "plt.show()"
   ]
  },
  {
   "cell_type": "markdown",
   "metadata": {},
   "source": [
    "Según el Metodo de Regularización Lasso, podemos determinar que las únicas variables que afectan el modelo son **\"volatile acidity\", \"sulphates\" y \"alcohol\"**."
   ]
  },
  {
   "cell_type": "markdown",
   "metadata": {},
   "source": [
    "### Elección de Variables\n",
    "\n",
    "En base al análisis anterior se elegiran las variables(Features) siguiente: **\"volatile acidity\"** y **\"alcohol\"** para la creación de un modelo para la predicción de la varible dependiente \"Quality\".\n",
    "\n",
    "La elección de estas variables se basa en:\n",
    "* Las Variables con mayor correlación con la variable \"Quality\".\n",
    "* De acuerdo al metodo de regularazión - lasso se determino que estas variables si influyen en el modelo.\n",
    "* De acuerdo al histograma y la gráfica de densidad estas variables muestran una distribución adecudada."
   ]
  },
  {
   "cell_type": "markdown",
   "metadata": {},
   "source": [
    "Veamos la grafica de como se relacionan estas dos variables con respecto a la Calidad (\"Quality\")"
   ]
  },
  {
   "cell_type": "code",
   "execution_count": 40,
   "metadata": {},
   "outputs": [
    {
     "data": {
      "image/png": "[encoded data removed]",
      "text/plain": [
       "<Figure size 432x288 with 1 Axes>"
      ]
     },
     "metadata": {
      "needs_background": "light"
     },
     "output_type": "display_data"
    }
   ],
   "source": [
    "fig=plt.figure()\n",
    "ax=fig.add_axes([0,0,1,1])\n",
    "##Solo se graficarán del 3 al 8, dado que nuestro data set solo cuenta con este rango\n",
    "ax.scatter(dataWine[dataWine['quality']==3]['volatile acidity'], dataWine[dataWine['quality']==3].alcohol, color='r', label=3)\n",
    "ax.scatter(dataWine[dataWine['quality']==4]['volatile acidity'], dataWine[dataWine['quality']==4].alcohol, color='b', label=4)\n",
    "ax.scatter(dataWine[dataWine['quality']==5]['volatile acidity'], dataWine[dataWine['quality']==5].alcohol, color='y', label=5)\n",
    "ax.scatter(dataWine[dataWine['quality']==6]['volatile acidity'], dataWine[dataWine['quality']==6].alcohol, color='lightblue', label=6)\n",
    "ax.scatter(dataWine[dataWine['quality']==7]['volatile acidity'], dataWine[dataWine['quality']==7].alcohol, color='cyan', label=7)\n",
    "ax.scatter(dataWine[dataWine['quality']==8]['volatile acidity'], dataWine[dataWine['quality']==8].alcohol, color='orange', label=8)\n",
    "ax.set_xlabel('volatile acidity')\n",
    "ax.set_ylabel('Alcohol')\n",
    "ax.set_title('Relationship between Volactile Acidity and Alcohol')\n",
    "plt.legend(loc=\"upper left\")\n",
    "plt.show()"
   ]
  },
  {
   "cell_type": "markdown",
   "metadata": {},
   "source": [
    "### Transformación de Datos\n",
    "\n",
    "Se creará un Dataset con la información que realmente usaremos para predecir el modelo. Se sacará del dataframe la información de las variables seleccionadas."
   ]
  },
  {
   "cell_type": "code",
   "execution_count": 41,
   "metadata": {},
   "outputs": [],
   "source": [
    "#Se crea el arreglo con los Features\n",
    "X_train = np.array(dataWine[[\"volatile acidity\",\"alcohol\"]]).reshape(-1,2)\n",
    "\n",
    "#Se crea el arreglo con la información de la Variable Dependiente\n",
    "Y_train = np.array(dataWine[\"quality\"]).reshape(-1,1)"
   ]
  },
  {
   "cell_type": "markdown",
   "metadata": {},
   "source": [
    " Transformamos nuestra matrix para tener los datos de esta forma.\n",
    " \n",
    " $[a,b,a^{2},b^{2},ab]$\n",
    " \n",
    " No se agregará la columna del intercepto, dado que la función desarrollada para el modelo la agregará automáticamente."
   ]
  },
  {
   "cell_type": "code",
   "execution_count": 42,
   "metadata": {},
   "outputs": [],
   "source": [
    "#Libreria que nos ayudará a la transformación de los datos\n",
    "from sklearn.preprocessing import PolynomialFeatures\n",
    "\n",
    "poly = PolynomialFeatures(2)\n",
    "X_train= poly.fit_transform(X_train)\n",
    "\n",
    "#Borramos la primera columna del Intercepto, ya que la función del modelo la agregará donde corresponda\n",
    "X_train = np.delete(X_train, 0, axis=1)"
   ]
  },
  {
   "cell_type": "markdown",
   "metadata": {},
   "source": [
    "Nuestra Matriz con los features quedará de la siguiente forma:"
   ]
  },
  {
   "cell_type": "code",
   "execution_count": 43,
   "metadata": {},
   "outputs": [
    {
     "name": "stdout",
     "output_type": "stream",
     "text": [
      "Forma de Matriz de Features: (1599, 5)\n",
      "Matriz de Features:[[7.00000e-01 9.40000e+00 4.90000e-01 6.58000e+00 8.83600e+01]\n",
      " [8.80000e-01 9.80000e+00 7.74400e-01 8.62400e+00 9.60400e+01]\n",
      " [7.60000e-01 9.80000e+00 5.77600e-01 7.44800e+00 9.60400e+01]\n",
      " ...\n",
      " [5.10000e-01 1.10000e+01 2.60100e-01 5.61000e+00 1.21000e+02]\n",
      " [6.45000e-01 1.02000e+01 4.16025e-01 6.57900e+00 1.04040e+02]\n",
      " [3.10000e-01 1.10000e+01 9.61000e-02 3.41000e+00 1.21000e+02]]\n"
     ]
    }
   ],
   "source": [
    "print(\"Forma de Matriz de Features: {}\".format(X_train.shape))\n",
    "print(\"Matriz de Features:{}\".format(X_train))"
   ]
  },
  {
   "cell_type": "markdown",
   "metadata": {},
   "source": [
    "### Construcción del Modelo\n",
    "\n",
    "#### Usando Scikit Learn\n",
    "Primero usaremos la herramienta de Scikit Learn para realizar el modelo de regresión lineal de las dos variables."
   ]
  },
  {
   "cell_type": "code",
   "execution_count": 44,
   "metadata": {},
   "outputs": [
    {
     "data": {
      "text/plain": [
       "LinearRegression(copy_X=True, fit_intercept=True, n_jobs=None, normalize=False)"
      ]
     },
     "execution_count": 44,
     "metadata": {},
     "output_type": "execute_result"
    }
   ],
   "source": [
    "#Instanciamos la clase para crear el Modelo de Regresión Lineal\n",
    "reg_pol = LinearRegression()\n",
    "\n",
    "#Dado que ya tenemos los datos transformados, solo los pasamos para el ajuste del modelo.\n",
    "reg_pol.fit(X_train,Y_train)"
   ]
  },
  {
   "cell_type": "markdown",
   "metadata": {},
   "source": [
    "Vemos como quedo la gráfica de nuestro modelo creado"
   ]
  },
  {
   "cell_type": "code",
   "execution_count": 45,
   "metadata": {},
   "outputs": [],
   "source": [
    "y_hat = reg_pol.predict(X_train)\n",
    "##Redondeamos a Cero decimales\n",
    "y_hat = np.round(y_hat,decimals=0)"
   ]
  },
  {
   "cell_type": "code",
   "execution_count": 46,
   "metadata": {},
   "outputs": [
    {
     "data": {
      "image/png": "[encoded data removed]",
      "text/plain": [
       "<Figure size 432x288 with 1 Axes>"
      ]
     },
     "metadata": {
      "needs_background": "light"
     },
     "output_type": "display_data"
    }
   ],
   "source": [
    "fig=plt.figure()\n",
    "ax=fig.add_axes([0,0,1,1])\n",
    "##Solo se graficarán del 3 al 8, dado que nuestro data set solo cuenta con este rango\n",
    "ax.scatter(X_train[y_hat[:,0]==3,0], X_train[y_hat[:,0]==3,1], color='r', label=3)\n",
    "ax.scatter(X_train[y_hat[:,0]==4,0], X_train[y_hat[:,0]==4,1], color='b', label=4)\n",
    "ax.scatter(X_train[y_hat[:,0]==5,0], X_train[y_hat[:,0]==5,1], color='y', label=5)\n",
    "ax.scatter(X_train[y_hat[:,0]==6,0], X_train[y_hat[:,0]==6,1], color='lightblue', label=6)\n",
    "ax.scatter(X_train[y_hat[:,0]==7,0], X_train[y_hat[:,0]==7,1], color='cyan', label=7)\n",
    "ax.scatter(X_train[y_hat[:,0]==8,0], X_train[y_hat[:,0]==8,1], color='orange', label=8)\n",
    "ax.set_xlabel('volatile acidity')\n",
    "ax.set_ylabel('Alcohol')\n",
    "ax.set_title('Relationship between Volactile Acidity and Alcohol')\n",
    "plt.legend(loc=\"upper left\")\n",
    "plt.show()"
   ]
  },
  {
   "cell_type": "markdown",
   "metadata": {},
   "source": [
    "Varia bastante con el dato original, pero es la mejor predicción que se puede hacer."
   ]
  },
  {
   "cell_type": "markdown",
   "metadata": {},
   "source": [
    "El Modelo de regresión Lineal nos quedaría de la siguiente forma:"
   ]
  },
  {
   "cell_type": "code",
   "execution_count": 87,
   "metadata": {},
   "outputs": [
    {
     "name": "stdout",
     "output_type": "stream",
     "text": [
      "y = 0.51444933x1 + 0.94813708x2 + -0.35223721x1^2 + -0.14108683x1x2 + -0.02579466x2^2 + -0.8062014925\n"
     ]
    }
   ],
   "source": [
    "print(\"y = {}x1 + {}x2 + {}x1^2 + {}x1x2 + {}x2^2 + {}\".format(round(float(reg_pol.coef_[0,0]),8),\n",
    "                                                               round(float(reg_pol.coef_[0,1]),8),\n",
    "                                                               round(float(reg_pol.coef_[0,2]),8),\n",
    "                                                               round(float(reg_pol.coef_[0,3]),8),\n",
    "                                                               round(float(reg_pol.coef_[0,4]),8),\n",
    "                                                               round(float(reg_pol.intercept_),10)))"
   ]
  },
  {
   "cell_type": "markdown",
   "metadata": {},
   "source": [
    "##### Calificación del Modelo\n",
    "\n",
    "Por defecto scikit learn maneja la función R^2 para calificar el modelo."
   ]
  },
  {
   "cell_type": "code",
   "execution_count": 48,
   "metadata": {},
   "outputs": [
    {
     "name": "stdout",
     "output_type": "stream",
     "text": [
      "R^2: 0.3196185497520263\n"
     ]
    }
   ],
   "source": [
    "# Compute and print R^2 \n",
    "print(\"R^2: {}\".format(reg_pol.score(X_train, Y_train)))"
   ]
  },
  {
   "cell_type": "markdown",
   "metadata": {},
   "source": [
    "Podemos ver, que el modelo no tiene un score R^2 alto, es bastante bajo, es de 0.3196.\n",
    "\n",
    "Ahora, para poder compararlo con el modelo que haremos en TensorFlow sacaremos el Error de acuerdo a:\n",
    "\n",
    "$$error = 1/2*average((y-y_{hat})^2)$$"
   ]
  },
  {
   "cell_type": "code",
   "execution_count": 49,
   "metadata": {},
   "outputs": [
    {
     "name": "stdout",
     "output_type": "stream",
     "text": [
      "Error: 0.2614133833646029\n"
     ]
    }
   ],
   "source": [
    "error= 1/2* np.mean((np.array(y_hat).reshape(-1,1) - np.array(Y_train).reshape(-1,1))**2)\n",
    "print(\"Error: {}\".format(error))"
   ]
  },
  {
   "cell_type": "markdown",
   "metadata": {},
   "source": [
    "\n",
    "#### Usando TensorFlow\n",
    "Usamos la función y el modelo de entrenamiento usando en la parte 1 (en la sección anterior de este notebook).\n",
    "\n",
    "La función para la creación del modelo en Tensorflow y la función de entrenamiento ya fue ajustada para manejar varios Features."
   ]
  },
  {
   "cell_type": "markdown",
   "metadata": {},
   "source": [
    "Probamos el Modelo solo para asegurar que no haya errores y que pueda manejar varios features. Por el momento pocas corridas."
   ]
  },
  {
   "cell_type": "code",
   "execution_count": 50,
   "metadata": {},
   "outputs": [
    {
     "name": "stdout",
     "output_type": "stream",
     "text": [
      "INFO:tensorflow:Graph was finalized.\n",
      "INFO:tensorflow:Running local_init_op.\n",
      "INFO:tensorflow:Done running local_init_op.\n",
      "Prueba 5 - Parámetros finales: m=[[   49.66513]\n",
      " [ 1016.1432 ]\n",
      " [   28.96075]\n",
      " [  524.51636]\n",
      " [10943.008  ]]  b=[95.444466]\n",
      "Error - Despues de Entrenamiento=770500526080.0\n"
     ]
    }
   ],
   "source": [
    "#Usaremos el mismo Learning rate del Proyecto\n",
    "learning_rate = 0.001\n",
    "\n",
    "#Definimos cuantas iteraciones de Entrenamiento haremos\n",
    "epochs=5\n",
    "\n",
    "#Definimos cada cuanto vamos a imprimir\n",
    "imprimir_cada = 5\n",
    "\n",
    "#Ejecutamos la función de Entrenamiento para los parametros definidos\n",
    "Entrenamiento(learning_rate,epochs,imprimir_cada,X_train,Y_train)"
   ]
  },
  {
   "cell_type": "markdown",
   "metadata": {},
   "source": [
    "##### Tensorboard - Grafo\n",
    "Vemos como quedo nuestro Grafo en Tensorboard, de acuerdo al modelo definido.\n",
    "\n",
    "<img src=\"assets2/Grafo_Tensorboard.png\">"
   ]
  },
  {
   "cell_type": "markdown",
   "metadata": {},
   "source": [
    "##### Tensorboard - Scalar\n",
    "El Error obtenido por la función MSE (Mean Squared Error) se puede visualizar en tensorbord de la siguiente manera:\n",
    "\n",
    "<img src=\"assets2/Scalar_Tensorboard.png\">\n",
    "\n",
    "\n",
    "Vemos tambien como en Tensorboard se muestra la prueba con el string de configuración requerido.\n",
    "\n",
    "<img src=\"assets2/Tensorboard_StringConf.png\">"
   ]
  },
  {
   "cell_type": "markdown",
   "metadata": {},
   "source": [
    "##### Pruebas de Entrenamiento para Ajuste Parametros Modelo\n",
    "Haremos pruebas para ir ajustando los hyperparametros para el correcto funcionamiento de nuestro modelo."
   ]
  },
  {
   "cell_type": "markdown",
   "metadata": {},
   "source": [
    "###### Modelo 1\n",
    "\n",
    "Probamos con un Learning rate de 0.001, y para prueba inicial, haremos una prueba con 100 EPOCHS."
   ]
  },
  {
   "cell_type": "code",
   "execution_count": 54,
   "metadata": {},
   "outputs": [
    {
     "name": "stdout",
     "output_type": "stream",
     "text": [
      "INFO:tensorflow:Graph was finalized.\n",
      "INFO:tensorflow:Running local_init_op.\n",
      "INFO:tensorflow:Done running local_init_op.\n",
      "Prueba 20 - Parámetros finales: m=[[-5.42749795e+17]\n",
      " [-1.11046320e+19]\n",
      " [-3.16489268e+17]\n",
      " [-5.73203449e+18]\n",
      " [-1.19588066e+20]]  b=[-1.0430333e+18]\n",
      "Prueba 40 - Parámetros finales: m=[[nan]\n",
      " [nan]\n",
      " [nan]\n",
      " [nan]\n",
      " [nan]]  b=[nan]\n",
      "Prueba 60 - Parámetros finales: m=[[nan]\n",
      " [nan]\n",
      " [nan]\n",
      " [nan]\n",
      " [nan]]  b=[nan]\n",
      "Prueba 80 - Parámetros finales: m=[[nan]\n",
      " [nan]\n",
      " [nan]\n",
      " [nan]\n",
      " [nan]]  b=[nan]\n",
      "Prueba 100 - Parámetros finales: m=[[nan]\n",
      " [nan]\n",
      " [nan]\n",
      " [nan]\n",
      " [nan]]  b=[nan]\n",
      "Error - Despues de Entrenamiento=nan\n"
     ]
    }
   ],
   "source": [
    "#Seteamos el Learning rate\n",
    "learning_rate = 0.001\n",
    "\n",
    "#Definimos cuantas iteraciones de Entrenamiento haremos\n",
    "epochs=100\n",
    "\n",
    "#Definimos cada cuanto vamos a imprimir\n",
    "imprimir_cada = 20\n",
    "\n",
    "#Ejecutamos la función de Entrenamiento para los parametros definidos\n",
    "Entrenamiento(learning_rate,epochs,imprimir_cada,X_train,Y_train)"
   ]
  },
  {
   "cell_type": "markdown",
   "metadata": {},
   "source": [
    "No sirvio el modelo, el modelo no converge. Veamos la grafica en Tensorboard.\n",
    "\n",
    "<img src=\"assets2/Scalar_Tensorboard_Modelo1.png\">"
   ]
  },
  {
   "cell_type": "markdown",
   "metadata": {},
   "source": [
    "###### Modelo 2\n",
    "\n",
    "Probamos con un Learning rate mas bajo 0.0001, y para prueba inicial, haremos una prueba con 100 EPOCHS."
   ]
  },
  {
   "cell_type": "code",
   "execution_count": 59,
   "metadata": {},
   "outputs": [
    {
     "name": "stdout",
     "output_type": "stream",
     "text": [
      "INFO:tensorflow:Graph was finalized.\n",
      "INFO:tensorflow:Running local_init_op.\n",
      "INFO:tensorflow:Done running local_init_op.\n",
      "Prueba 20 - Parámetros finales: m=[[0.00036274]\n",
      " [0.0063184 ]\n",
      " [0.00018034]\n",
      " [0.00298494]\n",
      " [0.04911689]]  b=[0.00075291]\n",
      "Prueba 40 - Parámetros finales: m=[[0.00050051]\n",
      " [0.00805202]\n",
      " [0.00022917]\n",
      " [0.00359678]\n",
      " [0.04892302]]  b=[0.00107465]\n",
      "Prueba 60 - Parámetros finales: m=[[0.00063713]\n",
      " [0.00977986]\n",
      " [0.00027701]\n",
      " [0.00419921]\n",
      " [0.04873016]]  b=[0.00139531]\n",
      "Prueba 80 - Parámetros finales: m=[[0.00077259]\n",
      " [0.01150195]\n",
      " [0.00032386]\n",
      " [0.00479233]\n",
      " [0.0485383 ]]  b=[0.0017149]\n",
      "Prueba 100 - Parámetros finales: m=[[0.00090692]\n",
      " [0.01321832]\n",
      " [0.00036974]\n",
      " [0.00537622]\n",
      " [0.04834742]]  b=[0.00203343]\n",
      "Error - Despues de Entrenamiento=0.5534388422966003\n"
     ]
    }
   ],
   "source": [
    "#Seteamos el Learning rate\n",
    "learning_rate = 0.0001\n",
    "\n",
    "#Definimos cuantas iteraciones de Entrenamiento haremos\n",
    "epochs=100\n",
    "\n",
    "#Definimos cada cuanto vamos a imprimir\n",
    "imprimir_cada = 20\n",
    "\n",
    "#Ejecutamos la función de Entrenamiento para los parametros definidos\n",
    "Entrenamiento(learning_rate,epochs,imprimir_cada,X_train,Y_train)"
   ]
  },
  {
   "cell_type": "markdown",
   "metadata": {},
   "source": [
    "Tuvimos un mejor valor en el modelo, si tuvo convergencia; el error fue de **0.5534388**. Veamos la grafica en Tensorboard.\n",
    "\n",
    "<img src=\"assets2/Scalar_Tensorboard_Modelo2.png\">"
   ]
  },
  {
   "cell_type": "markdown",
   "metadata": {},
   "source": [
    "###### Modelo 3\n",
    "\n",
    "Probamos con un Learning rate un poco mas alto 0.0002, y para prueba inicial, haremos una prueba con 100 EPOCHS."
   ]
  },
  {
   "cell_type": "code",
   "execution_count": 60,
   "metadata": {},
   "outputs": [
    {
     "name": "stdout",
     "output_type": "stream",
     "text": [
      "INFO:tensorflow:Graph was finalized.\n",
      "INFO:tensorflow:Running local_init_op.\n",
      "INFO:tensorflow:Done running local_init_op.\n",
      "Prueba 20 - Parámetros finales: m=[[  -1.3553015 ]\n",
      " [ -27.731571  ]\n",
      " [  -0.79036856]\n",
      " [ -14.315162  ]\n",
      " [-298.685     ]]  b=[-2.6044483]\n",
      "Prueba 40 - Parámetros finales: m=[[   -8213.514 ]\n",
      " [ -168048.03  ]\n",
      " [   -4789.4834]\n",
      " [  -86743.74  ]\n",
      " [-1809744.9   ]]  b=[-15784.391]\n",
      "Prueba 60 - Parámetros finales: m=[[-4.9757916e+07]\n",
      " [-1.0180447e+09]\n",
      " [-2.9014936e+07]\n",
      " [-5.2549814e+08]\n",
      " [-1.0963532e+10]]  b=[-95622620.]\n",
      "Prueba 80 - Parámetros finales: m=[[-3.0143555e+11]\n",
      " [-6.1673570e+12]\n",
      " [-1.7577358e+11]\n",
      " [-3.1834930e+12]\n",
      " [-6.6417576e+13]]  b=[-5.79286e+11]\n",
      "Prueba 100 - Parámetros finales: m=[[-1.82611406e+15]\n",
      " [-3.73622169e+16]\n",
      " [-1.06484735e+15]\n",
      " [-1.92857775e+16]\n",
      " [-4.02361161e+17]]  b=[-3.509348e+15]\n",
      "Error - Despues de Entrenamiento=inf\n"
     ]
    }
   ],
   "source": [
    "#Seteamos el Learning rate\n",
    "learning_rate = 0.0002\n",
    "\n",
    "#Definimos cuantas iteraciones de Entrenamiento haremos\n",
    "epochs=100\n",
    "\n",
    "#Definimos cada cuanto vamos a imprimir\n",
    "imprimir_cada = 20\n",
    "\n",
    "#Ejecutamos la función de Entrenamiento para los parametros definidos\n",
    "Entrenamiento(learning_rate,epochs,imprimir_cada,X_train,Y_train)"
   ]
  },
  {
   "cell_type": "markdown",
   "metadata": {},
   "source": [
    "Empeoramos el modelo, nuevamente no se tuvo convergencia, al igual que el modelo 1. Veamos la grafica en Tensorboard.\n",
    "\n",
    "<img src=\"assets2/Scalar_Tensorboard_Modelo3.png\">"
   ]
  },
  {
   "cell_type": "markdown",
   "metadata": {},
   "source": [
    "###### Modelo 4\n",
    "\n",
    "Probamos con un Learning rate un poco parecido al modelo 2, un poco más alto 0.00015, y para prueba inicial, haremos una prueba con 100 EPOCHS."
   ]
  },
  {
   "cell_type": "code",
   "execution_count": 61,
   "metadata": {},
   "outputs": [
    {
     "name": "stdout",
     "output_type": "stream",
     "text": [
      "INFO:tensorflow:Graph was finalized.\n",
      "INFO:tensorflow:Running local_init_op.\n",
      "INFO:tensorflow:Done running local_init_op.\n",
      "Prueba 20 - Parámetros finales: m=[[0.00039841]\n",
      " [0.00650299]\n",
      " [0.00018543]\n",
      " [0.00293964]\n",
      " [0.04166386]]  b=[0.00084978]\n",
      "Prueba 40 - Parámetros finales: m=[[0.00063219]\n",
      " [0.00967817]\n",
      " [0.00027414]\n",
      " [0.00414697]\n",
      " [0.04763281]]  b=[0.00138578]\n",
      "Prueba 60 - Parámetros finales: m=[[0.00083922]\n",
      " [0.01234596]\n",
      " [0.00034654]\n",
      " [0.00507809]\n",
      " [0.048279  ]]  b=[0.00187293]\n",
      "Prueba 80 - Parámetros finales: m=[[0.0010401 ]\n",
      " [0.01492717]\n",
      " [0.00041467]\n",
      " [0.0059505 ]\n",
      " [0.04813304]]  b=[0.00235076]\n",
      "Prueba 100 - Parámetros finales: m=[[0.00123793]\n",
      " [0.01748468]\n",
      " [0.00048033]\n",
      " [0.0067969 ]\n",
      " [0.04787078]]  b=[0.0028252]\n",
      "Error - Despues de Entrenamiento=0.5492008328437805\n"
     ]
    }
   ],
   "source": [
    "#Seteamos el Learning rate\n",
    "learning_rate = 0.00015\n",
    "\n",
    "#Definimos cuantas iteraciones de Entrenamiento haremos\n",
    "epochs=100\n",
    "\n",
    "#Definimos cada cuanto vamos a imprimir\n",
    "imprimir_cada = 20\n",
    "\n",
    "#Ejecutamos la función de Entrenamiento para los parametros definidos\n",
    "Entrenamiento(learning_rate,epochs,imprimir_cada,X_train,Y_train)"
   ]
  },
  {
   "cell_type": "markdown",
   "metadata": {},
   "source": [
    "Se mejora el Error del Modelo 2, disminuyendo un poco, ahora obtenemos un error de **0.5492**. Vemos la información de Tensorboard.\n",
    "\n",
    "<img src=\"assets2/Scalar_Tensorboard_Modelo4.png\">"
   ]
  },
  {
   "cell_type": "markdown",
   "metadata": {},
   "source": [
    "###### Modelo 5\n",
    "\n",
    "Probamos con un Learning rate un poco mas alto al anterior 0.00016, y para prueba inicial, haremos una prueba con 100 EPOCHS."
   ]
  },
  {
   "cell_type": "code",
   "execution_count": 62,
   "metadata": {},
   "outputs": [
    {
     "name": "stdout",
     "output_type": "stream",
     "text": [
      "INFO:tensorflow:Graph was finalized.\n",
      "INFO:tensorflow:Running local_init_op.\n",
      "INFO:tensorflow:Done running local_init_op.\n",
      "Prueba 20 - Parámetros finales: m=[[-1.3149343e-05]\n",
      " [-2.0259749e-03]\n",
      " [-5.7709316e-05]\n",
      " [-1.4911713e-03]\n",
      " [-5.2072778e-02]]  b=[6.456196e-05]\n",
      "Prueba 40 - Parámetros finales: m=[[-0.00027587]\n",
      " [-0.00911203]\n",
      " [-0.00026177]\n",
      " [-0.00561081]\n",
      " [-0.15847622]]  b=[-0.00034753]\n",
      "Prueba 60 - Parámetros finales: m=[[-0.00104694]\n",
      " [-0.02655376]\n",
      " [-0.00076306]\n",
      " [-0.01509217]\n",
      " [-0.3762426 ]]  b=[-0.00173367]\n",
      "Prueba 80 - Parámetros finales: m=[[-0.00285686]\n",
      " [-0.06520585]\n",
      " [-0.00187092]\n",
      " [-0.03553781]\n",
      " [-0.8222669 ]]  b=[-0.00511338]\n",
      "Prueba 100 - Parámetros finales: m=[[-0.00679301]\n",
      " [-0.14731659]\n",
      " [-0.00421938]\n",
      " [-0.07843161]\n",
      " [-1.7361472 ]]  b=[-0.01257639]\n",
      "Error - Despues de Entrenamiento=20477.146484375\n"
     ]
    }
   ],
   "source": [
    "#Seteamos el Learning rate\n",
    "learning_rate = 0.00016\n",
    "\n",
    "#Definimos cuantas iteraciones de Entrenamiento haremos\n",
    "epochs=100\n",
    "\n",
    "#Definimos cada cuanto vamos a imprimir\n",
    "imprimir_cada = 20\n",
    "\n",
    "#Ejecutamos la función de Entrenamiento para los parametros definidos\n",
    "Entrenamiento(learning_rate,epochs,imprimir_cada,X_train,Y_train)"
   ]
  },
  {
   "cell_type": "markdown",
   "metadata": {},
   "source": [
    "Este modelo no resulto mejor que el modelo 4, empeoro, vemos un error de **20477.15**. Vemos la información de Tensorboard.\n",
    "\n",
    "<img src=\"assets2/Scalar_Tensorboard_Modelo5.png\">"
   ]
  },
  {
   "cell_type": "markdown",
   "metadata": {},
   "source": [
    "###### Modelo 6\n",
    "\n",
    "Vemos que el Learning rate que mejor funciono fue el 0.00015; ahora, dejamos este Learning rate, pero incrementamos el número de EPOCHS a 10000 para ver si mejoramos el modelo."
   ]
  },
  {
   "cell_type": "code",
   "execution_count": 70,
   "metadata": {},
   "outputs": [
    {
     "name": "stdout",
     "output_type": "stream",
     "text": [
      "INFO:tensorflow:Graph was finalized.\n",
      "INFO:tensorflow:Running local_init_op.\n",
      "INFO:tensorflow:Done running local_init_op.\n",
      "Prueba 2000 - Parámetros finales: m=[[0.01239095]\n",
      " [0.21534799]\n",
      " [0.00060423]\n",
      " [0.02837204]\n",
      " [0.02809628]]  b=[0.03952056]\n",
      "Prueba 4000 - Parámetros finales: m=[[ 0.01672024]\n",
      " [ 0.36103272]\n",
      " [-0.00396785]\n",
      " [ 0.00329717]\n",
      " [ 0.01552728]]  b=[0.0665139]\n",
      "Prueba 6000 - Parámetros finales: m=[[ 0.01884984]\n",
      " [ 0.46808302]\n",
      " [-0.00863634]\n",
      " [-0.02618737]\n",
      " [ 0.0068299 ]]  b=[0.08633737]\n",
      "Prueba 8000 - Parámetros finales: m=[[ 2.0190202e-02]\n",
      " [ 5.4837614e-01]\n",
      " [-1.2503963e-02]\n",
      " [-5.0970275e-02]\n",
      " [ 4.3648769e-04]]  b=[0.10119872]\n",
      "Prueba 10000 - Parámetros finales: m=[[ 0.02113851]\n",
      " [ 0.60899633]\n",
      " [-0.01556013]\n",
      " [-0.07030674]\n",
      " [-0.00435971]]  b=[0.11241232]\n",
      "Error - Despues de Entrenamiento=0.24086441099643707\n"
     ]
    }
   ],
   "source": [
    "#Seteamos el Learning rate\n",
    "learning_rate = 0.00015\n",
    "\n",
    "#Definimos cuantas iteraciones de Entrenamiento haremos\n",
    "epochs=10000\n",
    "\n",
    "#Definimos cada cuanto vamos a imprimir\n",
    "imprimir_cada = 2000\n",
    "\n",
    "#Ejecutamos la función de Entrenamiento para los parametros definidos\n",
    "Entrenamiento(learning_rate,epochs,imprimir_cada,X_train,Y_train)"
   ]
  },
  {
   "cell_type": "markdown",
   "metadata": {},
   "source": [
    "Se mejora el Error del Modelo 4, disminuyendo bastante, obtuvimos un error de **0.2408**. Vemos la información de Tensorboard.\n",
    "\n",
    "<img src=\"assets2/Scalar_Tensorboard_Modelo6.png\">"
   ]
  },
  {
   "cell_type": "markdown",
   "metadata": {},
   "source": [
    "###### Modelo 7\n",
    "\n",
    "Incrementamos el Learning 0.000156; ahora dejamos el número de EPOCHS a 10000 para ver si mejoramos el modelo."
   ]
  },
  {
   "cell_type": "code",
   "execution_count": 72,
   "metadata": {},
   "outputs": [
    {
     "name": "stdout",
     "output_type": "stream",
     "text": [
      "INFO:tensorflow:Graph was finalized.\n",
      "INFO:tensorflow:Running local_init_op.\n",
      "INFO:tensorflow:Done running local_init_op.\n",
      "Prueba 5000 - Parámetros finales: m=[[ 0.01813363]\n",
      " [ 0.4289824 ]\n",
      " [-0.00684964]\n",
      " [-0.01477344]\n",
      " [ 0.00997527]]  b=[0.07909783]\n",
      "Prueba 10000 - Parámetros finales: m=[[ 0.0212955 ]\n",
      " [ 0.6192186 ]\n",
      " [-0.01608675]\n",
      " [-0.07359261]\n",
      " [-0.00516723]]  b=[0.11430229]\n",
      "Error - Despues de Entrenamiento=0.2388671487569809\n"
     ]
    }
   ],
   "source": [
    "#Seteamos el Learning rate\n",
    "learning_rate = 0.000156\n",
    "\n",
    "#Definimos cuantas iteraciones de Entrenamiento haremos\n",
    "epochs=10000\n",
    "\n",
    "#Definimos cada cuanto vamos a imprimir\n",
    "imprimir_cada = 5000\n",
    "\n",
    "#Ejecutamos la función de Entrenamiento para los parametros definidos\n",
    "Entrenamiento(learning_rate,epochs,imprimir_cada,X_train,Y_train)"
   ]
  },
  {
   "cell_type": "markdown",
   "metadata": {},
   "source": [
    "Se mejora el Error del Modelo 6, disminuyendo el error a **0.2388**. Vemos la información de Tensorboard.\n",
    "\n",
    "<img src=\"assets2/Scalar_Tensorboard_Modelo7.png\">"
   ]
  },
  {
   "cell_type": "markdown",
   "metadata": {},
   "source": [
    "###### Modelo 8\n",
    "\n",
    "Dejamos el Learning 0.000156; Duplicamos el número de EPOCHS a 20000 para ver si mejoramos el modelo."
   ]
  },
  {
   "cell_type": "code",
   "execution_count": 74,
   "metadata": {},
   "outputs": [
    {
     "name": "stdout",
     "output_type": "stream",
     "text": [
      "INFO:tensorflow:Graph was finalized.\n",
      "INFO:tensorflow:Running local_init_op.\n",
      "INFO:tensorflow:Done running local_init_op.\n",
      "Prueba 10000 - Parámetros finales: m=[[ 0.0212955 ]\n",
      " [ 0.6192186 ]\n",
      " [-0.01608675]\n",
      " [-0.07359261]\n",
      " [-0.00516723]]  b=[0.11430229]\n",
      "Prueba 20000 - Parámetros finales: m=[[ 0.02333377]\n",
      " [ 0.75578576]\n",
      " [-0.02381971]\n",
      " [-0.11763871]\n",
      " [-0.01594578]]  b=[0.13948976]\n",
      "Error - Despues de Entrenamiento=0.22283552587032318\n"
     ]
    }
   ],
   "source": [
    "#Seteamos el Learning rate\n",
    "learning_rate = 0.000156\n",
    "\n",
    "#Definimos cuantas iteraciones de Entrenamiento haremos\n",
    "epochs=20000\n",
    "\n",
    "#Definimos cada cuanto vamos a imprimir\n",
    "imprimir_cada = 10000\n",
    "\n",
    "#Ejecutamos la función de Entrenamiento para los parametros definidos\n",
    "Entrenamiento(learning_rate,epochs,imprimir_cada,X_train,Y_train)"
   ]
  },
  {
   "cell_type": "markdown",
   "metadata": {},
   "source": [
    "Se mejora el Error del Modelo 7, disminuyendo el error a **0.2228**. Vemos la información de Tensorboard.\n",
    "\n",
    "<img src=\"assets2/Scalar_Tensorboard_Modelo8.png\">"
   ]
  },
  {
   "cell_type": "markdown",
   "metadata": {},
   "source": [
    "##### Calificación del Modelo\n",
    "Con Tensorflow, con una gran cantidad de pruebas, acercamos el error del modelo a 0.222835, que es mejor a la obtenida con Scikitlearn. Aunque como no evaluamos con datos de Prueba, esto es relativo aún; ya que con Tensorflow pudimos haber caido en Overfitting.\n",
    "\n",
    "Podemos concluir que con Tensorboard el Modelo que mas se ajusta es el **Modelo 8**. Los datos serian:\n",
    "\n",
    "* Learning rate = 0.000156\n",
    "* EPOCHS = 20000\n",
    "* Pendientes (m) = [[ 0.02333377],[ 0.75578576],[-0.02381971],[-0.11763871],[-0.01594578]]\n",
    "* Intercepto (b) = 0.13948976\n",
    "* MSE al Finalizar la Prueba = 0.22283552587032318\n",
    "\n",
    "La función quedaría de la siguiente forma:\n",
    "\n",
    "$$y = 0.02333377x1 + 0.75578576x2 - 0.02381971x1^2 - 0.11763871x1x2 - 0.01594578x^2 + 0.13948976$$"
   ]
  },
  {
   "cell_type": "markdown",
   "metadata": {},
   "source": [
    "Vemos como queda la grafica con este modelo."
   ]
  },
  {
   "cell_type": "code",
   "execution_count": 88,
   "metadata": {},
   "outputs": [],
   "source": [
    "x1=X_train[:,0]\n",
    "x2=X_train[:,1]\n",
    "\n",
    "#obtenemos la predicción\n",
    "y_hat = 0.02333377*x1 + 0.75578576*x2 - 0.02381971*(x1**2) - 0.11763871*x1*x2 - 0.01594578*(x2**2) + 0.13948976 \n",
    "##Redondeamos a Cero decimales\n",
    "y_hat = np.round(y_hat,decimals=0)"
   ]
  },
  {
   "cell_type": "code",
   "execution_count": 93,
   "metadata": {},
   "outputs": [
    {
     "data": {
      "image/png": "[encoded data removed]",
      "text/plain": [
       "<Figure size 432x288 with 1 Axes>"
      ]
     },
     "metadata": {
      "needs_background": "light"
     },
     "output_type": "display_data"
    }
   ],
   "source": [
    "fig=plt.figure()\n",
    "ax=fig.add_axes([0,0,1,1])\n",
    "##Solo se graficarán del 3 al 8, dado que nuestro data set solo cuenta con este rango\n",
    "ax.scatter(X_train[y_hat==3,0], X_train[y_hat==3,1], color='r', label=3)\n",
    "ax.scatter(X_train[y_hat==4,0], X_train[y_hat==4,1], color='b', label=4)\n",
    "ax.scatter(X_train[y_hat==5,0], X_train[y_hat==5,1], color='y', label=5)\n",
    "ax.scatter(X_train[y_hat==6,0], X_train[y_hat==6,1], color='lightblue', label=6)\n",
    "ax.scatter(X_train[y_hat==7,0], X_train[y_hat==7,1], color='cyan', label=7)\n",
    "ax.scatter(X_train[y_hat==8,0], X_train[y_hat==8,1], color='orange', label=8)\n",
    "ax.set_xlabel('volatile acidity')\n",
    "ax.set_ylabel('Alcohol')\n",
    "ax.set_title('Relationship between Volactile Acidity and Alcohol')\n",
    "plt.legend(loc=\"upper left\")\n",
    "plt.show()"
   ]
  }
 ],
 "metadata": {
  "kernelspec": {
   "display_name": "Python 3",
   "language": "python",
   "name": "python3"
  },
  "language_info": {
   "codemirror_mode": {
    "name": "ipython",
    "version": 3
   },
   "file_extension": ".py",
   "mimetype": "text/x-python",
   "name": "python",
   "nbconvert_exporter": "python",
   "pygments_lexer": "ipython3",
   "version": "3.7.7"
  }
 },
 "nbformat": 4,
 "nbformat_minor": 4
}
