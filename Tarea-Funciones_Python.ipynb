{
 "cells": [
  {
   "cell_type": "markdown",
   "metadata": {},
   "source": [
    "# Funciones\n",
    "\n",
    "**Definición:** Una función es una porción o bloque de código reutilizable que se encarga de realizar una determinada tarea.\n",
    "\n",
    "## Sintaxis\n",
    "\n",
    "Para declarar una función solo se debe poner la palabra **\"def\"** seguido del nombre de la función, para el ejemplo le hemos puesto \"**sumar**\", en los paréntesis deben ir los parámetros (se hablará de eso más adelante), por último la palabra \"**pass**\" es el contenido de la función. Siempre tengan en cuenta la identación dentro de la función."
   ]
  },
  {
   "cell_type": "code",
   "execution_count": 2,
   "metadata": {},
   "outputs": [],
   "source": [
    "def sumar():\n",
    "    pass"
   ]
  },
  {
   "cell_type": "markdown",
   "metadata": {},
   "source": [
    "Para ejemplificar, agregaremos en el código la suma de dos números fijos"
   ]
  },
  {
   "cell_type": "code",
   "execution_count": 5,
   "metadata": {},
   "outputs": [
    {
     "data": {
      "text/plain": [
       "21"
      ]
     },
     "execution_count": 5,
     "metadata": {},
     "output_type": "execute_result"
    }
   ],
   "source": [
    "def sumar():\n",
    "    return 20+1\n",
    "\n",
    "##Para llamar a una función sin parametros, simplemente se coloca el nombre de la función y parentesís\"().\n",
    "sumar()"
   ]
  },
  {
   "cell_type": "markdown",
   "metadata": {},
   "source": [
    "## Parametros\n",
    "\n",
    "Para la declaración de parametros, en la definición de la función luego de elegir el nombre de la misma, dentro del parantesís debemos colocar los parametros a recibir."
   ]
  },
  {
   "cell_type": "code",
   "execution_count": 9,
   "metadata": {},
   "outputs": [
    {
     "name": "stdout",
     "output_type": "stream",
     "text": [
      "21\n",
      "40\n"
     ]
    }
   ],
   "source": [
    "def sumar(numero1, numero2):\n",
    "    return numero1+numero2\n",
    "print(sumar(20,1))\n",
    "print(sumar(30,10))"
   ]
  },
  {
   "cell_type": "markdown",
   "metadata": {},
   "source": [
    "**Nota:** Python no necesita que declaremos explicitamente el tipo de dato de los parametros a recibir.\n",
    "\n",
    "Además, Python no limita el tipo de dato de los parametros enviados, pueden ser datos de \"tipos primitivos\"(int,float,string, etc.), colecciones, o estructuras de objetos; es bastante flexible."
   ]
  },
  {
   "cell_type": "markdown",
   "metadata": {},
   "source": [
    "### Orden de envió parametros\n",
    "\n",
    "Cuando enviamos parámetros a una función, damos por hecho que el primer valor siempre va al primer parámetro, el segundo valor con el segundo parámetro, y así con todo los que haya, pero esto es algo que podemos cambiar gracias a Python. Veamos:"
   ]
  },
  {
   "cell_type": "code",
   "execution_count": 21,
   "metadata": {},
   "outputs": [
    {
     "name": "stdout",
     "output_type": "stream",
     "text": [
      "Parametro1= 6\n",
      "Parametro2= 20\n",
      "26\n",
      "Parametro1= 30\n",
      "Parametro2= 5\n",
      "35\n"
     ]
    }
   ],
   "source": [
    "def sumar(numero1, numero2=5):\n",
    "    print('Parametro1=',numero1)\n",
    "    print('Parametro2=',numero2)\n",
    "    return numero1+numero2\n",
    "\n",
    "print(sumar(numero2=20,numero1=6))\n",
    "print(sumar(numero1=30))\n"
   ]
  },
  {
   "cell_type": "markdown",
   "metadata": {},
   "source": [
    "Observar que al momento de llamar a la función, explícitamente le estamos diciendo que parámetro va a tomar que valor; esto se puede verificar al imprimir los parametros recibidos y observando el valor que tienen. Podemos concluir que no es necesario seguir el orden de los parámetros en la función, pueden enviar los parámetros en el orden que deseen pero siempre poniendo explícitamente el nombre del parámetro."
   ]
  },
  {
   "cell_type": "markdown",
   "metadata": {},
   "source": [
    "### Parametros por Defecto\n",
    "\n",
    "Lo observamos en el ejemplo anterior, además de la definición de los parametros, se puede definir un valor por defecto para cualquier parametro; por lo que no es necesario el envio de la información. Veamos lo siguiente:"
   ]
  },
  {
   "cell_type": "code",
   "execution_count": 11,
   "metadata": {},
   "outputs": [
    {
     "ename": "TypeError",
     "evalue": "sumar() missing 1 required positional argument: 'numero2'",
     "output_type": "error",
     "traceback": [
      "\u001b[1;31m---------------------------------------------------------------------------\u001b[0m",
      "\u001b[1;31mTypeError\u001b[0m                                 Traceback (most recent call last)",
      "\u001b[1;32m<ipython-input-11-f0944529b2b8>\u001b[0m in \u001b[0;36m<module>\u001b[1;34m\u001b[0m\n\u001b[0;32m      5\u001b[0m     \u001b[1;32mreturn\u001b[0m \u001b[0mnumero1\u001b[0m\u001b[1;33m+\u001b[0m\u001b[0mnumero2\u001b[0m\u001b[1;33m\u001b[0m\u001b[1;33m\u001b[0m\u001b[0m\n\u001b[0;32m      6\u001b[0m \u001b[1;33m\u001b[0m\u001b[0m\n\u001b[1;32m----> 7\u001b[1;33m \u001b[0msumar\u001b[0m\u001b[1;33m(\u001b[0m\u001b[1;36m1\u001b[0m\u001b[1;33m)\u001b[0m\u001b[1;33m\u001b[0m\u001b[1;33m\u001b[0m\u001b[0m\n\u001b[0m",
      "\u001b[1;31mTypeError\u001b[0m: sumar() missing 1 required positional argument: 'numero2'"
     ]
    }
   ],
   "source": [
    "##Función sin parametros por defecto\n",
    "def sumar(numero1, numero2):\n",
    "    print('Parametro1=',numero1)\n",
    "    print('Parametro2=',numero2)\n",
    "    return numero1+numero2\n",
    "\n",
    "sumar(1)"
   ]
  },
  {
   "cell_type": "markdown",
   "metadata": {},
   "source": [
    "**Nota:** Al no tener valor por defecto, es obligatorio el envió del parametro en la ejecución de la función."
   ]
  },
  {
   "cell_type": "code",
   "execution_count": 12,
   "metadata": {},
   "outputs": [
    {
     "name": "stdout",
     "output_type": "stream",
     "text": [
      "Parametro1= 1\n",
      "Parametro2= 20\n"
     ]
    },
    {
     "data": {
      "text/plain": [
       "21"
      ]
     },
     "execution_count": 12,
     "metadata": {},
     "output_type": "execute_result"
    }
   ],
   "source": [
    "##Función sin parametros por defecto\n",
    "def sumar(numero1, numero2=20):\n",
    "    print('Parametro1=',numero1)\n",
    "    print('Parametro2=',numero2)\n",
    "    return numero1+numero2\n",
    "\n",
    "sumar(1)"
   ]
  },
  {
   "cell_type": "markdown",
   "metadata": {},
   "source": [
    "**Nota:** Al tener el segundo parametro con valor por defecto, solamente es obligatorio el envio de los parametros sin valor por defecto."
   ]
  },
  {
   "cell_type": "code",
   "execution_count": 13,
   "metadata": {},
   "outputs": [
    {
     "ename": "TypeError",
     "evalue": "sumar() missing 1 required positional argument: 'numero1'",
     "output_type": "error",
     "traceback": [
      "\u001b[1;31m---------------------------------------------------------------------------\u001b[0m",
      "\u001b[1;31mTypeError\u001b[0m                                 Traceback (most recent call last)",
      "\u001b[1;32m<ipython-input-13-107c66500400>\u001b[0m in \u001b[0;36m<module>\u001b[1;34m\u001b[0m\n\u001b[1;32m----> 1\u001b[1;33m \u001b[0msumar\u001b[0m\u001b[1;33m(\u001b[0m\u001b[0mnumero2\u001b[0m\u001b[1;33m=\u001b[0m\u001b[1;36m20\u001b[0m\u001b[1;33m)\u001b[0m\u001b[1;33m\u001b[0m\u001b[1;33m\u001b[0m\u001b[0m\n\u001b[0m",
      "\u001b[1;31mTypeError\u001b[0m: sumar() missing 1 required positional argument: 'numero1'"
     ]
    }
   ],
   "source": [
    "sumar(numero2=20)"
   ]
  },
  {
   "cell_type": "markdown",
   "metadata": {},
   "source": [
    "**Nota:** Aunque tengamos valores por defecto, sino se envía el valor para aquellos parametros que si lo necesitan (sin valor por defecto), habrán errores en la ejecución de la función. "
   ]
  },
  {
   "cell_type": "code",
   "execution_count": 18,
   "metadata": {},
   "outputs": [
    {
     "name": "stdout",
     "output_type": "stream",
     "text": [
      "Parametro1= 30\n",
      "Parametro2= 20\n"
     ]
    },
    {
     "data": {
      "text/plain": [
       "50"
      ]
     },
     "execution_count": 18,
     "metadata": {},
     "output_type": "execute_result"
    }
   ],
   "source": [
    "##Declaración de función con ambos parametros por defecto\n",
    "def sumar(numero1=2, numero2=20):\n",
    "    print('Parametro1=',numero1)\n",
    "    print('Parametro2=',numero2)\n",
    "    return numero1+numero2\n",
    "\n",
    "##Al no declarar explicitamente que parametro se envia, ¿Cúal tomará?\n",
    "sumar(30)"
   ]
  },
  {
   "cell_type": "markdown",
   "metadata": {},
   "source": [
    "**Nota:** Vemos que al tener todos los parametros por defecto, y enviar un parametro sin indicar a cual corresponde, asigna el valor al primero de los parametros declarados."
   ]
  },
  {
   "cell_type": "markdown",
   "metadata": {},
   "source": [
    " #### Combinanción parametros con valores con defecto y sin valores por defecto\n",
    " \n",
    " La única regla que tiene python para declaración de valores por defecto para parametros, es que una vez se declaré el primer valor por defecto al primer parametros, el resto de parametros declarados a la derecha deben tener valor por defecto. Veamos:"
   ]
  },
  {
   "cell_type": "code",
   "execution_count": 20,
   "metadata": {},
   "outputs": [
    {
     "ename": "SyntaxError",
     "evalue": "non-default argument follows default argument (<ipython-input-20-83f654292174>, line 2)",
     "output_type": "error",
     "traceback": [
      "\u001b[1;36m  File \u001b[1;32m\"<ipython-input-20-83f654292174>\"\u001b[1;36m, line \u001b[1;32m2\u001b[0m\n\u001b[1;33m    def sumar(numero1, numero2=20, numero3):\u001b[0m\n\u001b[1;37m              ^\u001b[0m\n\u001b[1;31mSyntaxError\u001b[0m\u001b[1;31m:\u001b[0m non-default argument follows default argument\n"
     ]
    }
   ],
   "source": [
    "##Declaración de función con ambos parametros por defecto\n",
    "def sumar(numero1, numero2=20, numero3):\n",
    "    print('Parametro1=',numero1)\n",
    "    print('Parametro2=',numero2)\n",
    "    print('Parametro3=',numero3)\n",
    "    return numero1+numero2 + numero3"
   ]
  },
  {
   "cell_type": "markdown",
   "metadata": {},
   "source": [
    "Al declarar el parametro **numero3** sin valor por defecto, luego de la declaración del **parametro2** que si tiene valor por defecto, tenemos un error."
   ]
  },
  {
   "cell_type": "markdown",
   "metadata": {},
   "source": [
    "### Argumentos indeterminados (Número de Parametros Variable)\n",
    "\n",
    "En alguna ocasión usted no sabe previamente cuantos elementos necesita enviar a una función. En estos casos puede utilizar los parámetros indeterminados por posición y por nombre.\n",
    "\n",
    "#### Por Posición\n",
    "Usted debe crear una lista dinámica de argumentos, es decir, un tipo tupla, definiendo el parámetro con un asterisco, para recibir los parámetros indeterminados por posición:"
   ]
  },
  {
   "cell_type": "code",
   "execution_count": 63,
   "metadata": {},
   "outputs": [
    {
     "name": "stdout",
     "output_type": "stream",
     "text": [
      "5\n",
      "Hola\n",
      "[1, 2, 3, 4, 5]\n"
     ]
    }
   ],
   "source": [
    "def indeterminados_posicion(*args):\n",
    "    for arg in args:\n",
    "        print(arg)\n",
    "\n",
    "indeterminados_posicion(5,\"Hola\",[1,2,3,4,5])"
   ]
  },
  {
   "cell_type": "markdown",
   "metadata": {},
   "source": [
    "#### Por nombre\n",
    "\n",
    "Para recibir un número indeterminado de parámetros por nombre (***clave-valor*** o en inglés ***keyword args***), usted debe crear un diccionario dinámico de argumentos definiendo el parámetro con dos asteriscos:"
   ]
  },
  {
   "cell_type": "code",
   "execution_count": 65,
   "metadata": {},
   "outputs": [
    {
     "name": "stdout",
     "output_type": "stream",
     "text": [
      "numero => 5\n",
      "texto => Hola Plone\n",
      "lista => [1, 2, 3, 4, 5]\n"
     ]
    }
   ],
   "source": [
    "def indeterminados_nombre(**kwargs):\n",
    "    for kwarg in kwargs:\n",
    "        print(kwarg, \"=>\", kwargs[kwarg])\n",
    "\n",
    "indeterminados_nombre(numero=5, texto=\"Hola Plone\", lista=[1,2,3,4,5])"
   ]
  },
  {
   "cell_type": "markdown",
   "metadata": {},
   "source": [
    "#### Por posición y nombre\n",
    "\n",
    "Si requiere aceptar ambos tipos de parámetros simultáneamente en una función, entonces debe crear ambas colecciones dinámicas. Primero los argumentos indeterminados por valor y luego los cuales son por clave y valor:"
   ]
  },
  {
   "cell_type": "code",
   "execution_count": 69,
   "metadata": {},
   "outputs": [
    {
     "name": "stdout",
     "output_type": "stream",
     "text": [
      "sumatorio =>  380.56\n",
      "text => Phone\n",
      "edad => 38\n"
     ]
    }
   ],
   "source": [
    "def super_funcion(*args,**kwargs):\n",
    "    total = 0\n",
    "    for arg in args:\n",
    "        total += arg\n",
    "    print(\"sumatorio => \", total)\n",
    "    for kwarg in kwargs:\n",
    "        print(kwarg, \"=>\", kwargs[kwarg])\n",
    "            \n",
    "super_funcion(50, -1, 1.56, 10, 20, 300, text=\"Phone\", edad=38)"
   ]
  },
  {
   "cell_type": "markdown",
   "metadata": {},
   "source": [
    "Los nombres ***args*** y ***kwargs*** no son obligatorios, pero se suelen utilizar por convención.\n",
    "\n",
    "Muchos frameworks y librerías los utilizan por lo que es una buena practica llamarlos así."
   ]
  },
  {
   "cell_type": "markdown",
   "metadata": {},
   "source": [
    "### Funciones como parametros de otra Función\n",
    "\n",
    "En Python las funciones son bien dinámicas, y no es necesario ejecutarlos de forma independiente; pueden combinarse en la ejecución de otras funciones. Veamos:"
   ]
  },
  {
   "cell_type": "code",
   "execution_count": 95,
   "metadata": {},
   "outputs": [
    {
     "name": "stdout",
     "output_type": "stream",
     "text": [
      "129\n"
     ]
    }
   ],
   "source": [
    "def potencia(numero,potencia):\n",
    "    return numero**potencia\n",
    "\n",
    "def suma(numero1, numero2):\n",
    "    return numero1+numero2\n",
    "\n",
    "print(suma(potencia(2,2),potencia(5,3)))"
   ]
  },
  {
   "cell_type": "markdown",
   "metadata": {},
   "source": [
    "**Nota:** En este ejemplo vemos como el resultado de una función puede enviarse como parametro en otra función"
   ]
  },
  {
   "cell_type": "code",
   "execution_count": 97,
   "metadata": {},
   "outputs": [
    {
     "name": "stdout",
     "output_type": "stream",
     "text": [
      "<class 'function'>\n"
     ]
    },
    {
     "data": {
      "text/plain": [
       "12"
      ]
     },
     "execution_count": 97,
     "metadata": {},
     "output_type": "execute_result"
    }
   ],
   "source": [
    "'''Creamos una función que evalua y=2x+constante'''\n",
    "def funcion(numero,constante):\n",
    "    return 2*numero + constante\n",
    "\n",
    "def evaluacion(numero1, numero2, funcion):\n",
    "    print(type(funcion))\n",
    "    return funcion(numero1,numero2)\n",
    "\n",
    "evaluacion(5,2, funcion)"
   ]
  },
  {
   "cell_type": "markdown",
   "metadata": {},
   "source": [
    "**Nota:** No solamente podemos enviar resultados de funciones como parametros, sino que podemos enviar la función misma como parametro de otra función."
   ]
  },
  {
   "cell_type": "markdown",
   "metadata": {},
   "source": [
    "## Retorno de Valores en uso de Funciones\n",
    "\n",
    "### Funciones sin valor de retorno\n",
    "El uso de funciones en python no obliga al retorno de valores en la función. Veamos:"
   ]
  },
  {
   "cell_type": "code",
   "execution_count": 22,
   "metadata": {},
   "outputs": [
    {
     "name": "stdout",
     "output_type": "stream",
     "text": [
      "Jonathan De León\n"
     ]
    }
   ],
   "source": [
    "def imprimirNombre(nombre):\n",
    "    print(nombre)\n",
    "    \n",
    "imprimirNombre('Jonathan De León')"
   ]
  },
  {
   "cell_type": "markdown",
   "metadata": {},
   "source": [
    "**Nota:** Aquí tenemos una función que únicamente imprime el valor del parametro recibido, pero no devuelve nada."
   ]
  },
  {
   "cell_type": "markdown",
   "metadata": {},
   "source": [
    "### Funciones con un valor de retorno\n",
    "\n",
    "Este es el uso más común para las funciones; se procesan los parametros recibidos y devuelve un resultado. Veamos:"
   ]
  },
  {
   "cell_type": "code",
   "execution_count": 27,
   "metadata": {},
   "outputs": [
    {
     "data": {
      "text/plain": [
       "50"
      ]
     },
     "execution_count": 27,
     "metadata": {},
     "output_type": "execute_result"
    }
   ],
   "source": [
    "def mayor(numero1,numero2):\n",
    "    return max(numero1,numero2)\n",
    "\n",
    "mayor(20,50)"
   ]
  },
  {
   "cell_type": "markdown",
   "metadata": {},
   "source": [
    "### Funciones con Multiples valores de Retorno\n",
    "\n",
    "Aunque no es muy común en su uso, dado que otros lenguajes de programación limitan el número de valores a devolver en una función; python es bastante flexibe. Veamos:"
   ]
  },
  {
   "cell_type": "code",
   "execution_count": 29,
   "metadata": {},
   "outputs": [
    {
     "data": {
      "text/plain": [
       "(50, 1)"
      ]
     },
     "execution_count": 29,
     "metadata": {},
     "output_type": "execute_result"
    }
   ],
   "source": [
    "def mayor_menor(listanumeros):\n",
    "    mayor=max(listanumeros)\n",
    "    menor=min(listanumeros)\n",
    "    \n",
    "    return mayor,menor\n",
    "    \n",
    "mayor_menor([1,50,40,10,20])"
   ]
  },
  {
   "cell_type": "markdown",
   "metadata": {},
   "source": [
    "El número no se limita a dos, agregemos otro valor a devolver en la función:"
   ]
  },
  {
   "cell_type": "code",
   "execution_count": 35,
   "metadata": {},
   "outputs": [
    {
     "data": {
      "text/plain": [
       "(50, 1, 24.2)"
      ]
     },
     "execution_count": 35,
     "metadata": {},
     "output_type": "execute_result"
    }
   ],
   "source": [
    "def mayor_menor_media(listanumeros):\n",
    "    mayor=max(listanumeros)\n",
    "    menor=min(listanumeros)\n",
    "    media=sum(listanumeros)/len(listanumeros)\n",
    "    return mayor,menor,media\n",
    "    \n",
    "mayor_menor_media([1,50,40,10,20])"
   ]
  },
  {
   "cell_type": "markdown",
   "metadata": {},
   "source": [
    "**Nota:** Podemos que no se limita el datos a devolver no se limita a 2; pueden ser N valores devueltos."
   ]
  },
  {
   "cell_type": "markdown",
   "metadata": {},
   "source": [
    "#### Asignación de Valores de Retorno\n",
    "\n",
    "Cuando se asigna un único valor de retorno:"
   ]
  },
  {
   "cell_type": "code",
   "execution_count": 39,
   "metadata": {},
   "outputs": [
    {
     "name": "stdout",
     "output_type": "stream",
     "text": [
      "80\n"
     ]
    }
   ],
   "source": [
    "NumeroMayor= mayor(80,30)\n",
    "print(NumeroMayor)"
   ]
  },
  {
   "cell_type": "markdown",
   "metadata": {},
   "source": [
    "Cuando se asigna más de un valor de retorno:"
   ]
  },
  {
   "cell_type": "code",
   "execution_count": 40,
   "metadata": {},
   "outputs": [
    {
     "name": "stdout",
     "output_type": "stream",
     "text": [
      "Mayor= 50\n",
      "Menor= 1\n"
     ]
    }
   ],
   "source": [
    "mayor,menor= mayor_menor([1,50,40,10,20])\n",
    "print('Mayor=',mayor)\n",
    "print('Menor=',menor)"
   ]
  },
  {
   "cell_type": "markdown",
   "metadata": {},
   "source": [
    "**Nota:** Se pueden asignar a dos variables por separado."
   ]
  },
  {
   "cell_type": "code",
   "execution_count": 37,
   "metadata": {},
   "outputs": [
    {
     "name": "stdout",
     "output_type": "stream",
     "text": [
      "Numero Máximo= 50\n",
      "Numero Minimo= 1\n",
      "Numero Media= 24.2\n"
     ]
    }
   ],
   "source": [
    "numMax,numMin,numMedia= mayor_menor_media([1,50,40,10,20])\n",
    "print('Numero Máximo=',numMax)\n",
    "print('Numero Minimo=',numMin)\n",
    "print('Numero Media=',numMedia)"
   ]
  },
  {
   "cell_type": "markdown",
   "metadata": {},
   "source": [
    "**Nota:** Se pueden asignar a tres o más variables por separado."
   ]
  },
  {
   "cell_type": "code",
   "execution_count": 41,
   "metadata": {},
   "outputs": [
    {
     "name": "stdout",
     "output_type": "stream",
     "text": [
      "Valores Máximo, Minimo, Media= (50, 1, 24.2)\n",
      "<class 'tuple'>\n"
     ]
    }
   ],
   "source": [
    "Valores= mayor_menor_media([1,50,40,10,20])\n",
    "print('Valores Máximo, Minimo, Media=',Valores)\n",
    "print(type(Valores))"
   ]
  },
  {
   "cell_type": "markdown",
   "metadata": {},
   "source": [
    "**Nota:** Se puede asignar a una única variable, que será de tipo Tupla."
   ]
  },
  {
   "cell_type": "markdown",
   "metadata": {},
   "source": [
    "## Uso de Clases (Programación Orientada a objetos)\n",
    "\n",
    "Las **clases** proveen una forma de empaquetar datos y funcionalidad juntos. Al crear una nueva clase, se crea un nuevo tipo de objeto, permitiendo crear nuevas instancias de ese tipo. Cada instancia de clase puede tener atributos adjuntos para mantener su estado. Las instancias de clase también pueden tener métodos (definidos por su clase) para modificar su estado.\n",
    "\n",
    "Comparado con otros lenguajes de programación, el mecanismo de clases de Python agrega clases con un mínimo de nuevas sintaxis y semánticas. Es una mezcla de los mecanismos de clases encontrados en C++ y Modula-3. Las clases de Python proveen todas las características normales de la Programación Orientada a Objetos: el mecanismo de la herencia de clases permite múltiples clases base, una clase derivada puede sobre escribir cualquier método de su(s) clase(s) base, y un método puede llamar al método de la clase base con el mismo nombre. Los objetos pueden tener una cantidad arbitraria de datos de cualquier tipo. Igual que con los módulos, las clases participan de la naturaleza dinámica de Python: se crean en tiempo de ejecución, y pueden modificarse luego de la creación.\n",
    "\n",
    "### Sintaxis en la Definición de Clases\n",
    "\n",
    "La forma más sencilla de definición de una clase se ve así:\n",
    ">class Clase:\n",
    ">>    <declaración-1>\n",
    ">>    \n",
    ">>    <declaración-N>"
   ]
  },
  {
   "cell_type": "markdown",
   "metadata": {},
   "source": [
    "Las definiciones de clases, al igual que las definiciones de funciones (instrucciones **def**) deben ejecutarse antes de que tengan efecto alguno. \n",
    "\n",
    "Cuando se ingresa una definición de clase, se crea un nuevo espacio de nombres, el cual se usa como ámbito local; por lo tanto, todas las asignaciones a variables locales van a este nuevo espacio de nombres. En particular, las definiciones de funciones asocian el nombre de las funciones nuevas allí.\n",
    "\n",
    "Cuando una definición de clase se finaliza normalmente se crea un objeto clase. Básicamente, este objeto envuelve los contenidos del espacio de nombres creado por la definición de la clase; aprenderemos más acerca de los objetos clase en la sección siguiente. El ámbito local original (el que tenía efecto justo antes de que ingrese la definición de la clase) es restablecido, y el objeto clase se asocia allí al nombre que se le puso a la clase en el encabezado de su definición (Clase en el ejemplo)"
   ]
  },
  {
   "cell_type": "code",
   "execution_count": 47,
   "metadata": {},
   "outputs": [],
   "source": [
    "##Ejmplo sencillo de definición de Clase\n",
    "class MiClase:\n",
    "    \"\"\"Simple clase de ejemplo\"\"\"\n",
    "    i = 12345\n",
    "    def f(self):\n",
    "        return 'hola mundo'"
   ]
  },
  {
   "cell_type": "markdown",
   "metadata": {},
   "source": [
    "### Uso y Instanciación de la clase\n",
    "\n",
    "La instanciación de clases usa la notación de funciones. Hacé de cuenta que el objeto de clase es una función sin parámetros que devuelve una nueva instancia de la clase. Por ejemplo (para la clase de más arriba):"
   ]
  },
  {
   "cell_type": "code",
   "execution_count": 49,
   "metadata": {},
   "outputs": [
    {
     "data": {
      "text/plain": [
       "'hola mundo'"
      ]
     },
     "execution_count": 49,
     "metadata": {},
     "output_type": "execute_result"
    }
   ],
   "source": [
    "x = MiClase()\n",
    "x.f()"
   ]
  },
  {
   "cell_type": "markdown",
   "metadata": {},
   "source": [
    "**Nota:** Crea una nueva instancia de la clase y asigna este objeto a la variable local x."
   ]
  },
  {
   "cell_type": "markdown",
   "metadata": {},
   "source": [
    "La operación de instanciación (“llamar” a un objeto clase) crea un objeto vacío. Muchas clases necesitan crear objetos con instancias en un estado inicial particular. Por lo tanto una clase puede definir un método especial llamado *\\_\\_init\\_\\_()*, de esta forma:"
   ]
  },
  {
   "cell_type": "code",
   "execution_count": 50,
   "metadata": {},
   "outputs": [],
   "source": [
    "def __init__(self):\n",
    "    self.datos = []"
   ]
  },
  {
   "cell_type": "markdown",
   "metadata": {},
   "source": [
    "Cuando una clase define un método ***\\_\\_init\\_\\_()***, la instanciación de la clase automáticamente invoca a ***\\_\\_init\\_\\_()*** para la instancia recién creada."
   ]
  },
  {
   "cell_type": "code",
   "execution_count": 59,
   "metadata": {},
   "outputs": [
    {
     "name": "stdout",
     "output_type": "stream",
     "text": [
      "Jonathan De Leon\n"
     ]
    }
   ],
   "source": [
    "class Misdatos:\n",
    "    Nombre=''\n",
    "    Apellido=''\n",
    "    \n",
    "    def __init__(self):\n",
    "        self.Nombre = \"Jonathan\"\n",
    "        self.Apellido = \"De Leon\"\n",
    "        \n",
    "    def desplegarNombre(self):\n",
    "        print(self.Nombre,self.Apellido)\n",
    "        \n",
    "x = Misdatos()\n",
    "x.desplegarNombre()"
   ]
  },
  {
   "cell_type": "markdown",
   "metadata": {},
   "source": [
    "**Nota:** Al momento de instanciar la clase, se ejecuta la función ***\\_\\_init()\\_\\_*** , y para este caso particular asignando los valores a las propiedades ya definidas para la clase."
   ]
  },
  {
   "cell_type": "markdown",
   "metadata": {},
   "source": [
    "Por supuesto, el método ***\\_\\_init\\_\\_()*** puede tener argumentos para mayor flexibilidad. En ese caso, los argumentos que se pasen al operador de instanciación de la clase van a parar al método ***\\_\\_init\\_\\_()***. Por ejemplo:"
   ]
  },
  {
   "cell_type": "code",
   "execution_count": 60,
   "metadata": {},
   "outputs": [
    {
     "name": "stdout",
     "output_type": "stream",
     "text": [
      "Jonathan De León\n"
     ]
    }
   ],
   "source": [
    "class Misdatos:\n",
    "    Nombre=''\n",
    "    Apellido=''\n",
    "    \n",
    "    def __init__(self, nombre, apellido):\n",
    "        self.Nombre = nombre\n",
    "        self.Apellido = apellido\n",
    "        \n",
    "    def desplegarNombre(self):\n",
    "        print(self.Nombre,self.Apellido)\n",
    "        \n",
    "x = Misdatos('Jonathan', 'De León')\n",
    "x.desplegarNombre()"
   ]
  },
  {
   "cell_type": "markdown",
   "metadata": {},
   "source": [
    "**Nota:** *Para no extender la explicación de las clases, podemos ampliar que las funciones definidas dentro de la misma, tienen la misma flexibilidad y operatibilidad vista anteriormente en este documento, en cuanto a sus definiciones, parametros y demás.*"
   ]
  },
  {
   "cell_type": "markdown",
   "metadata": {},
   "source": [
    "## Funciones Anónimas\n",
    "\n",
    "Una función anónima, como su nombre indica es una función sin nombre. Es decir, es posible ejecutar una función sin referenciar un nombre, en Python puede ejecutar una función sin definirla con **def**.\n",
    "\n",
    "De hecho son similares pero con una diferencia fundamental, el contenido de una función anónima debe ser una única expresión en lugar de un bloque de acciones.\n",
    "\n",
    "Las funciones anónimas se implementan en Python con las funciones o expresiones *lambda*, esta es unas de las funcionalidades más potentes de Python.\n",
    "\n",
    "### Expresión lambda\n",
    "\n",
    "Si se deconstruye una función sencilla, puede llegar a una función *lambda*. Por ejemplo la siguiente función es para doblar un valor de un número:"
   ]
  },
  {
   "cell_type": "code",
   "execution_count": 87,
   "metadata": {},
   "outputs": [
    {
     "name": "stdout",
     "output_type": "stream",
     "text": [
      "4\n",
      "<class 'function'>\n"
     ]
    }
   ],
   "source": [
    "def doblar(numero):\n",
    "    resultado = numero*2\n",
    "    return resultado\n",
    "\n",
    "print(doblar(2))\n",
    "print(type(doblar))"
   ]
  },
  {
   "cell_type": "markdown",
   "metadata": {},
   "source": [
    "Si el código fuente anterior se simplifica se verá, de la siguiente forma:"
   ]
  },
  {
   "cell_type": "code",
   "execution_count": 74,
   "metadata": {},
   "outputs": [
    {
     "name": "stdout",
     "output_type": "stream",
     "text": [
      "4\n",
      "<class 'function'>\n"
     ]
    }
   ],
   "source": [
    "def doblar(numero):\n",
    "    return numero*2\n",
    "\n",
    "print(doblar(2))\n",
    "print(type(doblar))"
   ]
  },
  {
   "cell_type": "markdown",
   "metadata": {},
   "source": [
    "Se puede todavía simplificar más, escribirlo todo en una sola línea, de la siguiente forma:"
   ]
  },
  {
   "cell_type": "code",
   "execution_count": 77,
   "metadata": {},
   "outputs": [
    {
     "data": {
      "text/plain": [
       "function"
      ]
     },
     "execution_count": 77,
     "metadata": {},
     "output_type": "execute_result"
    }
   ],
   "source": [
    "def doblar(numero): return numero*2\n",
    "type(doblar)"
   ]
  },
  {
   "cell_type": "markdown",
   "metadata": {},
   "source": [
    "En Notación *lambda* seria:"
   ]
  },
  {
   "cell_type": "code",
   "execution_count": 78,
   "metadata": {},
   "outputs": [
    {
     "data": {
      "text/plain": [
       "<function __main__.<lambda>(numero)>"
      ]
     },
     "execution_count": 78,
     "metadata": {},
     "output_type": "execute_result"
    }
   ],
   "source": [
    "lambda numero: numero*2"
   ]
  },
  {
   "cell_type": "markdown",
   "metadata": {},
   "source": [
    "Lo único que necesita hacer para utilizarla es guardarla en una variable y utilizarla tal como haría con una función normal:"
   ]
  },
  {
   "cell_type": "code",
   "execution_count": 83,
   "metadata": {},
   "outputs": [
    {
     "data": {
      "text/plain": [
       "4"
      ]
     },
     "execution_count": 83,
     "metadata": {},
     "output_type": "execute_result"
    }
   ],
   "source": [
    "doblar = lambda numero: numero*2\n",
    "doblar(2)"
   ]
  },
  {
   "cell_type": "markdown",
   "metadata": {},
   "source": [
    "#### Otros Ejemplos"
   ]
  },
  {
   "cell_type": "code",
   "execution_count": 84,
   "metadata": {},
   "outputs": [
    {
     "data": {
      "text/plain": [
       "True"
      ]
     },
     "execution_count": 84,
     "metadata": {},
     "output_type": "execute_result"
    }
   ],
   "source": [
    "impar = lambda numero: numero%2 != 0\n",
    "impar(5)"
   ]
  },
  {
   "cell_type": "code",
   "execution_count": 85,
   "metadata": {},
   "outputs": [
    {
     "data": {
      "text/plain": [
       "'enohP'"
      ]
     },
     "execution_count": 85,
     "metadata": {},
     "output_type": "execute_result"
    }
   ],
   "source": [
    "revertir = lambda cadena: cadena[::-1]\n",
    "revertir(\"Phone\")"
   ]
  },
  {
   "cell_type": "code",
   "execution_count": 86,
   "metadata": {},
   "outputs": [
    {
     "data": {
      "text/plain": [
       "7"
      ]
     },
     "execution_count": 86,
     "metadata": {},
     "output_type": "execute_result"
    }
   ],
   "source": [
    "sumar = lambda x,y: x+y\n",
    "sumar(5,2)"
   ]
  }
 ],
 "metadata": {
  "kernelspec": {
   "display_name": "Python 3",
   "language": "python",
   "name": "python3"
  },
  "language_info": {
   "codemirror_mode": {
    "name": "ipython",
    "version": 3
   },
   "file_extension": ".py",
   "mimetype": "text/x-python",
   "name": "python",
   "nbconvert_exporter": "python",
   "pygments_lexer": "ipython3",
   "version": "3.8.1"
  }
 },
 "nbformat": 4,
 "nbformat_minor": 4
}
