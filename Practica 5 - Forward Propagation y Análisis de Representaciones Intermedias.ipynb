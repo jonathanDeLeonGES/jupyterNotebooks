{
 "cells": [
  {
   "cell_type": "markdown",
   "metadata": {},
   "source": [
    "# Practica 5 - Forward Propagation y Análisis de Representaciones Intermedias\n",
    "\n",
    "Implementar forward-propagation para los 3 diagramas dados."
   ]
  },
  {
   "cell_type": "markdown",
   "metadata": {},
   "source": [
    "1. Se crean algunas funciones genericas para realizar el foward propagation"
   ]
  },
  {
   "cell_type": "code",
   "execution_count": 141,
   "metadata": {},
   "outputs": [],
   "source": [
    "#Importamos las librerias que utilizaremos\n",
    "import numpy as np\n",
    "import pandas as pd\n",
    "import matplotlib.pyplot as plt"
   ]
  },
  {
   "cell_type": "code",
   "execution_count": 37,
   "metadata": {},
   "outputs": [],
   "source": [
    "#Creamos la función de Activación para los tres diagramas\n",
    "def sigmoid(X):\n",
    "    return 1/(1+np.exp(-X))"
   ]
  },
  {
   "cell_type": "code",
   "execution_count": 94,
   "metadata": {},
   "outputs": [],
   "source": [
    "#Creamos función sencilla para realizar el Forward Propagation\n",
    "def forwad_propagation(X,WC1,WC2,bias_include):\n",
    "    #Colocamos una bandera que nos indica si los pesos incluyen bias\n",
    "    #bias_include=True or False\n",
    "    if bias_include:\n",
    "        #El Bias se incluye como un valor 1 en la última columna.\n",
    "        Bias= np.ones(len(X)).reshape(-1,1)\n",
    "        X= np.hstack((X,Bias))\n",
    "    \n",
    "    #Se hace el Cálculo de la Primera capa oculta\n",
    "    H1 = sigmoid(np.matmul(X,WC1))\n",
    "    \n",
    "    if bias_include:\n",
    "        #El Bias se incluye como un valor 1 en la última columna.\n",
    "        Bias= np.ones(len(H1)).reshape(-1,1)\n",
    "        H1= np.hstack((H1,Bias))\n",
    "\n",
    "    #Se hace el Cálculo de la Capa de Salida\n",
    "    H2 = sigmoid(np.matmul(H1,WC2))\n",
    "    \n",
    "    #Devolvemos la representación Intermedia(H1) como el Resultado (H2)\n",
    "    return H1,H2"
   ]
  },
  {
   "cell_type": "markdown",
   "metadata": {},
   "source": [
    "2. Efectuamos el calculo para los diagramas"
   ]
  },
  {
   "cell_type": "markdown",
   "metadata": {},
   "source": [
    "<img src=\"assets/Diagrama1RN.png\">\n",
    "\n",
    "*La caracteristica intermedia h con mayor presencia es la primera neurona de la capa intermedia, al tener un mayor peso sinaptico.*"
   ]
  },
  {
   "cell_type": "code",
   "execution_count": 95,
   "metadata": {},
   "outputs": [
    {
     "data": {
      "text/plain": [
       "array([0.21311319, 0.13752047, 0.12913527])"
      ]
     },
     "execution_count": 95,
     "metadata": {},
     "output_type": "execute_result"
    }
   ],
   "source": [
    "#Dado que no se dan valores - se ponen de prueba\n",
    "X= [[0.5,0.6],\n",
    "    [0.3,0.5],\n",
    "    [0.2,0.3]]\n",
    "\n",
    "#Pesos Capas 1\n",
    "WC1 = np.array([\n",
    "  [ 5, 7],\n",
    "  [-2,-3],\n",
    "  [-8, 1]    \n",
    "])\n",
    "\n",
    "#Pesos Capas 2\n",
    "WC2 = np.array([7,5,-6])\n",
    "\n",
    "#Valores de Entrada \n",
    "#Dado que no se dan valores - se ponen de prueba\n",
    "X= [[0.5,0.6],\n",
    "    [0.3,0.5],\n",
    "    [0.2,0.3]]\n",
    "\n",
    "#Calculamos Foward_Propagation donde los pesos incluyen bias\n",
    "_,Resultado= forwad_propagation(X,WC1,WC2,True)\n",
    "Resultado"
   ]
  },
  {
   "cell_type": "markdown",
   "metadata": {},
   "source": [
    "<img src=\"assets/Diagrama2RN.png\">\n",
    "\n",
    "*La caracteristica intermedia h con mayor presencia es la tercera neurona de la capa intermedia, al tener un mayor peso sinaptico.*"
   ]
  },
  {
   "cell_type": "code",
   "execution_count": 96,
   "metadata": {},
   "outputs": [
    {
     "data": {
      "text/plain": [
       "array([0.77438027])"
      ]
     },
     "execution_count": 96,
     "metadata": {},
     "output_type": "execute_result"
    }
   ],
   "source": [
    "#Pesos Capas 1\n",
    "WC1 = np.array([\n",
    "  [ 0.8, 0.4, 0.3],\n",
    "  [ 0.2, 0.9, 0.5]\n",
    "])\n",
    "\n",
    "#Pesos Capas 2\n",
    "WC2 = np.array([0.3,0.5,0.9])\n",
    "\n",
    "#Valores de Entrada - El Bias se incluye como un valor 1 en la última columna.\n",
    "X= [[1,1]]\n",
    "\n",
    "#Calculamos Foward_Propagation donde los pesos no incluyen bias\n",
    "_,Resultado=forwad_propagation(X,WC1,WC2,False)\n",
    "Resultado"
   ]
  },
  {
   "cell_type": "markdown",
   "metadata": {},
   "source": [
    "<img src=\"assets/Diagrama3RN.png\">\n",
    "\n",
    "*A diferencia a los modelos anteriores, aquí las caracteristicas intermedias muestran el mismo peso sinaptico.*"
   ]
  },
  {
   "cell_type": "code",
   "execution_count": 98,
   "metadata": {},
   "outputs": [
    {
     "data": {
      "text/plain": [
       "array([0., 1., 1., 0.])"
      ]
     },
     "execution_count": 98,
     "metadata": {},
     "output_type": "execute_result"
    }
   ],
   "source": [
    "#Pesos Capas 1\n",
    "WC1 = np.array([\n",
    "  [ 20, -20],\n",
    "  [ 20, -20],\n",
    "  [-10, 30]])\n",
    "\n",
    "#Pesos Capas 2\n",
    "WC2 = np.array([20,20,-30])\n",
    "\n",
    "#Valores de Entrada - El Bias se incluye como un valor 1 en la última columna.\n",
    "X= [[1,1],\n",
    "    [1,0],\n",
    "    [0,1],\n",
    "    [1,1]]\n",
    "\n",
    "#Lo redondeamos a cero decimales, para mostrar el efecto de esta función que simula un XOR\n",
    "_,Resultado=forwad_propagation(X,WC1,WC2,True)\n",
    "np.rint(Resultado)"
   ]
  },
  {
   "cell_type": "markdown",
   "metadata": {},
   "source": [
    "### Analisis de Representación Intermedia"
   ]
  },
  {
   "cell_type": "markdown",
   "metadata": {},
   "source": [
    "Del tercer diagrama analizar la representación intermedia."
   ]
  },
  {
   "cell_type": "code",
   "execution_count": 133,
   "metadata": {},
   "outputs": [],
   "source": [
    "#Pesos Capas 1\n",
    "WC1 = np.array([\n",
    "  [ 20, -20],\n",
    "  [ 20, -20],\n",
    "  [-10, 30]])\n",
    "\n",
    "#Pesos Capas 2\n",
    "WC2 = np.array([20,20,-30])\n",
    "\n",
    "#Valores de Entrada - El Bias se incluye como un valor 1 en la última columna.\n",
    "X= [[1,1],\n",
    "    [1,0],\n",
    "    [0,1],\n",
    "    [0,0]]\n",
    "\n",
    "#Lo redondeamos a cero decimales, para mostrar el efecto de esta función que simula un XOR\n",
    "Intermedia,Resultado=forwad_propagation(X,WC1,WC2,True)\n",
    "\n",
    "#Redondeamos los resultados a Cero decimales\n",
    "Intermedia= np.rint(Intermedia).astype(int)\n",
    "Resultado = np.rint(Resultado).astype(int)\n",
    "\n",
    "#Calculamos la Matriz de todas las posibles combinaciones XOR con su resultado\n",
    "matriz = pd.DataFrame({'X1':np.array(X).reshape(-1,2)[:,0],\n",
    "                       'X2':np.array(X).reshape(-1,2)[:,1],\n",
    "                       'H1':Intermedia[:,0],\n",
    "                       'H2':Intermedia[:,1],\n",
    "                       'Y' :Resultado})"
   ]
  },
  {
   "cell_type": "code",
   "execution_count": 135,
   "metadata": {},
   "outputs": [
    {
     "data": {
      "text/html": [
       "<div>\n",
       "<style scoped>\n",
       "    .dataframe tbody tr th:only-of-type {\n",
       "        vertical-align: middle;\n",
       "    }\n",
       "\n",
       "    .dataframe tbody tr th {\n",
       "        vertical-align: top;\n",
       "    }\n",
       "\n",
       "    .dataframe thead th {\n",
       "        text-align: right;\n",
       "    }\n",
       "</style>\n",
       "<table border=\"1\" class=\"dataframe\">\n",
       "  <thead>\n",
       "    <tr style=\"text-align: right;\">\n",
       "      <th></th>\n",
       "      <th>X1</th>\n",
       "      <th>X2</th>\n",
       "      <th>H1</th>\n",
       "      <th>H2</th>\n",
       "      <th>Y</th>\n",
       "    </tr>\n",
       "  </thead>\n",
       "  <tbody>\n",
       "    <tr>\n",
       "      <th>0</th>\n",
       "      <td>1</td>\n",
       "      <td>1</td>\n",
       "      <td>1</td>\n",
       "      <td>0</td>\n",
       "      <td>0</td>\n",
       "    </tr>\n",
       "    <tr>\n",
       "      <th>1</th>\n",
       "      <td>1</td>\n",
       "      <td>0</td>\n",
       "      <td>1</td>\n",
       "      <td>1</td>\n",
       "      <td>1</td>\n",
       "    </tr>\n",
       "    <tr>\n",
       "      <th>2</th>\n",
       "      <td>0</td>\n",
       "      <td>1</td>\n",
       "      <td>1</td>\n",
       "      <td>1</td>\n",
       "      <td>1</td>\n",
       "    </tr>\n",
       "    <tr>\n",
       "      <th>3</th>\n",
       "      <td>0</td>\n",
       "      <td>0</td>\n",
       "      <td>0</td>\n",
       "      <td>1</td>\n",
       "      <td>0</td>\n",
       "    </tr>\n",
       "  </tbody>\n",
       "</table>\n",
       "</div>"
      ],
      "text/plain": [
       "   X1  X2  H1  H2  Y\n",
       "0   1   1   1   0  0\n",
       "1   1   0   1   1  1\n",
       "2   0   1   1   1  1\n",
       "3   0   0   0   1  0"
      ]
     },
     "execution_count": 135,
     "metadata": {},
     "output_type": "execute_result"
    }
   ],
   "source": [
    "#Mostramos la matriz resultante\n",
    "matriz"
   ]
  },
  {
   "cell_type": "code",
   "execution_count": 159,
   "metadata": {},
   "outputs": [
    {
     "data": {
      "image/png": "[encoded data removed]",
      "text/plain": [
       "<Figure size 432x288 with 1 Axes>"
      ]
     },
     "metadata": {
      "needs_background": "light"
     },
     "output_type": "display_data"
    }
   ],
   "source": [
    "#Realizamos la representación de la capa intermedia por medio de una grafica de puntos\n",
    "plt.scatter(matriz[matriz['Y']==0]['H1'], matriz[matriz['Y']==0]['H2'], color='r', label=\"False(0)\")\n",
    "plt.scatter(matriz[matriz['Y']==1]['H1'], matriz[matriz['Y']==1]['H2'], color='b', label=\"True(1)\")\n",
    "plt.title('Representación Capa Intermedia')\n",
    "plt.xlabel('H1')\n",
    "plt.ylabel('H2')\n",
    "plt.legend()\n",
    "plt.show()"
   ]
  },
  {
   "cell_type": "markdown",
   "metadata": {},
   "source": [
    "#### Análisis y Conclusiones Representación Capa Intermedia\n",
    "\n",
    "En base a la gráfica mostrada puedo concluir:\n",
    "- Con la representación de la capa intermedia, podemos ver que ya se podría hacer hacer una división lineal de los resultados que estamos buscando clasificar.\n",
    "- Usando esta representación, ya podemos usar modelos que nos permitan dividir los datos linealmente (Regresión Logistica)\n",
    "- La última neurona (de la capa de salida) puede efectuar una regresión logistica de los datos y efectuar la clasificación esperada."
   ]
  },
  {
   "attachments": {},
   "cell_type": "markdown",
   "metadata": {},
   "source": [
    "## Parte 2 - Conexiones Neuronales\n",
    "\n",
    "Determinar el número de parámetros entrenables(pesos) en cada uno de los siguientes modelos:"
   ]
  },
  {
   "cell_type": "markdown",
   "metadata": {},
   "source": [
    "**Imagen 1**\n",
    "<img src=\"assets/CNImagen1.png\">\n",
    "\n",
    "*Resultado:*\n",
    "- Sin tomar en Cuenta el Bias, el modelo tienen 3 parametros entrenables.\n",
    "- Tomando el Bias, el modelo tiene 4 parametros entrenables."
   ]
  },
  {
   "cell_type": "markdown",
   "metadata": {},
   "source": [
    "**Imagen 2**\n",
    "<img src=\"assets/CNImagen2.png\">\n",
    "\n",
    "*Resultado:*\n",
    "- El modelo tiene 3 parametros entrenables (A diferencia del Anterior, aquí si se especifica que se necesita el Bias)."
   ]
  },
  {
   "cell_type": "markdown",
   "metadata": {},
   "source": [
    "**Imagen 3**\n",
    "<img src=\"assets/CNImagen3.png\">\n",
    "\n",
    "*Resultado:*\n",
    "- Sin tomar en Cuenta el Bias, el modelo tienen 12 parametros entrenables.\n",
    "- Tomando el Bias, el modelo tiene 16 parametros entrenables."
   ]
  },
  {
   "cell_type": "markdown",
   "metadata": {},
   "source": [
    "**Imagen 4**\n",
    "<img src=\"assets/CNImagen4.png\">\n",
    "\n",
    "*Resultado:*\n",
    "- El Modelo tiene 9 parametros entrenables (Aquí claramente se especifica que el modelo si usa Bias)."
   ]
  },
  {
   "cell_type": "markdown",
   "metadata": {},
   "source": [
    "**Imagen 5**\n",
    "<img src=\"assets/CNImagen5.png\">\n",
    "\n",
    "*Resultado:*\n",
    "- Sin tomar en Cuenta el Bias, el modelo tienen 10 parametros entrenables.\n",
    "- Tomando el Bias, el modelo tiene 15 parametros entrenables.\n",
    "\n",
    "*Nota:Según se ve en la imagen no todas las entradas estan asociadas con todas las neuronas en la capa intermedia, se asume que así debe ser, y en base a ésto se hizo el cálculo.*"
   ]
  },
  {
   "cell_type": "markdown",
   "metadata": {},
   "source": [
    "**Imagen 6**\n",
    "<img src=\"assets/CNImagen6.png\">\n",
    "\n",
    "*Resultado:*\n",
    "- Sin tomar en Cuenta el Bias, el modelo tienen 20 parametros entrenables.\n",
    "- Tomando el Bias, el modelo tiene 26 parametros entrenables."
   ]
  }
 ],
 "metadata": {
  "kernelspec": {
   "display_name": "Python 3",
   "language": "python",
   "name": "python3"
  }
 },
 "nbformat": 4,
 "nbformat_minor": 4
}
