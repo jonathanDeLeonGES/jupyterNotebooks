{
 "cells": [
  {
   "cell_type": "markdown",
   "metadata": {},
   "source": [
    "# Proyecto Curso\n",
    "\n",
    "Desarrollo del proyecto Final para el Curso de Statistical Learning -  Segundo Trimestre Maestria en Ciencia de Datos- Universidad Galileo.\n",
    "\n",
    "Este Notebook en específico servirá para el Entrenamiento/Validación de los modelos que armaremos para la predicción del problema descrito posteriormente. En un Notebook diferente se hará el Deployment del mismo modelo."
   ]
  },
  {
   "cell_type": "markdown",
   "metadata": {},
   "source": [
    "## Desarrollo del Problema\n",
    "\n",
    "El proyecto consiste en hacer clasificación binaria  para determinar si una persona sobrevive(y=1) o no (y=0) del hundimiento del Titanic ."
   ]
  },
  {
   "cell_type": "markdown",
   "metadata": {},
   "source": [
    "## Carga de Datos\n",
    "\n",
    "El Dataset contendrá la siguiente información:\n",
    "* **PassengerId:** Id de Pasajero; un correlativo para la identificación única del registro.\n",
    "* **Name:** Nombre del pasajero.\n",
    "* **Age:** Edad del pasajero.\n",
    "* **SibSp:** En Ingles \"# of siblings / spouses aboard the Titanic\"; Número de hermanos/cónyuges abordo del Titanic. \n",
    "  Adicional: El Dataset define las relaciones familiares de esta manera\n",
    "                   Hermano(Sibling) = hermano, hermana, hermanastro, hermanastra\n",
    "                   Cónyuge (Spouses) = esposo, esposa (las amantes y los novios fueron ignorados)\n",
    "* **Parch:** En Ingles \"# of parents / children aboard the Titanic\"; Número de padres / hijos a bordo del Titanic.\n",
    "  Adicional: El Dataset define las relaciones familiares de esta manera\n",
    "                   Padre (parents) = madre, padre\n",
    "                   Niño (Children) = hija, hijo, hijastra, hijastro.\n",
    "                   Algunos niños viajaban solo con una niñera, por lo tanto, parch = 0 para ellos.\n",
    "* **Ticket:** Número de Ticket.\n",
    "* **Fare:** Tarifa pagada por pasajero\n",
    "* **cabin:** Número de Cabina / No todos los registros tienen esta información\n",
    "* **Embarked:** Puerto de embarque (C = Cherbourg, Q = Queenstown, S = Southampton)\n",
    "* **passenger_class:** Clase del Pasajero (Upper = Alta (Primera Clase), Middle= Media (2da Clase), Lower=Baja (3era Clase).\n",
    "* **passenger_sex:** Genero del Pasajero (M = (Male)Masculino, F = (Female)Femenino).\n",
    "* **passenger_survived:** Si pasajero sobrevivio o no (N - NO, Y = Yes)."
   ]
  },
  {
   "cell_type": "code",
   "execution_count": 346,
   "metadata": {},
   "outputs": [],
   "source": [
    "##Importamos algunas librerias que nos servirán en el desarrollo del problema\n",
    "import numpy as np\n",
    "import pandas as pd\n",
    "import matplotlib.pyplot as plt\n",
    "import seaborn as sns\n",
    "import tensorflow as tf\n",
    "import time\n",
    "import csv\n",
    "import pickle"
   ]
  },
  {
   "cell_type": "code",
   "execution_count": 347,
   "metadata": {},
   "outputs": [
    {
     "name": "stdout",
     "output_type": "stream",
     "text": [
      "Rango Tensor: 2\n",
      "Forma Tensor: (891, 12)\n",
      "Vemos los primeros registros de la data:\n"
     ]
    },
    {
     "data": {
      "text/html": [
       "<div>\n",
       "<style scoped>\n",
       "    .dataframe tbody tr th:only-of-type {\n",
       "        vertical-align: middle;\n",
       "    }\n",
       "\n",
       "    .dataframe tbody tr th {\n",
       "        vertical-align: top;\n",
       "    }\n",
       "\n",
       "    .dataframe thead th {\n",
       "        text-align: right;\n",
       "    }\n",
       "</style>\n",
       "<table border=\"1\" class=\"dataframe\">\n",
       "  <thead>\n",
       "    <tr style=\"text-align: right;\">\n",
       "      <th></th>\n",
       "      <th>PassengerId</th>\n",
       "      <th>Name</th>\n",
       "      <th>Age</th>\n",
       "      <th>SibSp</th>\n",
       "      <th>Parch</th>\n",
       "      <th>Ticket</th>\n",
       "      <th>Fare</th>\n",
       "      <th>Cabin</th>\n",
       "      <th>Embarked</th>\n",
       "      <th>passenger_class</th>\n",
       "      <th>passenger_sex</th>\n",
       "      <th>passenger_survived</th>\n",
       "    </tr>\n",
       "  </thead>\n",
       "  <tbody>\n",
       "    <tr>\n",
       "      <th>0</th>\n",
       "      <td>1</td>\n",
       "      <td>Braund, Mr. Owen Harris</td>\n",
       "      <td>22.0</td>\n",
       "      <td>1</td>\n",
       "      <td>0</td>\n",
       "      <td>A/5 21171</td>\n",
       "      <td>7.2500</td>\n",
       "      <td>NaN</td>\n",
       "      <td>S</td>\n",
       "      <td>Lower</td>\n",
       "      <td>M</td>\n",
       "      <td>N</td>\n",
       "    </tr>\n",
       "    <tr>\n",
       "      <th>1</th>\n",
       "      <td>2</td>\n",
       "      <td>Cumings, Mrs. John Bradley (Florence Briggs Th...</td>\n",
       "      <td>38.0</td>\n",
       "      <td>1</td>\n",
       "      <td>0</td>\n",
       "      <td>PC 17599</td>\n",
       "      <td>71.2833</td>\n",
       "      <td>C85</td>\n",
       "      <td>C</td>\n",
       "      <td>Upper</td>\n",
       "      <td>F</td>\n",
       "      <td>Y</td>\n",
       "    </tr>\n",
       "    <tr>\n",
       "      <th>2</th>\n",
       "      <td>3</td>\n",
       "      <td>Heikkinen, Miss. Laina</td>\n",
       "      <td>26.0</td>\n",
       "      <td>0</td>\n",
       "      <td>0</td>\n",
       "      <td>STON/O2. 3101282</td>\n",
       "      <td>7.9250</td>\n",
       "      <td>NaN</td>\n",
       "      <td>S</td>\n",
       "      <td>Lower</td>\n",
       "      <td>F</td>\n",
       "      <td>Y</td>\n",
       "    </tr>\n",
       "    <tr>\n",
       "      <th>3</th>\n",
       "      <td>4</td>\n",
       "      <td>Futrelle, Mrs. Jacques Heath (Lily May Peel)</td>\n",
       "      <td>35.0</td>\n",
       "      <td>1</td>\n",
       "      <td>0</td>\n",
       "      <td>113803</td>\n",
       "      <td>53.1000</td>\n",
       "      <td>C123</td>\n",
       "      <td>S</td>\n",
       "      <td>Upper</td>\n",
       "      <td>F</td>\n",
       "      <td>Y</td>\n",
       "    </tr>\n",
       "    <tr>\n",
       "      <th>4</th>\n",
       "      <td>5</td>\n",
       "      <td>Allen, Mr. William Henry</td>\n",
       "      <td>35.0</td>\n",
       "      <td>0</td>\n",
       "      <td>0</td>\n",
       "      <td>373450</td>\n",
       "      <td>8.0500</td>\n",
       "      <td>NaN</td>\n",
       "      <td>S</td>\n",
       "      <td>Lower</td>\n",
       "      <td>M</td>\n",
       "      <td>N</td>\n",
       "    </tr>\n",
       "  </tbody>\n",
       "</table>\n",
       "</div>"
      ],
      "text/plain": [
       "   PassengerId                                               Name   Age  \\\n",
       "0            1                            Braund, Mr. Owen Harris  22.0   \n",
       "1            2  Cumings, Mrs. John Bradley (Florence Briggs Th...  38.0   \n",
       "2            3                             Heikkinen, Miss. Laina  26.0   \n",
       "3            4       Futrelle, Mrs. Jacques Heath (Lily May Peel)  35.0   \n",
       "4            5                           Allen, Mr. William Henry  35.0   \n",
       "\n",
       "   SibSp  Parch            Ticket     Fare Cabin Embarked passenger_class  \\\n",
       "0      1      0         A/5 21171   7.2500   NaN        S           Lower   \n",
       "1      1      0          PC 17599  71.2833   C85        C           Upper   \n",
       "2      0      0  STON/O2. 3101282   7.9250   NaN        S           Lower   \n",
       "3      1      0            113803  53.1000  C123        S           Upper   \n",
       "4      0      0            373450   8.0500   NaN        S           Lower   \n",
       "\n",
       "  passenger_sex passenger_survived  \n",
       "0             M                  N  \n",
       "1             F                  Y  \n",
       "2             F                  Y  \n",
       "3             F                  Y  \n",
       "4             M                  N  "
      ]
     },
     "execution_count": 347,
     "metadata": {},
     "output_type": "execute_result"
    }
   ],
   "source": [
    "Full_data = pd.read_csv(\"data_titanic_proyecto.csv\")\n",
    "\n",
    "##Verificamos que haya cargado la información, y que tenga la forma requerida\n",
    "print('Rango Tensor:',Full_data.ndim)\n",
    "print('Forma Tensor:',Full_data.shape)\n",
    "print('Vemos los primeros registros de la data:')\n",
    "Full_data.head()"
   ]
  },
  {
   "cell_type": "markdown",
   "metadata": {},
   "source": [
    "## Análisis Preliminar de los Datos\n",
    "\n",
    "Obtenemos un listado de las variables y la distribución estadistica de las variables no categoricas."
   ]
  },
  {
   "cell_type": "code",
   "execution_count": 348,
   "metadata": {},
   "outputs": [
    {
     "name": "stdout",
     "output_type": "stream",
     "text": [
      "<class 'pandas.core.frame.DataFrame'>\n",
      "RangeIndex: 891 entries, 0 to 890\n",
      "Data columns (total 12 columns):\n",
      " #   Column              Non-Null Count  Dtype  \n",
      "---  ------              --------------  -----  \n",
      " 0   PassengerId         891 non-null    int64  \n",
      " 1   Name                891 non-null    object \n",
      " 2   Age                 714 non-null    float64\n",
      " 3   SibSp               891 non-null    int64  \n",
      " 4   Parch               891 non-null    int64  \n",
      " 5   Ticket              891 non-null    object \n",
      " 6   Fare                891 non-null    float64\n",
      " 7   Cabin               204 non-null    object \n",
      " 8   Embarked            889 non-null    object \n",
      " 9   passenger_class     891 non-null    object \n",
      " 10  passenger_sex       891 non-null    object \n",
      " 11  passenger_survived  891 non-null    object \n",
      "dtypes: float64(2), int64(3), object(7)\n",
      "memory usage: 83.7+ KB\n"
     ]
    },
    {
     "data": {
      "text/html": [
       "<div>\n",
       "<style scoped>\n",
       "    .dataframe tbody tr th:only-of-type {\n",
       "        vertical-align: middle;\n",
       "    }\n",
       "\n",
       "    .dataframe tbody tr th {\n",
       "        vertical-align: top;\n",
       "    }\n",
       "\n",
       "    .dataframe thead th {\n",
       "        text-align: right;\n",
       "    }\n",
       "</style>\n",
       "<table border=\"1\" class=\"dataframe\">\n",
       "  <thead>\n",
       "    <tr style=\"text-align: right;\">\n",
       "      <th></th>\n",
       "      <th>PassengerId</th>\n",
       "      <th>Age</th>\n",
       "      <th>SibSp</th>\n",
       "      <th>Parch</th>\n",
       "      <th>Fare</th>\n",
       "    </tr>\n",
       "  </thead>\n",
       "  <tbody>\n",
       "    <tr>\n",
       "      <th>count</th>\n",
       "      <td>891.000000</td>\n",
       "      <td>714.000000</td>\n",
       "      <td>891.000000</td>\n",
       "      <td>891.000000</td>\n",
       "      <td>891.000000</td>\n",
       "    </tr>\n",
       "    <tr>\n",
       "      <th>mean</th>\n",
       "      <td>446.000000</td>\n",
       "      <td>29.699118</td>\n",
       "      <td>0.523008</td>\n",
       "      <td>0.381594</td>\n",
       "      <td>32.204208</td>\n",
       "    </tr>\n",
       "    <tr>\n",
       "      <th>std</th>\n",
       "      <td>257.353842</td>\n",
       "      <td>14.526497</td>\n",
       "      <td>1.102743</td>\n",
       "      <td>0.806057</td>\n",
       "      <td>49.693429</td>\n",
       "    </tr>\n",
       "    <tr>\n",
       "      <th>min</th>\n",
       "      <td>1.000000</td>\n",
       "      <td>0.420000</td>\n",
       "      <td>0.000000</td>\n",
       "      <td>0.000000</td>\n",
       "      <td>0.000000</td>\n",
       "    </tr>\n",
       "    <tr>\n",
       "      <th>25%</th>\n",
       "      <td>223.500000</td>\n",
       "      <td>20.125000</td>\n",
       "      <td>0.000000</td>\n",
       "      <td>0.000000</td>\n",
       "      <td>7.910400</td>\n",
       "    </tr>\n",
       "    <tr>\n",
       "      <th>50%</th>\n",
       "      <td>446.000000</td>\n",
       "      <td>28.000000</td>\n",
       "      <td>0.000000</td>\n",
       "      <td>0.000000</td>\n",
       "      <td>14.454200</td>\n",
       "    </tr>\n",
       "    <tr>\n",
       "      <th>75%</th>\n",
       "      <td>668.500000</td>\n",
       "      <td>38.000000</td>\n",
       "      <td>1.000000</td>\n",
       "      <td>0.000000</td>\n",
       "      <td>31.000000</td>\n",
       "    </tr>\n",
       "    <tr>\n",
       "      <th>max</th>\n",
       "      <td>891.000000</td>\n",
       "      <td>80.000000</td>\n",
       "      <td>8.000000</td>\n",
       "      <td>6.000000</td>\n",
       "      <td>512.329200</td>\n",
       "    </tr>\n",
       "  </tbody>\n",
       "</table>\n",
       "</div>"
      ],
      "text/plain": [
       "       PassengerId         Age       SibSp       Parch        Fare\n",
       "count   891.000000  714.000000  891.000000  891.000000  891.000000\n",
       "mean    446.000000   29.699118    0.523008    0.381594   32.204208\n",
       "std     257.353842   14.526497    1.102743    0.806057   49.693429\n",
       "min       1.000000    0.420000    0.000000    0.000000    0.000000\n",
       "25%     223.500000   20.125000    0.000000    0.000000    7.910400\n",
       "50%     446.000000   28.000000    0.000000    0.000000   14.454200\n",
       "75%     668.500000   38.000000    1.000000    0.000000   31.000000\n",
       "max     891.000000   80.000000    8.000000    6.000000  512.329200"
      ]
     },
     "execution_count": 348,
     "metadata": {},
     "output_type": "execute_result"
    }
   ],
   "source": [
    "##Algunos metodos importantes\n",
    "Full_data.info()\n",
    "Full_data.describe()"
   ]
  },
  {
   "cell_type": "code",
   "execution_count": 349,
   "metadata": {},
   "outputs": [
    {
     "data": {
      "text/html": [
       "<div>\n",
       "<style scoped>\n",
       "    .dataframe tbody tr th:only-of-type {\n",
       "        vertical-align: middle;\n",
       "    }\n",
       "\n",
       "    .dataframe tbody tr th {\n",
       "        vertical-align: top;\n",
       "    }\n",
       "\n",
       "    .dataframe thead th {\n",
       "        text-align: right;\n",
       "    }\n",
       "</style>\n",
       "<table border=\"1\" class=\"dataframe\">\n",
       "  <thead>\n",
       "    <tr style=\"text-align: right;\">\n",
       "      <th></th>\n",
       "      <th>Age</th>\n",
       "      <th>SibSp</th>\n",
       "      <th>Parch</th>\n",
       "      <th>Fare</th>\n",
       "    </tr>\n",
       "  </thead>\n",
       "  <tbody>\n",
       "    <tr>\n",
       "      <th>Age</th>\n",
       "      <td>1.000000</td>\n",
       "      <td>-0.308247</td>\n",
       "      <td>-0.189119</td>\n",
       "      <td>0.096067</td>\n",
       "    </tr>\n",
       "    <tr>\n",
       "      <th>SibSp</th>\n",
       "      <td>-0.308247</td>\n",
       "      <td>1.000000</td>\n",
       "      <td>0.414838</td>\n",
       "      <td>0.159651</td>\n",
       "    </tr>\n",
       "    <tr>\n",
       "      <th>Parch</th>\n",
       "      <td>-0.189119</td>\n",
       "      <td>0.414838</td>\n",
       "      <td>1.000000</td>\n",
       "      <td>0.216225</td>\n",
       "    </tr>\n",
       "    <tr>\n",
       "      <th>Fare</th>\n",
       "      <td>0.096067</td>\n",
       "      <td>0.159651</td>\n",
       "      <td>0.216225</td>\n",
       "      <td>1.000000</td>\n",
       "    </tr>\n",
       "  </tbody>\n",
       "</table>\n",
       "</div>"
      ],
      "text/plain": [
       "            Age     SibSp     Parch      Fare\n",
       "Age    1.000000 -0.308247 -0.189119  0.096067\n",
       "SibSp -0.308247  1.000000  0.414838  0.159651\n",
       "Parch -0.189119  0.414838  1.000000  0.216225\n",
       "Fare   0.096067  0.159651  0.216225  1.000000"
      ]
     },
     "execution_count": 349,
     "metadata": {},
     "output_type": "execute_result"
    }
   ],
   "source": [
    "Full_data[['Age','SibSp','Parch','Fare']].corr()"
   ]
  },
  {
   "cell_type": "markdown",
   "metadata": {},
   "source": [
    "Para las columnas no númericas, vemos de forma general el contenido de los mismos.\n",
    "\n",
    "**1. PassengerId** "
   ]
  },
  {
   "cell_type": "code",
   "execution_count": 350,
   "metadata": {},
   "outputs": [
    {
     "data": {
      "text/plain": [
       "(891,)"
      ]
     },
     "execution_count": 350,
     "metadata": {},
     "output_type": "execute_result"
    }
   ],
   "source": [
    "np.unique(Full_data['PassengerId'].values).shape"
   ]
  },
  {
   "cell_type": "markdown",
   "metadata": {},
   "source": [
    "Los valores de ID son únicos por registro.\n",
    "\n",
    "**2. Name** "
   ]
  },
  {
   "cell_type": "code",
   "execution_count": 351,
   "metadata": {},
   "outputs": [
    {
     "data": {
      "text/plain": [
       "(891,)"
      ]
     },
     "execution_count": 351,
     "metadata": {},
     "output_type": "execute_result"
    }
   ],
   "source": [
    "np.unique(Full_data['Name'].values).shape"
   ]
  },
  {
   "cell_type": "markdown",
   "metadata": {},
   "source": [
    "Los valores de Nombre de Pasajero son únicos por pasajero, al menos no hay registros duplicados.\n",
    "\n",
    "**3. Ticket** "
   ]
  },
  {
   "cell_type": "code",
   "execution_count": 352,
   "metadata": {},
   "outputs": [
    {
     "data": {
      "text/plain": [
       "(681,)"
      ]
     },
     "execution_count": 352,
     "metadata": {},
     "output_type": "execute_result"
    }
   ],
   "source": [
    "np.unique(Full_data['Ticket'].values).shape             "
   ]
  },
  {
   "cell_type": "markdown",
   "metadata": {},
   "source": [
    "De los 891, 681 son registros únicos del número de Ticket; 76% de los registros tienen una identificación única.\n",
    "\n",
    "**4. Cabin**"
   ]
  },
  {
   "cell_type": "code",
   "execution_count": 353,
   "metadata": {},
   "outputs": [
    {
     "data": {
      "text/plain": [
       "687"
      ]
     },
     "execution_count": 353,
     "metadata": {},
     "output_type": "execute_result"
    }
   ],
   "source": [
    "Full_data['Cabin'].isna().sum()           "
   ]
  },
  {
   "cell_type": "markdown",
   "metadata": {},
   "source": [
    "De los 891 registros, 687 no tienen información, 77% no continen información relevante para esta columna.\n",
    "\n",
    "**5. Embarked**"
   ]
  },
  {
   "cell_type": "code",
   "execution_count": 354,
   "metadata": {},
   "outputs": [
    {
     "data": {
      "text/plain": [
       "array(['S', 'C', 'Q', nan], dtype=object)"
      ]
     },
     "execution_count": 354,
     "metadata": {},
     "output_type": "execute_result"
    }
   ],
   "source": [
    "Full_data['Embarked'].unique()   "
   ]
  },
  {
   "cell_type": "code",
   "execution_count": 355,
   "metadata": {},
   "outputs": [
    {
     "data": {
      "text/plain": [
       "2"
      ]
     },
     "execution_count": 355,
     "metadata": {},
     "output_type": "execute_result"
    }
   ],
   "source": [
    "Full_data['Embarked'].isna().sum()  "
   ]
  },
  {
   "cell_type": "markdown",
   "metadata": {},
   "source": [
    "Si contiene 3 labels únicos y solo dos registros de los 891 no tienen información.\n",
    "\n",
    "**6. Passenger Class**"
   ]
  },
  {
   "cell_type": "code",
   "execution_count": 356,
   "metadata": {},
   "outputs": [
    {
     "data": {
      "text/plain": [
       "array(['Lower', 'Upper', 'Middle'], dtype=object)"
      ]
     },
     "execution_count": 356,
     "metadata": {},
     "output_type": "execute_result"
    }
   ],
   "source": [
    "Full_data['passenger_class'].unique()"
   ]
  },
  {
   "cell_type": "markdown",
   "metadata": {},
   "source": [
    "Si contiene 3 labels únicos y ningún registro sin clasificación\n",
    "\n",
    "**7. Passenger Sex**"
   ]
  },
  {
   "cell_type": "code",
   "execution_count": 357,
   "metadata": {},
   "outputs": [
    {
     "data": {
      "text/plain": [
       "array(['M', 'F'], dtype=object)"
      ]
     },
     "execution_count": 357,
     "metadata": {},
     "output_type": "execute_result"
    }
   ],
   "source": [
    "Full_data['passenger_sex'].unique()   "
   ]
  },
  {
   "cell_type": "markdown",
   "metadata": {},
   "source": [
    "Si contiene 3 labels únicos y ningún registro sin clasificación.\n",
    "\n",
    "**8. Passenger Survived**"
   ]
  },
  {
   "cell_type": "code",
   "execution_count": 358,
   "metadata": {},
   "outputs": [
    {
     "data": {
      "text/plain": [
       "array(['N', 'Y'], dtype=object)"
      ]
     },
     "execution_count": 358,
     "metadata": {},
     "output_type": "execute_result"
    }
   ],
   "source": [
    "Full_data['passenger_survived'].unique()   "
   ]
  },
  {
   "cell_type": "markdown",
   "metadata": {},
   "source": [
    "#### Datos a Utilizar\n",
    "\n",
    "No todos los datos son representativos, se quitaran aquellos datos que son únicos por registro o que por el momento no ayudarán en nada al modelo. Entre estos estan: PassengerId, Name, Ticket, Cabin."
   ]
  },
  {
   "cell_type": "code",
   "execution_count": 359,
   "metadata": {},
   "outputs": [],
   "source": [
    "##Separamos las Variables Independientes de la variable que vamos a estimar\n",
    "X = Full_data.drop(['passenger_survived','PassengerId','Name','Ticket','Cabin'], axis=1)\n",
    "Y = Full_data['passenger_survived'].values"
   ]
  },
  {
   "cell_type": "code",
   "execution_count": 360,
   "metadata": {},
   "outputs": [
    {
     "name": "stdout",
     "output_type": "stream",
     "text": [
      "<class 'pandas.core.frame.DataFrame'>\n",
      "RangeIndex: 891 entries, 0 to 890\n",
      "Data columns (total 7 columns):\n",
      " #   Column           Non-Null Count  Dtype  \n",
      "---  ------           --------------  -----  \n",
      " 0   Age              714 non-null    float64\n",
      " 1   SibSp            891 non-null    int64  \n",
      " 2   Parch            891 non-null    int64  \n",
      " 3   Fare             891 non-null    float64\n",
      " 4   Embarked         889 non-null    object \n",
      " 5   passenger_class  891 non-null    object \n",
      " 6   passenger_sex    891 non-null    object \n",
      "dtypes: float64(2), int64(2), object(3)\n",
      "memory usage: 48.9+ KB\n"
     ]
    }
   ],
   "source": [
    "X.info()"
   ]
  },
  {
   "cell_type": "code",
   "execution_count": 361,
   "metadata": {},
   "outputs": [
    {
     "data": {
      "text/plain": [
       "(891,)"
      ]
     },
     "execution_count": 361,
     "metadata": {},
     "output_type": "execute_result"
    }
   ],
   "source": [
    "Y.shape"
   ]
  },
  {
   "cell_type": "markdown",
   "metadata": {},
   "source": [
    "## Feature Engineering \n",
    "\n",
    "Se transformaran los datos para mejorar el entrenamiento del modelo, así como manejar su manipulación entre los diferentes modelos."
   ]
  },
  {
   "cell_type": "markdown",
   "metadata": {},
   "source": [
    "### Transformación variables Categoricas"
   ]
  },
  {
   "cell_type": "markdown",
   "metadata": {},
   "source": [
    "Para facilitar el trabajo con los diferentes modelos, se transformaran los datos para permitir una mejor manipulación de las variables Categoricas.\n",
    "\n",
    "1. Se transformará la variable Dependiente (Objetivo) -> passenger_survived"
   ]
  },
  {
   "cell_type": "code",
   "execution_count": 362,
   "metadata": {},
   "outputs": [
    {
     "name": "stdout",
     "output_type": "stream",
     "text": [
      "Revisamos como clasifico los labels ['N' 'Y']\n",
      "Para posterior conversión los dejamos en un diccionario {0: 'NO', 1: 'YES'}\n"
     ]
    }
   ],
   "source": [
    "from sklearn.preprocessing import LabelEncoder\n",
    "\n",
    "encoder= LabelEncoder()\n",
    "survived_cat = Full_data['passenger_survived']\n",
    "Survived_cat_encoded = encoder.fit_transform(survived_cat)\n",
    "print('Revisamos como clasifico los labels {}'.format(encoder.classes_))\n",
    "survived_labels= {0 : 'NO', 1: 'YES'}\n",
    "print('Para posterior conversión los dejamos en un diccionario {}'.format(survived_labels))"
   ]
  },
  {
   "cell_type": "markdown",
   "metadata": {},
   "source": [
    "Almacenamos esta información en la Variable Y, para su tratamiento"
   ]
  },
  {
   "cell_type": "code",
   "execution_count": 363,
   "metadata": {},
   "outputs": [],
   "source": [
    "Y = Survived_cat_encoded.reshape(-1,1)"
   ]
  },
  {
   "cell_type": "markdown",
   "metadata": {},
   "source": [
    "2. Se transformará la variable Dependiente (Objetivo) -> passenger_sex"
   ]
  },
  {
   "cell_type": "code",
   "execution_count": 364,
   "metadata": {},
   "outputs": [
    {
     "name": "stdout",
     "output_type": "stream",
     "text": [
      "Revisamos como clasifico los labels ['F' 'M']\n",
      "Para posterior conversión los dejamos en un diccionario {0: 'Female', 1: 'Male'}\n"
     ]
    }
   ],
   "source": [
    "sex_cat = Full_data['passenger_sex']\n",
    "sex_cat_encoded = encoder.fit_transform(sex_cat)\n",
    "print('Revisamos como clasifico los labels {}'.format(encoder.classes_))\n",
    "sex_labels= {0 : 'Female', 1: 'Male'}\n",
    "print('Para posterior conversión los dejamos en un diccionario {}'.format(sex_labels))"
   ]
  },
  {
   "cell_type": "markdown",
   "metadata": {},
   "source": [
    "Almacenamos esta información en la Variable X, ya transformado."
   ]
  },
  {
   "cell_type": "code",
   "execution_count": 365,
   "metadata": {},
   "outputs": [],
   "source": [
    "##Quitamos la columna que ya existe de passenger_sex\n",
    "X=X.drop(['passenger_sex'], axis=1)\n",
    "##Colocamos la nueva columna\n",
    "X['passenger_sex'] =sex_cat_encoded"
   ]
  },
  {
   "cell_type": "code",
   "execution_count": 366,
   "metadata": {},
   "outputs": [
    {
     "data": {
      "text/plain": [
       "array([1, 0])"
      ]
     },
     "execution_count": 366,
     "metadata": {},
     "output_type": "execute_result"
    }
   ],
   "source": [
    "##Verificamos que no dejemos registros inconsistentes\n",
    "X['passenger_sex'].unique()"
   ]
  },
  {
   "cell_type": "markdown",
   "metadata": {},
   "source": [
    "3. Se transformará la variable Dependiente (Objetivo) -> Embarked"
   ]
  },
  {
   "cell_type": "markdown",
   "metadata": {},
   "source": [
    "Aqui tenemos dos registros sin Dato de Embarked, lo que se hará es ver la distribución de datos de esta varible para decidir si se quita o se le asigna otro valor"
   ]
  },
  {
   "cell_type": "code",
   "execution_count": 367,
   "metadata": {},
   "outputs": [
    {
     "data": {
      "text/plain": [
       "<matplotlib.axes._subplots.AxesSubplot at 0x20746c9c688>"
      ]
     },
     "execution_count": 367,
     "metadata": {},
     "output_type": "execute_result"
    },
    {
     "data": {
      "image/png": "[encoded data removed]",
      "text/plain": [
       "<Figure size 432x288 with 1 Axes>"
      ]
     },
     "metadata": {
      "needs_background": "light"
     },
     "output_type": "display_data"
    }
   ],
   "source": [
    "sns.countplot(X['Embarked'],palette=['skyblue','green','yellow'])"
   ]
  },
  {
   "cell_type": "code",
   "execution_count": 368,
   "metadata": {},
   "outputs": [
    {
     "data": {
      "text/plain": [
       "<matplotlib.axes._subplots.AxesSubplot at 0x207469f2908>"
      ]
     },
     "execution_count": 368,
     "metadata": {},
     "output_type": "execute_result"
    },
    {
     "data": {
      "image/png": "[encoded data removed]",
      "text/plain": [
       "<Figure size 432x288 with 1 Axes>"
      ]
     },
     "metadata": {
      "needs_background": "light"
     },
     "output_type": "display_data"
    }
   ],
   "source": [
    "sns.countplot(x=\"Embarked\", hue=\"passenger_survived\", data=Full_data)"
   ]
  },
  {
   "cell_type": "code",
   "execution_count": 369,
   "metadata": {},
   "outputs": [
    {
     "name": "stdout",
     "output_type": "stream",
     "text": [
      "Cantidad de Pasajeros dividos por lugar de Embarque\n",
      "S    644\n",
      "C    168\n",
      "Q     77\n",
      "Name: Embarked, dtype: int64\n",
      "Cantidad de Pasajeros (Que si sobrevivieron) dividos por lugar de Embarque\n",
      "S    217\n",
      "C     93\n",
      "Q     30\n",
      "Name: Embarked, dtype: int64\n",
      "Cantidad de Pasajeros (Que no sobrevivieron) dividos por lugar de Embarque\n",
      "S    427\n",
      "C     75\n",
      "Q     47\n",
      "Name: Embarked, dtype: int64\n"
     ]
    }
   ],
   "source": [
    "print(\"Cantidad de Pasajeros dividos por lugar de Embarque\")\n",
    "print(Full_data['Embarked'].value_counts())\n",
    "print(\"Cantidad de Pasajeros (Que si sobrevivieron) dividos por lugar de Embarque\")\n",
    "print(Full_data[Full_data['passenger_survived']=='Y']['Embarked'].value_counts())\n",
    "print(\"Cantidad de Pasajeros (Que no sobrevivieron) dividos por lugar de Embarque\")\n",
    "print(Full_data[Full_data['passenger_survived']=='N']['Embarked'].value_counts())"
   ]
  },
  {
   "cell_type": "markdown",
   "metadata": {},
   "source": [
    "Pues no hay una distribución clara entre el Lugar de embarque y si lograron sobrevivir; y para asignar un valor de embarque a las variables que no tienen, creo que se tendria que buscar otro patron; pero dado que son dos datos, por el momento simplemente se dejará en cero (en todas las columnas resultantes del One-hot-encoding)."
   ]
  },
  {
   "cell_type": "code",
   "execution_count": 370,
   "metadata": {},
   "outputs": [
    {
     "data": {
      "text/plain": [
       "61     S\n",
       "829    S\n",
       "Name: Embarked, dtype: object"
      ]
     },
     "execution_count": 370,
     "metadata": {},
     "output_type": "execute_result"
    }
   ],
   "source": [
    "##Se identifican los registros con el valor NA en Embarked - Dado que habrá problemas en el one-hot-Encoding\n",
    "X.loc[61,'Embarked']='S'\n",
    "X.loc[829,'Embarked']='S'\n",
    "##Verificamos como dejamos los registros nulos\n",
    "X[Full_data['Embarked'].isna()]['Embarked']"
   ]
  },
  {
   "cell_type": "code",
   "execution_count": 371,
   "metadata": {},
   "outputs": [
    {
     "name": "stdout",
     "output_type": "stream",
     "text": [
      "Revisamos como clasifico los labels ['C' 'Q' 'S']\n",
      "Para posterior conversión los dejamos en un diccionario {0: 'Cherbourg', 1: 'Queenstown', 2: 'Southampton'}\n"
     ]
    }
   ],
   "source": [
    "Embarked_cat = X['Embarked']\n",
    "Embarked_cat_encoded = encoder.fit_transform(Embarked_cat)\n",
    "print('Revisamos como clasifico los labels {}'.format(encoder.classes_))\n",
    "Embarked_labels= {0 : 'Cherbourg', 1: 'Queenstown', 2: 'Southampton' }\n",
    "print('Para posterior conversión los dejamos en un diccionario {}'.format(Embarked_labels))"
   ]
  },
  {
   "cell_type": "code",
   "execution_count": 372,
   "metadata": {},
   "outputs": [
    {
     "data": {
      "text/plain": [
       "array([[0., 0., 1.],\n",
       "       [1., 0., 0.],\n",
       "       [0., 0., 1.],\n",
       "       ...,\n",
       "       [0., 0., 1.],\n",
       "       [1., 0., 0.],\n",
       "       [0., 1., 0.]])"
      ]
     },
     "execution_count": 372,
     "metadata": {},
     "output_type": "execute_result"
    }
   ],
   "source": [
    "from sklearn.preprocessing import OneHotEncoder\n",
    "\n",
    "OHencoder = OneHotEncoder()\n",
    "OHEmbarked_cat_encoded=OHencoder.fit_transform(Embarked_cat_encoded.reshape(-1,1)).toarray()\n",
    "OHEmbarked_cat_encoded"
   ]
  },
  {
   "cell_type": "code",
   "execution_count": 373,
   "metadata": {},
   "outputs": [],
   "source": [
    "##A los registros que le pusimos valor por default de S, los volvemos cero nuevamente para no sesgar\n",
    "OHEmbarked_cat_encoded[61,:]=0\n",
    "OHEmbarked_cat_encoded[829,:]=0"
   ]
  },
  {
   "cell_type": "markdown",
   "metadata": {},
   "source": [
    "Almacenamos esta información en la Variable X, ya transformado."
   ]
  },
  {
   "cell_type": "code",
   "execution_count": 374,
   "metadata": {},
   "outputs": [],
   "source": [
    "##Quitamos la columna que ya existe de Embarked\n",
    "X=X.drop(['Embarked'], axis=1)\n",
    "##Colocamos las nuevas columnas\n",
    "X['Embarked_Cherbourg']=OHEmbarked_cat_encoded[:,0]\n",
    "X['Embarked_Queenstown']=OHEmbarked_cat_encoded[:,1]\n",
    "X['Embarked_Southampton']=OHEmbarked_cat_encoded[:,2]"
   ]
  },
  {
   "cell_type": "markdown",
   "metadata": {},
   "source": [
    "4. Se transformará la variable Dependiente (Objetivo) -> passenger_class"
   ]
  },
  {
   "cell_type": "code",
   "execution_count": 375,
   "metadata": {},
   "outputs": [
    {
     "name": "stdout",
     "output_type": "stream",
     "text": [
      "Revisamos como clasifico los labels ['Lower' 'Middle' 'Upper']\n",
      "Para posterior conversión los dejamos en un diccionario {0: 'Lower', 1: 'Middle', 3: 'Upper'}\n"
     ]
    }
   ],
   "source": [
    "##Se hará de otra forma que el anterior\n",
    "from sklearn.preprocessing import LabelBinarizer\n",
    "LBencoder = LabelBinarizer()\n",
    "class_cat = X['passenger_class']\n",
    "class_cat_encoded = LBencoder.fit_transform(class_cat)\n",
    "print('Revisamos como clasifico los labels {}'.format(LBencoder.classes_))\n",
    "class_labels= {0 : 'Lower', 1: 'Middle', 3: 'Upper' }\n",
    "print('Para posterior conversión los dejamos en un diccionario {}'.format(class_labels))"
   ]
  },
  {
   "cell_type": "markdown",
   "metadata": {},
   "source": [
    "Almacenamos esta información en la Variable X, ya transformado."
   ]
  },
  {
   "cell_type": "code",
   "execution_count": 376,
   "metadata": {},
   "outputs": [],
   "source": [
    "##Quitamos la columna que ya existe de Embarked\n",
    "X=X.drop(['passenger_class'], axis=1)\n",
    "##Colocamos las nuevas columnas\n",
    "X['passenger_class_Lower']=class_cat_encoded[:,0]\n",
    "X['passenger_class_Middle']=class_cat_encoded[:,1]\n",
    "X['passenger_class_Upper']=class_cat_encoded[:,2]"
   ]
  },
  {
   "cell_type": "markdown",
   "metadata": {},
   "source": [
    "Despues de todas las transformaciones de las variables Categoricas, así quedo el DataFrame"
   ]
  },
  {
   "cell_type": "code",
   "execution_count": 377,
   "metadata": {},
   "outputs": [
    {
     "name": "stdout",
     "output_type": "stream",
     "text": [
      "<class 'pandas.core.frame.DataFrame'>\n",
      "RangeIndex: 891 entries, 0 to 890\n",
      "Data columns (total 11 columns):\n",
      " #   Column                  Non-Null Count  Dtype  \n",
      "---  ------                  --------------  -----  \n",
      " 0   Age                     714 non-null    float64\n",
      " 1   SibSp                   891 non-null    int64  \n",
      " 2   Parch                   891 non-null    int64  \n",
      " 3   Fare                    891 non-null    float64\n",
      " 4   passenger_sex           891 non-null    int32  \n",
      " 5   Embarked_Cherbourg      891 non-null    float64\n",
      " 6   Embarked_Queenstown     891 non-null    float64\n",
      " 7   Embarked_Southampton    891 non-null    float64\n",
      " 8   passenger_class_Lower   891 non-null    int32  \n",
      " 9   passenger_class_Middle  891 non-null    int32  \n",
      " 10  passenger_class_Upper   891 non-null    int32  \n",
      "dtypes: float64(5), int32(4), int64(2)\n",
      "memory usage: 62.8 KB\n"
     ]
    }
   ],
   "source": [
    "X.info()"
   ]
  },
  {
   "cell_type": "code",
   "execution_count": 378,
   "metadata": {},
   "outputs": [
    {
     "data": {
      "text/html": [
       "<div>\n",
       "<style scoped>\n",
       "    .dataframe tbody tr th:only-of-type {\n",
       "        vertical-align: middle;\n",
       "    }\n",
       "\n",
       "    .dataframe tbody tr th {\n",
       "        vertical-align: top;\n",
       "    }\n",
       "\n",
       "    .dataframe thead th {\n",
       "        text-align: right;\n",
       "    }\n",
       "</style>\n",
       "<table border=\"1\" class=\"dataframe\">\n",
       "  <thead>\n",
       "    <tr style=\"text-align: right;\">\n",
       "      <th></th>\n",
       "      <th>Age</th>\n",
       "      <th>SibSp</th>\n",
       "      <th>Parch</th>\n",
       "      <th>Fare</th>\n",
       "      <th>passenger_sex</th>\n",
       "      <th>Embarked_Cherbourg</th>\n",
       "      <th>Embarked_Queenstown</th>\n",
       "      <th>Embarked_Southampton</th>\n",
       "      <th>passenger_class_Lower</th>\n",
       "      <th>passenger_class_Middle</th>\n",
       "      <th>passenger_class_Upper</th>\n",
       "    </tr>\n",
       "  </thead>\n",
       "  <tbody>\n",
       "    <tr>\n",
       "      <th>count</th>\n",
       "      <td>714.000000</td>\n",
       "      <td>891.000000</td>\n",
       "      <td>891.000000</td>\n",
       "      <td>891.000000</td>\n",
       "      <td>891.000000</td>\n",
       "      <td>891.000000</td>\n",
       "      <td>891.000000</td>\n",
       "      <td>891.000000</td>\n",
       "      <td>891.000000</td>\n",
       "      <td>891.000000</td>\n",
       "      <td>891.000000</td>\n",
       "    </tr>\n",
       "    <tr>\n",
       "      <th>mean</th>\n",
       "      <td>29.699118</td>\n",
       "      <td>0.523008</td>\n",
       "      <td>0.381594</td>\n",
       "      <td>32.204208</td>\n",
       "      <td>0.647587</td>\n",
       "      <td>0.188552</td>\n",
       "      <td>0.086420</td>\n",
       "      <td>0.722783</td>\n",
       "      <td>0.551066</td>\n",
       "      <td>0.206510</td>\n",
       "      <td>0.242424</td>\n",
       "    </tr>\n",
       "    <tr>\n",
       "      <th>std</th>\n",
       "      <td>14.526497</td>\n",
       "      <td>1.102743</td>\n",
       "      <td>0.806057</td>\n",
       "      <td>49.693429</td>\n",
       "      <td>0.477990</td>\n",
       "      <td>0.391372</td>\n",
       "      <td>0.281141</td>\n",
       "      <td>0.447876</td>\n",
       "      <td>0.497665</td>\n",
       "      <td>0.405028</td>\n",
       "      <td>0.428790</td>\n",
       "    </tr>\n",
       "    <tr>\n",
       "      <th>min</th>\n",
       "      <td>0.420000</td>\n",
       "      <td>0.000000</td>\n",
       "      <td>0.000000</td>\n",
       "      <td>0.000000</td>\n",
       "      <td>0.000000</td>\n",
       "      <td>0.000000</td>\n",
       "      <td>0.000000</td>\n",
       "      <td>0.000000</td>\n",
       "      <td>0.000000</td>\n",
       "      <td>0.000000</td>\n",
       "      <td>0.000000</td>\n",
       "    </tr>\n",
       "    <tr>\n",
       "      <th>25%</th>\n",
       "      <td>20.125000</td>\n",
       "      <td>0.000000</td>\n",
       "      <td>0.000000</td>\n",
       "      <td>7.910400</td>\n",
       "      <td>0.000000</td>\n",
       "      <td>0.000000</td>\n",
       "      <td>0.000000</td>\n",
       "      <td>0.000000</td>\n",
       "      <td>0.000000</td>\n",
       "      <td>0.000000</td>\n",
       "      <td>0.000000</td>\n",
       "    </tr>\n",
       "    <tr>\n",
       "      <th>50%</th>\n",
       "      <td>28.000000</td>\n",
       "      <td>0.000000</td>\n",
       "      <td>0.000000</td>\n",
       "      <td>14.454200</td>\n",
       "      <td>1.000000</td>\n",
       "      <td>0.000000</td>\n",
       "      <td>0.000000</td>\n",
       "      <td>1.000000</td>\n",
       "      <td>1.000000</td>\n",
       "      <td>0.000000</td>\n",
       "      <td>0.000000</td>\n",
       "    </tr>\n",
       "    <tr>\n",
       "      <th>75%</th>\n",
       "      <td>38.000000</td>\n",
       "      <td>1.000000</td>\n",
       "      <td>0.000000</td>\n",
       "      <td>31.000000</td>\n",
       "      <td>1.000000</td>\n",
       "      <td>0.000000</td>\n",
       "      <td>0.000000</td>\n",
       "      <td>1.000000</td>\n",
       "      <td>1.000000</td>\n",
       "      <td>0.000000</td>\n",
       "      <td>0.000000</td>\n",
       "    </tr>\n",
       "    <tr>\n",
       "      <th>max</th>\n",
       "      <td>80.000000</td>\n",
       "      <td>8.000000</td>\n",
       "      <td>6.000000</td>\n",
       "      <td>512.329200</td>\n",
       "      <td>1.000000</td>\n",
       "      <td>1.000000</td>\n",
       "      <td>1.000000</td>\n",
       "      <td>1.000000</td>\n",
       "      <td>1.000000</td>\n",
       "      <td>1.000000</td>\n",
       "      <td>1.000000</td>\n",
       "    </tr>\n",
       "  </tbody>\n",
       "</table>\n",
       "</div>"
      ],
      "text/plain": [
       "              Age       SibSp       Parch        Fare  passenger_sex  \\\n",
       "count  714.000000  891.000000  891.000000  891.000000     891.000000   \n",
       "mean    29.699118    0.523008    0.381594   32.204208       0.647587   \n",
       "std     14.526497    1.102743    0.806057   49.693429       0.477990   \n",
       "min      0.420000    0.000000    0.000000    0.000000       0.000000   \n",
       "25%     20.125000    0.000000    0.000000    7.910400       0.000000   \n",
       "50%     28.000000    0.000000    0.000000   14.454200       1.000000   \n",
       "75%     38.000000    1.000000    0.000000   31.000000       1.000000   \n",
       "max     80.000000    8.000000    6.000000  512.329200       1.000000   \n",
       "\n",
       "       Embarked_Cherbourg  Embarked_Queenstown  Embarked_Southampton  \\\n",
       "count          891.000000           891.000000            891.000000   \n",
       "mean             0.188552             0.086420              0.722783   \n",
       "std              0.391372             0.281141              0.447876   \n",
       "min              0.000000             0.000000              0.000000   \n",
       "25%              0.000000             0.000000              0.000000   \n",
       "50%              0.000000             0.000000              1.000000   \n",
       "75%              0.000000             0.000000              1.000000   \n",
       "max              1.000000             1.000000              1.000000   \n",
       "\n",
       "       passenger_class_Lower  passenger_class_Middle  passenger_class_Upper  \n",
       "count             891.000000              891.000000             891.000000  \n",
       "mean                0.551066                0.206510               0.242424  \n",
       "std                 0.497665                0.405028               0.428790  \n",
       "min                 0.000000                0.000000               0.000000  \n",
       "25%                 0.000000                0.000000               0.000000  \n",
       "50%                 1.000000                0.000000               0.000000  \n",
       "75%                 1.000000                0.000000               0.000000  \n",
       "max                 1.000000                1.000000               1.000000  "
      ]
     },
     "execution_count": 378,
     "metadata": {},
     "output_type": "execute_result"
    }
   ],
   "source": [
    "X.describe()"
   ]
  },
  {
   "cell_type": "markdown",
   "metadata": {},
   "source": [
    "### Completar Datos Faltantes"
   ]
  },
  {
   "cell_type": "markdown",
   "metadata": {},
   "source": [
    "Viendo las estadisticas nuevamente, vemos que hay registros de *edad* que no estan completos.\n",
    "\n",
    "De 891 registros, 714 si tienen registro de edad, entonces hay 177 registros sin edad (casi el 20%). Aquí el tema es que hacer con esos registros sin edad; o completamos con algún valor por defecto, en en base calculamos este valor, o quitamos simplemente los registros."
   ]
  },
  {
   "cell_type": "code",
   "execution_count": 379,
   "metadata": {},
   "outputs": [
    {
     "data": {
      "text/html": [
       "<div>\n",
       "<style scoped>\n",
       "    .dataframe tbody tr th:only-of-type {\n",
       "        vertical-align: middle;\n",
       "    }\n",
       "\n",
       "    .dataframe tbody tr th {\n",
       "        vertical-align: top;\n",
       "    }\n",
       "\n",
       "    .dataframe thead th {\n",
       "        text-align: right;\n",
       "    }\n",
       "</style>\n",
       "<table border=\"1\" class=\"dataframe\">\n",
       "  <thead>\n",
       "    <tr style=\"text-align: right;\">\n",
       "      <th></th>\n",
       "      <th>PassengerId</th>\n",
       "      <th>Name</th>\n",
       "      <th>Age</th>\n",
       "      <th>SibSp</th>\n",
       "      <th>Parch</th>\n",
       "      <th>Ticket</th>\n",
       "      <th>Fare</th>\n",
       "      <th>Cabin</th>\n",
       "      <th>Embarked</th>\n",
       "      <th>passenger_class</th>\n",
       "      <th>passenger_sex</th>\n",
       "      <th>passenger_survived</th>\n",
       "    </tr>\n",
       "  </thead>\n",
       "  <tbody>\n",
       "    <tr>\n",
       "      <th>5</th>\n",
       "      <td>6</td>\n",
       "      <td>Moran, Mr. James</td>\n",
       "      <td>NaN</td>\n",
       "      <td>0</td>\n",
       "      <td>0</td>\n",
       "      <td>330877</td>\n",
       "      <td>8.4583</td>\n",
       "      <td>NaN</td>\n",
       "      <td>Q</td>\n",
       "      <td>Lower</td>\n",
       "      <td>M</td>\n",
       "      <td>N</td>\n",
       "    </tr>\n",
       "    <tr>\n",
       "      <th>17</th>\n",
       "      <td>18</td>\n",
       "      <td>Williams, Mr. Charles Eugene</td>\n",
       "      <td>NaN</td>\n",
       "      <td>0</td>\n",
       "      <td>0</td>\n",
       "      <td>244373</td>\n",
       "      <td>13.0000</td>\n",
       "      <td>NaN</td>\n",
       "      <td>S</td>\n",
       "      <td>Middle</td>\n",
       "      <td>M</td>\n",
       "      <td>Y</td>\n",
       "    </tr>\n",
       "    <tr>\n",
       "      <th>19</th>\n",
       "      <td>20</td>\n",
       "      <td>Masselmani, Mrs. Fatima</td>\n",
       "      <td>NaN</td>\n",
       "      <td>0</td>\n",
       "      <td>0</td>\n",
       "      <td>2649</td>\n",
       "      <td>7.2250</td>\n",
       "      <td>NaN</td>\n",
       "      <td>C</td>\n",
       "      <td>Lower</td>\n",
       "      <td>F</td>\n",
       "      <td>Y</td>\n",
       "    </tr>\n",
       "    <tr>\n",
       "      <th>26</th>\n",
       "      <td>27</td>\n",
       "      <td>Emir, Mr. Farred Chehab</td>\n",
       "      <td>NaN</td>\n",
       "      <td>0</td>\n",
       "      <td>0</td>\n",
       "      <td>2631</td>\n",
       "      <td>7.2250</td>\n",
       "      <td>NaN</td>\n",
       "      <td>C</td>\n",
       "      <td>Lower</td>\n",
       "      <td>M</td>\n",
       "      <td>N</td>\n",
       "    </tr>\n",
       "    <tr>\n",
       "      <th>28</th>\n",
       "      <td>29</td>\n",
       "      <td>O'Dwyer, Miss. Ellen \"Nellie\"</td>\n",
       "      <td>NaN</td>\n",
       "      <td>0</td>\n",
       "      <td>0</td>\n",
       "      <td>330959</td>\n",
       "      <td>7.8792</td>\n",
       "      <td>NaN</td>\n",
       "      <td>Q</td>\n",
       "      <td>Lower</td>\n",
       "      <td>F</td>\n",
       "      <td>Y</td>\n",
       "    </tr>\n",
       "    <tr>\n",
       "      <th>...</th>\n",
       "      <td>...</td>\n",
       "      <td>...</td>\n",
       "      <td>...</td>\n",
       "      <td>...</td>\n",
       "      <td>...</td>\n",
       "      <td>...</td>\n",
       "      <td>...</td>\n",
       "      <td>...</td>\n",
       "      <td>...</td>\n",
       "      <td>...</td>\n",
       "      <td>...</td>\n",
       "      <td>...</td>\n",
       "    </tr>\n",
       "    <tr>\n",
       "      <th>859</th>\n",
       "      <td>860</td>\n",
       "      <td>Razi, Mr. Raihed</td>\n",
       "      <td>NaN</td>\n",
       "      <td>0</td>\n",
       "      <td>0</td>\n",
       "      <td>2629</td>\n",
       "      <td>7.2292</td>\n",
       "      <td>NaN</td>\n",
       "      <td>C</td>\n",
       "      <td>Lower</td>\n",
       "      <td>M</td>\n",
       "      <td>N</td>\n",
       "    </tr>\n",
       "    <tr>\n",
       "      <th>863</th>\n",
       "      <td>864</td>\n",
       "      <td>Sage, Miss. Dorothy Edith \"Dolly\"</td>\n",
       "      <td>NaN</td>\n",
       "      <td>8</td>\n",
       "      <td>2</td>\n",
       "      <td>CA. 2343</td>\n",
       "      <td>69.5500</td>\n",
       "      <td>NaN</td>\n",
       "      <td>S</td>\n",
       "      <td>Lower</td>\n",
       "      <td>F</td>\n",
       "      <td>N</td>\n",
       "    </tr>\n",
       "    <tr>\n",
       "      <th>868</th>\n",
       "      <td>869</td>\n",
       "      <td>van Melkebeke, Mr. Philemon</td>\n",
       "      <td>NaN</td>\n",
       "      <td>0</td>\n",
       "      <td>0</td>\n",
       "      <td>345777</td>\n",
       "      <td>9.5000</td>\n",
       "      <td>NaN</td>\n",
       "      <td>S</td>\n",
       "      <td>Lower</td>\n",
       "      <td>M</td>\n",
       "      <td>N</td>\n",
       "    </tr>\n",
       "    <tr>\n",
       "      <th>878</th>\n",
       "      <td>879</td>\n",
       "      <td>Laleff, Mr. Kristo</td>\n",
       "      <td>NaN</td>\n",
       "      <td>0</td>\n",
       "      <td>0</td>\n",
       "      <td>349217</td>\n",
       "      <td>7.8958</td>\n",
       "      <td>NaN</td>\n",
       "      <td>S</td>\n",
       "      <td>Lower</td>\n",
       "      <td>M</td>\n",
       "      <td>N</td>\n",
       "    </tr>\n",
       "    <tr>\n",
       "      <th>888</th>\n",
       "      <td>889</td>\n",
       "      <td>Johnston, Miss. Catherine Helen \"Carrie\"</td>\n",
       "      <td>NaN</td>\n",
       "      <td>1</td>\n",
       "      <td>2</td>\n",
       "      <td>W./C. 6607</td>\n",
       "      <td>23.4500</td>\n",
       "      <td>NaN</td>\n",
       "      <td>S</td>\n",
       "      <td>Lower</td>\n",
       "      <td>F</td>\n",
       "      <td>N</td>\n",
       "    </tr>\n",
       "  </tbody>\n",
       "</table>\n",
       "<p>177 rows × 12 columns</p>\n",
       "</div>"
      ],
      "text/plain": [
       "     PassengerId                                      Name  Age  SibSp  Parch  \\\n",
       "5              6                          Moran, Mr. James  NaN      0      0   \n",
       "17            18              Williams, Mr. Charles Eugene  NaN      0      0   \n",
       "19            20                   Masselmani, Mrs. Fatima  NaN      0      0   \n",
       "26            27                   Emir, Mr. Farred Chehab  NaN      0      0   \n",
       "28            29             O'Dwyer, Miss. Ellen \"Nellie\"  NaN      0      0   \n",
       "..           ...                                       ...  ...    ...    ...   \n",
       "859          860                          Razi, Mr. Raihed  NaN      0      0   \n",
       "863          864         Sage, Miss. Dorothy Edith \"Dolly\"  NaN      8      2   \n",
       "868          869               van Melkebeke, Mr. Philemon  NaN      0      0   \n",
       "878          879                        Laleff, Mr. Kristo  NaN      0      0   \n",
       "888          889  Johnston, Miss. Catherine Helen \"Carrie\"  NaN      1      2   \n",
       "\n",
       "         Ticket     Fare Cabin Embarked passenger_class passenger_sex  \\\n",
       "5        330877   8.4583   NaN        Q           Lower             M   \n",
       "17       244373  13.0000   NaN        S          Middle             M   \n",
       "19         2649   7.2250   NaN        C           Lower             F   \n",
       "26         2631   7.2250   NaN        C           Lower             M   \n",
       "28       330959   7.8792   NaN        Q           Lower             F   \n",
       "..          ...      ...   ...      ...             ...           ...   \n",
       "859        2629   7.2292   NaN        C           Lower             M   \n",
       "863    CA. 2343  69.5500   NaN        S           Lower             F   \n",
       "868      345777   9.5000   NaN        S           Lower             M   \n",
       "878      349217   7.8958   NaN        S           Lower             M   \n",
       "888  W./C. 6607  23.4500   NaN        S           Lower             F   \n",
       "\n",
       "    passenger_survived  \n",
       "5                    N  \n",
       "17                   Y  \n",
       "19                   Y  \n",
       "26                   N  \n",
       "28                   Y  \n",
       "..                 ...  \n",
       "859                  N  \n",
       "863                  N  \n",
       "868                  N  \n",
       "878                  N  \n",
       "888                  N  \n",
       "\n",
       "[177 rows x 12 columns]"
      ]
     },
     "execution_count": 379,
     "metadata": {},
     "output_type": "execute_result"
    }
   ],
   "source": [
    "Full_data[Full_data['Age'].isna()]"
   ]
  },
  {
   "cell_type": "markdown",
   "metadata": {},
   "source": [
    "Vemos los promedios de edad por clase"
   ]
  },
  {
   "cell_type": "code",
   "execution_count": 380,
   "metadata": {},
   "outputs": [
    {
     "name": "stdout",
     "output_type": "stream",
     "text": [
      "Promedio de Edad para Clase baja 25.14061971830986\n",
      "Promedio de Edad para Clase Media 29.87763005780347\n",
      "Promedio de Edad para Clase Alta 38.233440860215055\n",
      "Promedio de Edad General 29.69911764705882\n"
     ]
    }
   ],
   "source": [
    "print('Promedio de Edad para Clase baja {}'.format(Full_data[Full_data['passenger_class']=='Lower']['Age'].mean()))\n",
    "print('Promedio de Edad para Clase Media {}'.format(Full_data[Full_data['passenger_class']=='Middle']['Age'].mean()))\n",
    "print('Promedio de Edad para Clase Alta {}'.format(Full_data[Full_data['passenger_class']=='Upper']['Age'].mean()))\n",
    "print('Promedio de Edad General {}'.format(Full_data['Age'].mean()))"
   ]
  },
  {
   "cell_type": "markdown",
   "metadata": {},
   "source": [
    "Vemos los promedios de edad por Sexo (Genero)"
   ]
  },
  {
   "cell_type": "code",
   "execution_count": 381,
   "metadata": {},
   "outputs": [
    {
     "name": "stdout",
     "output_type": "stream",
     "text": [
      "Promedio de Edad para Hombres 30.72664459161148\n",
      "Promedio de Edad para Mujeres 27.915708812260537\n",
      "Promedio de Edad General 29.69911764705882\n"
     ]
    }
   ],
   "source": [
    "print('Promedio de Edad para Hombres {}'.format(Full_data[Full_data['passenger_sex']=='M']['Age'].mean()))\n",
    "print('Promedio de Edad para Mujeres {}'.format(Full_data[Full_data['passenger_sex']=='F']['Age'].mean()))\n",
    "print('Promedio de Edad General {}'.format(Full_data['Age'].mean()))"
   ]
  },
  {
   "cell_type": "markdown",
   "metadata": {},
   "source": [
    "Vemos los promedios de edad por Zona de Embarque"
   ]
  },
  {
   "cell_type": "code",
   "execution_count": 382,
   "metadata": {},
   "outputs": [
    {
     "name": "stdout",
     "output_type": "stream",
     "text": [
      "Promedio de Edad Embarkados en Southampton 29.44539711191336\n",
      "Promedio de Edad Embarkados en Cherbourg 30.81476923076923\n",
      "Promedio de Edad Embarkados en Queenstown 28.089285714285715\n",
      "Promedio de Edad General 29.69911764705882\n"
     ]
    }
   ],
   "source": [
    "print('Promedio de Edad Embarkados en Southampton {}'.format(Full_data[Full_data['Embarked']=='S']['Age'].mean()))\n",
    "print('Promedio de Edad Embarkados en Cherbourg {}'.format(Full_data[Full_data['Embarked']=='C']['Age'].mean()))\n",
    "print('Promedio de Edad Embarkados en Queenstown {}'.format(Full_data[Full_data['Embarked']=='Q']['Age'].mean()))\n",
    "print('Promedio de Edad General {}'.format(Full_data['Age'].mean()))"
   ]
  },
  {
   "cell_type": "markdown",
   "metadata": {},
   "source": [
    "Creo que lo mejor colocar un valor por defecto de acuerdo a la clase que pertenece el pasajero."
   ]
  },
  {
   "cell_type": "code",
   "execution_count": 383,
   "metadata": {},
   "outputs": [
    {
     "data": {
      "text/plain": [
       "Lower     136\n",
       "Upper      30\n",
       "Middle     11\n",
       "Name: passenger_class, dtype: int64"
      ]
     },
     "execution_count": 383,
     "metadata": {},
     "output_type": "execute_result"
    }
   ],
   "source": [
    "#Veamos la distribución de los datos nulos de Edad por Clase\n",
    "Full_data[Full_data['Age'].isna()]['passenger_class'].value_counts()"
   ]
  },
  {
   "cell_type": "code",
   "execution_count": 384,
   "metadata": {},
   "outputs": [],
   "source": [
    "median_lower = Full_data[Full_data['passenger_class']=='Lower']['Age'].mean()\n",
    "XTemp = X.loc[Full_data['passenger_class']=='Lower']\n",
    "XIndex = XTemp.loc[XTemp['Age'].isna()].index\n",
    "X.loc[XIndex,'Age']= median_lower"
   ]
  },
  {
   "cell_type": "code",
   "execution_count": 385,
   "metadata": {},
   "outputs": [],
   "source": [
    "median_Middle = Full_data[Full_data['passenger_class']=='Middle']['Age'].mean()\n",
    "XTemp = X.loc[Full_data['passenger_class']=='Middle']\n",
    "XIndex = XTemp.loc[XTemp['Age'].isna()].index\n",
    "X.loc[XIndex,'Age']= median_Middle"
   ]
  },
  {
   "cell_type": "code",
   "execution_count": 386,
   "metadata": {},
   "outputs": [],
   "source": [
    "median_Upper = Full_data[Full_data['passenger_class']=='Upper']['Age'].mean()\n",
    "XTemp = X.loc[Full_data['passenger_class']=='Upper']\n",
    "XIndex = XTemp.loc[XTemp['Age'].isna()].index\n",
    "X.loc[XIndex,'Age']= median_Upper"
   ]
  },
  {
   "cell_type": "code",
   "execution_count": 387,
   "metadata": {},
   "outputs": [
    {
     "data": {
      "text/html": [
       "<div>\n",
       "<style scoped>\n",
       "    .dataframe tbody tr th:only-of-type {\n",
       "        vertical-align: middle;\n",
       "    }\n",
       "\n",
       "    .dataframe tbody tr th {\n",
       "        vertical-align: top;\n",
       "    }\n",
       "\n",
       "    .dataframe thead th {\n",
       "        text-align: right;\n",
       "    }\n",
       "</style>\n",
       "<table border=\"1\" class=\"dataframe\">\n",
       "  <thead>\n",
       "    <tr style=\"text-align: right;\">\n",
       "      <th></th>\n",
       "      <th>Age</th>\n",
       "      <th>SibSp</th>\n",
       "      <th>Parch</th>\n",
       "      <th>Fare</th>\n",
       "      <th>passenger_sex</th>\n",
       "      <th>Embarked_Cherbourg</th>\n",
       "      <th>Embarked_Queenstown</th>\n",
       "      <th>Embarked_Southampton</th>\n",
       "      <th>passenger_class_Lower</th>\n",
       "      <th>passenger_class_Middle</th>\n",
       "      <th>passenger_class_Upper</th>\n",
       "    </tr>\n",
       "  </thead>\n",
       "  <tbody>\n",
       "  </tbody>\n",
       "</table>\n",
       "</div>"
      ],
      "text/plain": [
       "Empty DataFrame\n",
       "Columns: [Age, SibSp, Parch, Fare, passenger_sex, Embarked_Cherbourg, Embarked_Queenstown, Embarked_Southampton, passenger_class_Lower, passenger_class_Middle, passenger_class_Upper]\n",
       "Index: []"
      ]
     },
     "execution_count": 387,
     "metadata": {},
     "output_type": "execute_result"
    }
   ],
   "source": [
    "##Revisamos que no queden valores Nulos\n",
    "X.loc[X['Age'].isna()]"
   ]
  },
  {
   "cell_type": "markdown",
   "metadata": {},
   "source": [
    "### Normalización de Datos\n",
    "\n",
    "Usamos scikitLearn para Normalizar todos los datos."
   ]
  },
  {
   "cell_type": "code",
   "execution_count": 508,
   "metadata": {},
   "outputs": [
    {
     "data": {
      "text/plain": [
       "(891, 11)"
      ]
     },
     "execution_count": 508,
     "metadata": {},
     "output_type": "execute_result"
    }
   ],
   "source": [
    "from sklearn.preprocessing import StandardScaler\n",
    "\n",
    "#Se setea el scaler\n",
    "scaler = StandardScaler()\n",
    "scaler.fit(X)\n",
    "\n",
    "#Se transforma los datos\n",
    "X_Norm=scaler.transform(X)\n",
    "X_Norm.shape"
   ]
  },
  {
   "cell_type": "markdown",
   "metadata": {},
   "source": [
    "***Nota:*** *Se escoge normalización normal, ya que para el modelo SVM se recomienda usar esta estandarización para mejores resultados, y dado que no afecta los demás modelos, se escoge este.*"
   ]
  },
  {
   "cell_type": "markdown",
   "metadata": {},
   "source": [
    "from sklearn.preprocessing import MinMaxScaler\n",
    "\n",
    "#Se setea el scaler\n",
    "scaler = MinMaxScaler()\n",
    "scaler.fit(X)\n",
    "\n",
    "#Se transforma los datos\n",
    "X_Norm=scaler.transform(X)\n",
    "X_Norm.shape"
   ]
  },
  {
   "cell_type": "markdown",
   "metadata": {},
   "source": [
    "***Nota:*** *Se deja codigo como referencia, dado que este empece a usar en la creación de los modelos; pero por lo indicado anteriormente se usará normalización standard.*"
   ]
  },
  {
   "cell_type": "markdown",
   "metadata": {},
   "source": [
    "Algunas estadisticas para los datos transformados"
   ]
  },
  {
   "cell_type": "code",
   "execution_count": 389,
   "metadata": {},
   "outputs": [
    {
     "data": {
      "text/html": [
       "<div>\n",
       "<style scoped>\n",
       "    .dataframe tbody tr th:only-of-type {\n",
       "        vertical-align: middle;\n",
       "    }\n",
       "\n",
       "    .dataframe tbody tr th {\n",
       "        vertical-align: top;\n",
       "    }\n",
       "\n",
       "    .dataframe thead th {\n",
       "        text-align: right;\n",
       "    }\n",
       "</style>\n",
       "<table border=\"1\" class=\"dataframe\">\n",
       "  <thead>\n",
       "    <tr style=\"text-align: right;\">\n",
       "      <th></th>\n",
       "      <th>0</th>\n",
       "      <th>1</th>\n",
       "      <th>2</th>\n",
       "      <th>3</th>\n",
       "      <th>4</th>\n",
       "      <th>5</th>\n",
       "      <th>6</th>\n",
       "      <th>7</th>\n",
       "      <th>8</th>\n",
       "      <th>9</th>\n",
       "      <th>10</th>\n",
       "    </tr>\n",
       "  </thead>\n",
       "  <tbody>\n",
       "    <tr>\n",
       "      <th>count</th>\n",
       "      <td>8.910000e+02</td>\n",
       "      <td>8.910000e+02</td>\n",
       "      <td>8.910000e+02</td>\n",
       "      <td>8.910000e+02</td>\n",
       "      <td>8.910000e+02</td>\n",
       "      <td>8.910000e+02</td>\n",
       "      <td>891.000000</td>\n",
       "      <td>8.910000e+02</td>\n",
       "      <td>8.910000e+02</td>\n",
       "      <td>8.910000e+02</td>\n",
       "      <td>8.910000e+02</td>\n",
       "    </tr>\n",
       "    <tr>\n",
       "      <th>mean</th>\n",
       "      <td>9.968332e-17</td>\n",
       "      <td>4.386066e-17</td>\n",
       "      <td>5.382900e-17</td>\n",
       "      <td>3.987333e-18</td>\n",
       "      <td>-1.156327e-16</td>\n",
       "      <td>-1.993666e-17</td>\n",
       "      <td>0.000000</td>\n",
       "      <td>-4.984166e-17</td>\n",
       "      <td>-6.778466e-17</td>\n",
       "      <td>1.993666e-17</td>\n",
       "      <td>-7.575933e-17</td>\n",
       "    </tr>\n",
       "    <tr>\n",
       "      <th>std</th>\n",
       "      <td>1.000562e+00</td>\n",
       "      <td>1.000562e+00</td>\n",
       "      <td>1.000562e+00</td>\n",
       "      <td>1.000562e+00</td>\n",
       "      <td>1.000562e+00</td>\n",
       "      <td>1.000562e+00</td>\n",
       "      <td>1.000562</td>\n",
       "      <td>1.000562e+00</td>\n",
       "      <td>1.000562e+00</td>\n",
       "      <td>1.000562e+00</td>\n",
       "      <td>1.000562e+00</td>\n",
       "    </tr>\n",
       "    <tr>\n",
       "      <th>min</th>\n",
       "      <td>-2.186823e+00</td>\n",
       "      <td>-4.745452e-01</td>\n",
       "      <td>-4.736736e-01</td>\n",
       "      <td>-6.484217e-01</td>\n",
       "      <td>-1.355574e+00</td>\n",
       "      <td>-4.820427e-01</td>\n",
       "      <td>-0.307562</td>\n",
       "      <td>-1.614710e+00</td>\n",
       "      <td>-1.107926e+00</td>\n",
       "      <td>-5.101515e-01</td>\n",
       "      <td>-5.656854e-01</td>\n",
       "    </tr>\n",
       "    <tr>\n",
       "      <th>25%</th>\n",
       "      <td>-5.523603e-01</td>\n",
       "      <td>-4.745452e-01</td>\n",
       "      <td>-4.736736e-01</td>\n",
       "      <td>-4.891482e-01</td>\n",
       "      <td>-1.355574e+00</td>\n",
       "      <td>-4.820427e-01</td>\n",
       "      <td>-0.307562</td>\n",
       "      <td>-1.614710e+00</td>\n",
       "      <td>-1.107926e+00</td>\n",
       "      <td>-5.101515e-01</td>\n",
       "      <td>-5.656854e-01</td>\n",
       "    </tr>\n",
       "    <tr>\n",
       "      <th>50%</th>\n",
       "      <td>-2.494014e-01</td>\n",
       "      <td>-4.745452e-01</td>\n",
       "      <td>-4.736736e-01</td>\n",
       "      <td>-3.573909e-01</td>\n",
       "      <td>7.376951e-01</td>\n",
       "      <td>-4.820427e-01</td>\n",
       "      <td>-0.307562</td>\n",
       "      <td>6.193064e-01</td>\n",
       "      <td>9.025874e-01</td>\n",
       "      <td>-5.101515e-01</td>\n",
       "      <td>-5.656854e-01</td>\n",
       "    </tr>\n",
       "    <tr>\n",
       "      <th>75%</th>\n",
       "      <td>5.837355e-01</td>\n",
       "      <td>4.327934e-01</td>\n",
       "      <td>-4.736736e-01</td>\n",
       "      <td>-2.424635e-02</td>\n",
       "      <td>7.376951e-01</td>\n",
       "      <td>-4.820427e-01</td>\n",
       "      <td>-0.307562</td>\n",
       "      <td>6.193064e-01</td>\n",
       "      <td>9.025874e-01</td>\n",
       "      <td>-5.101515e-01</td>\n",
       "      <td>-5.656854e-01</td>\n",
       "    </tr>\n",
       "    <tr>\n",
       "      <th>max</th>\n",
       "      <td>3.840543e+00</td>\n",
       "      <td>6.784163e+00</td>\n",
       "      <td>6.974147e+00</td>\n",
       "      <td>9.667167e+00</td>\n",
       "      <td>7.376951e-01</td>\n",
       "      <td>2.074505e+00</td>\n",
       "      <td>3.251373</td>\n",
       "      <td>6.193064e-01</td>\n",
       "      <td>9.025874e-01</td>\n",
       "      <td>1.960202e+00</td>\n",
       "      <td>1.767767e+00</td>\n",
       "    </tr>\n",
       "  </tbody>\n",
       "</table>\n",
       "</div>"
      ],
      "text/plain": [
       "                 0             1             2             3             4   \\\n",
       "count  8.910000e+02  8.910000e+02  8.910000e+02  8.910000e+02  8.910000e+02   \n",
       "mean   9.968332e-17  4.386066e-17  5.382900e-17  3.987333e-18 -1.156327e-16   \n",
       "std    1.000562e+00  1.000562e+00  1.000562e+00  1.000562e+00  1.000562e+00   \n",
       "min   -2.186823e+00 -4.745452e-01 -4.736736e-01 -6.484217e-01 -1.355574e+00   \n",
       "25%   -5.523603e-01 -4.745452e-01 -4.736736e-01 -4.891482e-01 -1.355574e+00   \n",
       "50%   -2.494014e-01 -4.745452e-01 -4.736736e-01 -3.573909e-01  7.376951e-01   \n",
       "75%    5.837355e-01  4.327934e-01 -4.736736e-01 -2.424635e-02  7.376951e-01   \n",
       "max    3.840543e+00  6.784163e+00  6.974147e+00  9.667167e+00  7.376951e-01   \n",
       "\n",
       "                 5           6             7             8             9   \\\n",
       "count  8.910000e+02  891.000000  8.910000e+02  8.910000e+02  8.910000e+02   \n",
       "mean  -1.993666e-17    0.000000 -4.984166e-17 -6.778466e-17  1.993666e-17   \n",
       "std    1.000562e+00    1.000562  1.000562e+00  1.000562e+00  1.000562e+00   \n",
       "min   -4.820427e-01   -0.307562 -1.614710e+00 -1.107926e+00 -5.101515e-01   \n",
       "25%   -4.820427e-01   -0.307562 -1.614710e+00 -1.107926e+00 -5.101515e-01   \n",
       "50%   -4.820427e-01   -0.307562  6.193064e-01  9.025874e-01 -5.101515e-01   \n",
       "75%   -4.820427e-01   -0.307562  6.193064e-01  9.025874e-01 -5.101515e-01   \n",
       "max    2.074505e+00    3.251373  6.193064e-01  9.025874e-01  1.960202e+00   \n",
       "\n",
       "                 10  \n",
       "count  8.910000e+02  \n",
       "mean  -7.575933e-17  \n",
       "std    1.000562e+00  \n",
       "min   -5.656854e-01  \n",
       "25%   -5.656854e-01  \n",
       "50%   -5.656854e-01  \n",
       "75%   -5.656854e-01  \n",
       "max    1.767767e+00  "
      ]
     },
     "execution_count": 389,
     "metadata": {},
     "output_type": "execute_result"
    }
   ],
   "source": [
    "pd.DataFrame(X_Norm).describe()"
   ]
  },
  {
   "cell_type": "markdown",
   "metadata": {},
   "source": [
    "## Análisis - Relaciones entre los Datos\n",
    "\n",
    "Ya transformados los datos, valdria la pena revisar las relaciones que tenemos entre los distintos datos, desde la correlación de los mismos como la densidad de cada uno."
   ]
  },
  {
   "cell_type": "code",
   "execution_count": 390,
   "metadata": {},
   "outputs": [
    {
     "data": {
      "text/plain": [
       "<seaborn.axisgrid.PairGrid at 0x20747171ac8>"
      ]
     },
     "execution_count": 390,
     "metadata": {},
     "output_type": "execute_result"
    },
    {
     "data": {
      "image/png": "[encoded data removed]",
      "text/plain": [
       "<Figure size 827.875x720 with 20 Axes>"
      ]
     },
     "metadata": {
      "needs_background": "light"
     },
     "output_type": "display_data"
    }
   ],
   "source": [
    "sns.pairplot(Full_data[['Age','SibSp','Parch','Fare','passenger_survived']],hue='passenger_survived')"
   ]
  },
  {
   "cell_type": "markdown",
   "metadata": {},
   "source": [
    "**Observación:** Parece ser que el factor de edad no determina su capacidad de supervivencia, y combinando con otros factores parece funcionar mejor (excepto factor Fare)"
   ]
  },
  {
   "cell_type": "markdown",
   "metadata": {},
   "source": [
    "1. Analisis de variables categoricas. ¿El Genero de la persona podría determinar su supervivencia?"
   ]
  },
  {
   "cell_type": "code",
   "execution_count": 391,
   "metadata": {},
   "outputs": [
    {
     "name": "stdout",
     "output_type": "stream",
     "text": [
      "% of women who survived: 0.7420382165605095\n"
     ]
    }
   ],
   "source": [
    "totalwomen= Full_data[Full_data.passenger_sex == 'F']['passenger_sex'].value_counts()[0]\n",
    "womenSurvived= Full_data[Full_data.passenger_sex == 'F']['passenger_survived'].value_counts()[0]\n",
    "\n",
    "rate_women = womenSurvived/totalwomen\n",
    "\n",
    "print(\"% of women who survived:\", rate_women)"
   ]
  },
  {
   "cell_type": "markdown",
   "metadata": {},
   "source": [
    "**Observación:** Parece que ser mujer garantiza un buen porcentaje de supervivencia."
   ]
  },
  {
   "cell_type": "code",
   "execution_count": 392,
   "metadata": {},
   "outputs": [
    {
     "name": "stdout",
     "output_type": "stream",
     "text": [
      "% of men who survived: 0.18890814558058924\n"
     ]
    }
   ],
   "source": [
    "totalmen= Full_data[Full_data.passenger_sex == 'M']['passenger_sex'].value_counts()[0]\n",
    "menSurvived= Full_data[Full_data.passenger_sex == 'M']['passenger_survived'].value_counts()[1]\n",
    "\n",
    "rate_men = menSurvived/totalmen\n",
    "\n",
    "print(\"% of men who survived:\", rate_men)"
   ]
  },
  {
   "cell_type": "markdown",
   "metadata": {},
   "source": [
    "**Observación:** Parece que ser al ser hombre se tienen menos posibilidad de supervivencia."
   ]
  },
  {
   "cell_type": "markdown",
   "metadata": {},
   "source": [
    "2. ¿La clase en la que se encuentra influye tambien en la sobrevivencia?"
   ]
  },
  {
   "cell_type": "code",
   "execution_count": 393,
   "metadata": {},
   "outputs": [],
   "source": [
    "TotalUpper = Full_data[Full_data.passenger_class == 'Upper']['passenger_class'].value_counts()[0]\n",
    "upperSurvided=Full_data[Full_data.passenger_class == 'Upper']['passenger_survived'].value_counts()[0]\n",
    "rate_upperSurvived= upperSurvided/TotalUpper"
   ]
  },
  {
   "cell_type": "code",
   "execution_count": 394,
   "metadata": {},
   "outputs": [],
   "source": [
    "TotalMiddle = Full_data[Full_data.passenger_class == 'Middle']['passenger_class'].value_counts()[0]\n",
    "MiddleSurvided=Full_data[Full_data.passenger_class == 'Middle']['passenger_survived'].value_counts()[1]\n",
    "rate_MiddleSurvived= MiddleSurvided/TotalMiddle"
   ]
  },
  {
   "cell_type": "code",
   "execution_count": 395,
   "metadata": {},
   "outputs": [],
   "source": [
    "TotalLower = Full_data[Full_data.passenger_class == 'Lower']['passenger_class'].value_counts()[0]\n",
    "LowerSurvived=Full_data[Full_data.passenger_class == 'Lower']['passenger_survived'].value_counts()[1]\n",
    "rate_LowerSurvived= LowerSurvived/TotalLower"
   ]
  },
  {
   "cell_type": "code",
   "execution_count": 396,
   "metadata": {},
   "outputs": [
    {
     "name": "stdout",
     "output_type": "stream",
     "text": [
      "% of Upper class who survived: 0.6296296296296297\n",
      "% of Middle class who survived: 0.47282608695652173\n",
      "% of Lower class who survived: 0.24236252545824846\n"
     ]
    }
   ],
   "source": [
    "print(\"% of Upper class who survived:\", rate_upperSurvived)\n",
    "print(\"% of Middle class who survived:\", rate_MiddleSurvived)\n",
    "print(\"% of Lower class who survived:\", rate_LowerSurvived)"
   ]
  },
  {
   "cell_type": "markdown",
   "metadata": {},
   "source": [
    "**Observación:** Entre mayor la clase, mayor la posibilidad de supervivencia"
   ]
  },
  {
   "cell_type": "markdown",
   "metadata": {},
   "source": [
    "3. ¿El Puerto de Embarque influye tambien en la sobrevivencia?"
   ]
  },
  {
   "cell_type": "code",
   "execution_count": 397,
   "metadata": {},
   "outputs": [
    {
     "data": {
      "text/plain": [
       "N    47\n",
       "Y    30\n",
       "Name: passenger_survived, dtype: int64"
      ]
     },
     "execution_count": 397,
     "metadata": {},
     "output_type": "execute_result"
    }
   ],
   "source": [
    "Full_data[Full_data.Embarked == 'Q']['passenger_survived'].value_counts()"
   ]
  },
  {
   "cell_type": "code",
   "execution_count": 398,
   "metadata": {},
   "outputs": [],
   "source": [
    "TotalEmbarkedS = Full_data[Full_data.Embarked == 'S']['Embarked'].value_counts()[0]\n",
    "EmbarkedSSurvided=Full_data[Full_data.Embarked == 'S']['passenger_survived'].value_counts()[1]\n",
    "rate_EmbarkedSSurvived= EmbarkedSSurvided/TotalEmbarkedS"
   ]
  },
  {
   "cell_type": "code",
   "execution_count": 399,
   "metadata": {},
   "outputs": [],
   "source": [
    "TotalEmbarkedC = Full_data[Full_data.Embarked == 'C']['Embarked'].value_counts()[0]\n",
    "EmbarkedCSurvided=Full_data[Full_data.Embarked == 'C']['passenger_survived'].value_counts()[0]\n",
    "rate_EmbarkedCSurvived= EmbarkedCSurvided/TotalEmbarkedC"
   ]
  },
  {
   "cell_type": "code",
   "execution_count": 400,
   "metadata": {},
   "outputs": [],
   "source": [
    "TotalEmbarkedQ = Full_data[Full_data.Embarked == 'Q']['Embarked'].value_counts()[0]\n",
    "EmbarkedQSurvided=Full_data[Full_data.Embarked == 'Q']['passenger_survived'].value_counts()[1]\n",
    "rate_EmbarkedQSurvived= EmbarkedQSurvided/TotalEmbarkedQ"
   ]
  },
  {
   "cell_type": "code",
   "execution_count": 401,
   "metadata": {},
   "outputs": [
    {
     "name": "stdout",
     "output_type": "stream",
     "text": [
      "% of Embarked Southampton who survived: 0.33695652173913043\n",
      "% of Embarked Cherbourg who survived: 0.5535714285714286\n",
      "% of Embarked Queenstown who survived: 0.38961038961038963\n"
     ]
    }
   ],
   "source": [
    "print(\"% of Embarked Southampton who survived:\", rate_EmbarkedSSurvived)\n",
    "print(\"% of Embarked Cherbourg who survived:\", rate_EmbarkedCSurvived)\n",
    "print(\"% of Embarked Queenstown who survived:\", rate_EmbarkedQSurvived)"
   ]
  },
  {
   "cell_type": "markdown",
   "metadata": {},
   "source": [
    "**Observación:** No hay una relación muy clara entre el puerto que embarco y el nivel de supervivencia."
   ]
  },
  {
   "cell_type": "markdown",
   "metadata": {},
   "source": [
    "## Separara Datos de Entrenamiento/Validación/Pruebas\n",
    "\n",
    "Usaremos scikitLearn para hacer la separación de los dataset.\n",
    "* Entrenamiento (Train) (80%)\n",
    "* Validación (Cross Validation) (10%)\n",
    "* Pruebas (Test)(20%) "
   ]
  },
  {
   "cell_type": "code",
   "execution_count": 509,
   "metadata": {},
   "outputs": [],
   "source": [
    "from sklearn.model_selection import train_test_split\n",
    "\n",
    "##Hacemos la separación de los data sets\n",
    "X_Ttrain, X_test, y_Ttrain, y_test = train_test_split(X_Norm,Y,test_size=0.1,random_state=21, stratify=Y)\n",
    "##Volvemos a dividir el de Train para tener otro para Cross-validation\n",
    "X_train, X_Validation, y_train, y_Validation = train_test_split(X_Ttrain,y_Ttrain,test_size=0.11,random_state=21, stratify=y_Ttrain)"
   ]
  },
  {
   "cell_type": "code",
   "execution_count": 403,
   "metadata": {},
   "outputs": [
    {
     "name": "stdout",
     "output_type": "stream",
     "text": [
      "El Data set de Entrenamiento quedo de este tamaño X: (712, 11) Y:(712, 1)\n",
      "El Data set de Validación quedo de este tamaño X: (89, 11) Y:(89, 1)\n",
      "El Data set de Pruebas quedo de este tamaño X: (90, 11) Y:(90, 1)\n"
     ]
    }
   ],
   "source": [
    "print(\"El Data set de Entrenamiento quedo de este tamaño X: {} Y:{}\".format(X_train.shape, y_train.shape ))\n",
    "print(\"El Data set de Validación quedo de este tamaño X: {} Y:{}\".format(X_Validation.shape, y_Validation.shape ))\n",
    "print(\"El Data set de Pruebas quedo de este tamaño X: {} Y:{}\".format(X_test.shape, y_test.shape ))"
   ]
  },
  {
   "cell_type": "markdown",
   "metadata": {},
   "source": [
    "## Creación de Módelos\n",
    "\n",
    "### Módelo - Árbol de Decisión\n",
    "\n",
    "Se hará un modelo usando el Algoritmo de DecisionTree; por simplificación se usará scikit Learn con las funciones que este implementa."
   ]
  },
  {
   "cell_type": "markdown",
   "metadata": {},
   "source": [
    "#### Definición de Modelo y Función de Entrenamiento\n",
    "\n",
    "Definimos el modelo y lo dejamos en la función de entrenamiento para que sea reutilizable."
   ]
  },
  {
   "cell_type": "code",
   "execution_count": 404,
   "metadata": {},
   "outputs": [],
   "source": [
    "from sklearn import tree\n",
    "\n",
    "def EntrenamientoDT(max_depth,x,y,x_val,y_val):\n",
    "    \n",
    "    ##Creamos el Modelo\n",
    "    Tree_classifier = tree.DecisionTreeClassifier(max_depth = max_depth, random_state=0)\n",
    "    ##Ajustamos el Modelo con los datos de Entrenamiento\n",
    "    Tree_classifier = Tree_classifier.fit(X_train,y_train )\n",
    "    \n",
    "    ##Dejamos registro de Bitacora del Entrenamiento\n",
    "    string_conf= time.strftime(\"%Y%m%d\") + \"_\"+time.strftime(\"%H%M%S\")+\"_DecisionTree_max_depth=\"+str(max_depth)\n",
    "    print(string_conf)\n",
    "    \n",
    "    #En Base al Modelo se hará la predicción con el Dataset de Entrenamiento y Validación\n",
    "    ##Haremos la predicción para los datos de validación\n",
    "    y_pred_train = Tree_classifier.predict(X_train)\n",
    "    y_pred_Val=Tree_classifier.predict(X_Validation)\n",
    "    \n",
    "    #Acurracy\n",
    "    accuracy_train= accuracy_score(y_train, y_pred_train)\n",
    "    accuracy_val= accuracy_score(y_Validation, y_pred_Val)\n",
    "    \n",
    "    #Error\n",
    "    error_train= 1-accuracy_train\n",
    "    error_val= 1 -accuracy_val \n",
    "    \n",
    "    #Precision\n",
    "    precision_train=precision_score(y_train, y_pred_train, average='binary')\n",
    "    precision_val=precision_score(y_Validation, y_pred_Val, average='binary')\n",
    "    \n",
    "    #Recall\n",
    "    recall_train=recall_score(y_train, y_pred_train, average='binary')\n",
    "    recall_val=recall_score(y_Validation,  y_pred_Val, average='binary')\n",
    "    \n",
    "    #F1\n",
    "    f1_train=f1_score(y_train, y_pred_train, average='binary')\n",
    "    f1_val=f1_score(y_Validation, y_pred_Val, average='binary')\n",
    "    \n",
    "    \n",
    "    ##Determinamos la Metrica para los datos de Entrenamiento\n",
    "    print(\"Prueba Datos Entrenamiento - Accuracy:{:.4f} Error:{:.4f} Precision:{:.4f} Recall:{:.4f} f1:{:.4f}\".format(accuracy_train,error_train,\n",
    "                                                                                        precision_train,recall_train,\n",
    "                                                                                        f1_train))\n",
    "    \n",
    "    ##Determinamos la Metrica para los datos de Validación\n",
    "    print(\"Prueba Datos Validación - Accuracy:{:.4f} Error:{:.4f} Precision:{:.4f} Recall:{:.4f} f1:{:.4f}\".format(accuracy_val,error_val,\n",
    "                                                                                        precision_val,recall_val,\n",
    "                                                                                        f1_val))\n",
    "    \n",
    "    ##Guardamos un log de la prueba - Un archivo CSV\n",
    "    myData = {'id':string_conf, 'max_depth':max_depth,'accuracy_train':accuracy_train,'accuracy_val':accuracy_val,'error_train':error_train,'error_val':error_val,\n",
    "              'precision_train':precision_train,'precision_val':precision_val,'recall_train':recall_train,'recall_val':recall_val,'f1_train':f1_train,'f1_val':f1_val}\n",
    "\n",
    "    myFile=\"logfile - DecisionTree - Training.csv\" \n",
    "    # add row to CSV file\n",
    "    header=['id','max_depth','accuracy_train', 'accuracy_val', 'error_train', 'error_val', 'precision_train', 'precision_val', 'recall_train', 'recall_val', 'f1_train', 'f1_val']\n",
    "    with open(myFile, \"a\", newline='') as f:\n",
    "        writer = csv.DictWriter(f, fieldnames=header)\n",
    "        writer.writerow(myData)\n",
    "        \n",
    "    #Almacenmos el Clasificador (Nuestra clase creada) como un Dump con Pickle\n",
    "    pickle.dump( Tree_classifier, open( \"DumpDT/\"+string_conf+\".p\", \"wb\" ) )\n",
    "    \n",
    "    ##Retornamos el Objeto con los metodos para predicciones\n",
    "    return Tree_classifier"
   ]
  },
  {
   "cell_type": "markdown",
   "metadata": {},
   "source": [
    "#### Entrenamos Nuestra Función de Entrenamiento\n",
    "\n",
    "En el inciso anterior definimos el Modelo y la función de Entrenamiento, ahorita procedemos a entrar nuestro modelo variando el parametro."
   ]
  },
  {
   "cell_type": "code",
   "execution_count": 510,
   "metadata": {},
   "outputs": [
    {
     "name": "stdout",
     "output_type": "stream",
     "text": [
      "20200629_225218_DecisionTree_max_depth=5\n",
      "Prueba Datos Entrenamiento - Accuracy:0.8413 Error:0.1587 Precision:0.8306 Recall:0.7363 f1:0.7806\n",
      "Prueba Datos Validación - Accuracy:0.8876 Error:0.1124 Precision:0.8529 Recall:0.8529 f1:0.8529\n"
     ]
    }
   ],
   "source": [
    "##Seteamos los datos que enviaremos a la función de Entrenamiento\n",
    "max_depth=5\n",
    "\n",
    "DT_Classifier= EntrenamientoDT(max_depth,X_train,y_train,X_Validation,y_Validation)"
   ]
  },
  {
   "cell_type": "markdown",
   "metadata": {},
   "source": [
    "**NOTA:** *Para simplificación, se deja en el inciso anterior solamente el modelo con el que se obtuvo los mejores resultados; posteriormente mostraremos el log de las pruebas para mostrar los diferentes experimentes.*"
   ]
  },
  {
   "cell_type": "markdown",
   "metadata": {},
   "source": [
    "#### Grafo de Arbol\n",
    "\n",
    "Vemos como quedo a nivel gráfico el arbol que entrenamos con nuestro modelo"
   ]
  },
  {
   "cell_type": "code",
   "execution_count": 409,
   "metadata": {},
   "outputs": [
    {
     "data": {
      "image/png": "[encoded data removed]",
      "text/plain": [
       "<Figure size 2400x2400 with 1 Axes>"
      ]
     },
     "metadata": {
      "needs_background": "light"
     },
     "output_type": "display_data"
    }
   ],
   "source": [
    "feature_names = np.array(X.columns)\n",
    "target_names = np.array(['Dead', 'Survived'])\n",
    "fig, axes = plt.subplots(nrows = 1,ncols = 1,figsize = (4,4), dpi=600)\n",
    "tree.plot_tree(DT_Classifier,feature_names = feature_names,class_names= target_names,filled=True )\n",
    "fig.savefig('assets/DecisionTree.png')"
   ]
  },
  {
   "cell_type": "markdown",
   "metadata": {},
   "source": [
    "#### Log de Entrenamientos\n",
    "El log se guardo en un archivo csv llamado **\"logfile - DecisionTree - Training.csv\"**; se coloca imagen para referencia.\n",
    "\n",
    "<img src=\"assets/LogCsvDT.png\">"
   ]
  },
  {
   "cell_type": "markdown",
   "metadata": {},
   "source": [
    "#### Archivos para Deployment\n",
    "\n",
    "Para el deployment, se exportará el objeto ya instanciado con el clasificador DecisionTree; este nos ayudará para la predicción fuera de este archivo.\n",
    "\n",
    "Se dejarán estos datos en la carpeta **\"./DumpDT\"**. Se coloca imagen de la carpeta como referencia.\n",
    "\n",
    "<img src=\"assets/DumpsDT.png\">"
   ]
  },
  {
   "cell_type": "markdown",
   "metadata": {},
   "source": [
    "### Módelo - Support Vector Machine\n",
    "\n",
    "Se hará un modelo usando el Algoritmo de Support Vector Machine; por simplificación se usará scikit Learn con las funciones que este implementa."
   ]
  },
  {
   "cell_type": "markdown",
   "metadata": {},
   "source": [
    "#### Definición de Modelo y Función de Entrenamiento\n",
    "\n",
    "Definimos el modelo y lo dejamos en la función de entrenamiento para que sea reutilizable."
   ]
  },
  {
   "cell_type": "code",
   "execution_count": 410,
   "metadata": {},
   "outputs": [],
   "source": [
    "from sklearn import svm\n",
    "\n",
    "def EntrenamientoSVM(typeSVM,x,y,x_val,y_val,random_state=None,tol=0.001,regularization_parameter=1,degree=3,max_iter=-1):\n",
    "    \n",
    "    ##Podremos elegir entre los tres modelos que implementa en SVM en ScikitLearn\n",
    "    ##1 - SVC  2 - NuSVC   3 - LinearSVC\n",
    "    if typeSVM == 1:\n",
    "        svm_clf = svm.SVC(random_state=random_state,tol=tol,C=regularization_parameter,degree=degree,max_iter=max_iter)\n",
    "    elif typeSVM == 2:\n",
    "        svm_clf = svm.NuSVC(random_state=random_state,tol=tol,degree=degree,max_iter=max_iter)\n",
    "    else:\n",
    "         svm_clf = svm.LinearSVC(random_state=random_state,tol=tol,C=regularization_parameter,max_iter=max_iter)\n",
    "    ##Ajsutamos el Modelo con los datos de Entrenamiento\n",
    "    svm_clf.fit(X_train, np.array(y_train).ravel())\n",
    "    \n",
    "    ##Dejamos registro de Bitacora del Entrenamiento\n",
    "    string_conf= time.strftime(\"%Y%m%d\") + \"_\"+time.strftime(\"%H%M%S\")+\"_SVM_random_state=\"+str(random_state)+\"_tol=\"+str(tol)+\"_C=\"+str(regularization_parameter)+\"_degree=\"+str(degree)+\"_max_iter=\"+str(max_iter)\n",
    "    print(string_conf)\n",
    "    \n",
    "    #En Base al Modelo se hará la predicción con el Dataset de Entrenamiento y Validación\n",
    "    ##Haremos la predicción para los datos de validación\n",
    "    y_pred_train = svm_clf.predict(X_train)\n",
    "    y_pred_Val=svm_clf.predict(X_Validation)\n",
    "    \n",
    "    #Acurracy\n",
    "    accuracy_train= accuracy_score(y_train, y_pred_train)\n",
    "    accuracy_val= accuracy_score(y_Validation, y_pred_Val)\n",
    "    \n",
    "    #Error\n",
    "    error_train= 1-accuracy_train\n",
    "    error_val= 1 -accuracy_val \n",
    "    \n",
    "    #Precision\n",
    "    precision_train=precision_score(y_train, y_pred_train, average='binary')\n",
    "    precision_val=precision_score(y_Validation, y_pred_Val, average='binary')\n",
    "    \n",
    "    #Recall\n",
    "    recall_train=recall_score(y_train, y_pred_train, average='binary')\n",
    "    recall_val=recall_score(y_Validation,  y_pred_Val, average='binary')\n",
    "    \n",
    "    #F1\n",
    "    f1_train=f1_score(y_train, y_pred_train, average='binary')\n",
    "    f1_val=f1_score(y_Validation, y_pred_Val, average='binary')\n",
    "    \n",
    "    \n",
    "    ##Determinamos la Metrica para los datos de Entrenamiento\n",
    "    print(\"Prueba Datos Entrenamiento - Accuracy:{:.4f} Error:{:.4f} Precision:{:.4f} Recall:{:.4f} f1:{:.4f}\".format(accuracy_train,error_train,\n",
    "                                                                                        precision_train,recall_train,\n",
    "                                                                                        f1_train))\n",
    "    \n",
    "    ##Determinamos la Metrica para los datos de Validación\n",
    "    print(\"Prueba Datos Validación - Accuracy:{:.4f} Error:{:.4f} Precision:{:.4f} Recall:{:.4f} f1:{:.4f}\".format(accuracy_val,error_val,\n",
    "                                                                                        precision_val,recall_val,\n",
    "                                                                                        f1_val))\n",
    "    \n",
    "    ##Guardamos un log de la prueba - Un archivo CSV\n",
    "    myData = {'id':string_conf, 'random_state':random_state,'tol':tol,'C':regularization_parameter,'degree':degree,'max_iter':max_iter,'accuracy_train':accuracy_train,'accuracy_val':accuracy_val,'error_train':error_train,'error_val':error_val,\n",
    "              'precision_train':precision_train,'precision_val':precision_val,'recall_train':recall_train,'recall_val':recall_val,'f1_train':f1_train,'f1_val':f1_val}\n",
    "\n",
    "    myFile=\"logfile - SVM - Training.csv\" \n",
    "    # add row to CSV file\n",
    "    header=['id','random_state','tol','C','degree','max_iter','accuracy_train', 'accuracy_val', 'error_train', 'error_val', 'precision_train', 'precision_val', 'recall_train', 'recall_val', 'f1_train', 'f1_val']\n",
    "    with open(myFile, \"a\", newline='') as f:\n",
    "        writer = csv.DictWriter(f, fieldnames=header)\n",
    "        writer.writerow(myData)\n",
    "        \n",
    "    #Almacenmos el Clasificador (Nuestra clase creada) como un Dump con Pickle\n",
    "    pickle.dump( svm_clf, open( \"DumpSVM/\"+string_conf+\".p\", \"wb\" ) )\n",
    "    \n",
    "    ##Retornamos el Objeto con los metodos para predicciones\n",
    "    return svm_clf"
   ]
  },
  {
   "cell_type": "markdown",
   "metadata": {},
   "source": [
    "#### Entrenamos Nuestra Función de Entrenamiento\n",
    "\n",
    "En el inciso anterior definimos el Modelo y la función de Entrenamiento, ahorita procedemos a entrar nuestro modelo variando los parametros."
   ]
  },
  {
   "cell_type": "code",
   "execution_count": 511,
   "metadata": {},
   "outputs": [
    {
     "name": "stdout",
     "output_type": "stream",
     "text": [
      "20200629_225241_SVM_random_state=None_tol=0.001_C=1_degree=3_max_iter=-1\n",
      "Prueba Datos Entrenamiento - Accuracy:0.8301 Error:0.1699 Precision:0.8918 Recall:0.6337 f1:0.7409\n",
      "Prueba Datos Validación - Accuracy:0.8876 Error:0.1124 Precision:0.9286 Recall:0.7647 f1:0.8387\n"
     ]
    }
   ],
   "source": [
    "##Seteamos los datos que enviaremos a la función de Entrenamiento\n",
    "random_state=None\n",
    "tol=0.001 #Nivel de Tolerancia\n",
    "regularization_parameter = 1 #Regularization parameter\n",
    "degree=3 \n",
    "max_iter=-1 #-1 es que no tiene limite\n",
    "typeSVM = 1 #1 - SVC  2 - NuSVC   3 - LinearSVC\n",
    "\n",
    "SVM_Classifier= EntrenamientoSVM(typeSVM,X_train,y_train,X_Validation,y_Validation,random_state,tol,regularization_parameter,degree,max_iter)"
   ]
  },
  {
   "cell_type": "markdown",
   "metadata": {},
   "source": [
    "**NOTA:** *Para simplificación, se deja en el inciso anterior solamente el modelo con el que se obtuvo los mejores resultados; posteriormente mostraremos el log de las pruebas para mostrar los diferentes experimentos.*"
   ]
  },
  {
   "cell_type": "markdown",
   "metadata": {},
   "source": [
    "#### Log de Entrenamientos\n",
    "\n",
    "El log se guardo en un archivo csv llamado **\"logfile - SVM - Training.csv\"**; se coloca imagen para referencia.\n",
    "\n",
    "<img src=\"assets/LogCsvSVM.png\">"
   ]
  },
  {
   "cell_type": "markdown",
   "metadata": {},
   "source": [
    "#### Archivos para Deployment\n",
    "Para el deployment, se exportará el objeto ya instanciado con el clasificador Support Vector Machine; este nos ayudará para la predicción fuera de este archivo.\n",
    "\n",
    "Se dejarán estos datos en la carpeta **\"./DumpSVM\"**. Se coloca imagen de la carpeta como referencia.\n",
    "\n",
    "<img src=\"assets/DumpsSVM.png\">"
   ]
  },
  {
   "cell_type": "markdown",
   "metadata": {},
   "source": [
    "### Módelo - Naive Bayes\n",
    "\n",
    "Se hará un modelo usando el Algoritmo de Naive Bayes; este modelo usa el Teorema de Bayes y se basa en tablas de frecuencia y probibilidad.\n",
    "\n",
    "Aquí no usaremos scikit Learn (ya que si incluye este modelo) y se hará de forma manual la implementación."
   ]
  },
  {
   "cell_type": "markdown",
   "metadata": {},
   "source": [
    "#### Definición de Modelo\n",
    "\n",
    "Se hará una clase que defina el Clasificador Naive Bayes."
   ]
  },
  {
   "cell_type": "code",
   "execution_count": 417,
   "metadata": {},
   "outputs": [],
   "source": [
    "##Se hará en una clase para implementar los metodos de Fit y Predict que usamos en Scikit Learn\n",
    "class NaiveBayes(object):\n",
    "    \"\"\" Clasificador Binario Naive Bayes para datos Categoricos\"\"\"\n",
    "    \n",
    "    ##Constructor de la Clase\n",
    "    def __init__(self, alpha=1.0):\n",
    "        \"\"\" Constructor del Clasificador Naive Bayes \"\"\"\n",
    "        ##Probabilidad a Priori para Cada Categoria\n",
    "        self.prior = None\n",
    "        ##Varible que nos servirá para los conteos por clase  (Categoria)\n",
    "        self.class_counts = None\n",
    "        ##Probabilidad condicional por Clase (Categoria)\n",
    "        self.lk_class = None\n",
    "        ##Valor de Alfa para suavisado de los datos, por defecto se deja en 1\n",
    "        self.alpha = alpha\n",
    "        ##Es una convención de aprendizaje de scikit para garantizar que no intentemos accidentalmente hacer predicciones \n",
    "        ##sobre un modelo que aún no se ha ajustado - Esto es opcional\n",
    "        self.is_fitted_ = False\n",
    "        \n",
    "    def fit(self, X: np.ndarray, y: np.ndarray):\n",
    "        \"\"\" Ajustar los datos de entrenamiento para el clasificador Naive Bayes\"\"\"\n",
    "\n",
    "        #Número de Elemento en el arreglo\n",
    "        n = X.shape[0]\n",
    "        \n",
    "        #Determinar la probabilidad a Priori de cada categoria\n",
    "        X_by_class = np.array([X[tuple([y[:,0] == c])] for c in np.unique(y)])\n",
    "        self.prior = np.array([len(X_class) / n for X_class in X_by_class])\n",
    "        \n",
    "        ##Determinamos la probabilidad condicional por cada categoria\n",
    "        self.class_counts = np.array([sub_arr.sum(axis=0) for sub_arr in X_by_class]) + self.alpha\n",
    "        self.lk_class = self.class_counts / self.class_counts.sum(axis=1).reshape(-1, 1)\n",
    "\n",
    "        self.is_fitted_ = True\n",
    "        return self\n",
    "    \n",
    "    def predict_proba(self, X: np.ndarray) -> np.ndarray:\n",
    "        '''Predecir la probabilidad de pertenencia a la clase (Categoria)'''\n",
    "\n",
    "        assert self.is_fitted_, 'Nos aseguramos que ya hayamos ajustamos el Modelo'\n",
    "\n",
    "        # Recorremos cada observación para calcular las probabilidades condicionales\n",
    "        class_numerators = np.zeros(shape=(X.shape[0], self.prior.shape[0]))\n",
    "        for i, x in enumerate(X):\n",
    "            class_exists = x.astype(bool)\n",
    "            lk_class_present = self.lk_class[:, class_exists] ** x[class_exists]\n",
    "            lk_message = (lk_class_present).prod(axis=1)\n",
    "            class_numerators[i] = lk_message * self.prior\n",
    "        \n",
    "        # Normalizamos los terminos y determinamos la probabilidad condicional final\n",
    "        normalize_term = class_numerators.sum(axis=1).reshape(-1, 1)\n",
    "        conditional_probas = class_numerators / normalize_term\n",
    "        assert (conditional_probas.sum(axis=1) - 1 < 0.001).all(), 'Nos aseguramos que la probibilidad Sume 1'\n",
    "        return conditional_probas\n",
    "    \n",
    "    def predict(self, X: np.ndarray) -> np.ndarray:\n",
    "        \"\"\" Predecir la Categoria con la Mayor Probabilidad \"\"\"\n",
    "        return self.predict_proba(X).argmax(axis=1)"
   ]
  },
  {
   "cell_type": "markdown",
   "metadata": {},
   "source": [
    "**Nota:** *Se nombraron los metodos de la misma forma que los demas clasificador en Scikit Learn por el simple hecho de estandarizar*"
   ]
  },
  {
   "cell_type": "markdown",
   "metadata": {},
   "source": [
    "### Función de Entrenamiento\n",
    "\n",
    "Se hará una función de entrenamiento del modelo, que utilice la clase anterior y que en la definición del mejor modelo."
   ]
  },
  {
   "cell_type": "code",
   "execution_count": 420,
   "metadata": {},
   "outputs": [],
   "source": [
    "##Servirá para el Log de la Bitacora de los resultados\n",
    "from tensorboard_logger import Logger, log_value\n",
    "\n",
    "def EntrenamientoNB(alpha,x,y,x_val,y_val):\n",
    "    '''Función de Entrenamiento, se reciben tanto los datos que sirven para el entrenamiento como validacion del Modelo'''\n",
    "\n",
    "    ##Predicción con el modelo\n",
    "    Model_NaiveBayes = NaiveBayes(alpha)\n",
    "    #Ajustamos el Modelo con los datos de Entrenamiento\n",
    "    Model_NaiveBayes.fit(X_train,y_train)\n",
    "    #Función que nos devuelve la distribución de Probabilidad\n",
    "    #En este caso no la usaremos, se deja como referencia\n",
    "    #Model_NaiveBayes.predict_proba(X_train)\n",
    "    \n",
    "    ##Dejamos registro de Bitacora del Entrenamiento\n",
    "    string_conf= time.strftime(\"%Y%m%d\") + \"_\"+time.strftime(\"%H%M%S\")+\"_NaiveBayes_alpha=\"+str(alpha)\n",
    "    print(string_conf)\n",
    "    \n",
    "    #En Base al Modelo se hará la predicción con el Dataset de Entrenamiento y Validación\n",
    "    ##Haremos la predicción para los datos de validación\n",
    "    y_pred_train = Model_NaiveBayes.predict(X_train)\n",
    "    y_pred_Val=Model_NaiveBayes.predict(X_Validation)\n",
    "    \n",
    "    #Acurracy\n",
    "    accuracy_train= accuracy_score(y_train, y_pred_train)\n",
    "    accuracy_val= accuracy_score(y_Validation, y_pred_Val)\n",
    "    \n",
    "    #Error\n",
    "    error_train= 1-accuracy_train\n",
    "    error_val= 1 -accuracy_val \n",
    "    \n",
    "    #Precision\n",
    "    precision_train=precision_score(y_train, y_pred_train, average='binary')\n",
    "    precision_val=precision_score(y_Validation, y_pred_Val, average='binary')\n",
    "    \n",
    "    #Recall\n",
    "    recall_train=recall_score(y_train, y_pred_train, average='binary')\n",
    "    recall_val=recall_score(y_Validation,  y_pred_Val, average='binary')\n",
    "    \n",
    "    #F1\n",
    "    f1_train=f1_score(y_train, y_pred_train, average='binary')\n",
    "    f1_val=f1_score(y_Validation, y_pred_Val, average='binary')\n",
    "    \n",
    "    \n",
    "    ##Determinamos la Metrica para los datos de Entrenamiento\n",
    "    print(\"Prueba Datos Entrenamiento - Accuracy:{:.4f} Error:{:.4f} Precision:{:.4f} Recall:{:.4f} f1:{:.4f}\".format(accuracy_train,error_train,\n",
    "                                                                                        precision_train,recall_train,\n",
    "                                                                                        f1_train))\n",
    "    \n",
    "    ##Determinamos la Metrica para los datos de Validación\n",
    "    print(\"Prueba Datos Validación - Accuracy:{:.4f} Error:{:.4f} Precision:{:.4f} Recall:{:.4f} f1:{:.4f}\".format(accuracy_val,error_val,\n",
    "                                                                                        precision_val,recall_val,\n",
    "                                                                                        f1_val))\n",
    "    \n",
    "    ##Guardamos un log de la prueba - Un archivo CSV\n",
    "    myData = {'id':string_conf, 'alpha':alpha,'accuracy_train':accuracy_train,'accuracy_val':accuracy_val,'error_train':error_train,'error_val':error_val,\n",
    "              'precision_train':precision_train,'precision_val':precision_val,'recall_train':recall_train,'recall_val':recall_val,'f1_train':f1_train,'f1_val':f1_val}\n",
    "\n",
    "    myFile=\"logfile - NaiveBayes - Training.csv\" \n",
    "    # add row to CSV file\n",
    "    header=['id', 'alpha', 'accuracy_train', 'accuracy_val', 'error_train', 'error_val', 'precision_train', 'precision_val', 'recall_train', 'recall_val', 'f1_train', 'f1_val']\n",
    "    with open(myFile, \"a\", newline='') as f:\n",
    "        writer = csv.DictWriter(f, fieldnames=header)\n",
    "        writer.writerow(myData)\n",
    "        \n",
    "    #Almacenmos el Clasificador (Nuestra clase creada) como un Dump con Pickle\n",
    "    pickle.dump( Model_NaiveBayes, open( \"DumpNB/\"+string_conf+\".p\", \"wb\" ) )\n",
    "    \n",
    "    ##Retornamos el Objeto con los metodos para predicciones\n",
    "    return Model_NaiveBayes\n",
    "    "
   ]
  },
  {
   "cell_type": "markdown",
   "metadata": {},
   "source": [
    "#### Entrenamos Nuestra Función de Entrenamiento\n",
    "\n",
    "En los incisos anteriores definimos el Modelo y la función de Entrenamiento, ahorita procedemos a entrar nuestro modelo variando el parametro."
   ]
  },
  {
   "cell_type": "code",
   "execution_count": 421,
   "metadata": {},
   "outputs": [
    {
     "name": "stdout",
     "output_type": "stream",
     "text": [
      "20200629_215420_NaiveBayes_alpha=1\n",
      "Prueba Datos Entrenamiento - Accuracy:0.7275 Error:0.2725 Precision:0.7365 Recall:0.4505 f1:0.5591\n",
      "Prueba Datos Validación - Accuracy:0.7978 Error:0.2022 Precision:0.8333 Recall:0.5882 f1:0.6897\n"
     ]
    }
   ],
   "source": [
    "##Seteamos los datos que enviaremos a la función de Entrenamiento\n",
    "alpha=1\n",
    "\n",
    "NB_Classifier= EntrenamientoNB(alpha,X_train,y_train,X_Validation,y_Validation)"
   ]
  },
  {
   "cell_type": "markdown",
   "metadata": {},
   "source": [
    "**NOTA:** *Para simplificación, se deja en el inciso anterior solamente el modelo con el que se obtuvo los mejores resultados; posteriormente mostraremos el log de las pruebas para mostrar los diferentes experimentes.*"
   ]
  },
  {
   "cell_type": "markdown",
   "metadata": {},
   "source": [
    "#### Log de Entrenamientos\n",
    "\n",
    "El log se guardo en un archivo csv llamado **\"logfile - NaiveBayes - Training.csv\"**; se coloca imagen para referencia.\n",
    "\n",
    "<img src=\"assets/LogCsvNaiveBayes.png\">"
   ]
  },
  {
   "cell_type": "markdown",
   "metadata": {},
   "source": [
    "#### Archivos para Deployment\n",
    "\n",
    "Para el deployment, se exportará el objeto ya instanciado con el clasificador NaiveBayes; este nos ayudará para la predicción fuera de este archivo.\n",
    "\n",
    "Se dejarán estos datos en la carpeta \"./DumpNB\". Se coloca imagen de la carpeta como referencia.\n",
    "\n",
    "<img src=\"assets/DumpsNaiveBayes.png\">"
   ]
  },
  {
   "cell_type": "markdown",
   "metadata": {},
   "source": [
    "#### Comparación con Modelo en ScikitLearn\n",
    "\n",
    "Aunque no fue solicitado, hago una comparación de resultados entre el algoritmo manual y el que implementa scikit learn para comparar resultados."
   ]
  },
  {
   "cell_type": "code",
   "execution_count": 99,
   "metadata": {},
   "outputs": [],
   "source": [
    "#Usamos el Modelo de ScikitLearn\n",
    "from sklearn.naive_bayes import MultinomialNB\n",
    "\n",
    "##Ajustamos el Modelo\n",
    "bench = MultinomialNB().fit(X_train, np.array(y_train).ravel())"
   ]
  },
  {
   "cell_type": "code",
   "execution_count": 252,
   "metadata": {},
   "outputs": [
    {
     "name": "stdout",
     "output_type": "stream",
     "text": [
      "Comparación Probabilidad a Priori\n",
      "Modelo Manual Naive Bayes\n",
      "[0.61657303 0.38342697]\n",
      "Modelo Naive Bayes con scikit Learn\n",
      "[0.61657303 0.38342697]\n"
     ]
    }
   ],
   "source": [
    "print(\"Comparación Probabilidad a Priori\")\n",
    "print(\"Modelo Manual Naive Bayes\")\n",
    "print(Model_NaiveBayes.prior)\n",
    "print(\"Modelo Naive Bayes con scikit Learn\")\n",
    "print(np.exp(bench.class_log_prior_))"
   ]
  },
  {
   "cell_type": "code",
   "execution_count": 253,
   "metadata": {},
   "outputs": [
    {
     "name": "stdout",
     "output_type": "stream",
     "text": [
      "Comparación Probabilidad a Condicional\n",
      "Modelo Manual Naive Bayes\n",
      "[[0.10924466 0.02032707 0.0163955  0.01351256 0.24894388 0.04082144\n",
      "  0.02810657 0.22686015 0.19607677 0.05487473 0.04483667]\n",
      " [0.11905866 0.0213707  0.02828779 0.03220433 0.11769373 0.09043834\n",
      "  0.02973315 0.21928201 0.12512702 0.08052729 0.13627696]]\n",
      "Modelo Naive Bayes con scikit Learn\n",
      "[[0.10924466 0.02032707 0.0163955  0.01351256 0.24894388 0.04082144\n",
      "  0.02810657 0.22686015 0.19607677 0.05487473 0.04483667]\n",
      " [0.11905866 0.0213707  0.02828779 0.03220433 0.11769373 0.09043834\n",
      "  0.02973315 0.21928201 0.12512702 0.08052729 0.13627696]]\n"
     ]
    }
   ],
   "source": [
    "print(\"Comparación Probabilidad a Condicional\")\n",
    "print(\"Modelo Manual Naive Bayes\")\n",
    "print(Model_NaiveBayes.lk_class)\n",
    "print(\"Modelo Naive Bayes con scikit Learn\")\n",
    "print(np.exp(bench.feature_log_prob_))"
   ]
  },
  {
   "cell_type": "code",
   "execution_count": 254,
   "metadata": {},
   "outputs": [
    {
     "name": "stdout",
     "output_type": "stream",
     "text": [
      "Comparación Probabilidad a Condicional\n",
      "Modelo Manual Naive Bayes\n",
      "[[0.10924466 0.02032707 0.0163955  0.01351256 0.24894388 0.04082144\n",
      "  0.02810657 0.22686015 0.19607677 0.05487473 0.04483667]\n",
      " [0.11905866 0.0213707  0.02828779 0.03220433 0.11769373 0.09043834\n",
      "  0.02973315 0.21928201 0.12512702 0.08052729 0.13627696]]\n",
      "Modelo Naive Bayes con scikit Learn\n",
      "[[0.10924466 0.02032707 0.0163955  0.01351256 0.24894388 0.04082144\n",
      "  0.02810657 0.22686015 0.19607677 0.05487473 0.04483667]\n",
      " [0.11905866 0.0213707  0.02828779 0.03220433 0.11769373 0.09043834\n",
      "  0.02973315 0.21928201 0.12512702 0.08052729 0.13627696]]\n"
     ]
    }
   ],
   "source": [
    "print(\"Comparación Probabilidad a Condicional\")\n",
    "print(\"Modelo Manual Naive Bayes\")\n",
    "print(Model_NaiveBayes.lk_class)\n",
    "print(\"Modelo Naive Bayes con scikit Learn\")\n",
    "print(np.exp(bench.feature_log_prob_))"
   ]
  },
  {
   "cell_type": "code",
   "execution_count": 255,
   "metadata": {},
   "outputs": [
    {
     "name": "stdout",
     "output_type": "stream",
     "text": [
      "Comparación Predicción de Probabilidad\n",
      "Modelo Manual Naive Bayes\n",
      "[[0.83827977 0.16172023]\n",
      " [0.69593628 0.30406372]\n",
      " [0.71459576 0.28540424]\n",
      " ...\n",
      " [0.84139539 0.15860461]\n",
      " [0.82483406 0.17516594]\n",
      " [0.62077034 0.37922966]]\n",
      "Modelo Naive Bayes con scikit Learn\n",
      "[[0.83827977 0.16172023]\n",
      " [0.69593628 0.30406372]\n",
      " [0.71459576 0.28540424]\n",
      " ...\n",
      " [0.84139539 0.15860461]\n",
      " [0.82483406 0.17516594]\n",
      " [0.62077034 0.37922966]]\n"
     ]
    }
   ],
   "source": [
    "print(\"Comparación Predicción de Probabilidad\")\n",
    "print(\"Modelo Manual Naive Bayes\")\n",
    "print(Model_NaiveBayes.predict_proba(X_train))\n",
    "print(\"Modelo Naive Bayes con scikit Learn\")\n",
    "print(bench.predict_proba(X_train))"
   ]
  },
  {
   "cell_type": "markdown",
   "metadata": {},
   "source": [
    "**Nota:** *El modelo desarrollado y el que forma parte de scikit Learn arroja los mismos resultados.*"
   ]
  },
  {
   "cell_type": "markdown",
   "metadata": {},
   "source": [
    "### Módelo - Regresión Logistica\n",
    "\n",
    "Se hará un modelo de Regresión logística con tensorflow, pero no usaremos softmax,usaremos sigmoid por ser clasificación binaria; además se agregará regularización para evitar sobre-ajuste"
   ]
  },
  {
   "cell_type": "markdown",
   "metadata": {},
   "source": [
    "Habilitamos la compatibilidad con las funciones de la v1 de Tensorflow"
   ]
  },
  {
   "cell_type": "code",
   "execution_count": 412,
   "metadata": {},
   "outputs": [
    {
     "name": "stdout",
     "output_type": "stream",
     "text": [
      "Enabled compatitility to tf1.x\n"
     ]
    }
   ],
   "source": [
    "if tf.__version__.startswith(\"2.\"):\n",
    "  import tensorflow.compat.v1 as tf\n",
    "  tf.compat.v1.disable_v2_behavior()\n",
    "  tf.compat.v1.disable_eager_execution()\n",
    "\n",
    "print(\"Enabled compatitility to tf1.x\")"
   ]
  },
  {
   "cell_type": "markdown",
   "metadata": {},
   "source": [
    "#### Definición de Modelo y Función de Entrenamiento\n",
    "\n",
    "Definimos el modelo usando Tensorflow y lo dejamos en la función de entrenamiento para que sea reutilizable."
   ]
  },
  {
   "cell_type": "code",
   "execution_count": 413,
   "metadata": {},
   "outputs": [],
   "source": [
    "def EntrenamientoRL(learning_rate,epochs,imprimir_cada,batch_size,Type_regularization,regularization_parameter,x,y,x_val,y_val):\n",
    "\n",
    "    #Determinamos el Total de Iteraciones - Para MiniBatch - Gradient Descent\n",
    "    total_iteraciones = int(x.shape[0]/batch_size)\n",
    "\n",
    "    #El Número de Features se determinará por las columnas enviadas en x + 1 (intercepto -> Si así deseamos)\n",
    "    features=x.shape[1]\n",
    "\n",
    "    #En Base a las columnas Y, es el Número de Labels a Procesar\n",
    "    numlabels=y.shape[1]\n",
    "\n",
    "    #Limpiamos cualquier variable o operación en el grafo \n",
    "    tf.reset_default_graph()\n",
    "\n",
    "    ##Definimos los Tensores para la Inicialización de Variables\n",
    "    with tf.name_scope(\"Inicializacion\"):\n",
    "        init_global = tf.compat.v1.global_variables_initializer()\n",
    "        init_local = tf.compat.v1.local_variables_initializer()\n",
    "        init = tf.group(init_global,init_local)\n",
    "\n",
    "    string_conf= time.strftime(\"%Y%m%d\") + \"_\"+time.strftime(\"%H%M%S\")+\"_MiniBatch_GD_Lr=\"+str(learning_rate)+\"_reg=\"+str(regularization_parameter)+\"_reg_Type=L\"+str(Type_regularization)+\"_BatchSize=\"+str(batch_size)\n",
    "    print(string_conf)\n",
    "    #Parametros que entrenará el Modelo - Pendiente \n",
    "    weights = tf.Variable(tf.zeros([features,numlabels]),name=\"parametros\")\n",
    "\n",
    "    #Definimos los Placeholders que almacenarán los datos de Entrenamiento del Modelo\n",
    "    tensor_x = tf.placeholder(tf.float32,[None,features],name=\"Data_x\")\n",
    "    Labels_y = tf.placeholder(tf.float32,  [None,numlabels],name=\"Labels\")\n",
    "\n",
    "    ##Para la regularización tenemos que enviar el valor de Beta (Factor regularización)\n",
    "    Beta = tf.placeholder(tf.float32, shape=None,name=\"Factor_Regularizacion\")\n",
    "\n",
    "    ##Nuestra función de Hipotesis - con Logits\n",
    "    logits = tf.matmul(tensor_x,weights,name=\"Prediccion_Modelo\")\n",
    "\n",
    "    ##Función de Costo -  Error\n",
    "    with tf.name_scope(\"Error_con_Regularizacion\"):\n",
    "        if Type_regularization == 2:\n",
    "            #Se implementa la regularización L2\n",
    "            regularizer = Beta * tf.nn.l2_loss(weights)\n",
    "        else: ##Se implementa de forma manual la Regularización L1\n",
    "            regularizer = Beta * tf.reduce_sum(tf.abs(weights))\n",
    "        loss = tf.reduce_mean(tf.nn.sigmoid_cross_entropy_with_logits(logits=logits,labels=Labels_y))+regularizer\n",
    "\n",
    "    with tf.name_scope(\"Calculo_Gradiente\"):\n",
    "        gradiente = tf.gradients(loss,weights)\n",
    "\n",
    "    #Actualización de Variables del Modelo - Definición Tensores\n",
    "    with tf.name_scope(\"Act_Parametros_Modelo\"):\n",
    "        actualizacion_parametros = tf.assign(weights, weights - learning_rate* gradiente[0] )\n",
    "\n",
    "    #Creamos el Tensor con la Información del Scalar\n",
    "    Loss_summary = tf.summary.scalar(name='Loss_Function', tensor=loss)\n",
    "\n",
    "    # Definimos - accuracy\n",
    "    with tf.name_scope(\"Accuracy\"):\n",
    "        # The default threshold is 0.5, rounded off directly\n",
    "        prediction = tf.round(tf.nn.sigmoid(logits))\n",
    "        # Bool into float32 type\n",
    "        correct = tf.cast(tf.equal(prediction, Labels_y), dtype=tf.float32)\n",
    "        # Promedio de los aciertos\n",
    "        accuracy = tf.reduce_mean(correct)\n",
    "        # Calculamos el Error \n",
    "        Error = 1 - accuracy \n",
    "        #Creamos el Tensor con la Información del Scalar - Accuracy\n",
    "        Accuracy_summary = tf.summary.scalar(name='Accuray', tensor=accuracy)\n",
    "         #Creamos el Tensor con la Información del Scalar\n",
    "        Error_summary = tf.summary.scalar(name='Error', tensor=Error)\n",
    "\n",
    "    # Definimos - Precision\n",
    "    with tf.name_scope(\"Precision\"):\n",
    "        precision = tf.metrics.precision(labels = Labels_y,predictions=prediction, name=\"Precision_Calculation\")\n",
    "        #Creamos el Tensor con la Información del Scalar\n",
    "        precision_summary = tf.summary.scalar(name='Precision', tensor=precision[1])\n",
    "\n",
    "    # Definimos - Recall\n",
    "    with tf.name_scope(\"Recall\"):\n",
    "        recall = tf.metrics.recall(labels = Labels_y,predictions=prediction, name=\"Recall_Calculation\")\n",
    "        #Creamos el Tensor con la Información del Scalar\n",
    "        recall_summary = tf.summary.scalar(name='Recall', tensor=recall[1])\n",
    "\n",
    "    ##Se deja como referencia por si se quiere hacer el calculo manual\n",
    "    #TP = tf.count_nonzero(prediction * Labels_y)\n",
    "    #TN = tf.count_nonzero((prediction - 1) * (Labels_y - 1))\n",
    "    #FP = tf.count_nonzero(prediction * (Labels_y - 1))\n",
    "    #FN = tf.count_nonzero((prediction - 1) * Labels_y)\n",
    "    #precision = TP / (TP + FP)\n",
    "    #recall = TP / (TP + FN)\n",
    "\n",
    "    # Definimos - F1 Score\n",
    "    with tf.name_scope(\"F1_Score\"):\n",
    "        ##Calculamos f1 score\n",
    "        f1 = 2 * precision[1] * recall[1] / (precision[1] + recall[1])\n",
    "        #Creamos el Tensor con la Información del Scalar\n",
    "        f1_summary = tf.summary.scalar(name='F1_SCORE', tensor=f1)\n",
    "\n",
    "    #Iniciamos con una Sesión Monitoreada - Para el Entrenamiento del Modelo\n",
    "    with tf.train.MonitoredSession() as session:\n",
    "\n",
    "        # Inicialización de variables Globales y locales\n",
    "        session.run(init)\n",
    "\n",
    "        #Escritura del Grafo para Tensorboard\n",
    "        writer = tf.summary.FileWriter('./graphs/'+string_conf, session.graph)\n",
    "\n",
    "        #Entrenamiento del Modelo\n",
    "        for step in range(epochs):\n",
    "\n",
    "            for i in range(total_iteraciones):  #muchas iteraciones por epoch \n",
    "                ##Armamos el Batch que corresponde a la iteración\n",
    "                muestra_inicio = i*batch_size\n",
    "                muestra_fin = muestra_inicio + batch_size\n",
    "                xT_train =  x[muestra_inicio:muestra_fin]\n",
    "                yT_train =  y[muestra_inicio:muestra_fin]\n",
    "\n",
    "                #Creamos el Diccionario que le dará valor a los Placeholders\n",
    "                feed_dict = {tensor_x:np.array(xT_train).reshape(-1,features), Labels_y:np.array(yT_train).reshape(-1,numlabels),\n",
    "                             Beta: regularization_parameter}\n",
    "\n",
    "                #Ejecutamos el Grafo - Actualización de Datos\n",
    "                session.run(actualizacion_parametros,feed_dict=feed_dict)\n",
    "\n",
    "            #Ejecutamos el Grafo - Predicción del Modelo - Cálculo de Logits\n",
    "            #logits_predict = session.run(logits,feed_dict=feed_dict)\n",
    "\n",
    "            # La Perdida y Accuracy despues de la iteración completa de los MiniBatch se probará sobre el data set completo\n",
    "            feed_dict = {tensor_x:np.array(x).reshape(-1,features), Labels_y:np.array(y).reshape(-1,numlabels), \n",
    "                         Beta: regularization_parameter}\n",
    "\n",
    "            #Ejecutamos el Grafo - Predicción del Modelo\n",
    "            perdida = session.run(loss,feed_dict=feed_dict)\n",
    "\n",
    "            #Ejecutamos el Grafo - Resultado de Variables Entrenadas\n",
    "            pesos_calculados = session.run(weights,feed_dict=feed_dict)\n",
    "\n",
    "            #Ejecutamos el Grafo - Obtenemos la Exactitud\n",
    "            accuracy_results = session.run(accuracy,feed_dict=feed_dict)\n",
    "\n",
    "            #Ejecutamos el Grafo - Obtenemos la Precision\n",
    "            precision_results = session.run(precision,feed_dict=feed_dict)\n",
    "\n",
    "            #Ejecutamos el Grafo - Obtenemos el Recall\n",
    "            recall_results = session.run(recall,feed_dict=feed_dict)\n",
    "\n",
    "            #Ejecutamos el Grafo - Obtenemos el F1 Score\n",
    "            f1_results = session.run(f1,feed_dict=feed_dict)\n",
    "\n",
    "            #Ejecutamos el Grafo - Datos Escalar - Loss\n",
    "            summaryLoss = session.run(Loss_summary,feed_dict=feed_dict)\n",
    "\n",
    "            #Almacenamos datos de Scalar - Para Tensorboard\n",
    "            writer.add_summary(summaryLoss, step)\n",
    "\n",
    "            #Ejecutamos el Grfo - Dato Escalar - Acurracy\n",
    "            accuracy_scalar = session.run(Accuracy_summary,feed_dict=feed_dict)\n",
    "\n",
    "            #Almacenamos datos de Scalar - Para Tensorboard\n",
    "            writer.add_summary(accuracy_scalar, step)\n",
    "\n",
    "            #Ejecutamos el Grfo - Dato Escalar - Acurracy\n",
    "            eror_scalar = session.run(Error_summary,feed_dict=feed_dict)\n",
    "\n",
    "            #Almacenamos datos de Scalar - Para Tensorboard\n",
    "            writer.add_summary(eror_scalar, step)\n",
    "\n",
    "            ##Calculamos Precision\n",
    "            precision_scalar = session.run(precision_summary,feed_dict=feed_dict)\n",
    "\n",
    "            #Almacenamos datos de Scalar - Para Tensorboard\n",
    "            writer.add_summary(precision_scalar, step)\n",
    "\n",
    "            ##Calculamos Recall\n",
    "            recall_scalar = session.run(recall_summary,feed_dict=feed_dict)\n",
    "\n",
    "            #Almacenamos datos de Scalar - Para Tensorboard\n",
    "            writer.add_summary(recall_scalar, step)\n",
    "\n",
    "            ##Calculamos f1 score\n",
    "            f1_scalar = session.run(f1_summary,feed_dict=feed_dict)\n",
    "\n",
    "            #Almacenamos datos de Scalar - Para Tensorboard\n",
    "            writer.add_summary(f1_scalar, step)\n",
    "\n",
    "            #Imprimimos resultados de Variables por entrenamiento - Cada N Entrenamientos\n",
    "            if (step+1) % imprimir_cada == 0:\n",
    "                print(\"Prueba {} - Costo:{:.6f} Accuracy:{:.4f} Precision:{:.4f}, Recall:{:.4f} f1:{:.4f}\".format(step+1,perdida,accuracy_results,\n",
    "                                                                                        precision_results[1],recall_results[1],\n",
    "                                                                                        f1_results))\n",
    "\n",
    "        # Probamos el Modelo Entrenado con los datos completos - Train\n",
    "        feed_dict = {tensor_x:np.array(x).reshape(-1,features), Labels_y:np.array(y).reshape(-1,numlabels),Beta: regularization_parameter}\n",
    "        final_error = session.run(loss,feed_dict=feed_dict)\n",
    "        final_accuracy= session.run(accuracy,feed_dict=feed_dict)\n",
    "        final_precision = session.run(precision,feed_dict=feed_dict)\n",
    "        final_recall = session.run(recall,feed_dict=feed_dict)\n",
    "        final_f1 = session.run(f1,feed_dict=feed_dict)\n",
    "        print(\"Data Train - Despues de Entrenamiento Costo={:.6f} Accuracy:{:.4f} Precision:{:.4f}, Recall:{:.4f} f1:{:.4f}\".format(final_error,final_accuracy,\n",
    "                                                                                                           final_precision[1],final_recall[1],final_f1))\n",
    "\n",
    "        # Probamos el Modelo Entrenado con los datos completos - validacion\n",
    "        feed_dict = {tensor_x:np.array(x_val).reshape(-1,features), Labels_y:np.array(y_val).reshape(-1,numlabels),Beta: regularization_parameter}\n",
    "        final_error = session.run(loss,feed_dict=feed_dict)\n",
    "        final_accuracy= session.run(accuracy,feed_dict=feed_dict)\n",
    "        precision_scalar = session.run(precision,feed_dict=feed_dict)\n",
    "        recall_scalar = session.run(recall,feed_dict=feed_dict)\n",
    "        print(\"Data Validación - Despues de Entrenamiento Costo={:.6f} Accuracy:{:.4f} Precision:{:.4f}, Recall:{:.4f} f1:{:.4f}\".format(final_error,final_accuracy,\n",
    "                                                                                                              final_precision[1],final_recall[1],final_f1))\n",
    "        ##Almacenamos el Dump del Modelo\n",
    "        pesos_calculados.dump(\"./DumpRL/\"+string_conf+\".npy\")\n",
    "        \n",
    "        ##Devolvemos los pesos obtenidos\n",
    "        return pesos_calculados"
   ]
  },
  {
   "cell_type": "markdown",
   "metadata": {},
   "source": [
    "#### Entrenamos Nuestra Función de Entrenamiento\n",
    "\n",
    "En el inciso anterior definimos el Modelo y la función de Entrenamiento, ahorita procedemos a entrar nuestro modelo con diferentes parametros."
   ]
  },
  {
   "cell_type": "code",
   "execution_count": 520,
   "metadata": {},
   "outputs": [
    {
     "name": "stdout",
     "output_type": "stream",
     "text": [
      "20200629_225424_MiniBatch_GD_Lr=0.1_reg=0.01_reg_Type=L2_BatchSize=50\n",
      "INFO:tensorflow:Graph was finalized.\n",
      "INFO:tensorflow:Running local_init_op.\n",
      "INFO:tensorflow:Done running local_init_op.\n",
      "Prueba 100 - Costo:0.499959 Accuracy:0.7683 Precision:0.6669, Recall:0.7780 f1:0.7182\n",
      "Prueba 200 - Costo:0.499958 Accuracy:0.7683 Precision:0.6684, Recall:0.7791 f1:0.7195\n",
      "Prueba 300 - Costo:0.499958 Accuracy:0.7683 Precision:0.6689, Recall:0.7795 f1:0.7199\n",
      "Data Train - Despues de Entrenamiento Costo=0.499958 Accuracy:0.7683 Precision:0.6689, Recall:0.7795 f1:0.7199\n",
      "Data Validación - Despues de Entrenamiento Costo=0.363595 Accuracy:0.8876 Precision:0.6689, Recall:0.7795 f1:0.7199\n"
     ]
    }
   ],
   "source": [
    "##Seteamos los datos que enviaremos a la función de Entrenamiento\n",
    "BatchSize=50\n",
    "learning_rate=0.1\n",
    "epochs=300\n",
    "imprimir_cada=100\n",
    "regularization_parameter = 0.01\n",
    "Type_regularization = 2 #{L1 o L2}\n",
    "\n",
    "#Entrenamos nuestro modelo con los parametros enviados\n",
    "weights=EntrenamientoRL(learning_rate,epochs,imprimir_cada,BatchSize,Type_regularization,regularization_parameter,X_train,y_train,X_Validation,y_Validation)"
   ]
  },
  {
   "cell_type": "markdown",
   "metadata": {},
   "source": [
    "Los Resultados del Modelo se devuelven en la Variable *Weights* que a la vez se dejo como Dump en la ubicación **./DumpRL**; para usarlo en el deploy.\n",
    "\n",
    "**NOTA:** *Para simplificación, se deja en el inciso anterior solamente el modelo con el que se obtuvo los mejores resultados; posteriormente mostraremos el log de las pruebas para mostrar los diferentes experimentos.*"
   ]
  },
  {
   "cell_type": "markdown",
   "metadata": {},
   "source": [
    "#### Tensorboard - Grafo\n",
    "\n",
    "Vemos como quedo nuestro Grafo en Tensorboard, de acuerdo al modelo definido.\n",
    "\n",
    "<img src=\"assets/GrafoTensorboard.png\">"
   ]
  },
  {
   "cell_type": "markdown",
   "metadata": {},
   "source": [
    "#### Tensorboard - Scalars ( Accuracy/Error/Precision/Recall/F1)\n",
    "\n",
    "En Tensorboard dejamos el Log de las metricas para cada experimento que realizamos.\n",
    "\n",
    "Estas son las Graficas de las metricas para Accuracy/Error para los experimentos.\n",
    "<img src=\"assets/Scalar_Accuracy_Error.png\">"
   ]
  },
  {
   "cell_type": "markdown",
   "metadata": {},
   "source": [
    "**Nota:** *Aquí podemos ver como se esta dejando registro de bitacora por cada experimento.*"
   ]
  },
  {
   "cell_type": "markdown",
   "metadata": {},
   "source": [
    "Estas son las gráficas para los datos de Precision/Recall/F1Score\n",
    "\n",
    "<img src=\"assets/Scalar_Precision.png\">\n",
    "<img src=\"assets/Scalar_Recall.png\">\n",
    "<img src=\"assets/Scalar_f1.png\">"
   ]
  },
  {
   "cell_type": "markdown",
   "metadata": {},
   "source": [
    "#### Archivos para Deployment\n",
    "\n",
    "Para facilitarnos un poco el deployment, no exportaremos todo el modelo de Tensorflow, sino que solo se hará un Dump de los datos para los pesos (Weights) generados por el modelo.\n",
    "\n",
    "Como se indico anteriormente, se dejarán estos datos en la carpeta **\"./DumpRL\"**. Se coloca imagen de la carpeta como referencia.\n",
    "\n",
    "<img src=\"assets/DumpRL_Tensorflow.png\">"
   ]
  },
  {
   "cell_type": "markdown",
   "metadata": {},
   "source": [
    "## Ensemble and Bootstrap(Bagging)"
   ]
  },
  {
   "cell_type": "markdown",
   "metadata": {},
   "source": [
    "Con los modelos ya trabajados, ahora usaremos **\"Ensemble learning\"**, que tiene como objetivo mejorar la exactitud de un sistema de ML a través de usar varios algoritmos trabajando en cooperación en lugar de usar uno solo.\n",
    "\n",
    "Además usaremos Bootstrap, que es una técnica de muestreo estadístico, donde se utilizan \"k\" muestras aleatoria con reemplazo; y la predicción final es la combinación de la predicción de cada muestra. "
   ]
  },
  {
   "cell_type": "markdown",
   "metadata": {},
   "source": [
    "Comenzamos armando las muestras de nuestros modelos."
   ]
  },
  {
   "cell_type": "code",
   "execution_count": 468,
   "metadata": {},
   "outputs": [],
   "source": [
    "from sklearn.utils import resample\n",
    "\n",
    "X_train_m1, Y_train_m1 = resample(X_train, y_train, n_samples = 100)\n",
    "X_train_m2, Y_train_m2 = resample(X_train, y_train, n_samples = 100)\n",
    "X_train_m3, Y_train_m3 = resample(X_train, y_train, n_samples = 100)\n",
    "X_train_m4, Y_train_m4 = resample(X_train, y_train, n_samples = 100)"
   ]
  },
  {
   "cell_type": "markdown",
   "metadata": {},
   "source": [
    "Se evaluarán las muestras con los modelos."
   ]
  },
  {
   "cell_type": "markdown",
   "metadata": {},
   "source": [
    "### 1. Modelo - DecisionTree (Sample 1)"
   ]
  },
  {
   "cell_type": "code",
   "execution_count": 432,
   "metadata": {},
   "outputs": [
    {
     "name": "stdout",
     "output_type": "stream",
     "text": [
      "20200629_220101_DecisionTree_max_depth=7\n",
      "Prueba Datos Entrenamiento - Accuracy:0.8736 Error:0.1264 Precision:0.8797 Recall:0.7766 f1:0.8249\n",
      "Prueba Datos Validación - Accuracy:0.8989 Error:0.1011 Precision:0.8788 Recall:0.8529 f1:0.8657\n"
     ]
    }
   ],
   "source": [
    "max_depth=7\n",
    "\n",
    "DT_Classifier= EntrenamientoDT(max_depth,X_train_m1,Y_train_m1,X_Validation,y_Validation)"
   ]
  },
  {
   "cell_type": "markdown",
   "metadata": {},
   "source": [
    "### 2. Modelo - SVM (Support Vector Machine) (Sample 2)"
   ]
  },
  {
   "cell_type": "code",
   "execution_count": 434,
   "metadata": {},
   "outputs": [
    {
     "name": "stdout",
     "output_type": "stream",
     "text": [
      "20200629_220149_SVM_random_state=None_tol=0.001_C=1_degree=3_max_iter=-1\n",
      "Prueba Datos Entrenamiento - Accuracy:0.8301 Error:0.1699 Precision:0.8918 Recall:0.6337 f1:0.7409\n",
      "Prueba Datos Validación - Accuracy:0.8876 Error:0.1124 Precision:0.9286 Recall:0.7647 f1:0.8387\n"
     ]
    }
   ],
   "source": [
    "##Seteamos los datos que enviaremos a la función de Entrenamiento\n",
    "random_state=None\n",
    "tol=0.001 #Nivel de Tolerancia\n",
    "regularization_parameter = 1 #Regularization parameter\n",
    "degree=3 \n",
    "max_iter=-1 #-1 es que no tiene limite\n",
    "typeSVM = 1 #1 - SVC  2 - NuSVC   3 - LinearSVC\n",
    "\n",
    "SVM_Classifier= EntrenamientoSVM(typeSVM,X_train_m2,Y_train_m2,X_Validation,y_Validation,random_state,tol,regularization_parameter,degree,max_iter)"
   ]
  },
  {
   "cell_type": "markdown",
   "metadata": {},
   "source": [
    "### 3. Modelo - Naive Bayes (Sample 3)"
   ]
  },
  {
   "cell_type": "code",
   "execution_count": 451,
   "metadata": {},
   "outputs": [
    {
     "name": "stdout",
     "output_type": "stream",
     "text": [
      "20200629_221004_NaiveBayes_alpha=1\n",
      "Prueba Datos Entrenamiento - Accuracy:0.7275 Error:0.2725 Precision:0.7365 Recall:0.4505 f1:0.5591\n",
      "Prueba Datos Validación - Accuracy:0.7978 Error:0.2022 Precision:0.8333 Recall:0.5882 f1:0.6897\n"
     ]
    }
   ],
   "source": [
    "##Seteamos los datos que enviaremos a la función de Entrenamiento\n",
    "alpha=1\n",
    "\n",
    "NB_Classifier= EntrenamientoNB(alpha,X_train_m3,Y_train_m3,X_Validation,y_Validation)"
   ]
  },
  {
   "cell_type": "markdown",
   "metadata": {},
   "source": [
    "### 4. Modelo - Regresión Logistica"
   ]
  },
  {
   "cell_type": "code",
   "execution_count": 471,
   "metadata": {},
   "outputs": [
    {
     "name": "stdout",
     "output_type": "stream",
     "text": [
      "20200629_223637_MiniBatch_GD_Lr=0.1_reg=0.01_reg_Type=L2_BatchSize=20\n",
      "INFO:tensorflow:Graph was finalized.\n",
      "INFO:tensorflow:Running local_init_op.\n",
      "INFO:tensorflow:Done running local_init_op.\n",
      "Prueba 150 - Costo:0.556158 Accuracy:0.7800 Precision:0.8539, Recall:0.4786 f1:0.6135\n",
      "Prueba 300 - Costo:0.555718 Accuracy:0.7800 Precision:0.8497, Recall:0.5144 f1:0.6409\n",
      "Data Train - Despues de Entrenamiento Costo=0.555718 Accuracy:0.7800 Precision:0.8497, Recall:0.5145 f1:0.6410\n",
      "Data Validación - Despues de Entrenamiento Costo=0.422996 Accuracy:0.8876 Precision:0.8497, Recall:0.5145 f1:0.6410\n"
     ]
    }
   ],
   "source": [
    "##Seteamos los datos que enviaremos a la función de Entrenamiento\n",
    "BatchSize=20\n",
    "learning_rate=0.1\n",
    "epochs=300\n",
    "imprimir_cada=150\n",
    "regularization_parameter = 0.01\n",
    "Type_regularization = 2 #{L1 o L2}\n",
    "\n",
    "#Entrenamos nuestro modelo con los parametros enviados\n",
    "weights=EntrenamientoRL(learning_rate,epochs,imprimir_cada,BatchSize,Type_regularization,regularization_parameter,X_train_m4,Y_train_m4,X_Validation,y_Validation)"
   ]
  },
  {
   "cell_type": "markdown",
   "metadata": {},
   "source": [
    "## Predicción Final\n",
    "\n",
    "Ya con los modelos resampleados con Bootstrap, ahora haremos la predicción final con cada modelo, y luego se combinarán para generar una predicción final y esta se someterá con la data de Test, que no se ha utilizado a lo largo del ejercicio."
   ]
  },
  {
   "cell_type": "code",
   "execution_count": 512,
   "metadata": {},
   "outputs": [],
   "source": [
    "#Predicción Sobre la Data Test - DecisionTree \n",
    "y_pred_test_DT = DT_Classifier.predict(X_test)"
   ]
  },
  {
   "cell_type": "code",
   "execution_count": 513,
   "metadata": {},
   "outputs": [],
   "source": [
    "#Predicción Sobre la Data Test - SVM\n",
    "y_pred_test_SVM = SVM_Classifier.predict(X_test)"
   ]
  },
  {
   "cell_type": "code",
   "execution_count": 492,
   "metadata": {},
   "outputs": [],
   "source": [
    "#Predicción Sobre la Data Test - NB\n",
    "y_pred_test_NB = NB_Classifier.predict(X_test)"
   ]
  },
  {
   "cell_type": "markdown",
   "metadata": {},
   "source": [
    "No habiamos necesitado una función de Predicción para Regresion Logistica, dado que la evaluación del modelo se hizo desde Tensorflow; ahora la implementamos ya que tenemos que hacer la predicción final."
   ]
  },
  {
   "cell_type": "code",
   "execution_count": 485,
   "metadata": {},
   "outputs": [],
   "source": [
    "def sigmoid(x):\n",
    "    return 1 / (1 + np.exp(-x))\n",
    "\n",
    "def predicciónRL(weights,x):\n",
    "    '''Defimos función generico para la predicción de la Regresión Logistica'''\n",
    "    #Determinamos los logits\n",
    "    logits= np.matmul(x, weights)\n",
    "    #Determinamos la predicción con Sigmoid\n",
    "    predict = np.round(sigmoid(logits))\n",
    "    ##Retornamos la predicción\n",
    "    return predict"
   ]
  },
  {
   "cell_type": "code",
   "execution_count": 521,
   "metadata": {},
   "outputs": [],
   "source": [
    "y_pred_test_RL = predicciónRL(weights,X_test)"
   ]
  },
  {
   "cell_type": "markdown",
   "metadata": {},
   "source": [
    "En base al punto anterior, armamos la predicción final, usando ensamble, con votación con la mayoria."
   ]
  },
  {
   "cell_type": "code",
   "execution_count": 531,
   "metadata": {},
   "outputs": [],
   "source": [
    "from scipy import stats\n",
    "\n",
    "predicciones = []\n",
    "predicciones.append(np.array(y_pred_test_DT).reshape(90))\n",
    "predicciones.append(np.array(y_pred_test_SVM).reshape(90))\n",
    "predicciones.append(np.array(y_pred_test_NB).reshape(90))\n",
    "predicciones.append(np.array(y_pred_test_RL).reshape(90))\n",
    "y_pred_test_final= stats.mode(predicciones)[0]"
   ]
  },
  {
   "cell_type": "markdown",
   "metadata": {},
   "source": [
    "Mostraremos el resultado final usando el reporte de scikit Learn."
   ]
  },
  {
   "cell_type": "code",
   "execution_count": 538,
   "metadata": {},
   "outputs": [
    {
     "name": "stdout",
     "output_type": "stream",
     "text": [
      "              precision    recall  f1-score   support\n",
      "\n",
      "        Dead       0.85      0.95      0.90        55\n",
      "    Survived       0.90      0.74      0.81        35\n",
      "\n",
      "    accuracy                           0.87        90\n",
      "   macro avg       0.87      0.84      0.85        90\n",
      "weighted avg       0.87      0.87      0.86        90\n",
      "\n"
     ]
    }
   ],
   "source": [
    "from sklearn.metrics import classification_report\n",
    "\n",
    "print(classification_report(y_test, np.array(y_pred_test_final).reshape(-1,1), target_names=target_names))"
   ]
  },
  {
   "cell_type": "markdown",
   "metadata": {},
   "source": [
    "## Conclusiones\n",
    "\n",
    "Despues de horas y horas de trabajo sobre este modelo de datos, he aprendido mucho en cada ejercicio o laboratorio dejado en clase, al menos para este ejercicio, estas son mis conclusiones/Recomendaciones:\n",
    "* **Ningún problema es Igual:** Aunque se tenga la teoria, ningún problema se podrá abordar de la misma forma; tenemos que llegar a ver los datos, analizarlos, no es simplemente una receta que funcione igual con todo.\n",
    "* **Bastante Resperto a la parte de Feature Engineering:** La manipulación de la data cruda es uno de los puntos criticos en la construcción de nuestro modelo, tenemos que saber que tenemos, si tenemos toda la información, si es necesario transformarla o solo normalizarla; y como dice en el punto anterior, ningún problema se aborda igual, y esto tiene que ver con la información que tenemos.\n",
    "* **Ensemble:** Antes de este ejercicio, mi idea principal era casi como que buscar un modelo que mejor se acoplará y ajustar ese lo más que se pudiera, pero la parte de Ensamble es muy importante porque nos ayuda a no depender de un solo modelo, sino utilizar varios, y sopesar debilidades que se tendrán al solo depender de un modelo.\n",
    "* **Un proceso Iterativo que nunca acaba:** Estoy seguro que estos modelos pueden mejorarse, por lo que no podemos concluir que algo ya esta listo, siempre hay una mejora, algo nuevo por intentar y eso es parte lo emocionante de esta parte de la ciencia de datos. "
   ]
  }
 ],
 "metadata": {
  "kernelspec": {
   "display_name": "Python 3",
   "language": "python",
   "name": "python3"
  },
  "language_info": {
   "codemirror_mode": {
    "name": "ipython",
    "version": 3
   },
   "file_extension": ".py",
   "mimetype": "text/x-python",
   "name": "python",
   "nbconvert_exporter": "python",
   "pygments_lexer": "ipython3",
   "version": "3.7.7"
  }
 },
 "nbformat": 4,
 "nbformat_minor": 4
}
