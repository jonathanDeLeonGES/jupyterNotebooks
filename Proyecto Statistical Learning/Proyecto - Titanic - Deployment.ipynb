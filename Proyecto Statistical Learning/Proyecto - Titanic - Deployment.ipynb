{
 "cells": [
  {
   "cell_type": "markdown",
   "metadata": {},
   "source": [
    "# Proyecto Curso\n",
    "\n",
    "Desarrollo del proyecto Final para el Curso de Statistical Learning -  Segundo Trimestre Maestria en Ciencia de Datos- Universidad Galileo.\n",
    "\n",
    "Este Notebook en específico servirá el Deployment de Modelos ya entrenados para la predicción del Problema \"Predicción de Supervivencia Titanic\". En un Notebook diferente se hizo el Entrenamiento/Validación de los modelos que aquí se usaran para la predicción."
   ]
  },
  {
   "cell_type": "markdown",
   "metadata": {},
   "source": [
    "# PENDIENTE DE IMPLEMENTACIÓN\n",
    "# SI LLEGARON A ESTE NOTEBOOK SIN REVISAR EL NOTEBOOK DONDE SE IMPLEMENTA EL MODELO FAVOR IR A:\n",
    "\n",
    "https://github.com/jonathanDeLeonGES/jupyterNotebooks/blob/master/Proyecto%20Statistical%20Learning/Proyecto%20-%20Titanic%20-%20Modelos.ipynb"
   ]
  },
  {
   "cell_type": "code",
   "execution_count": null,
   "metadata": {},
   "outputs": [],
   "source": []
  }
 ],
 "metadata": {
  "kernelspec": {
   "display_name": "Python 3",
   "language": "python",
   "name": "python3"
  },
  "language_info": {
   "codemirror_mode": {
    "name": "ipython",
    "version": 3
   },
   "file_extension": ".py",
   "mimetype": "text/x-python",
   "name": "python",
   "nbconvert_exporter": "python",
   "pygments_lexer": "ipython3",
   "version": "3.7.7"
  }
 },
 "nbformat": 4,
 "nbformat_minor": 4
}
