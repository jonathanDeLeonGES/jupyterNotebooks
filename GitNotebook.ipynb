{
 "cells": [
  {
   "cell_type": "markdown",
   "metadata": {},
   "source": [
    "# Control de Versiones con GIT\n",
    "\n",
    "Un sistema de control de versiones permite el tracking de los cambios efectuados en el código fuente o cualquier otro tipo de archivo, además, permite llevar el registro de las modificaciones, regresar a una versión anterior,facilitando la colaboración entre equipos.\n",
    "\n",
    "## Modelo de Datos GIT\n",
    "\n",
    "En una estructura de almacenamiento de archivos como la siguiente:"
   ]
  },
  {
   "cell_type": "raw",
   "metadata": {},
   "source": [
    "<root>                ----Tree\n",
    "        <folder1>         -----Tree\n",
    "        archivo1.ex             ---blob \n",
    "        archivo2.ex             ---blob"
   ]
  },
  {
   "cell_type": "markdown",
   "metadata": {},
   "source": [
    "En GIT se podría decir que cada Folder, incluyendo el folder base(root) se denominan como <b>\"trees\"</b>(Arboles) que mapean ya sea otros \"trees\" o a archivos denominados <b>\"blob\"</b>; estos elementos blob, son los elementos que contienen la información que se debe versionar.\n",
    "\n",
    "El sistema de control de versiones, debe mantener un <b>snapshot</b> de como se encuentran cada uno de los elementos de la estructura que estamos versionando en el momento de un <b>commit</b> (confirmación de almacenamiento); esto permitirá regresar sin mayores incovenientes a una versión especifica, además de controlar que modificaciones se han hecho a cada archivo por cada commit.\n",
    "\n",
    "Cada commit tendría un identificador único (Hash) o una referencia; permitiendonos usarlo, para comparaciones, modificaciones y demás."
   ]
  },
  {
   "cell_type": "markdown",
   "metadata": {},
   "source": [
    "## Guia de Comandos\n",
    "\n",
    "### Ejemplo de Creación Repositorio"
   ]
  },
  {
   "cell_type": "code",
   "execution_count": 2,
   "metadata": {
    "collapsed": true
   },
   "outputs": [],
   "source": [
    "##Para este ejemplo creamos un directorio que nos servirá para nuestro repositorio\n",
    "!mkdir GitProject\n",
    "\n",
    "##Accedemos al directorio \n",
    "!cd GitProject"
   ]
  },
  {
   "cell_type": "code",
   "execution_count": 14,
   "metadata": {},
   "outputs": [
    {
     "name": "stdout",
     "output_type": "stream",
     "text": [
      "Initialized empty Git repository in C:/Users/jonathan.deleon/Documents/Python/GitProject/.git/\n"
     ]
    }
   ],
   "source": [
    "## Creamos nuevo Repositorio\n",
    "!git init"
   ]
  },
  {
   "cell_type": "code",
   "execution_count": 24,
   "metadata": {},
   "outputs": [
    {
     "name": "stdout",
     "output_type": "stream",
     "text": [
      " Volume in drive C has no label.\n",
      " Volume Serial Number is DE2C-6EED\n",
      "\n",
      " Directory of C:\\Users\\jonathan.deleon\\Documents\\Python\\GitProject\n",
      "\n",
      "02/21/2020  12:54 PM    <DIR>          .\n",
      "02/21/2020  12:54 PM    <DIR>          ..\n",
      "02/21/2020  12:47 PM    <DIR>          .ipynb_checkpoints\n",
      "02/21/2020  12:54 PM             5,732 GitNotebook.ipynb\n",
      "               1 File(s)          5,732 bytes\n",
      "               3 Dir(s)  142,729,449,472 bytes free\n"
     ]
    }
   ],
   "source": [
    "##Observemos que se ha creado un archivo .git en el directorio\n",
    "!dir GitProject"
   ]
  },
  {
   "cell_type": "markdown",
   "metadata": {},
   "source": [
    "** No es visualizable, dado que no muestra los archivos ocultos del sistema, y este archivo .git se encuentra oculto"
   ]
  },
  {
   "cell_type": "code",
   "execution_count": 40,
   "metadata": {},
   "outputs": [
    {
     "name": "stdout",
     "output_type": "stream",
     "text": [
      "On branch master\n",
      "\n",
      "No commits yet\n",
      "\n",
      "nothing to commit (create/copy files and use \"git add\" to track)\n"
     ]
    }
   ],
   "source": [
    "##Vemos el Estatus de nuestro repositorio GIT\n",
    "!git status"
   ]
  },
  {
   "cell_type": "code",
   "execution_count": 42,
   "metadata": {},
   "outputs": [
    {
     "name": "stdout",
     "output_type": "stream",
     "text": [
      "Hello World\n",
      "HELLO WORLD\n"
     ]
    }
   ],
   "source": [
    "##Se crea un programa sencillo en Python\n",
    "%run hello.py"
   ]
  },
  {
   "cell_type": "code",
   "execution_count": 43,
   "metadata": {},
   "outputs": [
    {
     "name": "stdout",
     "output_type": "stream",
     "text": [
      "On branch master\n",
      "\n",
      "No commits yet\n",
      "\n",
      "Untracked files:\n",
      "  (use \"git add <file>...\" to include in what will be committed)\n",
      "\thello.py\n",
      "\n",
      "nothing added to commit but untracked files present (use \"git add\" to track)\n"
     ]
    }
   ],
   "source": [
    "##Volvemos a ver el estatus del Repositorio\n",
    "!git status"
   ]
  },
  {
   "cell_type": "markdown",
   "metadata": {},
   "source": [
    "Nota: Podemos observar que el archivo aparece, pero no se ha agregado al repositorio"
   ]
  },
  {
   "cell_type": "code",
   "execution_count": 2,
   "metadata": {},
   "outputs": [],
   "source": [
    "##Agregamos el archivo para el Commit\n",
    "!git add hello.py"
   ]
  },
  {
   "cell_type": "code",
   "execution_count": 47,
   "metadata": {},
   "outputs": [
    {
     "name": "stdout",
     "output_type": "stream",
     "text": [
      "On branch master\n",
      "\n",
      "No commits yet\n",
      "\n",
      "Changes to be committed:\n",
      "  (use \"git rm --cached <file>...\" to unstage)\n",
      "\tnew file:   hello.py\n",
      "\n"
     ]
    }
   ],
   "source": [
    "##Volvemos a ver el estatus del Repositorio\n",
    "!git status"
   ]
  },
  {
   "cell_type": "markdown",
   "metadata": {},
   "source": [
    "Nota: El archivo ya se agrego al repositorio, para ser actualizado en el siguiente commit."
   ]
  },
  {
   "cell_type": "code",
   "execution_count": 3,
   "metadata": {
    "scrolled": true
   },
   "outputs": [
    {
     "name": "stdout",
     "output_type": "stream",
     "text": [
      "\n",
      "[master (root-commit) fb2b299] Primer Cambio en Commit\n",
      " 1 file changed, 5 insertions(+)\n",
      " create mode 100644 hello.py\n"
     ]
    }
   ],
   "source": [
    "##Volvemos a ver el estatus del Repositorio\n",
    "!git commit"
   ]
  },
  {
   "attachments": {
    "image.png": {
     "image/png": "[encoded data removed]"
    }
   },
   "cell_type": "markdown",
   "metadata": {},
   "source": [
    "Al confirmar nos pide llenar el comentario del Commit, en mi caso, el editor por defecto es Visual Studio Code.\n",
    "![image.png](attachment:image.png)"
   ]
  },
  {
   "cell_type": "code",
   "execution_count": 49,
   "metadata": {},
   "outputs": [
    {
     "name": "stdout",
     "output_type": "stream",
     "text": [
      "On branch master\n",
      "nothing to commit, working tree clean\n"
     ]
    }
   ],
   "source": [
    "##Volvemos a ver el estatus del Repositorio\n",
    "!git status"
   ]
  },
  {
   "cell_type": "markdown",
   "metadata": {},
   "source": [
    "### Seguimiento de Cambios"
   ]
  },
  {
   "cell_type": "markdown",
   "metadata": {},
   "source": [
    "#### Log de Cambios"
   ]
  },
  {
   "cell_type": "code",
   "execution_count": 6,
   "metadata": {},
   "outputs": [
    {
     "name": "stdout",
     "output_type": "stream",
     "text": [
      "commit d142605afa11d652c27974ddd2944d762850865b\n",
      "Author: Jonathan De LeÃ³n <jonathan.deleon@galileo.edu>\n",
      "Date:   Fri Feb 21 15:58:00 2020 -0600\n",
      "\n",
      "    Reescribir codigo programa Hello\n",
      "\n",
      "commit fb2b29937f709c20e07d55bc4c9d6b7ad649a2ce\n",
      "Author: Jonathan De LeÃ³n <jonathan.deleon@galileo.edu>\n",
      "Date:   Fri Feb 21 15:52:57 2020 -0600\n",
      "\n",
      "    Primer Cambio en Commit\n"
     ]
    }
   ],
   "source": [
    "##Si queremos ver el log de cambios de forma general\n",
    "!git log "
   ]
  },
  {
   "cell_type": "code",
   "execution_count": 7,
   "metadata": {},
   "outputs": [
    {
     "name": "stdout",
     "output_type": "stream",
     "text": [
      "* commit d142605afa11d652c27974ddd2944d762850865b (HEAD -> master)\n",
      "| Author: Jonathan De LeÃ³n <jonathan.deleon@galileo.edu>\n",
      "| Date:   Fri Feb 21 15:58:00 2020 -0600\n",
      "| \n",
      "|     Reescribir codigo programa Hello\n",
      "| \n",
      "* commit fb2b29937f709c20e07d55bc4c9d6b7ad649a2ce\n",
      "  Author: Jonathan De LeÃ³n <jonathan.deleon@galileo.edu>\n",
      "  Date:   Fri Feb 21 15:52:57 2020 -0600\n",
      "  \n",
      "      Primer Cambio en Commit\n"
     ]
    }
   ],
   "source": [
    "##Si queremos ver el log tipo grafo\n",
    "!git log  --all --graph --decorate"
   ]
  },
  {
   "cell_type": "markdown",
   "metadata": {},
   "source": [
    "** Para este ejemplo no es muy representativo, dado que no hay ramas (branchs) o muchos commits"
   ]
  },
  {
   "cell_type": "markdown",
   "metadata": {},
   "source": [
    "#### Diferencias entre commits"
   ]
  },
  {
   "cell_type": "code",
   "execution_count": 10,
   "metadata": {},
   "outputs": [
    {
     "name": "stdout",
     "output_type": "stream",
     "text": [
      "diff --git a/hello.py b/hello.py\n",
      "index bd2ecc0..bb42f31 100644\n",
      "--- a/hello.py\n",
      "+++ b/hello.py\n",
      "@@ -4,7 +4,7 @@ def main():\n",
      "     ##Inicializamos los valores por defecto\n",
      "     numero1=1\n",
      "     numero2=1\n",
      "-    print(\"Evaluate Simple Math Operation\")\n",
      "+    print(\"Evaluate Simple Math Operation!!!!!\")\n",
      "     if len(sys.argv)>1 and str.isnumeric(sys.argv[1]):\n",
      "         numero1=int(sys.argv[1])\n",
      "     if len(sys.argv)>2 and str.isnumeric(sys.argv[2]):\n"
     ]
    }
   ],
   "source": [
    "##Diferencia entre el archivo y el último commit\n",
    "!git diff hello.py"
   ]
  },
  {
   "cell_type": "code",
   "execution_count": 11,
   "metadata": {},
   "outputs": [
    {
     "name": "stdout",
     "output_type": "stream",
     "text": [
      "diff --git a/hello.py b/hello.py\n",
      "index 8f1e568..bb42f31 100644\n",
      "--- a/hello.py\n",
      "+++ b/hello.py\n",
      "@@ -1,5 +1,16 @@\n",
      "-msg =\"Hello World\"\n",
      "-print(msg)\n",
      "+import sys\n",
      " \n",
      "-msg=msg.upper()\n",
      "-print(msg)\n",
      "\\ No newline at end of file\n",
      "+def main():\n",
      "+    ##Inicializamos los valores por defecto\n",
      "+    numero1=1\n",
      "+    numero2=1\n",
      "+    print(\"Evaluate Simple Math Operation!!!!!\")\n",
      "+    if len(sys.argv)>1 and str.isnumeric(sys.argv[1]):\n",
      "+        numero1=int(sys.argv[1])\n",
      "+    if len(sys.argv)>2 and str.isnumeric(sys.argv[2]):\n",
      "+        numero2 = int(sys.argv[2]) \n",
      "+    resultado = numero1 + numero2\n",
      "+    print(\"Result=\",resultado)\n",
      "+    \n",
      "+\n",
      "+main()\n",
      "\\ No newline at end of file\n"
     ]
    }
   ],
   "source": [
    "##diferencia entre el archivo y una revisión (commit) especifico\n",
    "!git diff fb2b29937 hello.py"
   ]
  },
  {
   "cell_type": "markdown",
   "metadata": {},
   "source": [
    "** Practicamente se sobreescribio el archivo hello.py"
   ]
  },
  {
   "cell_type": "code",
   "execution_count": 12,
   "metadata": {},
   "outputs": [
    {
     "name": "stderr",
     "output_type": "stream",
     "text": [
      "error: Your local changes to the following files would be overwritten by checkout:\n",
      "\thello.py\n",
      "Please commit your changes or stash them before you switch branches.\n",
      "Aborting\n"
     ]
    }
   ],
   "source": [
    "##Si queremos regresar a un commit en especifcio\n",
    "!git checkout fb2b29937"
   ]
  },
  {
   "cell_type": "code",
   "execution_count": 13,
   "metadata": {},
   "outputs": [
    {
     "name": "stderr",
     "output_type": "stream",
     "text": [
      "Note: switching to 'fb2b29937'.\n",
      "\n",
      "You are in 'detached HEAD' state. You can look around, make experimental\n",
      "changes and commit them, and you can discard any commits you make in this\n",
      "state without impacting any branches by switching back to a branch.\n",
      "\n",
      "If you want to create a new branch to retain commits you create, you may\n",
      "do so (now or later) by using -c with the switch command. Example:\n",
      "\n",
      "  git switch -c <new-branch-name>\n",
      "\n",
      "Or undo this operation with:\n",
      "\n",
      "  git switch -\n",
      "\n",
      "Turn off this advice by setting config variable advice.detachedHead to false\n",
      "\n",
      "HEAD is now at fb2b299 Primer Cambio en Commit\n"
     ]
    }
   ],
   "source": [
    "##En el caso anterior, no se forzó en checkout, porque hay cambios sin commit, se puede forzar de la siguiente manera\n",
    "!git checkout fb2b29937 -f"
   ]
  },
  {
   "cell_type": "code",
   "execution_count": 17,
   "metadata": {},
   "outputs": [
    {
     "name": "stdout",
     "output_type": "stream",
     "text": [
      "* commit d142605afa11d652c27974ddd2944d762850865b (master)\n",
      "| Author: Jonathan De LeÃ³n <jonathan.deleon@galileo.edu>\n",
      "| Date:   Fri Feb 21 15:58:00 2020 -0600\n",
      "| \n",
      "|     Reescribir codigo programa Hello\n",
      "| \n",
      "* commit fb2b29937f709c20e07d55bc4c9d6b7ad649a2ce (HEAD)\n",
      "  Author: Jonathan De LeÃ³n <jonathan.deleon@galileo.edu>\n",
      "  Date:   Fri Feb 21 15:52:57 2020 -0600\n",
      "  \n",
      "      Primer Cambio en Commit\n"
     ]
    }
   ],
   "source": [
    "##observamos nuestro estatus\n",
    "!git log --all --graph --decorate"
   ]
  },
  {
   "cell_type": "markdown",
   "metadata": {},
   "source": [
    "** Nuestro ambiente (HEAD) se encuentra en el primer commit."
   ]
  },
  {
   "cell_type": "code",
   "execution_count": 22,
   "metadata": {},
   "outputs": [],
   "source": [
    "##Si queremos quitar los cambios para un archivo en especifico\n",
    "!git checkout -- hello.py"
   ]
  },
  {
   "cell_type": "code",
   "execution_count": 23,
   "metadata": {},
   "outputs": [
    {
     "name": "stdout",
     "output_type": "stream",
     "text": [
      "On branch master\n",
      "nothing to commit, working tree clean\n"
     ]
    }
   ],
   "source": [
    "##verificamos \n",
    "!git status hello.py"
   ]
  },
  {
   "cell_type": "markdown",
   "metadata": {},
   "source": [
    "### Branch y Merge"
   ]
  },
  {
   "cell_type": "code",
   "execution_count": 26,
   "metadata": {},
   "outputs": [
    {
     "name": "stdout",
     "output_type": "stream",
     "text": [
      "* master\n"
     ]
    }
   ],
   "source": [
    "##Revisión - Cuales branchs se encuentran en el ambiente\n",
    "!git branch"
   ]
  },
  {
   "cell_type": "markdown",
   "metadata": {},
   "source": [
    "** En este caso solo tenemos la Master"
   ]
  },
  {
   "cell_type": "code",
   "execution_count": 28,
   "metadata": {},
   "outputs": [],
   "source": [
    "##Creamos una branch (Rama)\n",
    "!git branch SinUltimosC"
   ]
  },
  {
   "cell_type": "code",
   "execution_count": 31,
   "metadata": {},
   "outputs": [
    {
     "name": "stdout",
     "output_type": "stream",
     "text": [
      "  SinUltimosC\n",
      "* master\n"
     ]
    }
   ],
   "source": [
    "##Vemos la rama creada\n",
    "!git branch"
   ]
  },
  {
   "cell_type": "code",
   "execution_count": 33,
   "metadata": {},
   "outputs": [
    {
     "name": "stderr",
     "output_type": "stream",
     "text": [
      "Switched to branch 'SinUltimosC'\n"
     ]
    }
   ],
   "source": [
    "##Nos switchemos a la rama\n",
    "!git checkout SinUltimosC \n",
    "##Nos pudimos haber ahorrado el paso ante-anterior si hubieramos colocado\n",
    "## git checkout -b SinUltimosC\n",
    "## o \n",
    "## git branch SinUltimosC; git checkout SinUltimosC"
   ]
  },
  {
   "cell_type": "code",
   "execution_count": 34,
   "metadata": {},
   "outputs": [
    {
     "name": "stdout",
     "output_type": "stream",
     "text": [
      "* commit d142605afa11d652c27974ddd2944d762850865b (HEAD -> SinUltimosC, master)\n",
      "| Author: Jonathan De LeÃ³n <jonathan.deleon@galileo.edu>\n",
      "| Date:   Fri Feb 21 15:58:00 2020 -0600\n",
      "| \n",
      "|     Reescribir codigo programa Hello\n",
      "| \n",
      "* commit fb2b29937f709c20e07d55bc4c9d6b7ad649a2ce\n",
      "  Author: Jonathan De LeÃ³n <jonathan.deleon@galileo.edu>\n",
      "  Date:   Fri Feb 21 15:52:57 2020 -0600\n",
      "  \n",
      "      Primer Cambio en Commit\n"
     ]
    }
   ],
   "source": [
    "##Vemos como se encuentra nuestra branch\n",
    "!git log --all --graph --decorate"
   ]
  },
  {
   "cell_type": "markdown",
   "metadata": {},
   "source": [
    "** Vemos que nuestra branch y nuestra master estan iguales"
   ]
  },
  {
   "cell_type": "code",
   "execution_count": 52,
   "metadata": {},
   "outputs": [
    {
     "name": "stdout",
     "output_type": "stream",
     "text": [
      "Evaluate Simple Math Operation\n",
      "Suma= 9\n",
      "Multiplicación= 9\n"
     ]
    }
   ],
   "source": [
    "## Efectuamos cambios en el archivo de Hello.py y vemos los resultados\n",
    "## Ahora imprime mensaje recibido por parametros\n",
    "%run hello.py 4 5"
   ]
  },
  {
   "cell_type": "code",
   "execution_count": 53,
   "metadata": {},
   "outputs": [
    {
     "name": "stdout",
     "output_type": "stream",
     "text": [
      "[SinUltimosC 6133380] VariaciÃ³n del Programa de MultiplicaciÃ³n\n",
      " 1 file changed, 4 insertions(+), 2 deletions(-)\n"
     ]
    }
   ],
   "source": [
    "##Agregamos y confirmamos el cambio\n",
    "!git add hello.py\n",
    "!git commit -m \"Variación del Programa de Multiplicación\""
   ]
  },
  {
   "cell_type": "code",
   "execution_count": 54,
   "metadata": {},
   "outputs": [
    {
     "name": "stdout",
     "output_type": "stream",
     "text": [
      "* commit 613338039b03387b9a2bfe1db86030df51c064ab (HEAD -> SinUltimosC)\n",
      "| Author: Jonathan De LeÃ³n <jonathan.deleon@galileo.edu>\n",
      "| Date:   Fri Feb 21 17:05:02 2020 -0600\n",
      "| \n",
      "|     VariaciÃ³n del Programa de MultiplicaciÃ³n\n",
      "| \n",
      "* commit d142605afa11d652c27974ddd2944d762850865b (master)\n",
      "| Author: Jonathan De LeÃ³n <jonathan.deleon@galileo.edu>\n",
      "| Date:   Fri Feb 21 15:58:00 2020 -0600\n",
      "| \n",
      "|     Reescribir codigo programa Hello\n",
      "| \n",
      "* commit fb2b29937f709c20e07d55bc4c9d6b7ad649a2ce\n",
      "  Author: Jonathan De LeÃ³n <jonathan.deleon@galileo.edu>\n",
      "  Date:   Fri Feb 21 15:52:57 2020 -0600\n",
      "  \n",
      "      Primer Cambio en Commit\n"
     ]
    }
   ],
   "source": [
    "##Vemos el log\n",
    "!git log --all --graph --decorate"
   ]
  },
  {
   "cell_type": "markdown",
   "metadata": {},
   "source": [
    "** Aquí ya se pueden comenzar a visualizar las ramas (Branchs)"
   ]
  },
  {
   "cell_type": "code",
   "execution_count": 55,
   "metadata": {},
   "outputs": [
    {
     "name": "stderr",
     "output_type": "stream",
     "text": [
      "Switched to branch 'Master'\n"
     ]
    }
   ],
   "source": [
    "##Ahora si buscamos actualizar la Rama Master, con lo que tiene la branch\n",
    "##Nos switcheamos a la Rama mater\n",
    "!git checkout Master"
   ]
  },
  {
   "cell_type": "code",
   "execution_count": 57,
   "metadata": {},
   "outputs": [
    {
     "name": "stdout",
     "output_type": "stream",
     "text": [
      "Updating d142605..6133380\n",
      "Fast-forward\n",
      " hello.py | 6 ++++--\n",
      " 1 file changed, 4 insertions(+), 2 deletions(-)\n"
     ]
    }
   ],
   "source": [
    "#Efectuamos el Merge\n",
    "!git merge 61333803\n",
    "##Tambien podría haber sido un merge con el nombre del branch\n",
    "## git merge SinUltimosC"
   ]
  },
  {
   "cell_type": "markdown",
   "metadata": {},
   "source": [
    "** Sino hay conflictos, el merge se hará de forma automática"
   ]
  },
  {
   "cell_type": "code",
   "execution_count": 59,
   "metadata": {},
   "outputs": [
    {
     "name": "stdout",
     "output_type": "stream",
     "text": [
      "On branch Master\n",
      "nothing to commit, working tree clean\n"
     ]
    }
   ],
   "source": [
    "##Vemos el estatus\n",
    "!git status"
   ]
  },
  {
   "cell_type": "code",
   "execution_count": 60,
   "metadata": {},
   "outputs": [
    {
     "name": "stdout",
     "output_type": "stream",
     "text": [
      "* commit 613338039b03387b9a2bfe1db86030df51c064ab (HEAD -> Master, SinUltimosC)\n",
      "| Author: Jonathan De LeÃ³n <jonathan.deleon@galileo.edu>\n",
      "| Date:   Fri Feb 21 17:05:02 2020 -0600\n",
      "| \n",
      "|     VariaciÃ³n del Programa de MultiplicaciÃ³n\n",
      "| \n",
      "* commit d142605afa11d652c27974ddd2944d762850865b\n",
      "| Author: Jonathan De LeÃ³n <jonathan.deleon@galileo.edu>\n",
      "| Date:   Fri Feb 21 15:58:00 2020 -0600\n",
      "| \n",
      "|     Reescribir codigo programa Hello\n",
      "| \n",
      "* commit fb2b29937f709c20e07d55bc4c9d6b7ad649a2ce\n",
      "  Author: Jonathan De LeÃ³n <jonathan.deleon@galileo.edu>\n",
      "  Date:   Fri Feb 21 15:52:57 2020 -0600\n",
      "  \n",
      "      Primer Cambio en Commit\n"
     ]
    }
   ],
   "source": [
    "#Vemos el Log ya actualizado\n",
    "!git log --all --graph --decorate"
   ]
  },
  {
   "cell_type": "markdown",
   "metadata": {},
   "source": [
    "#### Merge con Conflictos"
   ]
  },
  {
   "cell_type": "code",
   "execution_count": null,
   "metadata": {},
   "outputs": [],
   "source": [
    "##Al tener conflictos, tendremos que abrir la herramienta para solucionar los conflictos\n",
    "!git mergetool\n",
    "\n",
    "##Reagramos el archivo que corregimos\n",
    "!git add hello.py\n",
    "\n",
    "##y Darle que contine con el merge\n",
    "!git merge --continue"
   ]
  },
  {
   "cell_type": "code",
   "execution_count": 70,
   "metadata": {},
   "outputs": [],
   "source": [
    "##Si queremos cancelar el merge\n",
    "!git merge --abort"
   ]
  },
  {
   "cell_type": "markdown",
   "metadata": {},
   "source": [
    "## Otros comandos de Referencia"
   ]
  },
  {
   "cell_type": "markdown",
   "metadata": {},
   "source": [
    "### Ayuda"
   ]
  },
  {
   "cell_type": "code",
   "execution_count": 15,
   "metadata": {},
   "outputs": [
    {
     "name": "stdout",
     "output_type": "stream",
     "text": [
      "usage: git [--version] [--help] [-C <path>] [-c <name>=<value>]\n",
      "           [--exec-path[=<path>]] [--html-path] [--man-path] [--info-path]\n",
      "           [-p | --paginate | -P | --no-pager] [--no-replace-objects] [--bare]\n",
      "           [--git-dir=<path>] [--work-tree=<path>] [--namespace=<name>]\n",
      "           <command> [<args>]\n",
      "\n",
      "These are common Git commands used in various situations:\n",
      "\n",
      "start a working area (see also: git help tutorial)\n",
      "   clone             Clone a repository into a new directory\n",
      "   init              Create an empty Git repository or reinitialize an existing one\n",
      "\n",
      "work on the current change (see also: git help everyday)\n",
      "   add               Add file contents to the index\n",
      "   mv                Move or rename a file, a directory, or a symlink\n",
      "   restore           Restore working tree files\n",
      "   rm                Remove files from the working tree and from the index\n",
      "   sparse-checkout   Initialize and modify the sparse-checkout\n",
      "\n",
      "examine the history and state (see also: git help revisions)\n",
      "   bisect            Use binary search to find the commit that introduced a bug\n",
      "   diff              Show changes between commits, commit and working tree, etc\n",
      "   grep              Print lines matching a pattern\n",
      "   log               Show commit logs\n",
      "   show              Show various types of objects\n",
      "   status            Show the working tree status\n",
      "\n",
      "grow, mark and tweak your common history\n",
      "   branch            List, create, or delete branches\n",
      "   commit            Record changes to the repository\n",
      "   merge             Join two or more development histories together\n",
      "   rebase            Reapply commits on top of another base tip\n",
      "   reset             Reset current HEAD to the specified state\n",
      "   switch            Switch branches\n",
      "   tag               Create, list, delete or verify a tag object signed with GPG\n",
      "\n",
      "collaborate (see also: git help workflows)\n",
      "   fetch             Download objects and refs from another repository\n",
      "   pull              Fetch from and integrate with another repository or a local branch\n",
      "   push              Update remote refs along with associated objects\n",
      "\n",
      "'git help -a' and 'git help -g' list available subcommands and some\n",
      "concept guides. See 'git help <command>' or 'git help <concept>'\n",
      "to read about a specific subcommand or concept.\n",
      "See 'git help git' for an overview of the system.\n"
     ]
    }
   ],
   "source": [
    "##Obtener ayuda - Referencia de comandos\n",
    "!git help"
   ]
  },
  {
   "cell_type": "markdown",
   "metadata": {},
   "source": [
    "### Configuración de Autor"
   ]
  },
  {
   "cell_type": "code",
   "execution_count": 4,
   "metadata": {},
   "outputs": [
    {
     "name": "stdout",
     "output_type": "stream",
     "text": [
      "\n"
     ]
    }
   ],
   "source": [
    "##Modificación del archivo de configuración\n",
    "!git config --global --edit\n"
   ]
  },
  {
   "attachments": {
    "image.png": {
     "image/png": "[encoded data removed]"
    }
   },
   "cell_type": "markdown",
   "metadata": {},
   "source": [
    "Abre el editor de texto, permitiendo modificar la configuración general.\n",
    "![image.png](attachment:image.png)\n",
    "\n",
    "** Para este caso en particular solo se dejo configurado el autor."
   ]
  },
  {
   "cell_type": "markdown",
   "metadata": {},
   "source": [
    "### Omisión de Archivos"
   ]
  },
  {
   "cell_type": "code",
   "execution_count": 39,
   "metadata": {
    "collapsed": true
   },
   "outputs": [],
   "source": [
    "##Indicar a GIT cuales archivos Omitir\n",
    "!echo .gitignore>>.gitignore\n",
    "!echo GitProject.ipynb >>.gitignore"
   ]
  },
  {
   "cell_type": "markdown",
   "metadata": {},
   "source": [
    "Considerar:\n",
    "* Si el archivo no esta creado deberá crearse.\n",
    "* Puede modificarse el archivo en cualquier editor de texto."
   ]
  }
 ],
 "metadata": {
  "kernelspec": {
   "display_name": "Python 3",
   "language": "python",
   "name": "python3"
  },
  "language_info": {
   "codemirror_mode": {
    "name": "ipython",
    "version": 3
   },
   "file_extension": ".py",
   "mimetype": "text/x-python",
   "name": "python",
   "nbconvert_exporter": "python",
   "pygments_lexer": "ipython3",
   "version": "3.8.1"
  }
 },
 "nbformat": 4,
 "nbformat_minor": 4
}
