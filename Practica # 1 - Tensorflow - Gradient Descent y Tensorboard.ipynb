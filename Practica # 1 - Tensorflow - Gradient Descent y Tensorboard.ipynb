{
 "cells": [
  {
   "cell_type": "markdown",
   "metadata": {},
   "source": [
    "# Practica # 1 - Tensorflow - Gradient Descent y Tensorboard"
   ]
  },
  {
   "cell_type": "markdown",
   "metadata": {},
   "source": [
    "## Datos de Proyecto - Carga\n",
    "\n",
    "Se cargará el Dataset del Proyecto del Curso **\"Ciencia de Datos en Python\"**; para referencia se coloca el listado de variables que contiene el Dataset:\n",
    "* **SalePrice:** The property's sale price in dollars. This is the target variable that you're trying to predict.\n",
    "* **OverallQual:** Overall material and finish quality, rates the overall material and finish of the house\n",
    "       10\tVery Excellent\n",
    "       9\tExcellent\n",
    "       8\tVery Good\n",
    "       7\tGood\n",
    "       6\tAbove Average\n",
    "       5\tAverage\n",
    "       4\tBelow Average\n",
    "       3\tFair\n",
    "       2\tPoor\n",
    "       1\tVery Poor\n",
    "* **1stFlrSF:** First Floor square feet\n",
    "* **TotRmsAbvGrd:** Total rooms above grade (does not include bathrooms)\n",
    "* **YearBuilt:** Original construction date\n",
    "* **LotFrontage:** Linear feet of street connected to property"
   ]
  },
  {
   "cell_type": "code",
   "execution_count": 9,
   "metadata": {},
   "outputs": [
    {
     "name": "stdout",
     "output_type": "stream",
     "text": [
      "Rango Tensor: 2\n",
      "Forma Tensor: (1460, 6)\n",
      "Vemos Primer Registro: [2.085e+05 7.000e+00 8.560e+02 8.000e+00 2.003e+03 6.500e+01]\n"
     ]
    }
   ],
   "source": [
    "#Importamos Libreria de Numpy para cargar los datos\n",
    "import numpy as np\n",
    "\n",
    "House_Data = np.load('proyecto_data/proyecto_training_data.npy')\n",
    "\n",
    "##Verificamos que haya cargado la información, y que tenga la forma requerida\n",
    "print('Rango Tensor:',House_Data.ndim)\n",
    "print('Forma Tensor:',House_Data.shape)\n",
    "print('Vemos Primer Registro:',House_Data[0])"
   ]
  },
  {
   "cell_type": "markdown",
   "metadata": {},
   "source": [
    "## Datos de Entrenamiento\n",
    "\n",
    "Consideremos lo siguiente:\n",
    "* La variable Dependiente seguirá siendo **\"SalesPrice\"**\n",
    "* La variable Independiente (FEATURE) será **\"OverallQual\"** que demostró una mayor correlación para el proyecto pasado.\n",
    "* Tomaremos todo el Dataset para Entrenamiento, esta vez no separaremos el Dataset."
   ]
  },
  {
   "cell_type": "code",
   "execution_count": 10,
   "metadata": {},
   "outputs": [],
   "source": [
    "#Por Facilidad se manejaran tensores quitando los datos que no utilizaremos\n",
    "##OverallQual - Variable Independiente (FEATURE)\n",
    "x_train = House_Data[:,1]\n",
    "\n",
    "##Valor de Ventas Real -  Variable Dependiente\n",
    "##Al Igual que el Proyecto por facilidad dividiremos por 1000 el precio de las casas\n",
    "y_real = House_Data[:,0]/1000"
   ]
  },
  {
   "cell_type": "markdown",
   "metadata": {},
   "source": [
    "## TensorFlow - Definición Modelo\n",
    "\n",
    "Importamos las librerias y ejecutamos los comandos requeridos para utilizar tensorflow."
   ]
  },
  {
   "cell_type": "code",
   "execution_count": 11,
   "metadata": {},
   "outputs": [
    {
     "name": "stdout",
     "output_type": "stream",
     "text": [
      "2.1.0\n"
     ]
    }
   ],
   "source": [
    "import tensorflow as tf\n",
    "\n",
    "print(tf.__version__)"
   ]
  },
  {
   "cell_type": "code",
   "execution_count": 12,
   "metadata": {},
   "outputs": [
    {
     "name": "stdout",
     "output_type": "stream",
     "text": [
      "WARNING:tensorflow:From C:\\Users\\jonathan.deleon\\.conda\\envs\\tf\\lib\\site-packages\\tensorflow_core\\python\\compat\\v2_compat.py:88: disable_resource_variables (from tensorflow.python.ops.variable_scope) is deprecated and will be removed in a future version.\n",
      "Instructions for updating:\n",
      "non-resource variables are not supported in the long term\n",
      "Enabled compatitility to tf1.x\n"
     ]
    }
   ],
   "source": [
    "if tf.__version__.startswith(\"2.\"):\n",
    "  import tensorflow.compat.v1 as tf\n",
    "  tf.compat.v1.disable_v2_behavior()\n",
    "  tf.compat.v1.disable_eager_execution()\n",
    "  print(\"Enabled compatitility to tf1.x\")"
   ]
  },
  {
   "cell_type": "markdown",
   "metadata": {},
   "source": [
    "Creamos la Clase que almacenará la definición del Modelo"
   ]
  },
  {
   "cell_type": "code",
   "execution_count": 13,
   "metadata": {},
   "outputs": [],
   "source": [
    "'''Clase que Definirá el Modelo a Entrenar'''\n",
    "class Modelo:\n",
    "    \n",
    "    '''Metodo que define lo que se ejecuta al Instanciar la Clase'''\n",
    "    def __init__(self):\n",
    "        \n",
    "        #Limpiamos cualquier variable o operación en el grafo \n",
    "        tf.reset_default_graph()\n",
    "        \n",
    "        #Variables que \"Entrenará\" el Modelo\n",
    "        self.m = tf.get_variable(\"pendiente\",dtype=tf.float32,shape=[],initializer=tf.zeros_initializer())\n",
    "        self.b = tf.get_variable(\"intercepto\",dtype=tf.float32,shape=[],initializer=tf.zeros_initializer())\n",
    "\n",
    "        ##Definimos los Tensores para la Inicialización de Variables\n",
    "        with tf.name_scope(\"Inicializacion\"):\n",
    "            init_global = tf.global_variables_initializer()\n",
    "            init_local = tf.local_variables_initializer()\n",
    "            self.init = tf.group(init_global,init_local)\n",
    "    \n",
    "    '''Metodo que define el Modelo de Predicción'''    \n",
    "    def __call__(self,x):\n",
    "        ##Definimos el Modelo de Predicción\n",
    "        with tf.name_scope(\"Modelo\"):\n",
    "            #lo almacenamos en la propiedad de la clase self.y_hat para que pueda reutilizarse en los otros metodos\n",
    "            #y no llamarlos varias veces - creando multiples instancias del modelo en tensorboard\n",
    "            self.y_hat = tf.add(tf.multiply(self.m,x),self.b,name=\"Prediccion_Modelo\")\n",
    "        return self.y_hat\n",
    "    \n",
    "    '''Metodo que define la Función de Error del Modelo''' \n",
    "    def error_function(self,y,y_hat):\n",
    "        ##Definimos la función de Error\n",
    "        with tf.name_scope(\"Error\"):\n",
    "            #lo almacenamos en la propiedad de la clase self.error para que pueda reutilizarse en los otros metodos\n",
    "            #y no llamarlos varias veces - creando multiples instancias del modelo en tensorboard\n",
    "            self.error = 1/2*tf.reduce_mean(tf.math.square(y - y_hat) )\n",
    "        return self.error\n",
    "    \n",
    "    '''Metodo que define como se actualizan las variables que se entrenan en el Modelo''' \n",
    "    def actualizar(self,x,y,learning_rate):\n",
    "        #Quitamos esto - Para no crear multiples tensores con el modelo de predicción\n",
    "        #y_hat = self(x) \n",
    "    \n",
    "        #Quitamos esto - Para no crear multiples tensores con el modelo de Error\n",
    "        #error = self.error_function(y,self.y_hat)\n",
    "        \n",
    "        #Calculo de la Gradiente - Para variables de Pendiente e Intercepto\n",
    "        with tf.name_scope(\"Calculo_Gradiente\"):\n",
    "            gradiente = tf.gradients(self.error,[self.m, self.b])\n",
    "        \n",
    "        #Actualización de Variables del Modelo - Definición Tensores\n",
    "        with tf.name_scope(\"Act_Parametros_Modelo\"):\n",
    "            actualizacion_m = tf.assign(self.m, self.m - learning_rate*gradiente[0] )\n",
    "            actualizacion_b = tf.assign(self.b, self.b - learning_rate*gradiente[1] )\n",
    "            actualizacion_parametros = tf.group(actualizacion_m,actualizacion_b)\n",
    "\n",
    "        return actualizacion_parametros\n",
    "    \n",
    "    '''Metodo que define el Scalar para Tensorboard'''\n",
    "    def summary(self,x,y):\n",
    "        #Quitamos esto - Para no crear multiples tensores con el modelo de predicción\n",
    "        #self.y_hat = self(x)\n",
    "        \n",
    "        #Quitamos esto - Para no crear multiples tensores con el modelo de Error\n",
    "        #error = self.error_function(y,self.y_hat)\n",
    "        \n",
    "        #Creamos el Tensor con la Información del Scalar\n",
    "        MSE_summary = tf.summary.scalar(name='MSE_Function', tensor=self.error)\n",
    "        return MSE_summary\n",
    "        "
   ]
  },
  {
   "cell_type": "markdown",
   "metadata": {},
   "source": [
    "Definimos la Función de Entrenamiento"
   ]
  },
  {
   "cell_type": "code",
   "execution_count": 14,
   "metadata": {},
   "outputs": [],
   "source": [
    "import time\n",
    "\n",
    "def Entrenamiento(learning_rate,epochs,imprimir_cada,x,y):\n",
    "    #Instanciamos la Clase que define el Modelo\n",
    "    modelo = Modelo()\n",
    "\n",
    "    #string de configuración para almacenamiento del Grafo\n",
    "    string_conf= time.strftime(\"%Y%m%d\") + \"_\"+time.strftime(\"%H%M%S\")+\"_Batch_GradientDescent_Lr=\"+str(learning_rate)\n",
    "\n",
    "    #Definimos los Placeholders que almacenarán los datos de Entrenamiento del Modelo\n",
    "    tensor_x = tf.placeholder(tf.float32,[x.shape[0]],name=\"tensor_x\")\n",
    "    tensor_y = tf.placeholder(tf.float32,[x.shape[0]],name=\"tensor_y\")\n",
    "\n",
    "    #Llamamos a la función que define el modelo de Predicción\n",
    "    prediccion = modelo(tensor_x)\n",
    "\n",
    "    #Llamamos a la función que define la Función de Error (Costo)\n",
    "    funcion_error = modelo.error_function(prediccion,tensor_y)\n",
    "\n",
    "    #Llamamos a la función que define los tensores para actualizar las variables del Modelo\n",
    "    actualizacion_parametros = modelo.actualizar(tensor_x,tensor_y,learning_rate)\n",
    "\n",
    "    #llamamos a la función que define el Scalar a Reportar en Tensorboard\n",
    "    MSE_summary = modelo.summary(tensor_x,tensor_y)\n",
    "\n",
    "    #Iniciamos con una Sesión Monitoreada - Para el Entrenamiento del Modelo\n",
    "    with tf.train.MonitoredSession() as session:\n",
    "\n",
    "        # Inicialización de variables Globales y locales\n",
    "        session.run(modelo.init)\n",
    "\n",
    "        #Escritura del Grafo para Tensorboard\n",
    "        writer = tf.summary.FileWriter('./graphs/'+string_conf, session.graph)\n",
    "\n",
    "        #Creamos el Diccionario que le dará valor a los Placeholders\n",
    "        feed_dict = {tensor_x:x, tensor_y:y}\n",
    "\n",
    "        #Entrenamiento del Modelo\n",
    "        for step in range(epochs):\n",
    "\n",
    "            #Ejecutamos el Grafo - Actualización de Datos\n",
    "            session.run(actualizacion_parametros,feed_dict=feed_dict)\n",
    "\n",
    "            #Ejecutamos el Grafo - Predicción del Modelo\n",
    "            predicciones = session.run(prediccion,feed_dict=feed_dict)\n",
    "\n",
    "            #Ejecutamos el Grafo - Resultado de Variables Entrenadas\n",
    "            pendiente_final,intercepto_final = session.run([modelo.m,modelo.b],feed_dict=feed_dict)\n",
    "\n",
    "            #Ejecutamos el Grafo - Datos Escalar\n",
    "            summary = session.run(MSE_summary,feed_dict=feed_dict)\n",
    "\n",
    "            #Almacenamos datos de Scalar - Para Tensorboard\n",
    "            writer.add_summary(summary, step)\n",
    "\n",
    "            #Imprimimos resultados de Variables por entrenamiento - Cada N Entrenamientos\n",
    "            if (step+1) % imprimir_cada == 0:\n",
    "                print(\"Prueba {} - Parámetros finales: m={}  b={}\".format(step+1,pendiente_final,intercepto_final))\n",
    "\n",
    "        # Si queremos imprimir la función de Error - Despues del Entrenamiento \n",
    "        final_error = session.run(funcion_error,feed_dict=feed_dict)\n",
    "        print(\"Error - Despues de Entrenamiento={}\".format(final_error))"
   ]
  },
  {
   "cell_type": "markdown",
   "metadata": {},
   "source": [
    "Probamos el Modelo solo para asegurar que no haya errores. Por el momento es con valores pequeños de prueba"
   ]
  },
  {
   "cell_type": "code",
   "execution_count": 16,
   "metadata": {},
   "outputs": [
    {
     "name": "stdout",
     "output_type": "stream",
     "text": [
      "INFO:tensorflow:Graph was finalized.\n",
      "INFO:tensorflow:Running local_init_op.\n",
      "INFO:tensorflow:Done running local_init_op.\n",
      "Prueba 50 - Parámetros finales: m=25.88538360595703  b=3.795400619506836\n",
      "Prueba 100 - Parámetros finales: m=29.268674850463867  b=4.078108310699463\n",
      "Error - Despues de Entrenamiento=1431.6644287109375\n"
     ]
    }
   ],
   "source": [
    "#Usaremos el mismo Learning rate del Proyecto\n",
    "learning_rate = 0.001\n",
    "\n",
    "#Definimos cuantas iteraciones de Entrenamiento haremos\n",
    "epochs=100\n",
    "\n",
    "#Definimos cada cuanto vamos a imprimir\n",
    "imprimir_cada = 50\n",
    "\n",
    "#Ejecutamos la función de Entrenamiento para los parametros definidos\n",
    "Entrenamiento(learning_rate,epochs,imprimir_cada,x_train,y_real)"
   ]
  },
  {
   "attachments": {},
   "cell_type": "markdown",
   "metadata": {},
   "source": [
    "## Tensorboard - Grafo\n",
    "\n",
    "Vemos como quedo nuestro Grafo en Tensorboard, de acuerdo al modelo definido.\n",
    "\n",
    "<img src=\"assets/Grafo_Tensorboard.png\">"
   ]
  },
  {
   "attachments": {},
   "cell_type": "markdown",
   "metadata": {},
   "source": [
    "## Tensorboard - Scalar\n",
    "\n",
    "El Error obtenido por la función MSE (Mean Squared Error) se puede visualizar en tensorbord de la siguiente manera:\n",
    "\n",
    "<img src=\"assets/Scalar_Tensorboard.png\">"
   ]
  },
  {
   "cell_type": "code",
   "execution_count": null,
   "metadata": {},
   "outputs": [],
   "source": []
  }
 ],
 "metadata": {
  "kernelspec": {
   "display_name": "Python 3",
   "language": "python",
   "name": "python3"
  },
  "language_info": {
   "codemirror_mode": {
    "name": "ipython",
    "version": 3
   },
   "file_extension": ".py",
   "mimetype": "text/x-python",
   "name": "python",
   "nbconvert_exporter": "python",
   "pygments_lexer": "ipython3",
   "version": "3.7.7"
  }
 },
 "nbformat": 4,
 "nbformat_minor": 4
}
