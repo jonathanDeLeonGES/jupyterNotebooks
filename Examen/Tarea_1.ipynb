{
 "cells": [
  {
   "cell_type": "markdown",
   "metadata": {},
   "source": [
    "# Tarea 1"
   ]
  },
  {
   "cell_type": "code",
   "execution_count": 24,
   "metadata": {},
   "outputs": [],
   "source": [
    "import validaciones"
   ]
  },
  {
   "cell_type": "markdown",
   "metadata": {},
   "source": [
    "## 1 - Problema del Sencillo\n",
    "Convertir una cantidad de dinero $x$ en monedas, utilizando la menor cantidad de monedas posibles.\n",
    "\n",
    "**Entrada**: Un numero entero que representa la cantidad de dinero y un arreglo d de las denominaciones de las monedas $c = (Q1.0, Q0.50, Q0.25, Q0.1)$ , \n",
    "en orden decreciente de valor $(c1 > c2 > ··· > c_{n})$\n",
    "\n",
    "**Salida**: Una lista de enteros  $i_{1}, i_{2},..., i_{d}$ \n",
    "tales que $c_{1} · i_{1} + c_{2}· i_{2} +··· + c_{d} · i_{d} = dinero$, \n",
    "y $i_{1} + i_{2} + ··· + i_{d}$ es lo mas pequeño posible"
   ]
  },
  {
   "cell_type": "code",
   "execution_count": 25,
   "metadata": {},
   "outputs": [
    {
     "name": "stdout",
     "output_type": "stream",
     "text": [
      "[25.0, 0.0, 1.0, 0.0, 3.0]\n"
     ]
    }
   ],
   "source": [
    "def hacer_sencillo(dinero, monedas):\n",
    "    ## TU CODIGO AQUI:\n",
    "    ##asumimos que devolveremos la lista de cantidad de monedas por cada denominación en una lista\n",
    "    cantidadMoneda= []\n",
    "    for moneda in monedas:\n",
    "        cantidad_moneda=dinero//moneda\n",
    "        dinero= dinero - cantidad_moneda*moneda\n",
    "        cantidadMoneda.append(cantidad_moneda)\n",
    "    return cantidadMoneda\n",
    "\n",
    "##Prueba de la función\n",
    "a=hacer_sencillo(25.28,[1.0,0.50,0.25,0.1,0.01])\n",
    "print(a)    "
   ]
  },
  {
   "cell_type": "markdown",
   "metadata": {},
   "source": [
    "## 2 - Sumando N series\n",
    "\n",
    "Tenemos una secuencia cuyo $n^{th}$ es:\n",
    "\\begin{equation*}\n",
    "\\ T_n = n^2 - (n-1)^2\n",
    "\\end{equation*}\n",
    "\n",
    "Hay que evaluar las series:\n",
    "\\begin{equation*}\n",
    "\\ S_n = T_1 + T_2 + ... + T_n\n",
    "\\end{equation*}\n",
    "\n",
    "\n",
    "**Instrucciones**\n",
    "En la siguiente celda en la funcion summingSeries debemos **retornar** en valor de $S_n$, tenemos como entrada n\n",
    "\n",
    "**Ejemplo 1:**\n",
    "\n",
    "Si la entrada es 2\n",
    "\n",
    "Salida:\n",
    "4\n",
    "\n",
    "Explicacion:\n",
    "\n",
    "$T_1 = 1$\n",
    "\n",
    "$T_2 = 3$\n",
    "\n",
    "$S_2 = T_1 + T_2$\n",
    "\n",
    "$S_2 = 4 $\n",
    "\n",
    "\n",
    "\n",
    "**Tip :**\n",
    "Antes te implementar $S_n$ debemos analizar el problema y ver si podemos reducir la complejidad."
   ]
  },
  {
   "cell_type": "code",
   "execution_count": 28,
   "metadata": {},
   "outputs": [
    {
     "name": "stdout",
     "output_type": "stream",
     "text": [
      "4\n",
      "25\n"
     ]
    }
   ],
   "source": [
    "def summatoriaSerie(n):\n",
    "    \"\"\"\n",
    "    La funcion recibe como parametro n y retorna el valor se la serie\n",
    "    \"\"\"\n",
    "    # tu codigo aqui\n",
    "    #Se reemplaza por efiencia\n",
    "    '''Primera forma de solucionarlo\n",
    "    valor_serie=[]\n",
    "    Tn = lambda i:i**2 -(i-1)**2\n",
    "    for i in range(1,n+1,1):\n",
    "        valor_serie.append(Tn(i)) \n",
    "        ##((i)**2 - ((i)-1)**2)\n",
    "    return sum(valor_serie)\n",
    "    '''\n",
    "    ''' Otra forma de hacerlo - Pero igual ineficiente\n",
    "    Tn = lambda i:i**2 -(i-1)**2\n",
    "    valor_serie= list(map(Tn,np.arange(1,n+1,dtype=np.int64)))\n",
    "    return sum(valor_serie)\n",
    "    '''\n",
    "    #Reducido sería así\n",
    "    return n**2\n",
    "\n",
    "##Prueba mi Función\n",
    "a=summatoriaSerie(2)\n",
    "print(a)\n",
    "\n",
    "a=summatoriaSerie(5)\n",
    "print(a)"
   ]
  },
  {
   "cell_type": "markdown",
   "metadata": {},
   "source": [
    "#### 2.1 - Ciclos\n",
    "\n",
    "Crea un ciclo for que imprima el resultado de la funcion **summingSeries** desde 1 hasta 10"
   ]
  },
  {
   "cell_type": "code",
   "execution_count": 29,
   "metadata": {},
   "outputs": [
    {
     "name": "stdout",
     "output_type": "stream",
     "text": [
      "1\n",
      "4\n",
      "9\n",
      "16\n",
      "25\n",
      "36\n",
      "49\n",
      "64\n",
      "81\n",
      "100\n"
     ]
    }
   ],
   "source": [
    "## Tu codigo aqui\n",
    "Hasta=10\n",
    "Contador=1\n",
    "while Contador <= Hasta:\n",
    "    print(summatoriaSerie(Contador))\n",
    "    Contador+=1"
   ]
  },
  {
   "cell_type": "markdown",
   "metadata": {},
   "source": [
    "### Pruebas  Automaticas\n",
    "\n",
    "Todas las pruebas deben funcionar para obetener los puntos del ejercicio.\n",
    "\n",
    "##### Importante :\n",
    "En este ejercicio se evalua que la funcion sea optima, el tiempo de ejecucion tiene que ser el menor posible, se va a evaluar el resultado correcto y el tiempo de ejecucion, si en alguna de las pruebas obtienes **[FALLO: TIMEOUT]** la funcion no es optima debes cambiarla hasta que todas las pruebas pasen"
   ]
  },
  {
   "cell_type": "code",
   "execution_count": 30,
   "metadata": {},
   "outputs": [
    {
     "name": "stdout",
     "output_type": "stream",
     "text": [
      "Prueba 1\n",
      "Run time: 0.0\n",
      "Prueba 1[CORRECTA]\n",
      "Prueba 2\n",
      "Run time: 0.0\n",
      "Prueba 2[CORRECTA]\n",
      "Prueba 3\n",
      "Run time: 0.0\n",
      "Prueba 3[CORRECTA]\n",
      "Prueba 4\n",
      "Run time: 0.0\n",
      "Prueba 4[CORRECTA]\n",
      "Prueba 5\n",
      "Run time: 0.0\n",
      "Prueba 5[CORRECTA]\n",
      "Prueba 6\n",
      "Run time: 0.0\n",
      "Prueba 6[CORRECTA]\n"
     ]
    }
   ],
   "source": [
    "validaciones.summingSeries_function(summatoriaSerie)"
   ]
  },
  {
   "cell_type": "markdown",
   "metadata": {},
   "source": [
    "## 3 - Rotacion de listas hacia la izquierda\n",
    "\n",
    "Una rotacion a la izquierda en un arreglo mueve cada elemento del arreglo una vez hacia la izquierda. Por ejemplo, si hacemos $1$ rotacion en en el arreglo $[1,2,3,4,5]$, el arreglo resultante seria $[2,3,4,5,1]$\n",
    "\n",
    "#### Descipcion de la funcion\n",
    "Dado un arreglo $a$ de $n$ integers y un numero $d$ de rotaciones, realizar $d$ rotaciones hacia la izquierda. La funcion debe retorner el arreglo re-ordenado.\n",
    "\n",
    "**rotIzquierda** tiene los siguientes parametros:\n",
    "\n",
    "* $a$ Un arreglo de numeros entreros.\n",
    "* $d$ numero de rotaciones."
   ]
  },
  {
   "cell_type": "code",
   "execution_count": 31,
   "metadata": {},
   "outputs": [],
   "source": [
    "def rotIzquierda(a, d):\n",
    "    # tu codigo aqui\n",
    "    longitud=len(a)\n",
    "    ##Al recorrer la longitud completa termina una vuelta\n",
    "    rot = d//longitud\n",
    "    numrotaciones=d - rot*longitud\n",
    "    ## Se hizo por rendimiento se comenta el codigo anterior\n",
    "    '''\n",
    "    for rotacion in range(numrotaciones):\n",
    "        ##almacenamos el primer elemento\n",
    "        temp=a[0]\n",
    "        for recorrido in range(longitud-1):\n",
    "            a[recorrido]=a[recorrido+1]\n",
    "        a[longitud-1]=temp\n",
    "    '''\n",
    "    return a[numrotaciones:]+a[:numrotaciones]"
   ]
  },
  {
   "cell_type": "code",
   "execution_count": 33,
   "metadata": {},
   "outputs": [
    {
     "data": {
      "text/plain": [
       "[5, 1, 2, 3, 4]"
      ]
     },
     "execution_count": 33,
     "metadata": {},
     "output_type": "execute_result"
    }
   ],
   "source": [
    "rotIzquierda([1, 2, 3, 4, 5], 4)\n",
    "# Resultado: [5, 1, 2, 3, 4]"
   ]
  },
  {
   "cell_type": "markdown",
   "metadata": {},
   "source": [
    "### Pruebas  Automaticas\n",
    "\n",
    "Todas las pruebas deben funcionar para obetener los puntos del ejercicio.\n",
    "\n",
    "##### Importante :\n",
    "En este ejercicio se evalua que la funcion sea optima, el tiempo de ejecucion tiene que ser el menor posible, se va a evaluar el resultado correcto y el tiempo de ejecucion, si en alguna de las pruebas obtienes **[FALLO: TIMEOUT]** la funcion no es optima debes cambiarla hasta que todas las pruebas pasen\n",
    "\n",
    "#### TIP:\n",
    "Utiliza **slice** en el array para optimizar la funcion"
   ]
  },
  {
   "cell_type": "code",
   "execution_count": 34,
   "metadata": {},
   "outputs": [
    {
     "name": "stdout",
     "output_type": "stream",
     "text": [
      "Prueba 1\n",
      "Prueba 1[CORRECTA]\n",
      "Prueba 2\n",
      "Prueba 2[CORRECTA]\n",
      "Prueba 3\n",
      "Prueba 3[CORRECTA]\n"
     ]
    }
   ],
   "source": [
    "validaciones.rotIzquierda_function(rotIzquierda)"
   ]
  },
  {
   "cell_type": "markdown",
   "metadata": {},
   "source": [
    "## 4 - Factores Primos\n",
    "\n",
    "Para cada $n$ queremos obtener el conteo maximo de numeros primos unicos en en rango inclusivo $[1, n]$,\n",
    "y retornar el valor del conteo en una nueva linea\n",
    "\n",
    "**Nota:** Recuerda que un numero primo solo es divisible por el mismo y que 1 no es un numero primo\n",
    "\n",
    "##### Ejemplos:\n",
    "\n",
    "###### Ejemplo 1\n",
    "Entrada: 1\n",
    "\n",
    "Salida esperada: 1\n",
    "\n",
    "Explicacion: El numero maximo de factores primos unicos en el rango inclusivo $[1,1]$ es $0$, porque $1$ no es un numero primo.\n",
    "\n",
    "###### Ejemplo 2\n",
    "Entrada: 3\n",
    "\n",
    "Salida esperada: 1\n",
    "\n",
    "Explicacion: El numero maximo de factores primos unicos en el rango inclusivo $[1,3]$ es $1$, porque el numero $3$ tiene 1 factor primo unico (el mismo) \n",
    "\n",
    "###### Ejemplo 3\n",
    "Entrada: 500\n",
    "\n",
    "Salida esperada: 4\n",
    "\n",
    "Explicacion: El numero maximo de factores primos unicos en el rango inclusivo $[1,500]$ es $4$, porque el producto de los primeros cuatro numeros primos unicos es $2 \\times 3 \\times 5 \\times 7 = 210$ y no hay ningun numero primo unico que multiplicado por el resultado sea $\t\\leqslant 500$\n",
    "\n",
    "\n",
    "\n",
    "#### Tip: \n",
    "Utiliza la funcion `range()` de python\n"
   ]
  },
  {
   "cell_type": "code",
   "execution_count": 35,
   "metadata": {},
   "outputs": [],
   "source": [
    "def esPrimo(numero):\n",
    "    if (numero<=1):\n",
    "        return False\n",
    " \n",
    "    for i in range(2, numero+1):\n",
    "        if(numero%i==0 and i!=numero):\n",
    "            return False\n",
    "    return True\n",
    "\n",
    "def conteoPrimos(n):\n",
    "    \"\"\"\n",
    "    Esta funcion recibe como parametro n y \n",
    "    retorna el conteo maximo de numeros primos unicos\n",
    "    \"\"\"\n",
    "    conteo=0\n",
    "    limite=1\n",
    "    # tu codigo aqui\n",
    "    for i in range(2, n+1):\n",
    "        if esPrimo(i):\n",
    "            limite *= i\n",
    "            if limite> n:\n",
    "                break\n",
    "            else:\n",
    "                conteo +=1\n",
    "    return conteo\n",
    "    \n",
    "    ''' Se comenta codigo anterior\n",
    "    ultimotomado=0\n",
    "    x = int(2)\n",
    "    while(n!=1):\n",
    "        if(n %x == 0):\n",
    "            n=n / x;\n",
    "            if ultimotomado!=x:\n",
    "                conteo+=1\n",
    "                ultimotomado=x\n",
    "        else:\n",
    "            x = x + 1\n",
    "    '''\n",
    "    return conteo"
   ]
  },
  {
   "cell_type": "markdown",
   "metadata": {},
   "source": [
    "### Pruebas"
   ]
  },
  {
   "cell_type": "code",
   "execution_count": 36,
   "metadata": {},
   "outputs": [
    {
     "data": {
      "text/plain": [
       "1"
      ]
     },
     "execution_count": 36,
     "metadata": {},
     "output_type": "execute_result"
    }
   ],
   "source": [
    "conteoPrimos(3)"
   ]
  },
  {
   "cell_type": "code",
   "execution_count": 37,
   "metadata": {},
   "outputs": [
    {
     "data": {
      "text/plain": [
       "4"
      ]
     },
     "execution_count": 37,
     "metadata": {},
     "output_type": "execute_result"
    }
   ],
   "source": [
    "conteoPrimos(500)"
   ]
  },
  {
   "cell_type": "markdown",
   "metadata": {},
   "source": [
    "### Pruebas  Automaticas\n",
    "\n",
    "Todas las pruebas deben funcionar para obetener los puntos del ejercicio.\n",
    "\n",
    "##### Importante :\n",
    "En este ejercicio se evalua que la funcion sea optima, el tiempo de ejecucion tiene que ser el menor posible, se va a evaluar el resultado correcto y el tiempo de ejecucion, si en alguna de las pruebas obtienes **[FALLO: TIMEOUT]** la funcion no es optima debes cambiarla hasta que todas las pruebas pasen"
   ]
  },
  {
   "cell_type": "code",
   "execution_count": 38,
   "metadata": {},
   "outputs": [
    {
     "name": "stdout",
     "output_type": "stream",
     "text": [
      "Prueba 1\n",
      "Run time: 0.0\n",
      "Prueba 1[CORRECTA]\n",
      "Prueba 2\n",
      "Run time: 0.0\n",
      "Prueba 2[CORRECTA]\n",
      "Prueba 3\n",
      "Run time: 0.0\n",
      "Prueba 3[CORRECTA]\n",
      "Prueba 4\n",
      "Run time: 0.0\n",
      "Prueba 4[CORRECTA]\n",
      "Prueba 5\n",
      "Run time: 0.0\n",
      "Prueba 5[CORRECTA]\n",
      "Prueba 6\n",
      "Run time: 0.0\n",
      "Prueba 6[CORRECTA]\n",
      "Prueba 7\n",
      "Run time: 0.0\n",
      "Prueba 7[CORRECTA]\n",
      "Prueba 8\n",
      "Run time: 0.0\n",
      "Prueba 8[CORRECTA]\n",
      "Prueba 9\n",
      "Run time: 0.0009970664978027344\n",
      "Prueba 9[CORRECTA]\n",
      "Prueba 10\n",
      "Run time: 0.0\n",
      "Prueba 10[CORRECTA]\n",
      "Prueba 11\n",
      "Run time: 0.0\n",
      "Prueba 11[CORRECTA]\n",
      "Prueba 12\n",
      "Run time: 0.0\n",
      "Prueba 12[CORRECTA]\n"
     ]
    }
   ],
   "source": [
    "validaciones.primeCount_function(conteoPrimos)"
   ]
  },
  {
   "cell_type": "markdown",
   "metadata": {},
   "source": [
    "## 5 - Conteo de patrones\n",
    "\n",
    "En este problema tienes que encontrar cuantas veces aparace en un texto cierto partron.\n",
    "\n",
    "Ejemplo:\n",
    "\n",
    "Entrada: GCGCG patron : GCG\n",
    "\n",
    "Resultado: 2"
   ]
  },
  {
   "cell_type": "code",
   "execution_count": 39,
   "metadata": {},
   "outputs": [],
   "source": [
    "def patternCount(text, pattern):\n",
    "    ## Tu codigo aqui\n",
    "    numcoin = 0\n",
    "    salir = False\n",
    "    while(salir!=True):\n",
    "        coincidencia=text.find(pattern)\n",
    "        if coincidencia >=0: ##Encontro Coincidencia\n",
    "            numcoin +=1\n",
    "            text = text[coincidencia+1:]\n",
    "        else:\n",
    "            salir=True\n",
    "    return numcoin"
   ]
  },
  {
   "cell_type": "markdown",
   "metadata": {},
   "source": [
    "#### Prueba tu codigo\n",
    "Texto: GACCATCAAAACTGATAAACTACTTAAAAATCAGT\n",
    "\n",
    "Patron: AAA\n",
    "    \n",
    "Resultado: 6"
   ]
  },
  {
   "cell_type": "code",
   "execution_count": 40,
   "metadata": {},
   "outputs": [
    {
     "data": {
      "text/plain": [
       "6"
      ]
     },
     "execution_count": 40,
     "metadata": {},
     "output_type": "execute_result"
    }
   ],
   "source": [
    "patternCount(\"GACCATCAAAACTGATAAACTACTTAAAAATCAGT\", \"AAA\")"
   ]
  },
  {
   "cell_type": "markdown",
   "metadata": {},
   "source": [
    "### Pruebas  Automaticas\n",
    "\n",
    "Todas las pruebas deben funcionar para obetener los puntos del ejercicio."
   ]
  },
  {
   "cell_type": "code",
   "execution_count": 41,
   "metadata": {},
   "outputs": [
    {
     "name": "stdout",
     "output_type": "stream",
     "text": [
      "Prueba [CORRECTA]\n"
     ]
    }
   ],
   "source": [
    "validaciones.patternCount_function(patternCount)"
   ]
  },
  {
   "cell_type": "markdown",
   "metadata": {},
   "source": [
    "## 6 - Palabras Frecuentes\n",
    "\n",
    "El reto de este algoritmo es encontrar de la forma mas optima posible, los mas frecuentes *k-mers* en un texto, puedes reutilizar tu funcion **patternCount** para este problema\n",
    "\n",
    "\n",
    "Ejemplo:\n",
    "\n",
    "**Texto** = ACTGACTCCCACCCC y **k** = 3. \n",
    "\n",
    "Como k es 3 el primer **k-mer** = ACT, el segundo seria CTG, pensemos en **k-mer** como una ventana de longitud *k* que escanea todo el texto.\n",
    "\n",
    "El resultado de nuestra funcion tiene que ser una lista con el o los **k-mers** que mas aparecen en el texto, para nuestro ejemplo el resutlado debe ser: **CCC**\n",
    "\n",
    "Count(0) = Count(4) = 2 porque **ACT** aparece 2 veces en el texto.\n",
    "\n",
    "<img src=\"assets/count_array.png\" width=\"60%\">"
   ]
  },
  {
   "cell_type": "code",
   "execution_count": 42,
   "metadata": {},
   "outputs": [],
   "source": [
    "def frecuentWords(text, k):\n",
    "    ## tu codigo aqui\n",
    "    Kmers=[]\n",
    "    maxk=0\n",
    "    for i in range(len(text)):\n",
    "        if((i+k)<=len(text)):\n",
    "            cadenaevaluar=text[i:(i+k)]\n",
    "            coincidencias=patternCount(text,cadenaevaluar)\n",
    "            if(coincidencias > maxk ):\n",
    "                maxk =coincidencias\n",
    "                Kmers=[]\n",
    "                Kmers.append(cadenaevaluar)\n",
    "            elif (coincidencias == maxk ):\n",
    "                if cadenaevaluar not in Kmers:\n",
    "                    Kmers.append(cadenaevaluar)\n",
    "    return Kmers"
   ]
  },
  {
   "cell_type": "markdown",
   "metadata": {},
   "source": [
    "### Prueba tu codigo\n",
    "text = ACGTTGCATGTCGCATGATGCATGAGAGCT\n",
    "\n",
    "k= 4\n",
    "\n",
    "Resultado:\n",
    "\n",
    "[CATG, GCAT]"
   ]
  },
  {
   "cell_type": "code",
   "execution_count": 43,
   "metadata": {},
   "outputs": [
    {
     "data": {
      "text/plain": [
       "['GCAT', 'CATG']"
      ]
     },
     "execution_count": 43,
     "metadata": {},
     "output_type": "execute_result"
    }
   ],
   "source": [
    "frecuentWords(\"ACGTTGCATGTCGCATGATGCATGAGAGCT\", 4)"
   ]
  },
  {
   "cell_type": "markdown",
   "metadata": {},
   "source": [
    "### Pruebas  Automaticas\n",
    "\n",
    "Todas las pruebas deben funcionar para obetener los puntos del ejercicio."
   ]
  },
  {
   "cell_type": "code",
   "execution_count": 44,
   "metadata": {},
   "outputs": [
    {
     "name": "stdout",
     "output_type": "stream",
     "text": [
      "Prueba [CORRECTA]\n"
     ]
    }
   ],
   "source": [
    "validaciones.frecuentWords_function(frecuentWords)"
   ]
  },
  {
   "cell_type": "markdown",
   "metadata": {},
   "source": [
    "# 7- Metodo de Euler\n",
    "\n",
    "El metodo de Euler se utiliza para aproximar la solucion particular de una ecuacion diferencial dado un valor inicial. Con esta informacion se sabe que la grafica de esa solucion pasa a traves del punto $(x_0,y_0)$ y tiene una pendiente $F(x_0,y_0)$ en ese punto, esto da un punto de partida para aproximar la solucion.\n",
    "\n",
    "A partir del punto inicial, se sigue en la direccion indicada por la pendiente. Mediante un pequeño paso $h$, se mueve a lo largo de la recta tangente hasta llegar al punto $(x_1,y_1)$ donde:\n",
    "\\begin{equation*}\n",
    "\\ x_1 = x_0 + h       \\\\\n",
    "\\ y_1 = y_0 + hF(x_0,y_0)\\\\\n",
    "\\end{equation*}\n",
    "\n",
    "\n",
    "<img src=\"assets/Euler.png\" width=\"350\">\n",
    "\n",
    "Como se muestra en la figura se considera $(x_1,y_1)$ como un nuevo punto inicial.\n",
    "\n",
    "Los valores de $x$ son:\n",
    "\\begin{equation*}\n",
    "\\ x_1 = x_0 + h       \\\\\n",
    "\\ x_2 = x_1 + h       \\\\\n",
    "\\    .                \\\\\n",
    "\\    .                \\\\\n",
    "\\    .                \\\\\n",
    "\\ x_n = x_{n-1} + h   \\\\\n",
    "\\end{equation*}\n",
    "\n",
    "\n",
    "Los valores de $y$ son:\n",
    "\\begin{equation*}\n",
    "\\ y_1 = y_0 + hF(x_0,y_0)\\\\\n",
    "\\ y_1 = y_1 + hF(x_1,y_1)\\\\\n",
    "\\       . \\\\\n",
    "\\       . \\\\\n",
    "\\       . \\\\\n",
    "\\ y_n = y_{n-1} + hF(x_{n-1},y_{n-1})\\\\\n",
    "\\end{equation*}\n",
    "\n",
    "\n",
    "#### Problema 7\n",
    "El ejecicio consiste en implementar la funcion *euler_metod* esta funcion recibe como parametro el \n",
    "* punto inicial $x_0$\n",
    "* punto inicial $y_0$\n",
    "* Paso $h$ \n",
    "* numero de iteraciones $n$ \n",
    "* La equacion diferencial que queremos aproximar, esta funcion tambien recibe los parametros $x$ y $y$\n",
    "* La funcion de la solucion exacta que tambien tambien recibe los parametros $x$ y $y$\n",
    "\n",
    "La funcion debe retornar el valor de $y_n$ y el error\n",
    "$error=|y - y_n|$ "
   ]
  },
  {
   "cell_type": "code",
   "execution_count": 45,
   "metadata": {},
   "outputs": [],
   "source": [
    "def euler_method(x,y,h,n, diff_eq, func):\n",
    "    \"\"\"\n",
    "    Parametros x, y punto inicial, logitud del paso h , n numero de iteraciones,\n",
    "    diff_eq la equacion diferencial y func la funcion de la solucion exacta\n",
    "    Retorna y y el error\n",
    "    \"\"\"\n",
    "    # tu codigo aqui\n",
    "    ##Recorrido de acuerdo al número de Iteraciones\n",
    "    for i in range(1,n+1):\n",
    "        Xn=x + h\n",
    "        Yn=y + h*diff_eq(x=x,y=y)\n",
    "        Y=func(x=Xn)\n",
    "        error=abs(Y - Yn)\n",
    "        print('x: ',round(Xn,1))\n",
    "        print('y_'+str(i)+': ',Yn)\n",
    "        print('y: ',Y)\n",
    "        print('error: ',error)\n",
    "        print('============================')\n",
    "        ##Final\n",
    "        x = Xn\n",
    "        y = Yn\n",
    "\n",
    "        "
   ]
  },
  {
   "cell_type": "markdown",
   "metadata": {},
   "source": [
    "### Ejemplo\n",
    "\n",
    "Queremos aproximar la solucion particular de la ecuacion diferencial\n",
    "\\begin{equation*}\n",
    "\\ \\frac{\\partial y}{\\partial x} = -2y \\\\\n",
    "\\end{equation*}\n",
    "Donde $y(0) = 4$ vamos a unsa un de $h=0.1$\n",
    "\n",
    "\\begin{equation*}\n",
    "\\ y = 4e^{-2x} \\\\\n",
    "\\end{equation*}"
   ]
  },
  {
   "cell_type": "code",
   "execution_count": 46,
   "metadata": {},
   "outputs": [],
   "source": [
    "### Implementando las funciones del ejemplo\n",
    "import math \n",
    "\n",
    "def y_prime(x, y):\n",
    "    return -2*y\n",
    "\n",
    "def y(x):\n",
    "    return 4 * math.exp(-2*x)"
   ]
  },
  {
   "cell_type": "code",
   "execution_count": 47,
   "metadata": {},
   "outputs": [
    {
     "name": "stdout",
     "output_type": "stream",
     "text": [
      "x:  0.1\n",
      "y_1:  3.2\n",
      "y:  3.2749230123119273\n",
      "error:  0.0749230123119271\n",
      "============================\n",
      "x:  0.2\n",
      "y_2:  2.56\n",
      "y:  2.6812801841425573\n",
      "error:  0.12128018414255726\n",
      "============================\n",
      "x:  0.3\n",
      "y_3:  2.048\n",
      "y:  2.1952465443761056\n",
      "error:  0.14724654437610551\n",
      "============================\n",
      "x:  0.4\n",
      "y_4:  1.6384\n",
      "y:  1.7973158564688863\n",
      "error:  0.15891585646888617\n",
      "============================\n",
      "x:  0.5\n",
      "y_5:  1.31072\n",
      "y:  1.4715177646857693\n",
      "error:  0.16079776468576923\n",
      "============================\n",
      "x:  0.6\n",
      "y_6:  1.0485760000000002\n",
      "y:  1.2047768476488085\n",
      "error:  0.15620084764880837\n",
      "============================\n",
      "x:  0.7\n",
      "y_7:  0.8388608000000002\n",
      "y:  0.986387855766426\n",
      "error:  0.14752705576642577\n",
      "============================\n",
      "x:  0.8\n",
      "y_8:  0.6710886400000001\n",
      "y:  0.8075860719786218\n",
      "error:  0.13649743197862163\n",
      "============================\n",
      "x:  0.9\n",
      "y_9:  0.5368709120000001\n",
      "y:  0.6611955528863462\n",
      "error:  0.1243246408863461\n",
      "============================\n",
      "x:  1.0\n",
      "y_10:  0.4294967296000001\n",
      "y:  0.5413411329464509\n",
      "error:  0.1118444033464508\n",
      "============================\n"
     ]
    }
   ],
   "source": [
    "\"\"\"\n",
    "Llamamos a la funcion de euler\n",
    "euler_method(0,4,0.1,10, y_prime,y)\n",
    "Parametros :\n",
    "x = 0\n",
    "y = 4\n",
    "d = 0.1\n",
    "n = 10\n",
    "diff_eq = y_prime\n",
    "func = y\n",
    "\"\"\"\n",
    "\n",
    "euler_method(0,4,0.1,10, y_prime,y)"
   ]
  },
  {
   "cell_type": "markdown",
   "metadata": {},
   "source": [
    "## 8 - XOR\n",
    "\n",
    "En la siguiente celda crea una funcion para la compuerta logica XOR \n",
    "\n",
    "<img src=\"assets/xor.png\" width=\"400\">\n"
   ]
  },
  {
   "cell_type": "code",
   "execution_count": 48,
   "metadata": {},
   "outputs": [],
   "source": [
    "def xor(a,b):\n",
    "    \"\"\"\n",
    "    Esta funcion recibe dos valores booleanos, ejemplo xor(1, 0) o True y False\n",
    "    y retorna 0 o 1 como resultado de la operacion logica XOR\n",
    "    \"\"\"\n",
    "    # tu codigo aqui\n",
    "    return a ^ b ##Este es una forma sencilla de implementarlo"
   ]
  },
  {
   "cell_type": "code",
   "execution_count": 49,
   "metadata": {},
   "outputs": [
    {
     "data": {
      "text/plain": [
       "1"
      ]
     },
     "execution_count": 49,
     "metadata": {},
     "output_type": "execute_result"
    }
   ],
   "source": [
    "xor(0 , 1) "
   ]
  },
  {
   "cell_type": "code",
   "execution_count": 50,
   "metadata": {},
   "outputs": [
    {
     "data": {
      "text/plain": [
       "0"
      ]
     },
     "execution_count": 50,
     "metadata": {},
     "output_type": "execute_result"
    }
   ],
   "source": [
    "xor(0 , 0)"
   ]
  },
  {
   "cell_type": "code",
   "execution_count": 51,
   "metadata": {},
   "outputs": [
    {
     "data": {
      "text/plain": [
       "True"
      ]
     },
     "execution_count": 51,
     "metadata": {},
     "output_type": "execute_result"
    }
   ],
   "source": [
    "xor(True , False)"
   ]
  },
  {
   "cell_type": "markdown",
   "metadata": {},
   "source": [
    "### Pruebas  Automaticas\n",
    "\n",
    "Todas las pruebas deben funcionar para obetener los puntos del ejercicio."
   ]
  },
  {
   "cell_type": "code",
   "execution_count": 52,
   "metadata": {},
   "outputs": [
    {
     "name": "stdout",
     "output_type": "stream",
     "text": [
      "Prueba 1\n",
      "Prueba 1 [CORRECTA]\n",
      "Prueba 2\n",
      "Prueba 2 [CORRECTA]\n"
     ]
    }
   ],
   "source": [
    "validaciones.xor_function(xor)"
   ]
  },
  {
   "cell_type": "markdown",
   "metadata": {},
   "source": [
    "## 9 - Maximo producto de parejas\n",
    "\n",
    "Encontrar el numero maximo del producto en 2 listas de numeros enteros no negativos\n",
    "\n",
    "**Entrada:** Una lista de numeros enteros\n",
    "**Salida:**  El valor maximo que se puede obtener multiplicando 2 elementos **diferentes** de la lista\n",
    "\n",
    "Ejemplo:\n",
    "\n",
    "Entrada : [5, 6, 2, 7, 4]\n",
    "Salida: 42\n",
    "\n",
    "<img src=\"assets/max_pairwise.png\" width=\"15%\">"
   ]
  },
  {
   "cell_type": "code",
   "execution_count": 53,
   "metadata": {},
   "outputs": [
    {
     "name": "stdout",
     "output_type": "stream",
     "text": [
      "3 4 6 7 9 8 4 5 6\n"
     ]
    },
    {
     "data": {
      "text/plain": [
       "72"
      ]
     },
     "execution_count": 53,
     "metadata": {},
     "output_type": "execute_result"
    }
   ],
   "source": [
    "def max_pairwise(input):\n",
    "    ## tu codigo aqui\n",
    "    ##Descomponemos el Input\n",
    "    entradas=list(map(int, input.split()))\n",
    "    ##Buscamos el número mayor\n",
    "    mayor=max(entradas)\n",
    "    ##quitamos el mayor de la lista\n",
    "    entradas.remove(mayor)\n",
    "    ##buscamos el siguiente mayor\n",
    "    sigmayor=max(entradas)\n",
    "    \n",
    "    ''' QUITAMOS PORQUE LO HAREMOS MAS EFICIENTE\n",
    "    ##Lo ordenamos en forma ascendente\n",
    "    entradas.sort()\n",
    "    ##Buscamos los numeros más altos no repetidos\n",
    "    salir = False\n",
    "    mayor=entradas[len(entradas)-1]\n",
    "    sigmayor=0\n",
    "    recorrido=len(entradas)-2\n",
    "    while (salir!=True and recorrido >= 0 ):\n",
    "        if(entradas[recorrido] != mayor):\n",
    "            sigmayor=entradas[recorrido]\n",
    "            salir=True\n",
    "        else:\n",
    "            recorrido -=1\n",
    "    \n",
    "    maximo = mayor* sigmayor\n",
    "    '''\n",
    "    return mayor* sigmayor\n",
    "\n",
    "##Prueba la función\n",
    "max_pairwise(input())"
   ]
  },
  {
   "cell_type": "markdown",
   "metadata": {},
   "source": [
    "## 10 - Ultimo Comun Multiplo\n",
    "\n",
    "El ultimo comun multipo de 2 positivos enteros $a$ y $b$ es el ultimo numero entero positivo mas pequeño $m$ que es divisible por $a$ y $b$\n",
    "\n",
    "Ejemplo:\n",
    "Entrada 6, 8\n",
    "Salida 24"
   ]
  },
  {
   "cell_type": "code",
   "execution_count": 55,
   "metadata": {},
   "outputs": [
    {
     "data": {
      "text/plain": [
       "24"
      ]
     },
     "execution_count": 55,
     "metadata": {},
     "output_type": "execute_result"
    }
   ],
   "source": [
    "def conteoPrimos(n):\n",
    "    \"\"\"\n",
    "    Esta funcion recibe como parametro n y \n",
    "    retorna el conteo de numeros primos \n",
    "    \"\"\"\n",
    "    # tu codigo aqui\n",
    "    Factores = dict()\n",
    "    conteo=0\n",
    "    ultimotomado=0\n",
    "    x = int(2)\n",
    "    while(n!=1):\n",
    "        if(n %x == 0):\n",
    "            n=n / x;\n",
    "            \n",
    "            Factores[x]=(Factores[x]+ 1) if x in Factores else 1\n",
    "        else:\n",
    "            x = x + 1\n",
    "    return Factores\n",
    "\n",
    "def lcm(a,b):\n",
    "    ##tu codigo aqui\n",
    "    Factores1 = conteoPrimos(a)\n",
    "    Factores2 = conteoPrimos(b)\n",
    "    FactoresTotal= set(Factores1.keys()) | set(Factores2.keys())\n",
    "    mcm = 1\n",
    "    for factor in FactoresTotal:\n",
    "        mcm *=factor ** max(Factores1.get(factor) if factor in Factores1 else 0 , Factores2.get(factor) if factor in Factores2 else 0)\n",
    "    return mcm\n",
    "    \n",
    "lcm(6,8)"
   ]
  },
  {
   "cell_type": "markdown",
   "metadata": {},
   "source": [
    "#### Prueba tu codigo\n",
    "Entrada: 28851538 1183019\n",
    "\n",
    "Salida: 1933053046"
   ]
  },
  {
   "cell_type": "code",
   "execution_count": 56,
   "metadata": {},
   "outputs": [
    {
     "data": {
      "text/plain": [
       "1933053046"
      ]
     },
     "execution_count": 56,
     "metadata": {},
     "output_type": "execute_result"
    }
   ],
   "source": [
    "lcm(28851538, 1183019)"
   ]
  }
 ],
 "metadata": {
  "kernelspec": {
   "display_name": "Python 3",
   "language": "python",
   "name": "python3"
  },
  "language_info": {
   "codemirror_mode": {
    "name": "ipython",
    "version": 3
   },
   "file_extension": ".py",
   "mimetype": "text/x-python",
   "name": "python",
   "nbconvert_exporter": "python",
   "pygments_lexer": "ipython3",
   "version": "3.7.4"
  }
 },
 "nbformat": 4,
 "nbformat_minor": 4
}
