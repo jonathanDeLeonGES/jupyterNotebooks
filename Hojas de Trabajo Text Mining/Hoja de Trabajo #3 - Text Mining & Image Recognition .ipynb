{
 "cells": [
  {
   "cell_type": "markdown",
   "metadata": {},
   "source": [
    "# Hoja de Trabajo 3"
   ]
  },
  {
   "cell_type": "markdown",
   "metadata": {},
   "source": [
    "## Problema 1\n",
    "\n",
    "Utilice expresiones regulares para validar las siguintes situaciones:\n",
    "1. Implemente una regex para validar un correo electrónico en general, a continuación se muestran algunos ejemplos.  \n",
    "\n",
    "\n",
    "- Guate.360-porelmundo@miguate.com\n",
    "- Miercoles3@hotmail.com\n",
    "- Progra3.galileo@galileo.edu"
   ]
  },
  {
   "cell_type": "markdown",
   "metadata": {},
   "source": [
    "**Respuesta:**\n",
    "      [a-zA-Z]+(\\w|(\\.|\\-))*\\@\\w+\\.*\\w*\n",
    "\n",
    "**Validación en Herramienta:**\n",
    "<img src=\"P1Val.jpg\">\n"
   ]
  },
  {
   "cell_type": "markdown",
   "metadata": {},
   "source": [
    "2. Implemente una regex para validar la dirección url de una página web con los tipos de domino (.com, .org, .edu). Note que la url incluye el protocolo (http o https) y los símbolos (//www.),a continuación se muestran algunos ejemplos: \n",
    "\n",
    "\n",
    "* https://www.guate360-porelmundo.com\n",
    "* http://www.a2.net\n",
    "* https://www.galileo.edu\n",
    "* http://www.8.org (No valida)"
   ]
  },
  {
   "cell_type": "markdown",
   "metadata": {},
   "source": [
    "**Respuesta:**\n",
    "      (http(s)?|HTTP(S)?)://w{3}\\.[a-zA-Z](\\.\\w|\\-|\\w*)+\n",
    "\n",
    "**Validación en Herramienta:**\n",
    "<img src=\"P2Val.jpg\">\n"
   ]
  },
  {
   "cell_type": "markdown",
   "metadata": {},
   "source": [
    "3. Implemente una regex para validar una MAC Address, notar que las mac addres están divididas en 6 bloques de caracteres hexadecimales, es decir que los símbolos solo pueden variar del 0 al 9 y las letras de la A a la F. A continuación se muestran algunos ejemplos:\n",
    "\n",
    "\n",
    "* 5A 6F AF 8C 9B 1D\n",
    "* 6D 6C 4D 3A EB 3F\n",
    "* 3A 7C FA C8 6D 4J (no valida por que el ultimo bloque contiene una J)"
   ]
  },
  {
   "cell_type": "markdown",
   "metadata": {},
   "source": [
    "**Respuesta:** \n",
    "      (([A-F]|[0-9]){2}\\s){6}\n",
    "\n",
    "**Validación en Herramienta:**\n",
    "<img src=\"P3Val.jpg\">\n"
   ]
  },
  {
   "cell_type": "markdown",
   "metadata": {},
   "source": [
    "4. Implemente una regex para validar una dirección IPv4, notar que las direcciones IPv4 están divididas en 4 bloques de valores los cuales solo pueden ir desde 0 hasta 255, una ip donde algunos de sus bloques sea mayor a 255 no es valida, adem\u0013as tome en cuenta que cada bloque está separada por un punto. A continuación se muestran algunos ejemplos:\n",
    "\n",
    "\n",
    "* 192.16.8.1\n",
    "* 234.56.78.90\n",
    "* 1.2.3.4\n",
    "* 192.168.45.345 (no valida por que el ultimo bloque es mayor a 255)"
   ]
  },
  {
   "cell_type": "markdown",
   "metadata": {},
   "source": [
    "**Respuesta:**\n",
    "      (([1][0-9]|[1-9])[0-9]?|2[0-4][0-9]|25[0-5])\\.(([01]?[0-9][0-9]?|2[0-4][0-9]|25[0-5])\\.){2}([01]?[0-9][0-9]?|2[0-4][0-9]|25[0-5])\n",
    "\n",
    "**Validación en Herramienta:**\n",
    "<img src=\"P4Val.jpg\">\n"
   ]
  },
  {
   "cell_type": "markdown",
   "metadata": {},
   "source": [
    "5. Implemente una regex para validar una fecha con la secuencia día-mes-año donde el día, mes y año puedan estar separados ya sea por el caracter / o el caracter - o el caracter ., notar que las fechas son validas si los si los días están definidos desde el 1 al 31, el mes del 1 al 12 y el año de 2000 al 2019. También debe tomar en cuenta que los días y meses pueden estar escritos ya sea con uno o dos caracteres por ejemplo: Enero puede escribirse como 1 o como 01. Los años también pueden expresarse ya sea con dos o con cuatro caracteres por ejemplo:19 o 2019 son validos. A continuación se muestran algunos ejemplos:\n",
    "\n",
    "\n",
    "* 20/1/2019\n",
    "* 12.03.2005\n",
    "* 31-11-08\n",
    "* 1-1-2012\n",
    "* 12-12-22 (no valida, por que el año supera al 2019)."
   ]
  },
  {
   "cell_type": "markdown",
   "metadata": {},
   "source": [
    "**Respuesta:**\n",
    "      ([12][0-9]|3[01]|[0]?[1-9])(/|\\-|\\.)([0]?[1-9]|[1][0-2])(/|\\-|\\.)(20)?[01][0-9]\n",
    "\n",
    "**Validación en Herramienta:**\n",
    "<img src=\"P5Val.jpg\">\n"
   ]
  },
  {
   "cell_type": "markdown",
   "metadata": {},
   "source": [
    "## Problema 2\n",
    "\n",
    "En la carpeta encontrará adjuntos 21 documentos que tiene 100 fechas en la secuencia días-mes-año pero con distinto separador y distinto formato de mes, en algunos casos aparece un numero y en otros el nombre del mes en ingles, por ejemplo: Enero pueder aparecer como 1 o como Jan. Utilice Python y expresiones regulares para encontrar el día, mes y año promedio total del los 21\n",
    "archivos, los resultados deben ser un double.\n",
    "\n",
    "#### Cargamos las fechas de los 21 archivos"
   ]
  },
  {
   "cell_type": "code",
   "execution_count": 1,
   "metadata": {},
   "outputs": [],
   "source": [
    "##Cargamos las librerias que nos servirán\n",
    "import numpy as np\n",
    "import pandas as pd\n",
    "import re"
   ]
  },
  {
   "cell_type": "code",
   "execution_count": 46,
   "metadata": {},
   "outputs": [
    {
     "data": {
      "text/plain": [
       "(21000, 1)"
      ]
     },
     "execution_count": 46,
     "metadata": {},
     "output_type": "execute_result"
    }
   ],
   "source": [
    "#Aquí colocaremos el conjunto de fechas de todos los archivos\n",
    "data = np.empty([0,1],dtype='str')\n",
    "\n",
    "#Leemos los 21 archivos\n",
    "for i in range(1,22):\n",
    "    #Armamos dinamicamente el nombre del archivo\n",
    "    archivo=\"Datos/D\"+str(i)+\".txt\"\n",
    "    #leemos la información del archivo\n",
    "    datafile = pd.read_csv(archivo, sep=\" \", header=None)\n",
    "    #Dejamos de una columna la información\n",
    "    dataPrep = np.array(datafile[0].values).reshape(-1,1)\n",
    "    #Append a la estructura data\n",
    "    data=np.vstack((data,dataPrep))\n",
    "#Comprobamos la cantidad de registros almacenados\n",
    "data.shape"
   ]
  },
  {
   "cell_type": "markdown",
   "metadata": {},
   "source": [
    "#### Extraemos la información de días/meses/años de las fechas (Usando expresiones regulares)"
   ]
  },
  {
   "cell_type": "code",
   "execution_count": 142,
   "metadata": {},
   "outputs": [
    {
     "name": "stdout",
     "output_type": "stream",
     "text": [
      "Cantidad de Registros Procesados, Días 21000 Meses 21000 Años 21000\n"
     ]
    }
   ],
   "source": [
    "#Aquí almacenaremos los días extraidos\n",
    "dias=np.empty([0,1],dtype='int')\n",
    "meses=np.empty([0,1],dtype='int')\n",
    "años=np.empty([0,1],dtype='int')\n",
    "\n",
    "#Este diccionario nos ayudará a convertir meses en texto a valor númerico\n",
    "mes_dic = {\"jan\":1,\"feb\":2,\"mar\":3,\"apr\":4,\"may\":5,\"jun\":6,\"jul\":7,\"aug\":8,\"sep\":9, \"oct\":10,\"nov\":11, \"dec\":12}\n",
    "\n",
    "#Recoremos cada fecha almacenada\n",
    "for s in data[:,0]:\n",
    "    #ponemos en minuscula el texto\n",
    "    s = s.lower()\n",
    "    #Definimos la expresión Regular\n",
    "    date = re.compile(\"([12][0-9]|3[01]|[0]?[1-9])(/|\\-|\\.)([0]?[1-9]|[1][0-2]|jan|feb|mar|apr|may|jun|jul|aug|sep|oct|nov|dec)(/|\\-|\\.)((20)?[01][0-9])\")\n",
    "    #Obtenemos el dia\n",
    "    find= date.findall(s)\n",
    "    #Lo convertimos a valor númerico\n",
    "    #Convertimos a númerico el valor del dia\n",
    "    dia = int(find[0][0])\n",
    "    #Convertimos a númerico el valor del mes\n",
    "    str_mes = find[0][2]\n",
    "    if str_mes.isdigit(): #Si es digito\n",
    "        mes = int(find[0][2]) \n",
    "    else:\n",
    "        mes = mes_dic.get(str_mes)\n",
    "    año = int(find[0][4])\n",
    "    #lo adherimos a nuestros arreglos\n",
    "    dias=np.vstack((dias,dia))\n",
    "    meses = np.vstack((meses,mes))\n",
    "    años = np.vstack((años,año))\n",
    "#Comprobamos la cantidad de días, meses, años almacenados\n",
    "print(\"Cantidad de Registros Procesados, Días {} Meses {} Años {}\".format(dias.shape[0],meses.shape[0],años.shape[0]))"
   ]
  },
  {
   "cell_type": "markdown",
   "metadata": {},
   "source": [
    "#### Promedios de la Información "
   ]
  },
  {
   "cell_type": "code",
   "execution_count": 141,
   "metadata": {},
   "outputs": [
    {
     "name": "stdout",
     "output_type": "stream",
     "text": [
      "El Promedio de los días obtenidos es  15.62\n",
      "El Promedio de los meses obtenidos es  6.47\n",
      "El Promedio de los años obtenidos es  2016.69\n"
     ]
    }
   ],
   "source": [
    "print(\"El Promedio de los días obtenidos es \",round(np.average(dias),2))\n",
    "print(\"El Promedio de los meses obtenidos es \",round(np.average(meses),2))\n",
    "print(\"El Promedio de los años obtenidos es \",round(np.average(años),2))"
   ]
  },
  {
   "cell_type": "markdown",
   "metadata": {},
   "source": [
    "## Problema 3\n",
    "\n",
    "Descargue el Dataset el cual contiene aproximadamente 800,000 tweets de diversos temas. Usando CoLab y expresiones regulares. Determine los 3 usuarios más populares dentro del dataset. Luego arme un corpus el cual contenga los siguientes elementos por cada usuario seleccionado:\n",
    "* Content: Tweet.\n",
    "* Metadata: ID, Timestamp, Length (este valor hay que calcularlo)."
   ]
  },
  {
   "cell_type": "code",
   "execution_count": 2,
   "metadata": {},
   "outputs": [
    {
     "data": {
      "text/html": [
       "<div>\n",
       "<style scoped>\n",
       "    .dataframe tbody tr th:only-of-type {\n",
       "        vertical-align: middle;\n",
       "    }\n",
       "\n",
       "    .dataframe tbody tr th {\n",
       "        vertical-align: top;\n",
       "    }\n",
       "\n",
       "    .dataframe thead th {\n",
       "        text-align: right;\n",
       "    }\n",
       "</style>\n",
       "<table border=\"1\" class=\"dataframe\">\n",
       "  <thead>\n",
       "    <tr style=\"text-align: right;\">\n",
       "      <th></th>\n",
       "      <th>Bloque</th>\n",
       "      <th>ID</th>\n",
       "      <th>Fecha</th>\n",
       "      <th>REF</th>\n",
       "      <th>User</th>\n",
       "      <th>Content</th>\n",
       "    </tr>\n",
       "  </thead>\n",
       "  <tbody>\n",
       "    <tr>\n",
       "      <th>0</th>\n",
       "      <td>0</td>\n",
       "      <td>1467810369</td>\n",
       "      <td>Mon Apr 06 22:19:45 PDT 2009</td>\n",
       "      <td>NO_QUERY</td>\n",
       "      <td>_TheSpecialOne_</td>\n",
       "      <td>@switchfoot http://twitpic.com/2y1zl - Awww, t...</td>\n",
       "    </tr>\n",
       "    <tr>\n",
       "      <th>1</th>\n",
       "      <td>0</td>\n",
       "      <td>1467810672</td>\n",
       "      <td>Mon Apr 06 22:19:49 PDT 2009</td>\n",
       "      <td>NO_QUERY</td>\n",
       "      <td>scotthamilton</td>\n",
       "      <td>is upset that he can't update his Facebook by ...</td>\n",
       "    </tr>\n",
       "    <tr>\n",
       "      <th>2</th>\n",
       "      <td>0</td>\n",
       "      <td>1467810917</td>\n",
       "      <td>Mon Apr 06 22:19:53 PDT 2009</td>\n",
       "      <td>NO_QUERY</td>\n",
       "      <td>mattycus</td>\n",
       "      <td>@Kenichan I dived many times for the ball. Man...</td>\n",
       "    </tr>\n",
       "    <tr>\n",
       "      <th>3</th>\n",
       "      <td>0</td>\n",
       "      <td>1467811184</td>\n",
       "      <td>Mon Apr 06 22:19:57 PDT 2009</td>\n",
       "      <td>NO_QUERY</td>\n",
       "      <td>ElleCTF</td>\n",
       "      <td>my whole body feels itchy and like its on fire</td>\n",
       "    </tr>\n",
       "    <tr>\n",
       "      <th>4</th>\n",
       "      <td>0</td>\n",
       "      <td>1467811193</td>\n",
       "      <td>Mon Apr 06 22:19:57 PDT 2009</td>\n",
       "      <td>NO_QUERY</td>\n",
       "      <td>Karoli</td>\n",
       "      <td>@nationwideclass no, it's not behaving at all....</td>\n",
       "    </tr>\n",
       "    <tr>\n",
       "      <th>5</th>\n",
       "      <td>0</td>\n",
       "      <td>1467811372</td>\n",
       "      <td>Mon Apr 06 22:20:00 PDT 2009</td>\n",
       "      <td>NO_QUERY</td>\n",
       "      <td>joy_wolf</td>\n",
       "      <td>@Kwesidei not the whole crew</td>\n",
       "    </tr>\n",
       "    <tr>\n",
       "      <th>6</th>\n",
       "      <td>0</td>\n",
       "      <td>1467811592</td>\n",
       "      <td>Mon Apr 06 22:20:03 PDT 2009</td>\n",
       "      <td>NO_QUERY</td>\n",
       "      <td>mybirch</td>\n",
       "      <td>Need a hug</td>\n",
       "    </tr>\n",
       "    <tr>\n",
       "      <th>7</th>\n",
       "      <td>0</td>\n",
       "      <td>1467811594</td>\n",
       "      <td>Mon Apr 06 22:20:03 PDT 2009</td>\n",
       "      <td>NO_QUERY</td>\n",
       "      <td>coZZ</td>\n",
       "      <td>@LOLTrish hey  long time no see! Yes.. Rains a...</td>\n",
       "    </tr>\n",
       "    <tr>\n",
       "      <th>8</th>\n",
       "      <td>0</td>\n",
       "      <td>1467811795</td>\n",
       "      <td>Mon Apr 06 22:20:05 PDT 2009</td>\n",
       "      <td>NO_QUERY</td>\n",
       "      <td>2Hood4Hollywood</td>\n",
       "      <td>@Tatiana_K nope they didn't have it</td>\n",
       "    </tr>\n",
       "    <tr>\n",
       "      <th>9</th>\n",
       "      <td>0</td>\n",
       "      <td>1467812025</td>\n",
       "      <td>Mon Apr 06 22:20:09 PDT 2009</td>\n",
       "      <td>NO_QUERY</td>\n",
       "      <td>mimismo</td>\n",
       "      <td>@twittera que me muera ?</td>\n",
       "    </tr>\n",
       "  </tbody>\n",
       "</table>\n",
       "</div>"
      ],
      "text/plain": [
       "   Bloque          ID                         Fecha       REF  \\\n",
       "0       0  1467810369  Mon Apr 06 22:19:45 PDT 2009  NO_QUERY   \n",
       "1       0  1467810672  Mon Apr 06 22:19:49 PDT 2009  NO_QUERY   \n",
       "2       0  1467810917  Mon Apr 06 22:19:53 PDT 2009  NO_QUERY   \n",
       "3       0  1467811184  Mon Apr 06 22:19:57 PDT 2009  NO_QUERY   \n",
       "4       0  1467811193  Mon Apr 06 22:19:57 PDT 2009  NO_QUERY   \n",
       "5       0  1467811372  Mon Apr 06 22:20:00 PDT 2009  NO_QUERY   \n",
       "6       0  1467811592  Mon Apr 06 22:20:03 PDT 2009  NO_QUERY   \n",
       "7       0  1467811594  Mon Apr 06 22:20:03 PDT 2009  NO_QUERY   \n",
       "8       0  1467811795  Mon Apr 06 22:20:05 PDT 2009  NO_QUERY   \n",
       "9       0  1467812025  Mon Apr 06 22:20:09 PDT 2009  NO_QUERY   \n",
       "\n",
       "              User                                            Content  \n",
       "0  _TheSpecialOne_  @switchfoot http://twitpic.com/2y1zl - Awww, t...  \n",
       "1    scotthamilton  is upset that he can't update his Facebook by ...  \n",
       "2         mattycus  @Kenichan I dived many times for the ball. Man...  \n",
       "3          ElleCTF    my whole body feels itchy and like its on fire   \n",
       "4           Karoli  @nationwideclass no, it's not behaving at all....  \n",
       "5         joy_wolf                      @Kwesidei not the whole crew   \n",
       "6          mybirch                                        Need a hug   \n",
       "7             coZZ  @LOLTrish hey  long time no see! Yes.. Rains a...  \n",
       "8  2Hood4Hollywood               @Tatiana_K nope they didn't have it   \n",
       "9          mimismo                          @twittera que me muera ?   "
      ]
     },
     "execution_count": 2,
     "metadata": {},
     "output_type": "execute_result"
    }
   ],
   "source": [
    "#Leemos el archivo de tweets\n",
    "tweets = pd.read_csv(\"tw_source.csv\",header=None,encoding='latin-1')\n",
    "#Asignamos nombres a las columnas\n",
    "tweets.columns=[\"Bloque\",\"ID\",\"Fecha\",\"REF\",\"User\",\"Content\"]\n",
    "#mostramos los primeros 10 registros\n",
    "tweets.head(10)"
   ]
  },
  {
   "cell_type": "markdown",
   "metadata": {},
   "source": [
    "#### Determinar los usuarios más populares\n",
    "\n",
    "Para determinar los usuarios más populares, no solo se tomará en cuenta el usuario que efectuó más tweets sino el que tuvo más menciones.\n",
    "\n",
    "Descompondremos el contenido del tweet y por cada usuario que se tuvo una mención se creará un nuevo registro en la tabla con el contenido del tweet donde fue mencionado."
   ]
  },
  {
   "cell_type": "code",
   "execution_count": 3,
   "metadata": {},
   "outputs": [],
   "source": [
    "#convertimos la columna de content a Str\n",
    "tweets['Content'] = tweets['Content'].astype(str)"
   ]
  },
  {
   "cell_type": "code",
   "execution_count": 4,
   "metadata": {},
   "outputs": [],
   "source": [
    "#Buscamos todos los usuarios que han sido referenciados en los Tweets\n",
    "RefUsers=tweets['Content'].str.extractall('(@)(\\w+)(\\s)')[1].values"
   ]
  },
  {
   "cell_type": "code",
   "execution_count": 5,
   "metadata": {},
   "outputs": [
    {
     "name": "stdout",
     "output_type": "stream",
     "text": [
      "Cantidad de Usuarios mencionados en Tweets 761785\n"
     ]
    }
   ],
   "source": [
    "#Vemos cuando usuarios fueron mencionados en los contenidos de los tweets\n",
    "print(\"Cantidad de Usuarios mencionados en Tweets {}\".format(RefUsers.shape[0]))"
   ]
  },
  {
   "cell_type": "code",
   "execution_count": 6,
   "metadata": {},
   "outputs": [],
   "source": [
    "#Unificamos una única columna con los usuarios que efectuaron los tweets, como aquellos mencionados\n",
    "UsersUnified= np.concatenate((tweets['User'].values,RefUsers)).astype(str)\n",
    "#pasamos todo a minusculas\n",
    "UsersUnified= np.char.lower(UsersUnified).astype(object)"
   ]
  },
  {
   "cell_type": "code",
   "execution_count": 7,
   "metadata": {},
   "outputs": [
    {
     "name": "stdout",
     "output_type": "stream",
     "text": [
      "Cantidad de Usuarios en mención y con tweets en Tweets 2361785\n"
     ]
    }
   ],
   "source": [
    "#Vemos cantidad de registros de usuarios combinado con menciones en tweets\n",
    "print(\"Cantidad de Usuarios en mención y con tweets en Tweets {}\".format(UsersUnified.shape[0]))"
   ]
  },
  {
   "cell_type": "code",
   "execution_count": 8,
   "metadata": {},
   "outputs": [],
   "source": [
    "#Ahora hacemos un conteo por usuario de tweets y menciones\n",
    "unique, counts = np.unique(UsersUnified, return_counts=True)\n",
    "CountbyUser=np.hstack((unique.reshape(-1,1),counts.reshape(-1,1)))"
   ]
  },
  {
   "cell_type": "code",
   "execution_count": 9,
   "metadata": {},
   "outputs": [
    {
     "data": {
      "text/html": [
       "<div>\n",
       "<style scoped>\n",
       "    .dataframe tbody tr th:only-of-type {\n",
       "        vertical-align: middle;\n",
       "    }\n",
       "\n",
       "    .dataframe tbody tr th {\n",
       "        vertical-align: top;\n",
       "    }\n",
       "\n",
       "    .dataframe thead th {\n",
       "        text-align: right;\n",
       "    }\n",
       "</style>\n",
       "<table border=\"1\" class=\"dataframe\">\n",
       "  <thead>\n",
       "    <tr style=\"text-align: right;\">\n",
       "      <th></th>\n",
       "      <th>User</th>\n",
       "      <th>Count</th>\n",
       "    </tr>\n",
       "  </thead>\n",
       "  <tbody>\n",
       "    <tr>\n",
       "      <th>531472</th>\n",
       "      <td>mileycyrus</td>\n",
       "      <td>4386</td>\n",
       "    </tr>\n",
       "    <tr>\n",
       "      <th>789254</th>\n",
       "      <td>tommcfly</td>\n",
       "      <td>3860</td>\n",
       "    </tr>\n",
       "    <tr>\n",
       "      <th>192308</th>\n",
       "      <td>ddlovato</td>\n",
       "      <td>3355</td>\n",
       "    </tr>\n",
       "  </tbody>\n",
       "</table>\n",
       "</div>"
      ],
      "text/plain": [
       "              User Count\n",
       "531472  mileycyrus  4386\n",
       "789254    tommcfly  3860\n",
       "192308    ddlovato  3355"
      ]
     },
     "execution_count": 9,
     "metadata": {},
     "output_type": "execute_result"
    }
   ],
   "source": [
    "#Buscamos los tres usuarios más populares dentro del dataset\n",
    "pd.DataFrame(data=CountbyUser, columns=[\"User\", \"Count\"]).sort_values(by='Count', ascending=False).head(3)"
   ]
  },
  {
   "cell_type": "markdown",
   "metadata": {},
   "source": [
    "#### Creamos los corpus por artista\n",
    "\n",
    "Se armará un corpus el cual contenga los siguientes elementos por cada usuario seleccionado:\n",
    "- Content: Tweet.\n",
    "- Metadata: ID, Timestamp, Length\n"
   ]
  },
  {
   "cell_type": "code",
   "execution_count": 79,
   "metadata": {},
   "outputs": [],
   "source": [
    "#Creamos función generica que arma Corpus para el usuario Seleccionado\n",
    "def createCorpus(user):\n",
    "    \n",
    "    #Si el usuario contiene letras mayusculas lo convertimos\n",
    "    user= user.lower()\n",
    "    \n",
    "    #Buscamos aquellos tweets efectuados por el usuario\n",
    "    FromUser=tweets[tweets['User'].str.lower()==user]\n",
    "    \n",
    "    #Buscamos todas los tweets que hacen mención al usuario\n",
    "    MentionUser= tweets[tweets['Content'].str.contains('@'+user)]\n",
    "    \n",
    "    #Unimos todos los tweets del Usuario\n",
    "    UserAll = FromUser.append(MentionUser)\n",
    "    \n",
    "    #Quitamos las menciones del contenido del Tweet para que no se confunda con contenido real\n",
    "    UserAll['Content']=UserAll['Content'].str.replace('(@)(\\w+)(\\s)','')\n",
    "\n",
    "    #Quitamos las direcciones web en los tweets\n",
    "    UserAll['Content']=UserAll['Content'].str.replace('(http)[s]*://(.)+(\\s)','')\n",
    "    \n",
    "    #Buscamos la información para la metadata\n",
    "    MetaData=UserAll[['ID','Fecha']]\n",
    "    MetaData[\"length\"]=UserAll['Content'].str.len()\n",
    "    \n",
    "    #Armamos el Contenido para nuestro Corpus\n",
    "    Content = UserAll['Content']\n",
    "    \n",
    "    #armamos el corpus\n",
    "    Corpus= pd.DataFrame({'Content': Content.values, 'MetaData':MetaData.values.tolist()})\n",
    "    \n",
    "    #Regresamos la información del Corpus\n",
    "    return Corpus"
   ]
  },
  {
   "cell_type": "markdown",
   "metadata": {},
   "source": [
    "Armamos los corpus para los tres usuarios seleccionados"
   ]
  },
  {
   "cell_type": "code",
   "execution_count": 80,
   "metadata": {},
   "outputs": [
    {
     "name": "stderr",
     "output_type": "stream",
     "text": [
      "<ipython-input-79-5a56f7b743c7>:24: SettingWithCopyWarning: \n",
      "A value is trying to be set on a copy of a slice from a DataFrame.\n",
      "Try using .loc[row_indexer,col_indexer] = value instead\n",
      "\n",
      "See the caveats in the documentation: https://pandas.pydata.org/pandas-docs/stable/user_guide/indexing.html#returning-a-view-versus-a-copy\n",
      "  MetaData[\"length\"]=UserAll['Content'].str.len()\n"
     ]
    }
   ],
   "source": [
    "#Armos el corpus para el usuario mileycyrus\n",
    "Miley_Corps= createCorpus(\"mileycyrus\")\n",
    "\n",
    "#Armos el corpus para el usuario tommcfly\n",
    "Tomm_Corps= createCorpus(\"tommcfly\")\n",
    "\n",
    "#Armos el corpus para el usuario tommcfly\n",
    "Ddlovato_Corps= createCorpus(\"ddlovato\")"
   ]
  },
  {
   "cell_type": "markdown",
   "metadata": {},
   "source": [
    "Mostramos los corpus creados"
   ]
  },
  {
   "cell_type": "code",
   "execution_count": 81,
   "metadata": {},
   "outputs": [
    {
     "data": {
      "text/html": [
       "<div>\n",
       "<style scoped>\n",
       "    .dataframe tbody tr th:only-of-type {\n",
       "        vertical-align: middle;\n",
       "    }\n",
       "\n",
       "    .dataframe tbody tr th {\n",
       "        vertical-align: top;\n",
       "    }\n",
       "\n",
       "    .dataframe thead th {\n",
       "        text-align: right;\n",
       "    }\n",
       "</style>\n",
       "<table border=\"1\" class=\"dataframe\">\n",
       "  <thead>\n",
       "    <tr style=\"text-align: right;\">\n",
       "      <th></th>\n",
       "      <th>Content</th>\n",
       "      <th>MetaData</th>\n",
       "    </tr>\n",
       "  </thead>\n",
       "  <tbody>\n",
       "    <tr>\n",
       "      <th>0</th>\n",
       "      <td>in makeup and hair  why does mother nature hat...</td>\n",
       "      <td>[1468751105, Tue Apr 07 03:32:08 PDT 2009, 117]</td>\n",
       "    </tr>\n",
       "    <tr>\n",
       "      <th>1</th>\n",
       "      <td>i have disorder. i can not sleep! i stay up al...</td>\n",
       "      <td>[1932948580, Tue May 26 22:36:28 PDT 2009, 84]</td>\n",
       "    </tr>\n",
       "    <tr>\n",
       "      <th>2</th>\n",
       "      <td></td>\n",
       "      <td>[1964247674, Fri May 29 13:56:45 PDT 2009, 0]</td>\n",
       "    </tr>\n",
       "    <tr>\n",
       "      <th>3</th>\n",
       "      <td>plz dont fall in love with tokyo and never com...</td>\n",
       "      <td>[1965539102, Fri May 29 16:05:53 PDT 2009, 53]</td>\n",
       "    </tr>\n",
       "    <tr>\n",
       "      <th>4</th>\n",
       "      <td>at hannah montana set.... im missing tennessee...</td>\n",
       "      <td>[1966404364, Fri May 29 17:42:18 PDT 2009, 58]</td>\n",
       "    </tr>\n",
       "  </tbody>\n",
       "</table>\n",
       "</div>"
      ],
      "text/plain": [
       "                                             Content  \\\n",
       "0  in makeup and hair  why does mother nature hat...   \n",
       "1  i have disorder. i can not sleep! i stay up al...   \n",
       "2                                                      \n",
       "3  plz dont fall in love with tokyo and never com...   \n",
       "4  at hannah montana set.... im missing tennessee...   \n",
       "\n",
       "                                          MetaData  \n",
       "0  [1468751105, Tue Apr 07 03:32:08 PDT 2009, 117]  \n",
       "1   [1932948580, Tue May 26 22:36:28 PDT 2009, 84]  \n",
       "2    [1964247674, Fri May 29 13:56:45 PDT 2009, 0]  \n",
       "3   [1965539102, Fri May 29 16:05:53 PDT 2009, 53]  \n",
       "4   [1966404364, Fri May 29 17:42:18 PDT 2009, 58]  "
      ]
     },
     "execution_count": 81,
     "metadata": {},
     "output_type": "execute_result"
    }
   ],
   "source": [
    "Miley_Corps.head()"
   ]
  },
  {
   "cell_type": "code",
   "execution_count": 82,
   "metadata": {},
   "outputs": [
    {
     "data": {
      "text/html": [
       "<div>\n",
       "<style scoped>\n",
       "    .dataframe tbody tr th:only-of-type {\n",
       "        vertical-align: middle;\n",
       "    }\n",
       "\n",
       "    .dataframe tbody tr th {\n",
       "        vertical-align: top;\n",
       "    }\n",
       "\n",
       "    .dataframe thead th {\n",
       "        text-align: right;\n",
       "    }\n",
       "</style>\n",
       "<table border=\"1\" class=\"dataframe\">\n",
       "  <thead>\n",
       "    <tr style=\"text-align: right;\">\n",
       "      <th></th>\n",
       "      <th>Content</th>\n",
       "      <th>MetaData</th>\n",
       "    </tr>\n",
       "  </thead>\n",
       "  <tbody>\n",
       "    <tr>\n",
       "      <th>0</th>\n",
       "      <td>Ok, i've eaten some food and now bored to deat...</td>\n",
       "      <td>[1963476507, Fri May 29 12:46:52 PDT 2009, 127]</td>\n",
       "    </tr>\n",
       "    <tr>\n",
       "      <th>1</th>\n",
       "      <td>up and packed, looking at a gorgeous sunny bea...</td>\n",
       "      <td>[1979690548, Sun May 31 04:06:40 PDT 2009, 123]</td>\n",
       "    </tr>\n",
       "    <tr>\n",
       "      <th>2</th>\n",
       "      <td>why not?  i think i do!!!</td>\n",
       "      <td>[2054700958, Sat Jun 06 07:54:48 PDT 2009, 25]</td>\n",
       "    </tr>\n",
       "    <tr>\n",
       "      <th>3</th>\n",
       "      <td>...Pissed off than you can imagine. Think we c...</td>\n",
       "      <td>[2069335111, Sun Jun 07 15:41:19 PDT 2009, 101]</td>\n",
       "    </tr>\n",
       "    <tr>\n",
       "      <th>4</th>\n",
       "      <td>we'd love to. Not up to us I'm afraid!</td>\n",
       "      <td>[2184571529, Mon Jun 15 16:06:14 PDT 2009, 39]</td>\n",
       "    </tr>\n",
       "  </tbody>\n",
       "</table>\n",
       "</div>"
      ],
      "text/plain": [
       "                                             Content  \\\n",
       "0  Ok, i've eaten some food and now bored to deat...   \n",
       "1  up and packed, looking at a gorgeous sunny bea...   \n",
       "2                          why not?  i think i do!!!   \n",
       "3  ...Pissed off than you can imagine. Think we c...   \n",
       "4            we'd love to. Not up to us I'm afraid!    \n",
       "\n",
       "                                          MetaData  \n",
       "0  [1963476507, Fri May 29 12:46:52 PDT 2009, 127]  \n",
       "1  [1979690548, Sun May 31 04:06:40 PDT 2009, 123]  \n",
       "2   [2054700958, Sat Jun 06 07:54:48 PDT 2009, 25]  \n",
       "3  [2069335111, Sun Jun 07 15:41:19 PDT 2009, 101]  \n",
       "4   [2184571529, Mon Jun 15 16:06:14 PDT 2009, 39]  "
      ]
     },
     "execution_count": 82,
     "metadata": {},
     "output_type": "execute_result"
    }
   ],
   "source": [
    "Tomm_Corps.head()"
   ]
  },
  {
   "cell_type": "code",
   "execution_count": 83,
   "metadata": {},
   "outputs": [
    {
     "data": {
      "text/html": [
       "<div>\n",
       "<style scoped>\n",
       "    .dataframe tbody tr th:only-of-type {\n",
       "        vertical-align: middle;\n",
       "    }\n",
       "\n",
       "    .dataframe tbody tr th {\n",
       "        vertical-align: top;\n",
       "    }\n",
       "\n",
       "    .dataframe thead th {\n",
       "        text-align: right;\n",
       "    }\n",
       "</style>\n",
       "<table border=\"1\" class=\"dataframe\">\n",
       "  <thead>\n",
       "    <tr style=\"text-align: right;\">\n",
       "      <th></th>\n",
       "      <th>Content</th>\n",
       "      <th>MetaData</th>\n",
       "    </tr>\n",
       "  </thead>\n",
       "  <tbody>\n",
       "    <tr>\n",
       "      <th>0</th>\n",
       "      <td>I miss you...  come over and say bye before I ...</td>\n",
       "      <td>[1964289934, Fri May 29 14:00:26 PDT 2009, 53]</td>\n",
       "    </tr>\n",
       "    <tr>\n",
       "      <th>1</th>\n",
       "      <td>Still watching Nights in Rodanthe..... It's at...</td>\n",
       "      <td>[1978158967, Sat May 30 22:35:20 PDT 2009, 72]</td>\n",
       "    </tr>\n",
       "    <tr>\n",
       "      <th>2</th>\n",
       "      <td>Watching Notorious for the third time... I wis...</td>\n",
       "      <td>[2202639245, Tue Jun 16 22:08:47 PDT 2009, 72]</td>\n",
       "    </tr>\n",
       "    <tr>\n",
       "      <th>3</th>\n",
       "      <td>My voice is shot.  Please pray for it's streng...</td>\n",
       "      <td>[2256625379, Sat Jun 20 13:03:29 PDT 2009, 69]</td>\n",
       "    </tr>\n",
       "    <tr>\n",
       "      <th>4</th>\n",
       "      <td>Please come home.</td>\n",
       "      <td>[2259039728, Sat Jun 20 16:55:09 PDT 2009, 18]</td>\n",
       "    </tr>\n",
       "  </tbody>\n",
       "</table>\n",
       "</div>"
      ],
      "text/plain": [
       "                                             Content  \\\n",
       "0  I miss you...  come over and say bye before I ...   \n",
       "1  Still watching Nights in Rodanthe..... It's at...   \n",
       "2  Watching Notorious for the third time... I wis...   \n",
       "3  My voice is shot.  Please pray for it's streng...   \n",
       "4                                 Please come home.    \n",
       "\n",
       "                                         MetaData  \n",
       "0  [1964289934, Fri May 29 14:00:26 PDT 2009, 53]  \n",
       "1  [1978158967, Sat May 30 22:35:20 PDT 2009, 72]  \n",
       "2  [2202639245, Tue Jun 16 22:08:47 PDT 2009, 72]  \n",
       "3  [2256625379, Sat Jun 20 13:03:29 PDT 2009, 69]  \n",
       "4  [2259039728, Sat Jun 20 16:55:09 PDT 2009, 18]  "
      ]
     },
     "execution_count": 83,
     "metadata": {},
     "output_type": "execute_result"
    }
   ],
   "source": [
    "Ddlovato_Corps.head()"
   ]
  },
  {
   "cell_type": "markdown",
   "metadata": {},
   "source": [
    "Posterior a tener sus 3 corpus creados, responda: ¿Razón por la que citan a ese usuario? para esto es necesario que extraiga el contexto de cada tweet y verique cuales son las palabras que más rodean al nombre de usuario. Para extraer un contexto válido y debido a la naturaleza del tipo de datos que están disponibles en nuestro dataset le recomendamos seguir los siguientes pasos:\n",
    "1. Remover stopwords. \n",
    "2. Realizar stemming y lemmatización.\n",
    "3. Mostrar un wordcloud con el top 10 para cada usuario."
   ]
  },
  {
   "cell_type": "code",
   "execution_count": 84,
   "metadata": {},
   "outputs": [
    {
     "name": "stdout",
     "output_type": "stream",
     "text": [
      "✔ Download and installation successful\n",
      "You can now load the model via spacy.load('en_core_web_sm')\n"
     ]
    }
   ],
   "source": [
    "import spacy \n",
    "import spacy.cli \n",
    "\n",
    "#Descargamos el Modelo de Spacy en Ingles\n",
    "spacy.cli.download('en_core_web_sm')\n",
    "nlp= spacy.load('en_core_web_sm')"
   ]
  },
  {
   "cell_type": "code",
   "execution_count": 141,
   "metadata": {},
   "outputs": [],
   "source": [
    "from wordcloud import WordCloud, STOPWORDS \n",
    "import matplotlib.pyplot as plt \n",
    "\n",
    "#Creamos Función Generica para Normalizar el Texto y Mostrar el WordCloud\n",
    "def wordCloudUser(corpus, max_words=10):\n",
    "    #Extramos del Corpus el Contenido de los tweets\n",
    "    corpusUser = corpus.Content\n",
    "\n",
    "    #Quitamos los caracteres que no sean letras o números en los tweets\n",
    "    corpusUser=corpusUser.str.replace('[^a-zA-Z0-9\\s{1}]','')\n",
    "    \n",
    "    #Quitamos StopWords, hacemos Stemming y Lemmatizamos el Texto\n",
    "    #En este arreglo dejaremos el texto final\n",
    "    TextoLematizado = []\n",
    "    #Recorremos el contenido de cada tweet\n",
    "    for contenido in corpusUser:\n",
    "        #Tokenimos el contenido\n",
    "        tokens = nlp(contenido)\n",
    "        content_filtered = \"\"\n",
    "        #Recorremos cada Token\n",
    "        for token in tokens:\n",
    "            #Vemos que el token no sea un stop Word\n",
    "            if token.is_stop == False and token.text.strip() != '':\n",
    "                #Sacamos el lemma del Token\n",
    "                content_filtered= content_filtered+token.lemma_+\" \"\n",
    "        TextoLematizado.append(content_filtered.strip())\n",
    "        \n",
    "    corpus.Content=TextoLematizado\n",
    "    \n",
    "    #Pasamos el Texto de Todo el Corpus a una Cadena\n",
    "    comment_words=''.join(corpus.Content.tolist())\n",
    "    \n",
    "    #Armamos el WorCloud - Desplegando el Top 10 de Palabras\n",
    "    wordcloud = WordCloud(width = 400, height = 400, \n",
    "                background_color ='white', \n",
    "                min_font_size = 10, max_words=max_words).generate(comment_words) \n",
    "    \n",
    "    #Mostramos la imagen WordCloud                        \n",
    "    plt.figure(figsize = (4, 4), facecolor = None) \n",
    "    plt.imshow(wordcloud) \n",
    "    plt.axis(\"off\") \n",
    "    plt.tight_layout(pad = 0) \n",
    "  \n",
    "    plt.show()"
   ]
  },
  {
   "cell_type": "markdown",
   "metadata": {},
   "source": [
    "#### Palabras que rodean al usuario\n",
    "\n",
    "1. Se muestra la información que rodea al usuario @mileycyrus"
   ]
  },
  {
   "cell_type": "code",
   "execution_count": 142,
   "metadata": {},
   "outputs": [
    {
     "data": {
      "image/png": "[encoded data removed]",
      "text/plain": [
       "<Figure size 288x288 with 1 Axes>"
      ]
     },
     "metadata": {
      "needs_background": "light"
     },
     "output_type": "display_data"
    }
   ],
   "source": [
    "wordCloudUser(Miley_Corps)"
   ]
  },
  {
   "cell_type": "markdown",
   "metadata": {},
   "source": [
    "2. Se muestra la información que rodea al usuario @tommcfly"
   ]
  },
  {
   "cell_type": "code",
   "execution_count": 143,
   "metadata": {},
   "outputs": [
    {
     "data": {
      "image/png": "[encoded data removed]",
      "text/plain": [
       "<Figure size 288x288 with 1 Axes>"
      ]
     },
     "metadata": {
      "needs_background": "light"
     },
     "output_type": "display_data"
    }
   ],
   "source": [
    "wordCloudUser(Tomm_Corps)"
   ]
  },
  {
   "cell_type": "markdown",
   "metadata": {},
   "source": [
    "3. Se muestra la información que rodea al usuario @ddlovato"
   ]
  },
  {
   "cell_type": "code",
   "execution_count": 144,
   "metadata": {},
   "outputs": [
    {
     "data": {
      "image/png": "[encoded data removed]",
      "text/plain": [
       "<Figure size 288x288 with 1 Axes>"
      ]
     },
     "metadata": {
      "needs_background": "light"
     },
     "output_type": "display_data"
    }
   ],
   "source": [
    "wordCloudUser(Ddlovato_Corps)"
   ]
  }
 ],
 "metadata": {
  "kernelspec": {
   "display_name": "Python 3",
   "language": "python",
   "name": "python3"
  },
  "language_info": {
   "codemirror_mode": {
    "name": "ipython",
    "version": 3
   },
   "file_extension": ".py",
   "mimetype": "text/x-python",
   "name": "python",
   "nbconvert_exporter": "python",
   "pygments_lexer": "ipython3",
   "version": "3.8.3"
  }
 },
 "nbformat": 4,
 "nbformat_minor": 4
}
