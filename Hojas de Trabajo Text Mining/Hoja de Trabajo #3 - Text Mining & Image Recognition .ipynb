{
 "cells": [
  {
   "cell_type": "markdown",
   "metadata": {},
   "source": [
    "# Hoja de Trabajo 3"
   ]
  },
  {
   "cell_type": "markdown",
   "metadata": {},
   "source": [
    "## Problema 1\n",
    "\n",
    "Utilice expresiones regulares para validar las siguintes situaciones:\n",
    "1. Implemente una regex para validar un correo electrónico en general, a continuación se muestran algunos ejemplos.  \n",
    "\n",
    "\n",
    "- Guate.360-porelmundo@miguate.com\n",
    "- Miercoles3@hotmail.com\n",
    "- Progra3.galileo@galileo.edu"
   ]
  },
  {
   "cell_type": "markdown",
   "metadata": {},
   "source": [
    "**Respuesta:**\n",
    "      [a-zA-Z]+(\\w|(\\.|\\-))*\\@\\w+\\.*\\w*\n",
    "\n",
    "**Validación en Herramienta:**\n",
    "<img src=\"P1Val.jpg\">\n"
   ]
  },
  {
   "cell_type": "markdown",
   "metadata": {},
   "source": [
    "2. Implemente una regex para validar la dirección url de una página web con los tipos de domino (.com, .org, .edu). Note que la url incluye el protocolo (http o https) y los símbolos (//www.),a continuación se muestran algunos ejemplos: \n",
    "\n",
    "\n",
    "* https://www.guate360-porelmundo.com\n",
    "* http://www.a2.net\n",
    "* https://www.galileo.edu\n",
    "* http://www.8.org (No valida)"
   ]
  },
  {
   "cell_type": "markdown",
   "metadata": {},
   "source": [
    "**Respuesta:**\n",
    "      (http(s)?|HTTP(S)?)://w{3}\\.[a-zA-Z](\\.\\w|\\-|\\w*)+\n",
    "\n",
    "**Validación en Herramienta:**\n",
    "<img src=\"P2Val.jpg\">\n"
   ]
  },
  {
   "cell_type": "markdown",
   "metadata": {},
   "source": [
    "3. Implemente una regex para validar una MAC Address, notar que las mac addres están divididas en 6 bloques de caracteres hexadecimales, es decir que los símbolos solo pueden variar del 0 al 9 y las letras de la A a la F. A continuación se muestran algunos ejemplos:\n",
    "\n",
    "\n",
    "* 5A 6F AF 8C 9B 1D\n",
    "* 6D 6C 4D 3A EB 3F\n",
    "* 3A 7C FA C8 6D 4J (no valida por que el ultimo bloque contiene una J)"
   ]
  },
  {
   "cell_type": "markdown",
   "metadata": {},
   "source": [
    "**Respuesta:** \n",
    "      (([A-F]|[0-9]){2}\\s){6}\n",
    "\n",
    "**Validación en Herramienta:**\n",
    "<img src=\"P3Val.jpg\">\n"
   ]
  },
  {
   "cell_type": "markdown",
   "metadata": {},
   "source": [
    "4. Implemente una regex para validar una dirección IPv4, notar que las direcciones IPv4 están divididas en 4 bloques de valores los cuales solo pueden ir desde 0 hasta 255, una ip donde algunos de sus bloques sea mayor a 255 no es valida, adem\u0013as tome en cuenta que cada bloque está separada por un punto. A continuación se muestran algunos ejemplos:\n",
    "\n",
    "\n",
    "* 192.16.8.1\n",
    "* 234.56.78.90\n",
    "* 1.2.3.4\n",
    "* 192.168.45.345 (no valida por que el ultimo bloque es mayor a 255)"
   ]
  },
  {
   "cell_type": "markdown",
   "metadata": {},
   "source": [
    "**Respuesta:**\n",
    "      (([1][0-9]|[1-9])[0-9]?|2[0-4][0-9]|25[0-5])\\.(([01]?[0-9][0-9]?|2[0-4][0-9]|25[0-5])\\.){2}([01]?[0-9][0-9]?|2[0-4][0-9]|25[0-5])\n",
    "\n",
    "**Validación en Herramienta:**\n",
    "<img src=\"P4Val.jpg\">\n"
   ]
  },
  {
   "cell_type": "markdown",
   "metadata": {},
   "source": [
    "5. Implemente una regex para validar una fecha con la secuencia día-mes-año donde el día, mes y año puedan estar separados ya sea por el caracter / o el caracter - o el caracter ., notar que las fechas son validas si los si los días están definidos desde el 1 al 31, el mes del 1 al 12 y el año de 2000 al 2019. También debe tomar en cuenta que los días y meses pueden estar escritos ya sea con uno o dos caracteres por ejemplo: Enero puede escribirse como 1 o como 01. Los años también pueden expresarse ya sea con dos o con cuatro caracteres por ejemplo:19 o 2019 son validos. A continuación se muestran algunos ejemplos:\n",
    "\n",
    "\n",
    "* 20/1/2019\n",
    "* 12.03.2005\n",
    "* 31-11-08\n",
    "* 1-1-2012\n",
    "* 12-12-22 (no valida, por que el año supera al 2019)."
   ]
  },
  {
   "cell_type": "markdown",
   "metadata": {},
   "source": [
    "**Respuesta:**\n",
    "      ([12][0-9]|3[01]|[0]?[1-9])(/|\\-|\\.)([0]?[1-9]|[1][0-2])(/|\\-|\\.)(20)?[01][0-9]\n",
    "\n",
    "**Validación en Herramienta:**\n",
    "<img src=\"P5Val.jpg\">\n"
   ]
  },
  {
   "cell_type": "markdown",
   "metadata": {},
   "source": [
    "## Problema 2\n",
    "\n",
    "En la carpeta encontrará adjuntos 21 documentos que tiene 100 fechas en la secuencia días-mes-año pero con distinto separador y distinto formato de mes, en algunos casos aparece un numero y en otros el nombre del mes en ingles, por ejemplo: Enero pueder aparecer como 1 o como Jan. Utilice Python y expresiones regulares para encontrar el día, mes y año promedio total del los 21\n",
    "archivos, los resultados deben ser un double.\n",
    "\n",
    "#### Cargamos las fechas de los 21 archivos"
   ]
  },
  {
   "cell_type": "code",
   "execution_count": 48,
   "metadata": {},
   "outputs": [],
   "source": [
    "##Cargamos las librerias que nos servirán\n",
    "import numpy as np\n",
    "import pandas as pd\n",
    "import re"
   ]
  },
  {
   "cell_type": "code",
   "execution_count": 46,
   "metadata": {},
   "outputs": [
    {
     "data": {
      "text/plain": [
       "(21000, 1)"
      ]
     },
     "execution_count": 46,
     "metadata": {},
     "output_type": "execute_result"
    }
   ],
   "source": [
    "#Aquí colocaremos el conjunto de fechas de todos los archivos\n",
    "data = np.empty([0,1],dtype='str')\n",
    "\n",
    "#Leemos los 21 archivos\n",
    "for i in range(1,22):\n",
    "    #Armamos dinamicamente el nombre del archivo\n",
    "    archivo=\"Datos/D\"+str(i)+\".txt\"\n",
    "    #leemos la información del archivo\n",
    "    datafile = pd.read_csv(archivo, sep=\" \", header=None)\n",
    "    #Dejamos de una columna la información\n",
    "    dataPrep = np.array(datafile[0].values).reshape(-1,1)\n",
    "    #Append a la estructura data\n",
    "    data=np.vstack((data,dataPrep))\n",
    "#Comprobamos la cantidad de registros almacenados\n",
    "data.shape"
   ]
  },
  {
   "cell_type": "markdown",
   "metadata": {},
   "source": [
    "#### Extraemos la información de días/meses/años de las fechas (Usando expresiones regulares)"
   ]
  },
  {
   "cell_type": "code",
   "execution_count": 142,
   "metadata": {},
   "outputs": [
    {
     "name": "stdout",
     "output_type": "stream",
     "text": [
      "Cantidad de Registros Procesados, Días 21000 Meses 21000 Años 21000\n"
     ]
    }
   ],
   "source": [
    "#Aquí almacenaremos los días extraidos\n",
    "dias=np.empty([0,1],dtype='int')\n",
    "meses=np.empty([0,1],dtype='int')\n",
    "años=np.empty([0,1],dtype='int')\n",
    "\n",
    "#Este diccionario nos ayudará a convertir meses en texto a valor númerico\n",
    "mes_dic = {\"jan\":1,\"feb\":2,\"mar\":3,\"apr\":4,\"may\":5,\"jun\":6,\"jul\":7,\"aug\":8,\"sep\":9, \"oct\":10,\"nov\":11, \"dec\":12}\n",
    "\n",
    "#Recoremos cada fecha almacenada\n",
    "for s in data[:,0]:\n",
    "    #ponemos en minuscula el texto\n",
    "    s = s.lower()\n",
    "    #Definimos la expresión Regular\n",
    "    date = re.compile(\"([12][0-9]|3[01]|[0]?[1-9])(/|\\-|\\.)([0]?[1-9]|[1][0-2]|jan|feb|mar|apr|may|jun|jul|aug|sep|oct|nov|dec)(/|\\-|\\.)((20)?[01][0-9])\")\n",
    "    #Obtenemos el dia\n",
    "    find= date.findall(s)\n",
    "    #Lo convertimos a valor númerico\n",
    "    #Convertimos a númerico el valor del dia\n",
    "    dia = int(find[0][0])\n",
    "    #Convertimos a númerico el valor del mes\n",
    "    str_mes = find[0][2]\n",
    "    if str_mes.isdigit(): #Si es digito\n",
    "        mes = int(find[0][2]) \n",
    "    else:\n",
    "        mes = mes_dic.get(str_mes)\n",
    "    año = int(find[0][4])\n",
    "    #lo adherimos a nuestros arreglos\n",
    "    dias=np.vstack((dias,dia))\n",
    "    meses = np.vstack((meses,mes))\n",
    "    años = np.vstack((años,año))\n",
    "#Comprobamos la cantidad de días, meses, años almacenados\n",
    "print(\"Cantidad de Registros Procesados, Días {} Meses {} Años {}\".format(dias.shape[0],meses.shape[0],años.shape[0]))"
   ]
  },
  {
   "cell_type": "markdown",
   "metadata": {},
   "source": [
    "#### Promedios de la Información "
   ]
  },
  {
   "cell_type": "code",
   "execution_count": 141,
   "metadata": {},
   "outputs": [
    {
     "name": "stdout",
     "output_type": "stream",
     "text": [
      "El Promedio de los días obtenidos es  15.62\n",
      "El Promedio de los meses obtenidos es  6.47\n",
      "El Promedio de los años obtenidos es  2016.69\n"
     ]
    }
   ],
   "source": [
    "print(\"El Promedio de los días obtenidos es \",round(np.average(dias),2))\n",
    "print(\"El Promedio de los meses obtenidos es \",round(np.average(meses),2))\n",
    "print(\"El Promedio de los años obtenidos es \",round(np.average(años),2))"
   ]
  },
  {
   "cell_type": "markdown",
   "metadata": {},
   "source": [
    "## Problema 3\n",
    "\n",
    "Descargue el Dataset el cual contiene aproximadamente 800,000 tweets de diversos temas. Usando CoLab y expresiones regulares. Determine los 3 usuarios más populares dentro del dataset. Luego arme un corpus el cual contenga los siguientes elementos por cada usuario seleccionado:\n",
    "* Content: Tweet.\n",
    "* Metadata: ID, Timestamp, Length (este valor hay que calcularlo)."
   ]
  },
  {
   "cell_type": "markdown",
   "metadata": {},
   "source": [
    "Posterior a tener sus 3 corpus creados, responda: ¿Razón por la que citan a ese usuario? para esto es necesario que extraiga el contexto de cada tweet y verique cuales son las palabras que más rodean al nombre de usuario. Para extraer un contexto válido y debido a la naturaleza del tipo de datos que están disponibles en nuestro dataset le recomendamos seguir los siguientes pasos:\n",
    "1. Remover stopwords. \n",
    "2. Realizar stemming y lemmatización.\n",
    "3. Mostrar un wordcloud con el top 10 para cada usuario."
   ]
  }
 ],
 "metadata": {
  "kernelspec": {
   "display_name": "Python 3",
   "language": "python",
   "name": "python3"
  },
  "language_info": {
   "codemirror_mode": {
    "name": "ipython",
    "version": 3
   },
   "file_extension": ".py",
   "mimetype": "text/x-python",
   "name": "python",
   "nbconvert_exporter": "python",
   "pygments_lexer": "ipython3",
   "version": "3.8.3"
  }
 },
 "nbformat": 4,
 "nbformat_minor": 4
}
