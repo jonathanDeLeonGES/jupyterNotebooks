{
 "cells": [
  {
   "cell_type": "markdown",
   "metadata": {},
   "source": [
    "# Hoja de Trabajo 4"
   ]
  },
  {
   "cell_type": "markdown",
   "metadata": {},
   "source": [
    "## Problema 1\n",
    "\n",
    "Para este problema deber´a hacer análisis de sentimientos para un conjunto de reviews de Yelp, deberá mostrar las siguientes métricas sobre el conjunto de reviews:\n",
    "1. Mostrar el porcentaje de comentarios positivos y comentarios negativos en una mísma gráfica.\n",
    "2. Mostrar una gráfica tipo boxplot para la distribución de los resultados de la polaridad y la subjetividad.\n",
    "3. Deberá realizar un análisis estadístico con comentarios sobre los resultados de sus hallazgos a partir de las gráficas anteriores."
   ]
  },
  {
   "cell_type": "code",
   "execution_count": 1,
   "metadata": {},
   "outputs": [],
   "source": [
    "##Cargamos las librerias que nos servirán\n",
    "import numpy as np\n",
    "import pandas as pd\n",
    "import re"
   ]
  },
  {
   "cell_type": "markdown",
   "metadata": {},
   "source": [
    "## Problema 2\n",
    "\n",
    "Cree un web scraper para los reviews del sitio Trip Advisor, similar al demo trabajado durante la clase #8. Desarrolle un programa que le permita aplicar el análisis de sentimientos desarrollado por su persona en el ejercicio anterior, deberá analizar el código HTML para poder realizar exitosamente el web scraper. \n",
    "\n",
    "Para el caso de Trip Advisor, podrá notar que la URL se modifica por medio de un parámetro llamado or-X donde X es el indice inicial de cada review. En Trip Advisor, los reviews están organizados en múltiplos de 5. A continuación se le muestra una URL y el parámetro de configuración mencionado:\n",
    "\n",
    "https://www.tripadvisor.com.mx/Hotel_Review-g662606-d283869-Reviews-or5-Jardines_de_Nivaria_Adrian_Hoteles-Costa_Adeje_Adeje_Tenerife_Canary_Islands.html#REVIEWS"
   ]
  }
 ],
 "metadata": {
  "kernelspec": {
   "display_name": "Python 3",
   "language": "python",
   "name": "python3"
  },
  "language_info": {
   "codemirror_mode": {
    "name": "ipython",
    "version": 3
   },
   "file_extension": ".py",
   "mimetype": "text/x-python",
   "name": "python",
   "nbconvert_exporter": "python",
   "pygments_lexer": "ipython3",
   "version": "3.8.3"
  }
 },
 "nbformat": 4,
 "nbformat_minor": 4
}
